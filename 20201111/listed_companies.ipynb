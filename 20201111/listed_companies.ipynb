{
 "cells": [
  {
   "cell_type": "markdown",
   "metadata": {},
   "source": [
    "## 証券コードの取得\n",
    "\n",
    "東証上場銘柄一覧\n",
    "\n",
    "https://www.jpx.co.jp/markets/statistics-equities/misc/01.html\n",
    "\n",
    "pandasからExcelファイルを `DataFrame` に読み込む\n",
    "\n",
    "`read_excel` 関数の引数 `dtype` で指定した列のデータ型を変換"
   ]
  },
  {
   "cell_type": "code",
   "execution_count": 1,
   "metadata": {},
   "outputs": [
    {
     "data": {
      "text/html": [
       "<div>\n",
       "<style scoped>\n",
       "    .dataframe tbody tr th:only-of-type {\n",
       "        vertical-align: middle;\n",
       "    }\n",
       "\n",
       "    .dataframe tbody tr th {\n",
       "        vertical-align: top;\n",
       "    }\n",
       "\n",
       "    .dataframe thead th {\n",
       "        text-align: right;\n",
       "    }\n",
       "</style>\n",
       "<table border=\"1\" class=\"dataframe\">\n",
       "  <thead>\n",
       "    <tr style=\"text-align: right;\">\n",
       "      <th></th>\n",
       "      <th>日付</th>\n",
       "      <th>コード</th>\n",
       "      <th>銘柄名</th>\n",
       "      <th>市場・商品区分</th>\n",
       "      <th>33業種コード</th>\n",
       "      <th>33業種区分</th>\n",
       "      <th>17業種コード</th>\n",
       "      <th>17業種区分</th>\n",
       "      <th>規模コード</th>\n",
       "      <th>規模区分</th>\n",
       "    </tr>\n",
       "  </thead>\n",
       "  <tbody>\n",
       "    <tr>\n",
       "      <th>0</th>\n",
       "      <td>20201030</td>\n",
       "      <td>1301</td>\n",
       "      <td>極洋</td>\n",
       "      <td>市場第一部（内国株）</td>\n",
       "      <td>50</td>\n",
       "      <td>水産・農林業</td>\n",
       "      <td>1</td>\n",
       "      <td>食品</td>\n",
       "      <td>7</td>\n",
       "      <td>TOPIX Small 2</td>\n",
       "    </tr>\n",
       "    <tr>\n",
       "      <th>1</th>\n",
       "      <td>20201030</td>\n",
       "      <td>1305</td>\n",
       "      <td>ダイワ上場投信－トピックス</td>\n",
       "      <td>ETF・ETN</td>\n",
       "      <td>-</td>\n",
       "      <td>-</td>\n",
       "      <td>-</td>\n",
       "      <td>-</td>\n",
       "      <td>-</td>\n",
       "      <td>-</td>\n",
       "    </tr>\n",
       "    <tr>\n",
       "      <th>2</th>\n",
       "      <td>20201030</td>\n",
       "      <td>1306</td>\n",
       "      <td>ＮＥＸＴ　ＦＵＮＤＳ　ＴＯＰＩＸ連動型上場投信</td>\n",
       "      <td>ETF・ETN</td>\n",
       "      <td>-</td>\n",
       "      <td>-</td>\n",
       "      <td>-</td>\n",
       "      <td>-</td>\n",
       "      <td>-</td>\n",
       "      <td>-</td>\n",
       "    </tr>\n",
       "    <tr>\n",
       "      <th>3</th>\n",
       "      <td>20201030</td>\n",
       "      <td>1308</td>\n",
       "      <td>上場インデックスファンドＴＯＰＩＸ</td>\n",
       "      <td>ETF・ETN</td>\n",
       "      <td>-</td>\n",
       "      <td>-</td>\n",
       "      <td>-</td>\n",
       "      <td>-</td>\n",
       "      <td>-</td>\n",
       "      <td>-</td>\n",
       "    </tr>\n",
       "    <tr>\n",
       "      <th>4</th>\n",
       "      <td>20201030</td>\n",
       "      <td>1309</td>\n",
       "      <td>ＮＥＸＴ　ＦＵＮＤＳ　ＣｈｉｎａＡＭＣ・中国株式・上証５０連動型上場投信</td>\n",
       "      <td>ETF・ETN</td>\n",
       "      <td>-</td>\n",
       "      <td>-</td>\n",
       "      <td>-</td>\n",
       "      <td>-</td>\n",
       "      <td>-</td>\n",
       "      <td>-</td>\n",
       "    </tr>\n",
       "  </tbody>\n",
       "</table>\n",
       "</div>"
      ],
      "text/plain": [
       "         日付   コード                                   銘柄名     市場・商品区分 33業種コード  \\\n",
       "0  20201030  1301                                    極洋  市場第一部（内国株）      50   \n",
       "1  20201030  1305                         ダイワ上場投信－トピックス     ETF・ETN       -   \n",
       "2  20201030  1306               ＮＥＸＴ　ＦＵＮＤＳ　ＴＯＰＩＸ連動型上場投信     ETF・ETN       -   \n",
       "3  20201030  1308                     上場インデックスファンドＴＯＰＩＸ     ETF・ETN       -   \n",
       "4  20201030  1309  ＮＥＸＴ　ＦＵＮＤＳ　ＣｈｉｎａＡＭＣ・中国株式・上証５０連動型上場投信     ETF・ETN       -   \n",
       "\n",
       "   33業種区分 17業種コード 17業種区分 規模コード           規模区分  \n",
       "0  水産・農林業       1    食品      7  TOPIX Small 2  \n",
       "1       -       -      -     -              -  \n",
       "2       -       -      -     -              -  \n",
       "3       -       -      -     -              -  \n",
       "4       -       -      -     -              -  "
      ]
     },
     "execution_count": 1,
     "metadata": {},
     "output_type": "execute_result"
    }
   ],
   "source": [
    "import pandas as pd\n",
    "\n",
    "url = \"https://www.jpx.co.jp/markets/statistics-equities/misc/tvdivq0000001vg2-att/data_j.xls\"\n",
    "listed_companies = pd.read_excel(url, dtype={\"コード\": str})\n",
    "listed_companies.head()"
   ]
  },
  {
   "cell_type": "markdown",
   "metadata": {},
   "source": [
    "### strアクセサ\n",
    "\n",
    "Pythonの `str` 型と同等のメソッドを呼び出せる `Series` のプロパティ"
   ]
  },
  {
   "cell_type": "code",
   "execution_count": 2,
   "metadata": {},
   "outputs": [
    {
     "data": {
      "text/plain": [
       "<pandas.core.strings.StringMethods at 0x7fb420185b20>"
      ]
     },
     "execution_count": 2,
     "metadata": {},
     "output_type": "execute_result"
    }
   ],
   "source": [
    "listed_companies[\"コード\"].str"
   ]
  },
  {
   "cell_type": "markdown",
   "metadata": {},
   "source": [
    "コード列が01で終わる行を取得"
   ]
  },
  {
   "cell_type": "code",
   "execution_count": 3,
   "metadata": {},
   "outputs": [
    {
     "data": {
      "text/plain": [
       "0        True\n",
       "1       False\n",
       "2       False\n",
       "3       False\n",
       "4       False\n",
       "        ...  \n",
       "4054    False\n",
       "4055    False\n",
       "4056    False\n",
       "4057    False\n",
       "4058    False\n",
       "Name: コード, Length: 4059, dtype: bool"
      ]
     },
     "execution_count": 3,
     "metadata": {},
     "output_type": "execute_result"
    }
   ],
   "source": [
    "listed_companies[\"コード\"].str.endswith(\"01\")"
   ]
  },
  {
   "cell_type": "markdown",
   "metadata": {},
   "source": [
    "`loc` / `iloc` インデクサにはbool値を要素として指定できる"
   ]
  },
  {
   "cell_type": "code",
   "execution_count": 4,
   "metadata": {},
   "outputs": [
    {
     "data": {
      "text/html": [
       "<div>\n",
       "<style scoped>\n",
       "    .dataframe tbody tr th:only-of-type {\n",
       "        vertical-align: middle;\n",
       "    }\n",
       "\n",
       "    .dataframe tbody tr th {\n",
       "        vertical-align: top;\n",
       "    }\n",
       "\n",
       "    .dataframe thead th {\n",
       "        text-align: right;\n",
       "    }\n",
       "</style>\n",
       "<table border=\"1\" class=\"dataframe\">\n",
       "  <thead>\n",
       "    <tr style=\"text-align: right;\">\n",
       "      <th></th>\n",
       "      <th>日付</th>\n",
       "      <th>コード</th>\n",
       "      <th>銘柄名</th>\n",
       "      <th>市場・商品区分</th>\n",
       "      <th>33業種コード</th>\n",
       "      <th>33業種区分</th>\n",
       "      <th>17業種コード</th>\n",
       "      <th>17業種区分</th>\n",
       "      <th>規模コード</th>\n",
       "      <th>規模区分</th>\n",
       "    </tr>\n",
       "  </thead>\n",
       "  <tbody>\n",
       "    <tr>\n",
       "      <th>0</th>\n",
       "      <td>20201030</td>\n",
       "      <td>1301</td>\n",
       "      <td>極洋</td>\n",
       "      <td>市場第一部（内国株）</td>\n",
       "      <td>50</td>\n",
       "      <td>水産・農林業</td>\n",
       "      <td>1</td>\n",
       "      <td>食品</td>\n",
       "      <td>7</td>\n",
       "      <td>TOPIX Small 2</td>\n",
       "    </tr>\n",
       "    <tr>\n",
       "      <th>62</th>\n",
       "      <td>20201030</td>\n",
       "      <td>1401</td>\n",
       "      <td>エムビーエス</td>\n",
       "      <td>マザーズ（内国株）</td>\n",
       "      <td>2050</td>\n",
       "      <td>建設業</td>\n",
       "      <td>3</td>\n",
       "      <td>建設・資材</td>\n",
       "      <td>-</td>\n",
       "      <td>-</td>\n",
       "    </tr>\n",
       "    <tr>\n",
       "      <th>271</th>\n",
       "      <td>20201030</td>\n",
       "      <td>1801</td>\n",
       "      <td>大成建設</td>\n",
       "      <td>市場第一部（内国株）</td>\n",
       "      <td>2050</td>\n",
       "      <td>建設業</td>\n",
       "      <td>3</td>\n",
       "      <td>建設・資材</td>\n",
       "      <td>4</td>\n",
       "      <td>TOPIX Mid400</td>\n",
       "    </tr>\n",
       "    <tr>\n",
       "      <th>368</th>\n",
       "      <td>20201030</td>\n",
       "      <td>2001</td>\n",
       "      <td>日本製粉</td>\n",
       "      <td>市場第一部（内国株）</td>\n",
       "      <td>3050</td>\n",
       "      <td>食料品</td>\n",
       "      <td>1</td>\n",
       "      <td>食品</td>\n",
       "      <td>6</td>\n",
       "      <td>TOPIX Small 1</td>\n",
       "    </tr>\n",
       "    <tr>\n",
       "      <th>450</th>\n",
       "      <td>20201030</td>\n",
       "      <td>2201</td>\n",
       "      <td>森永製菓</td>\n",
       "      <td>市場第一部（内国株）</td>\n",
       "      <td>3050</td>\n",
       "      <td>食料品</td>\n",
       "      <td>1</td>\n",
       "      <td>食品</td>\n",
       "      <td>4</td>\n",
       "      <td>TOPIX Mid400</td>\n",
       "    </tr>\n",
       "  </tbody>\n",
       "</table>\n",
       "</div>"
      ],
      "text/plain": [
       "           日付   コード     銘柄名     市場・商品区分 33業種コード  33業種区分 17業種コード  17業種区分 規模コード  \\\n",
       "0    20201030  1301      極洋  市場第一部（内国株）      50  水産・農林業       1     食品      7   \n",
       "62   20201030  1401  エムビーエス   マザーズ（内国株）    2050     建設業       3  建設・資材      -   \n",
       "271  20201030  1801    大成建設  市場第一部（内国株）    2050     建設業       3  建設・資材      4   \n",
       "368  20201030  2001    日本製粉  市場第一部（内国株）    3050     食料品       1     食品      6   \n",
       "450  20201030  2201    森永製菓  市場第一部（内国株）    3050     食料品       1     食品      4   \n",
       "\n",
       "              規模区分  \n",
       "0    TOPIX Small 2  \n",
       "62               -  \n",
       "271   TOPIX Mid400  \n",
       "368  TOPIX Small 1  \n",
       "450   TOPIX Mid400  "
      ]
     },
     "execution_count": 4,
     "metadata": {},
     "output_type": "execute_result"
    }
   ],
   "source": [
    "listed_companies_01 = listed_companies.loc[\n",
    "    listed_companies[\"コード\"].str.endswith(\"01\")\n",
    "]\n",
    "listed_companies_01.head()"
   ]
  },
  {
   "cell_type": "markdown",
   "metadata": {},
   "source": [
    "### データを直列化\n",
    "\n",
    "#### [pickle](https://docs.python.org/ja/3/library/pickle.html)\n",
    "\n",
    "利点\n",
    "\n",
    "- コンパクトなバイナリ\n",
    "- 高速なI/O\n",
    "- データ型の保持\n",
    "\n",
    "欠点\n",
    "\n",
    "- 汎用性がない(Pythonに限定)\n",
    "- プロトコルの互換性"
   ]
  },
  {
   "cell_type": "code",
   "execution_count": 5,
   "metadata": {},
   "outputs": [],
   "source": [
    "!mkdir -p data/"
   ]
  },
  {
   "cell_type": "markdown",
   "metadata": {},
   "source": [
    "`DataFrame` をpickle形式に直列化"
   ]
  },
  {
   "cell_type": "code",
   "execution_count": 6,
   "metadata": {},
   "outputs": [],
   "source": [
    "listed_companies_01.to_pickle(\"data/listed_companies_01.pickle\")"
   ]
  },
  {
   "cell_type": "code",
   "execution_count": null,
   "metadata": {},
   "outputs": [],
   "source": []
  }
 ],
 "metadata": {
  "kernelspec": {
   "display_name": "Python 3",
   "language": "python",
   "name": "python3"
  },
  "language_info": {
   "codemirror_mode": {
    "name": "ipython",
    "version": 3
   },
   "file_extension": ".py",
   "mimetype": "text/x-python",
   "name": "python",
   "nbconvert_exporter": "python",
   "pygments_lexer": "ipython3",
   "version": "3.8.2"
  }
 },
 "nbformat": 4,
 "nbformat_minor": 4
}
