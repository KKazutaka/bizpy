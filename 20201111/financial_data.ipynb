{
 "cells": [
  {
   "cell_type": "markdown",
   "metadata": {},
   "source": [
    "## 財務データの取得\n",
    "\n",
    "### 財務諸表\n",
    "\n",
    "> 財務諸表（ざいむしょひょう、financial statements）は、企業が利害関係者に対して一定期間の経営成績や財務状態等を明らかにするために複式簿記に基づき作成される書類である。日常用語としては、決算書（又は決算報告書）と呼ばれている。\n",
    "\n",
    "> 日本における会計基準では、\n",
    ">\n",
    "> - 貸借対照表（B/S）\n",
    "> - 損益計算書（P/L）\n",
    "> - キャッシュ・フロー計算書（C/F）\n",
    "> - 株主資本等変動計算書（S/S）\n",
    "> \n",
    "> が財務諸表に含まれる。\n",
    "\n",
    "「財務諸表」（2020年10月20日 (火) 04:19　UTCの版）『ウィキペディア日本語版』。\n",
    "\n",
    "https://ja.wikipedia.org/wiki/財務諸表\n",
    "\n",
    "### 有価証券報告書\n",
    "\n",
    "\n",
    "> 有価証券報告書（ゆうかしょうけんほうこくしょ）とは、金融商品取引法で規定されている、事業年度ごとに作成する企業内容の外部への開示資料である。略して有報（ゆうほう）と呼ばれることもある。\n",
    "\n",
    "> 次のような株式会社には、各事業年度終了後、3か月以内の金融庁への提出が義務づけられている。\n",
    "> - 金融商品取引所（証券取引所）に株式公開している会社\n",
    "> - 店頭登録している株式の発行会社\n",
    "> - 有価証券届出書提出会社 - 有価証券届出書とは、1億円以上の有価証券（株券や社債券など）の募集（新規発行）または売出しを行う際に、有価証券の発行者が金融商品取引法第4条・5条に基づき、内閣総理大臣（窓口は財務局）に提出することが義務づけられている書類。発行する会社の営業状況や事業の内容、および有価証券の発行条件などが記載されている。\n",
    "> - 過去5年間において、事業年度末日時点の株券もしくは優先出資証券の保有者数が1000人以上となったことがある会社（ただし、資本金5億円未満の会社を除く）\n",
    "\n",
    "「有価証券報告書」（2020年8月2日 (日) 02:01　UTCの版）『ウィキペディア日本語版』。\n",
    "\n",
    "https://ja.wikipedia.org/wiki/有価証券報告書"
   ]
  },
  {
   "cell_type": "markdown",
   "metadata": {},
   "source": [
    "### EDINET\n",
    "\n",
    "有価証券報告書等の開示書類を閲覧するサイト\n",
    "\n",
    "https://disclosure.edinet-fsa.go.jp\n",
    "\n",
    "- 有価証券報告書はXBRL形式(タクソノミ)で提供される\n",
    "- XBRLの構造は非常に複雑で扱いにくいため、今回は使わない"
   ]
  },
  {
   "cell_type": "markdown",
   "metadata": {},
   "source": [
    "### バフェット・コード\n",
    "\n",
    "https://www.buffett-code.com\n",
    "\n",
    "- ワンストップで効率的な企業分析ができる無料のツール\n",
    "- APIが提供されている\n",
    "    - [BuffettCode API](https://docs.buffett-code.com)\n",
    "    - 利用に際してはプレミアム会員になる必要がある\n",
    "    - テスト用に使えるAPI Keyがある(ティッカーの末尾が\"01\"で終わる銘柄が取得できる)"
   ]
  },
  {
   "cell_type": "markdown",
   "metadata": {},
   "source": [
    "### APIクライアント\n",
    "\n",
    "[Python で Web API/SDK を使ってみる勉強会 #3](https://bizpy.connpass.com/event/186245/) の汎用のHTTPクライアントを利用する\n",
    "\n",
    "https://github.com/t2y/python-study/tree/master/BizPy/webapi/20200909"
   ]
  },
  {
   "cell_type": "code",
   "execution_count": null,
   "metadata": {},
   "outputs": [],
   "source": [
    "import requests\n",
    "\n",
    "class HttpClient:\n",
    "    def __init__(self, headers={}):\n",
    "        self.headers = headers\n",
    "\n",
    "    def _handle_response(self, response):\n",
    "        if response.ok:\n",
    "            return response.json()\n",
    "        else:\n",
    "            # show extra information to confirm error\n",
    "            # ColabではPythonのバージョンが古いためデバッグ用の記法は使えない\n",
    "            # print(f\"{response.status_code=}, {response.reason=}\")\n",
    "            print(f\"{response.status_code}, {response.reason}\")\n",
    "            raise response.raise_for_status()\n",
    "\n",
    "    def get(self, url, params):\n",
    "        response = requests.get(url, headers=self.headers, params=params)\n",
    "        return self._handle_response(response)"
   ]
  },
  {
   "cell_type": "markdown",
   "metadata": {},
   "source": [
    "下記のデータを取得\n",
    "\n",
    "- 証券コード: 1301\n",
    "- 2018年第1四半期から2018年第2四半期まで\n",
    "\n",
    "`api_key` には実際に利用するAPI Keyを入力する"
   ]
  },
  {
   "cell_type": "code",
   "execution_count": null,
   "metadata": {},
   "outputs": [],
   "source": [
    "# api_key=\"xxxxxxxxxxxxxxxxxxxxxxxxxxxxxxxxxxxxxxxx\"\n",
    "# client = HttpClient(headers={\"x-api-key\": api_key})\n",
    "\n",
    "# data = client.get(\n",
    "#     \"https://api.buffett-code.com/api/v2/quarter\",\n",
    "#     params={\"tickers\": \"1301\", \"from\": \"2018Q1\", \"to\": \"2018Q2\"},\n",
    "# )"
   ]
  },
  {
   "cell_type": "markdown",
   "metadata": {},
   "source": [
    "勉強会では取得済みのデータを利用する"
   ]
  },
  {
   "cell_type": "code",
   "execution_count": null,
   "metadata": {},
   "outputs": [],
   "source": [
    "client = HttpClient()\n",
    "data = client.get(\n",
    "    \"https://github.com/drillan/bizpy/raw/main/20201111/data/sample_data.json\",\n",
    "    params={},\n",
    ")"
   ]
  },
  {
   "cell_type": "code",
   "execution_count": null,
   "metadata": {},
   "outputs": [],
   "source": [
    "data"
   ]
  },
  {
   "cell_type": "markdown",
   "metadata": {},
   "source": [
    "1301を参照"
   ]
  },
  {
   "cell_type": "code",
   "execution_count": null,
   "metadata": {
    "scrolled": true
   },
   "outputs": [],
   "source": [
    "data[\"1301\"]"
   ]
  },
  {
   "cell_type": "markdown",
   "metadata": {},
   "source": [
    "列データの概要"
   ]
  },
  {
   "cell_type": "code",
   "execution_count": null,
   "metadata": {
    "scrolled": false
   },
   "outputs": [],
   "source": [
    "import pandas as pd\n",
    "\n",
    "df = pd.DataFrame.from_dict(data[\"column_description\"])\n",
    "display_rows = pd.get_option(\"display.max_rows\")  # pandasで表示する行数\n",
    "pd.set_option(\"display.max_rows\", len(df.T))\n",
    "df.T"
   ]
  },
  {
   "cell_type": "code",
   "execution_count": null,
   "metadata": {},
   "outputs": [],
   "source": [
    "pd.set_option(\"display.max_rows\", display_rows)"
   ]
  },
  {
   "cell_type": "markdown",
   "metadata": {},
   "source": [
    "データをdump"
   ]
  },
  {
   "cell_type": "code",
   "execution_count": null,
   "metadata": {},
   "outputs": [],
   "source": [
    "!mkdir -p data"
   ]
  },
  {
   "cell_type": "code",
   "execution_count": null,
   "metadata": {},
   "outputs": [],
   "source": [
    "import json\n",
    "\n",
    "with open(\"data/sample_data.json\", \"w\") as f:\n",
    "    json.dump(data, f)"
   ]
  },
  {
   "cell_type": "markdown",
   "metadata": {},
   "source": [
    "データの内容を確認"
   ]
  },
  {
   "cell_type": "code",
   "execution_count": null,
   "metadata": {},
   "outputs": [],
   "source": [
    "!cat data/sample_data.json"
   ]
  },
  {
   "cell_type": "code",
   "execution_count": null,
   "metadata": {},
   "outputs": [],
   "source": []
  }
 ],
 "metadata": {
  "kernelspec": {
   "display_name": "Python 3",
   "language": "python",
   "name": "python3"
  },
  "language_info": {
   "codemirror_mode": {
    "name": "ipython",
    "version": 3
   },
   "file_extension": ".py",
   "mimetype": "text/x-python",
   "name": "python",
   "nbconvert_exporter": "python",
   "pygments_lexer": "ipython3",
   "version": "3.8.2"
  }
 },
 "nbformat": 4,
 "nbformat_minor": 4
}
