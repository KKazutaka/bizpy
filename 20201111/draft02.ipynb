{
 "cells": [
  {
   "cell_type": "code",
   "execution_count": 1,
   "metadata": {},
   "outputs": [],
   "source": [
    "import pandas as pd\n",
    "\n",
    "quarter = pd.read_pickle(\n",
    "    \"https://github.com/drillan/bizpy/blob/main/20201111/data/quarter_cleaned.pickle?raw=true\"\n",
    ")"
   ]
  },
  {
   "cell_type": "code",
   "execution_count": 2,
   "metadata": {},
   "outputs": [
    {
     "data": {
      "text/html": [
       "<div>\n",
       "<style scoped>\n",
       "    .dataframe tbody tr th:only-of-type {\n",
       "        vertical-align: middle;\n",
       "    }\n",
       "\n",
       "    .dataframe tbody tr th {\n",
       "        vertical-align: top;\n",
       "    }\n",
       "\n",
       "    .dataframe thead th {\n",
       "        text-align: right;\n",
       "    }\n",
       "</style>\n",
       "<table border=\"1\" class=\"dataframe\">\n",
       "  <thead>\n",
       "    <tr style=\"text-align: right;\">\n",
       "      <th></th>\n",
       "      <th>company_name</th>\n",
       "      <th>ceo_name</th>\n",
       "      <th>headquarters_address</th>\n",
       "      <th>end_date</th>\n",
       "      <th>updated_date</th>\n",
       "      <th>edinet_updated_date</th>\n",
       "      <th>tdnet_updated_date</th>\n",
       "      <th>edinet_title</th>\n",
       "      <th>tdnet_title</th>\n",
       "      <th>accounting_standard</th>\n",
       "      <th>...</th>\n",
       "      <th>日付</th>\n",
       "      <th>コード</th>\n",
       "      <th>銘柄名</th>\n",
       "      <th>市場・商品区分</th>\n",
       "      <th>33業種コード</th>\n",
       "      <th>33業種区分</th>\n",
       "      <th>17業種コード</th>\n",
       "      <th>17業種区分</th>\n",
       "      <th>規模コード</th>\n",
       "      <th>規模区分</th>\n",
       "    </tr>\n",
       "  </thead>\n",
       "  <tbody>\n",
       "    <tr>\n",
       "      <th>1301-2016Q1</th>\n",
       "      <td>株式会社　極洋</td>\n",
       "      <td>代表取締役社長　今　井　賢　司</td>\n",
       "      <td>東京都港区赤坂三丁目３番５号</td>\n",
       "      <td>2016-06-30T00:00:00.000Z</td>\n",
       "      <td>2016-08-12T00:00:00.000Z</td>\n",
       "      <td>2016-08-12T00:00:00.000Z</td>\n",
       "      <td>2016-08-05T11:30:00.000Z</td>\n",
       "      <td>【E00012】株式会社　極洋 四半期報告書－第94期第1四半期(平成28年4月1日－平成2...</td>\n",
       "      <td>【13010】株式会社　極洋 平成29年3月期　第1四半期決算短信〔日本基準〕(連結)</td>\n",
       "      <td>Japan GAAP</td>\n",
       "      <td>...</td>\n",
       "      <td>20200930</td>\n",
       "      <td>1301</td>\n",
       "      <td>極洋</td>\n",
       "      <td>市場第一部（内国株）</td>\n",
       "      <td>50</td>\n",
       "      <td>水産・農林業</td>\n",
       "      <td>1</td>\n",
       "      <td>食品</td>\n",
       "      <td>7</td>\n",
       "      <td>TOPIX Small 2</td>\n",
       "    </tr>\n",
       "    <tr>\n",
       "      <th>1301-2016Q2</th>\n",
       "      <td>株式会社　極洋</td>\n",
       "      <td>代表取締役社長　今　井　賢　司</td>\n",
       "      <td>東京都港区赤坂三丁目３番５号</td>\n",
       "      <td>2016-09-30T00:00:00.000Z</td>\n",
       "      <td>2016-11-14T00:00:00.000Z</td>\n",
       "      <td>2016-11-14T00:00:00.000Z</td>\n",
       "      <td>2016-11-04T11:30:00.000Z</td>\n",
       "      <td>【E00012】株式会社　極洋 四半期報告書－第94期第2四半期(平成28年7月1日－平成2...</td>\n",
       "      <td>【13010】株式会社　極洋 平成29年3月期　第2四半期決算短信〔日本基準〕(連結)</td>\n",
       "      <td>Japan GAAP</td>\n",
       "      <td>...</td>\n",
       "      <td>20200930</td>\n",
       "      <td>1301</td>\n",
       "      <td>極洋</td>\n",
       "      <td>市場第一部（内国株）</td>\n",
       "      <td>50</td>\n",
       "      <td>水産・農林業</td>\n",
       "      <td>1</td>\n",
       "      <td>食品</td>\n",
       "      <td>7</td>\n",
       "      <td>TOPIX Small 2</td>\n",
       "    </tr>\n",
       "    <tr>\n",
       "      <th>1301-2016Q3</th>\n",
       "      <td>株式会社　極洋</td>\n",
       "      <td>代表取締役社長　今　井　賢　司</td>\n",
       "      <td>東京都港区赤坂三丁目３番５号</td>\n",
       "      <td>2016-12-31T00:00:00.000Z</td>\n",
       "      <td>2017-02-14T00:00:00.000Z</td>\n",
       "      <td>2017-02-14T00:00:00.000Z</td>\n",
       "      <td>2017-02-10T11:30:00.000Z</td>\n",
       "      <td>【E00012】株式会社　極洋 四半期報告書－第94期第3四半期(平成28年10月1日－平成...</td>\n",
       "      <td>【13010】株式会社　極洋 平成29年3月期　第3四半期決算短信〔日本基準〕(連結)</td>\n",
       "      <td>Japan GAAP</td>\n",
       "      <td>...</td>\n",
       "      <td>20200930</td>\n",
       "      <td>1301</td>\n",
       "      <td>極洋</td>\n",
       "      <td>市場第一部（内国株）</td>\n",
       "      <td>50</td>\n",
       "      <td>水産・農林業</td>\n",
       "      <td>1</td>\n",
       "      <td>食品</td>\n",
       "      <td>7</td>\n",
       "      <td>TOPIX Small 2</td>\n",
       "    </tr>\n",
       "    <tr>\n",
       "      <th>1301-2016Q4</th>\n",
       "      <td>株式会社極洋</td>\n",
       "      <td>代表取締役社長　　今　井　賢　司</td>\n",
       "      <td>東京都港区赤坂三丁目３番５号</td>\n",
       "      <td>2017-03-31T00:00:00.000Z</td>\n",
       "      <td>2017-06-27T13:38:00.000Z</td>\n",
       "      <td>2017-06-27T13:38:00.000Z</td>\n",
       "      <td>2017-05-11T11:30:00.000Z</td>\n",
       "      <td>【E00012】株式会社　極洋 有価証券報告書－第94期(平成28年4月1日－平成29年3月...</td>\n",
       "      <td>【13010】株式会社　極洋 平成29年3月期　決算短信〔日本基準〕(連結)</td>\n",
       "      <td>Japan GAAP</td>\n",
       "      <td>...</td>\n",
       "      <td>20200930</td>\n",
       "      <td>1301</td>\n",
       "      <td>極洋</td>\n",
       "      <td>市場第一部（内国株）</td>\n",
       "      <td>50</td>\n",
       "      <td>水産・農林業</td>\n",
       "      <td>1</td>\n",
       "      <td>食品</td>\n",
       "      <td>7</td>\n",
       "      <td>TOPIX Small 2</td>\n",
       "    </tr>\n",
       "    <tr>\n",
       "      <th>1301-2017Q1</th>\n",
       "      <td>株式会社　極洋</td>\n",
       "      <td>代表取締役社長　今　井　賢　司</td>\n",
       "      <td>東京都港区赤坂三丁目３番５号</td>\n",
       "      <td>2017-06-30T00:00:00.000Z</td>\n",
       "      <td>2017-08-10T09:03:00.000Z</td>\n",
       "      <td>2017-08-10T09:03:00.000Z</td>\n",
       "      <td>2017-08-04T13:00:00.000Z</td>\n",
       "      <td>【E00012】株式会社　極洋 四半期報告書－第95期第1四半期(平成29年4月1日－平成2...</td>\n",
       "      <td>【13010】株式会社　極洋 平成30年3月期　第1四半期決算短信〔日本基準〕(連結)</td>\n",
       "      <td>Japan GAAP</td>\n",
       "      <td>...</td>\n",
       "      <td>20200930</td>\n",
       "      <td>1301</td>\n",
       "      <td>極洋</td>\n",
       "      <td>市場第一部（内国株）</td>\n",
       "      <td>50</td>\n",
       "      <td>水産・農林業</td>\n",
       "      <td>1</td>\n",
       "      <td>食品</td>\n",
       "      <td>7</td>\n",
       "      <td>TOPIX Small 2</td>\n",
       "    </tr>\n",
       "  </tbody>\n",
       "</table>\n",
       "<p>5 rows × 203 columns</p>\n",
       "</div>"
      ],
      "text/plain": [
       "            company_name          ceo_name headquarters_address  \\\n",
       "1301-2016Q1      株式会社　極洋   代表取締役社長　今　井　賢　司       東京都港区赤坂三丁目３番５号   \n",
       "1301-2016Q2      株式会社　極洋   代表取締役社長　今　井　賢　司       東京都港区赤坂三丁目３番５号   \n",
       "1301-2016Q3      株式会社　極洋   代表取締役社長　今　井　賢　司       東京都港区赤坂三丁目３番５号   \n",
       "1301-2016Q4       株式会社極洋  代表取締役社長　　今　井　賢　司       東京都港区赤坂三丁目３番５号   \n",
       "1301-2017Q1      株式会社　極洋   代表取締役社長　今　井　賢　司       東京都港区赤坂三丁目３番５号   \n",
       "\n",
       "                             end_date              updated_date  \\\n",
       "1301-2016Q1  2016-06-30T00:00:00.000Z  2016-08-12T00:00:00.000Z   \n",
       "1301-2016Q2  2016-09-30T00:00:00.000Z  2016-11-14T00:00:00.000Z   \n",
       "1301-2016Q3  2016-12-31T00:00:00.000Z  2017-02-14T00:00:00.000Z   \n",
       "1301-2016Q4  2017-03-31T00:00:00.000Z  2017-06-27T13:38:00.000Z   \n",
       "1301-2017Q1  2017-06-30T00:00:00.000Z  2017-08-10T09:03:00.000Z   \n",
       "\n",
       "                  edinet_updated_date        tdnet_updated_date  \\\n",
       "1301-2016Q1  2016-08-12T00:00:00.000Z  2016-08-05T11:30:00.000Z   \n",
       "1301-2016Q2  2016-11-14T00:00:00.000Z  2016-11-04T11:30:00.000Z   \n",
       "1301-2016Q3  2017-02-14T00:00:00.000Z  2017-02-10T11:30:00.000Z   \n",
       "1301-2016Q4  2017-06-27T13:38:00.000Z  2017-05-11T11:30:00.000Z   \n",
       "1301-2017Q1  2017-08-10T09:03:00.000Z  2017-08-04T13:00:00.000Z   \n",
       "\n",
       "                                                  edinet_title  \\\n",
       "1301-2016Q1  【E00012】株式会社　極洋 四半期報告書－第94期第1四半期(平成28年4月1日－平成2...   \n",
       "1301-2016Q2  【E00012】株式会社　極洋 四半期報告書－第94期第2四半期(平成28年7月1日－平成2...   \n",
       "1301-2016Q3  【E00012】株式会社　極洋 四半期報告書－第94期第3四半期(平成28年10月1日－平成...   \n",
       "1301-2016Q4  【E00012】株式会社　極洋 有価証券報告書－第94期(平成28年4月1日－平成29年3月...   \n",
       "1301-2017Q1  【E00012】株式会社　極洋 四半期報告書－第95期第1四半期(平成29年4月1日－平成2...   \n",
       "\n",
       "                                             tdnet_title accounting_standard  \\\n",
       "1301-2016Q1  【13010】株式会社　極洋 平成29年3月期　第1四半期決算短信〔日本基準〕(連結)          Japan GAAP   \n",
       "1301-2016Q2  【13010】株式会社　極洋 平成29年3月期　第2四半期決算短信〔日本基準〕(連結)          Japan GAAP   \n",
       "1301-2016Q3  【13010】株式会社　極洋 平成29年3月期　第3四半期決算短信〔日本基準〕(連結)          Japan GAAP   \n",
       "1301-2016Q4       【13010】株式会社　極洋 平成29年3月期　決算短信〔日本基準〕(連結)          Japan GAAP   \n",
       "1301-2017Q1  【13010】株式会社　極洋 平成30年3月期　第1四半期決算短信〔日本基準〕(連結)          Japan GAAP   \n",
       "\n",
       "             ...        日付   コード  銘柄名     市場・商品区分  33業種コード  33業種区分  17業種コード  \\\n",
       "1301-2016Q1  ...  20200930  1301   極洋  市場第一部（内国株）       50  水産・農林業        1   \n",
       "1301-2016Q2  ...  20200930  1301   極洋  市場第一部（内国株）       50  水産・農林業        1   \n",
       "1301-2016Q3  ...  20200930  1301   極洋  市場第一部（内国株）       50  水産・農林業        1   \n",
       "1301-2016Q4  ...  20200930  1301   極洋  市場第一部（内国株）       50  水産・農林業        1   \n",
       "1301-2017Q1  ...  20200930  1301   極洋  市場第一部（内国株）       50  水産・農林業        1   \n",
       "\n",
       "             17業種区分  規模コード           規模区分  \n",
       "1301-2016Q1     食品       7  TOPIX Small 2  \n",
       "1301-2016Q2     食品       7  TOPIX Small 2  \n",
       "1301-2016Q3     食品       7  TOPIX Small 2  \n",
       "1301-2016Q4     食品       7  TOPIX Small 2  \n",
       "1301-2017Q1     食品       7  TOPIX Small 2  \n",
       "\n",
       "[5 rows x 203 columns]"
      ]
     },
     "execution_count": 2,
     "metadata": {},
     "output_type": "execute_result"
    }
   ],
   "source": [
    "quarter.head()"
   ]
  },
  {
   "cell_type": "code",
   "execution_count": 7,
   "metadata": {},
   "outputs": [],
   "source": [
    "groupby_fyq = quarter.groupby(\"fiscal_year_quarter\")"
   ]
  },
  {
   "cell_type": "code",
   "execution_count": 8,
   "metadata": {},
   "outputs": [
    {
     "data": {
      "application/vnd.plotly.v1+json": {
       "config": {
        "plotlyServerURL": "https://plot.ly"
       },
       "data": [
        {
         "branchvalues": "total",
         "domain": {
          "x": [
           0,
           1
          ],
          "y": [
           0,
           1
          ]
         },
         "hovertemplate": "labels=%{label}<br>employee_num=%{value}<br>parent=%{parent}<br>id=%{id}<extra></extra>",
         "ids": [
          "食品 /キッコーマン株式会社",
          "食品 /サッポロホールディングス株式会社",
          "情報通信・サービスその他 /セントラルスポーツ株式会社",
          "情報通信・サービスその他 /マークラインズ株式会社",
          "不動産 /三井不動産株式会社",
          "運輸・物流 /三菱倉庫株式会社",
          "商社・卸売 /伊藤忠商事株式会社",
          "素材・化学 /住江織物株式会社",
          "鉄鋼・非鉄 /古河電気工業株式会社",
          "建設・資材 /大成建設株式会社",
          "素材・化学 /富士フイルムホールディングス株式会社",
          "素材・化学 /帝人株式会社",
          "運輸・物流 /日本航空株式会社",
          "食品 /日本製粉株式会社",
          "鉄鋼・非鉄 /日本製鉄株式会社",
          "運輸・物流 /日本郵船株式会社",
          "電機・精密 /日本電気株式会社",
          "自動車・輸送機 /日産自動車株式会社",
          "電力・ガス /東京電力ホールディングス株式会社",
          "運輸・物流 /東武鉄道株式会社",
          "素材・化学 /東洋紡株式会社",
          "建設・資材 /東洋製罐グループホールディングス株式会社",
          "建設・資材 /東海カーボン株式会社",
          "情報通信・サービスその他 /松竹株式会社",
          "電機・精密 /株式会社　島津製作所",
          "情報通信・サービスその他 /株式会社アミューズ",
          "建設・資材 /株式会社エムビーエス",
          "機械 /株式会社ツガミ",
          "小売 /株式会社ポプラ",
          "情報通信・サービスその他 /株式会社マツモト",
          "金融（除く銀行） /株式会社大和証券グループ本社",
          "機械 /株式会社小松製作所",
          "電機・精密 /株式会社日立製作所",
          "情報通信・サービスその他 /株式会社東京放送ホールディングス",
          "情報通信・サービスその他 /株式会社東京會舘",
          "食品 /株式会社極洋",
          "自動車・輸送機 /株式会社豊田自動織機",
          "素材・化学 /株式会社ＡＤＥＫＡ",
          "商社・卸売 /株式会社ＧＳＩクレオス",
          "食品 /森永製菓株式会社",
          "自動車・輸送機 /横浜ゴム株式会社",
          "電機・精密 /澤藤電機株式会社",
          "素材・化学 /片倉工業株式会社",
          "食品 /石垣食品株式会社",
          "建設・資材 /ＡＧＣ株式会社",
          "不動産 ",
          "商社・卸売 ",
          "小売 ",
          "建設・資材 ",
          "情報通信・サービスその他 ",
          "機械 ",
          "素材・化学 ",
          "自動車・輸送機 ",
          "運輸・物流 ",
          "金融（除く銀行） ",
          "鉄鋼・非鉄 ",
          "電力・ガス ",
          "電機・精密 ",
          "食品 "
         ],
         "labels": [
          "キッコーマン株式会社",
          "サッポロホールディングス株式会社",
          "セントラルスポーツ株式会社",
          "マークラインズ株式会社",
          "三井不動産株式会社",
          "三菱倉庫株式会社",
          "伊藤忠商事株式会社",
          "住江織物株式会社",
          "古河電気工業株式会社",
          "大成建設株式会社",
          "富士フイルムホールディングス株式会社",
          "帝人株式会社",
          "日本航空株式会社",
          "日本製粉株式会社",
          "日本製鉄株式会社",
          "日本郵船株式会社",
          "日本電気株式会社",
          "日産自動車株式会社",
          "東京電力ホールディングス株式会社",
          "東武鉄道株式会社",
          "東洋紡株式会社",
          "東洋製罐グループホールディングス株式会社",
          "東海カーボン株式会社",
          "松竹株式会社",
          "株式会社　島津製作所",
          "株式会社アミューズ",
          "株式会社エムビーエス",
          "株式会社ツガミ",
          "株式会社ポプラ",
          "株式会社マツモト",
          "株式会社大和証券グループ本社",
          "株式会社小松製作所",
          "株式会社日立製作所",
          "株式会社東京放送ホールディングス",
          "株式会社東京會舘",
          "株式会社極洋",
          "株式会社豊田自動織機",
          "株式会社ＡＤＥＫＡ",
          "株式会社ＧＳＩクレオス",
          "森永製菓株式会社",
          "横浜ゴム株式会社",
          "澤藤電機株式会社",
          "片倉工業株式会社",
          "石垣食品株式会社",
          "ＡＧＣ株式会社",
          "不動産 ",
          "商社・卸売 ",
          "小売 ",
          "建設・資材 ",
          "情報通信・サービスその他 ",
          "機械 ",
          "素材・化学 ",
          "自動車・輸送機 ",
          "運輸・物流 ",
          "金融（除く銀行） ",
          "鉄鋼・非鉄 ",
          "電力・ガス ",
          "電機・精密 ",
          "食品 "
         ],
         "name": "",
         "parents": [
          "食品 ",
          "食品 ",
          "情報通信・サービスその他 ",
          "情報通信・サービスその他 ",
          "不動産 ",
          "運輸・物流 ",
          "商社・卸売 ",
          "素材・化学 ",
          "鉄鋼・非鉄 ",
          "建設・資材 ",
          "素材・化学 ",
          "素材・化学 ",
          "運輸・物流 ",
          "食品 ",
          "鉄鋼・非鉄 ",
          "運輸・物流 ",
          "電機・精密 ",
          "自動車・輸送機 ",
          "電力・ガス ",
          "運輸・物流 ",
          "素材・化学 ",
          "建設・資材 ",
          "建設・資材 ",
          "情報通信・サービスその他 ",
          "電機・精密 ",
          "情報通信・サービスその他 ",
          "建設・資材 ",
          "機械 ",
          "小売 ",
          "情報通信・サービスその他 ",
          "金融（除く銀行） ",
          "機械 ",
          "電機・精密 ",
          "情報通信・サービスその他 ",
          "情報通信・サービスその他 ",
          "食品 ",
          "自動車・輸送機 ",
          "素材・化学 ",
          "商社・卸売 ",
          "食品 ",
          "自動車・輸送機 ",
          "電機・精密 ",
          "素材・化学 ",
          "食品 ",
          "建設・資材 ",
          "",
          "",
          "",
          "",
          "",
          "",
          "",
          "",
          "",
          "",
          "",
          "",
          "",
          ""
         ],
         "type": "treemap",
         "values": [
          7376,
          7736,
          1144,
          103,
          20864,
          4625,
          128146,
          2822,
          50232,
          14562,
          73906,
          20075,
          35653,
          3737,
          106599,
          34857,
          112638,
          136134,
          37892,
          20112,
          10073,
          19307,
          3714,
          1363,
          13182,
          499,
          101,
          2223,
          335,
          201,
          15320,
          62823,
          301056,
          6155,
          533,
          2307,
          66478,
          5189,
          656,
          2711,
          27428,
          891,
          1169,
          78,
          55598,
          20864,
          128802,
          335,
          93282,
          9998,
          65046,
          113234,
          230040,
          95247,
          15320,
          156831,
          37892,
          427767,
          23945
         ]
        }
       ],
       "layout": {
        "legend": {
         "tracegroupgap": 0
        },
        "template": {
         "data": {
          "bar": [
           {
            "error_x": {
             "color": "#2a3f5f"
            },
            "error_y": {
             "color": "#2a3f5f"
            },
            "marker": {
             "line": {
              "color": "#E5ECF6",
              "width": 0.5
             }
            },
            "type": "bar"
           }
          ],
          "barpolar": [
           {
            "marker": {
             "line": {
              "color": "#E5ECF6",
              "width": 0.5
             }
            },
            "type": "barpolar"
           }
          ],
          "carpet": [
           {
            "aaxis": {
             "endlinecolor": "#2a3f5f",
             "gridcolor": "white",
             "linecolor": "white",
             "minorgridcolor": "white",
             "startlinecolor": "#2a3f5f"
            },
            "baxis": {
             "endlinecolor": "#2a3f5f",
             "gridcolor": "white",
             "linecolor": "white",
             "minorgridcolor": "white",
             "startlinecolor": "#2a3f5f"
            },
            "type": "carpet"
           }
          ],
          "choropleth": [
           {
            "colorbar": {
             "outlinewidth": 0,
             "ticks": ""
            },
            "type": "choropleth"
           }
          ],
          "contour": [
           {
            "colorbar": {
             "outlinewidth": 0,
             "ticks": ""
            },
            "colorscale": [
             [
              0,
              "#0d0887"
             ],
             [
              0.1111111111111111,
              "#46039f"
             ],
             [
              0.2222222222222222,
              "#7201a8"
             ],
             [
              0.3333333333333333,
              "#9c179e"
             ],
             [
              0.4444444444444444,
              "#bd3786"
             ],
             [
              0.5555555555555556,
              "#d8576b"
             ],
             [
              0.6666666666666666,
              "#ed7953"
             ],
             [
              0.7777777777777778,
              "#fb9f3a"
             ],
             [
              0.8888888888888888,
              "#fdca26"
             ],
             [
              1,
              "#f0f921"
             ]
            ],
            "type": "contour"
           }
          ],
          "contourcarpet": [
           {
            "colorbar": {
             "outlinewidth": 0,
             "ticks": ""
            },
            "type": "contourcarpet"
           }
          ],
          "heatmap": [
           {
            "colorbar": {
             "outlinewidth": 0,
             "ticks": ""
            },
            "colorscale": [
             [
              0,
              "#0d0887"
             ],
             [
              0.1111111111111111,
              "#46039f"
             ],
             [
              0.2222222222222222,
              "#7201a8"
             ],
             [
              0.3333333333333333,
              "#9c179e"
             ],
             [
              0.4444444444444444,
              "#bd3786"
             ],
             [
              0.5555555555555556,
              "#d8576b"
             ],
             [
              0.6666666666666666,
              "#ed7953"
             ],
             [
              0.7777777777777778,
              "#fb9f3a"
             ],
             [
              0.8888888888888888,
              "#fdca26"
             ],
             [
              1,
              "#f0f921"
             ]
            ],
            "type": "heatmap"
           }
          ],
          "heatmapgl": [
           {
            "colorbar": {
             "outlinewidth": 0,
             "ticks": ""
            },
            "colorscale": [
             [
              0,
              "#0d0887"
             ],
             [
              0.1111111111111111,
              "#46039f"
             ],
             [
              0.2222222222222222,
              "#7201a8"
             ],
             [
              0.3333333333333333,
              "#9c179e"
             ],
             [
              0.4444444444444444,
              "#bd3786"
             ],
             [
              0.5555555555555556,
              "#d8576b"
             ],
             [
              0.6666666666666666,
              "#ed7953"
             ],
             [
              0.7777777777777778,
              "#fb9f3a"
             ],
             [
              0.8888888888888888,
              "#fdca26"
             ],
             [
              1,
              "#f0f921"
             ]
            ],
            "type": "heatmapgl"
           }
          ],
          "histogram": [
           {
            "marker": {
             "colorbar": {
              "outlinewidth": 0,
              "ticks": ""
             }
            },
            "type": "histogram"
           }
          ],
          "histogram2d": [
           {
            "colorbar": {
             "outlinewidth": 0,
             "ticks": ""
            },
            "colorscale": [
             [
              0,
              "#0d0887"
             ],
             [
              0.1111111111111111,
              "#46039f"
             ],
             [
              0.2222222222222222,
              "#7201a8"
             ],
             [
              0.3333333333333333,
              "#9c179e"
             ],
             [
              0.4444444444444444,
              "#bd3786"
             ],
             [
              0.5555555555555556,
              "#d8576b"
             ],
             [
              0.6666666666666666,
              "#ed7953"
             ],
             [
              0.7777777777777778,
              "#fb9f3a"
             ],
             [
              0.8888888888888888,
              "#fdca26"
             ],
             [
              1,
              "#f0f921"
             ]
            ],
            "type": "histogram2d"
           }
          ],
          "histogram2dcontour": [
           {
            "colorbar": {
             "outlinewidth": 0,
             "ticks": ""
            },
            "colorscale": [
             [
              0,
              "#0d0887"
             ],
             [
              0.1111111111111111,
              "#46039f"
             ],
             [
              0.2222222222222222,
              "#7201a8"
             ],
             [
              0.3333333333333333,
              "#9c179e"
             ],
             [
              0.4444444444444444,
              "#bd3786"
             ],
             [
              0.5555555555555556,
              "#d8576b"
             ],
             [
              0.6666666666666666,
              "#ed7953"
             ],
             [
              0.7777777777777778,
              "#fb9f3a"
             ],
             [
              0.8888888888888888,
              "#fdca26"
             ],
             [
              1,
              "#f0f921"
             ]
            ],
            "type": "histogram2dcontour"
           }
          ],
          "mesh3d": [
           {
            "colorbar": {
             "outlinewidth": 0,
             "ticks": ""
            },
            "type": "mesh3d"
           }
          ],
          "parcoords": [
           {
            "line": {
             "colorbar": {
              "outlinewidth": 0,
              "ticks": ""
             }
            },
            "type": "parcoords"
           }
          ],
          "pie": [
           {
            "automargin": true,
            "type": "pie"
           }
          ],
          "scatter": [
           {
            "marker": {
             "colorbar": {
              "outlinewidth": 0,
              "ticks": ""
             }
            },
            "type": "scatter"
           }
          ],
          "scatter3d": [
           {
            "line": {
             "colorbar": {
              "outlinewidth": 0,
              "ticks": ""
             }
            },
            "marker": {
             "colorbar": {
              "outlinewidth": 0,
              "ticks": ""
             }
            },
            "type": "scatter3d"
           }
          ],
          "scattercarpet": [
           {
            "marker": {
             "colorbar": {
              "outlinewidth": 0,
              "ticks": ""
             }
            },
            "type": "scattercarpet"
           }
          ],
          "scattergeo": [
           {
            "marker": {
             "colorbar": {
              "outlinewidth": 0,
              "ticks": ""
             }
            },
            "type": "scattergeo"
           }
          ],
          "scattergl": [
           {
            "marker": {
             "colorbar": {
              "outlinewidth": 0,
              "ticks": ""
             }
            },
            "type": "scattergl"
           }
          ],
          "scattermapbox": [
           {
            "marker": {
             "colorbar": {
              "outlinewidth": 0,
              "ticks": ""
             }
            },
            "type": "scattermapbox"
           }
          ],
          "scatterpolar": [
           {
            "marker": {
             "colorbar": {
              "outlinewidth": 0,
              "ticks": ""
             }
            },
            "type": "scatterpolar"
           }
          ],
          "scatterpolargl": [
           {
            "marker": {
             "colorbar": {
              "outlinewidth": 0,
              "ticks": ""
             }
            },
            "type": "scatterpolargl"
           }
          ],
          "scatterternary": [
           {
            "marker": {
             "colorbar": {
              "outlinewidth": 0,
              "ticks": ""
             }
            },
            "type": "scatterternary"
           }
          ],
          "surface": [
           {
            "colorbar": {
             "outlinewidth": 0,
             "ticks": ""
            },
            "colorscale": [
             [
              0,
              "#0d0887"
             ],
             [
              0.1111111111111111,
              "#46039f"
             ],
             [
              0.2222222222222222,
              "#7201a8"
             ],
             [
              0.3333333333333333,
              "#9c179e"
             ],
             [
              0.4444444444444444,
              "#bd3786"
             ],
             [
              0.5555555555555556,
              "#d8576b"
             ],
             [
              0.6666666666666666,
              "#ed7953"
             ],
             [
              0.7777777777777778,
              "#fb9f3a"
             ],
             [
              0.8888888888888888,
              "#fdca26"
             ],
             [
              1,
              "#f0f921"
             ]
            ],
            "type": "surface"
           }
          ],
          "table": [
           {
            "cells": {
             "fill": {
              "color": "#EBF0F8"
             },
             "line": {
              "color": "white"
             }
            },
            "header": {
             "fill": {
              "color": "#C8D4E3"
             },
             "line": {
              "color": "white"
             }
            },
            "type": "table"
           }
          ]
         },
         "layout": {
          "annotationdefaults": {
           "arrowcolor": "#2a3f5f",
           "arrowhead": 0,
           "arrowwidth": 1
          },
          "coloraxis": {
           "colorbar": {
            "outlinewidth": 0,
            "ticks": ""
           }
          },
          "colorscale": {
           "diverging": [
            [
             0,
             "#8e0152"
            ],
            [
             0.1,
             "#c51b7d"
            ],
            [
             0.2,
             "#de77ae"
            ],
            [
             0.3,
             "#f1b6da"
            ],
            [
             0.4,
             "#fde0ef"
            ],
            [
             0.5,
             "#f7f7f7"
            ],
            [
             0.6,
             "#e6f5d0"
            ],
            [
             0.7,
             "#b8e186"
            ],
            [
             0.8,
             "#7fbc41"
            ],
            [
             0.9,
             "#4d9221"
            ],
            [
             1,
             "#276419"
            ]
           ],
           "sequential": [
            [
             0,
             "#0d0887"
            ],
            [
             0.1111111111111111,
             "#46039f"
            ],
            [
             0.2222222222222222,
             "#7201a8"
            ],
            [
             0.3333333333333333,
             "#9c179e"
            ],
            [
             0.4444444444444444,
             "#bd3786"
            ],
            [
             0.5555555555555556,
             "#d8576b"
            ],
            [
             0.6666666666666666,
             "#ed7953"
            ],
            [
             0.7777777777777778,
             "#fb9f3a"
            ],
            [
             0.8888888888888888,
             "#fdca26"
            ],
            [
             1,
             "#f0f921"
            ]
           ],
           "sequentialminus": [
            [
             0,
             "#0d0887"
            ],
            [
             0.1111111111111111,
             "#46039f"
            ],
            [
             0.2222222222222222,
             "#7201a8"
            ],
            [
             0.3333333333333333,
             "#9c179e"
            ],
            [
             0.4444444444444444,
             "#bd3786"
            ],
            [
             0.5555555555555556,
             "#d8576b"
            ],
            [
             0.6666666666666666,
             "#ed7953"
            ],
            [
             0.7777777777777778,
             "#fb9f3a"
            ],
            [
             0.8888888888888888,
             "#fdca26"
            ],
            [
             1,
             "#f0f921"
            ]
           ]
          },
          "colorway": [
           "#636efa",
           "#EF553B",
           "#00cc96",
           "#ab63fa",
           "#FFA15A",
           "#19d3f3",
           "#FF6692",
           "#B6E880",
           "#FF97FF",
           "#FECB52"
          ],
          "font": {
           "color": "#2a3f5f"
          },
          "geo": {
           "bgcolor": "white",
           "lakecolor": "white",
           "landcolor": "#E5ECF6",
           "showlakes": true,
           "showland": true,
           "subunitcolor": "white"
          },
          "hoverlabel": {
           "align": "left"
          },
          "hovermode": "closest",
          "mapbox": {
           "style": "light"
          },
          "paper_bgcolor": "white",
          "plot_bgcolor": "#E5ECF6",
          "polar": {
           "angularaxis": {
            "gridcolor": "white",
            "linecolor": "white",
            "ticks": ""
           },
           "bgcolor": "#E5ECF6",
           "radialaxis": {
            "gridcolor": "white",
            "linecolor": "white",
            "ticks": ""
           }
          },
          "scene": {
           "xaxis": {
            "backgroundcolor": "#E5ECF6",
            "gridcolor": "white",
            "gridwidth": 2,
            "linecolor": "white",
            "showbackground": true,
            "ticks": "",
            "zerolinecolor": "white"
           },
           "yaxis": {
            "backgroundcolor": "#E5ECF6",
            "gridcolor": "white",
            "gridwidth": 2,
            "linecolor": "white",
            "showbackground": true,
            "ticks": "",
            "zerolinecolor": "white"
           },
           "zaxis": {
            "backgroundcolor": "#E5ECF6",
            "gridcolor": "white",
            "gridwidth": 2,
            "linecolor": "white",
            "showbackground": true,
            "ticks": "",
            "zerolinecolor": "white"
           }
          },
          "shapedefaults": {
           "line": {
            "color": "#2a3f5f"
           }
          },
          "ternary": {
           "aaxis": {
            "gridcolor": "white",
            "linecolor": "white",
            "ticks": ""
           },
           "baxis": {
            "gridcolor": "white",
            "linecolor": "white",
            "ticks": ""
           },
           "bgcolor": "#E5ECF6",
           "caxis": {
            "gridcolor": "white",
            "linecolor": "white",
            "ticks": ""
           }
          },
          "title": {
           "x": 0.05
          },
          "xaxis": {
           "automargin": true,
           "gridcolor": "white",
           "linecolor": "white",
           "ticks": "",
           "title": {
            "standoff": 15
           },
           "zerolinecolor": "white",
           "zerolinewidth": 2
          },
          "yaxis": {
           "automargin": true,
           "gridcolor": "white",
           "linecolor": "white",
           "ticks": "",
           "title": {
            "standoff": 15
           },
           "zerolinecolor": "white",
           "zerolinewidth": 2
          }
         }
        },
        "title": {
         "text": "従業員数"
        }
       }
      },
      "text/html": [
       "<div>\n",
       "        \n",
       "        \n",
       "            <div id=\"eff15c76-9597-4e94-833d-860fbe17718a\" class=\"plotly-graph-div\" style=\"height:525px; width:100%;\"></div>\n",
       "            <script type=\"text/javascript\">\n",
       "                require([\"plotly\"], function(Plotly) {\n",
       "                    window.PLOTLYENV=window.PLOTLYENV || {};\n",
       "                    \n",
       "                if (document.getElementById(\"eff15c76-9597-4e94-833d-860fbe17718a\")) {\n",
       "                    Plotly.newPlot(\n",
       "                        'eff15c76-9597-4e94-833d-860fbe17718a',\n",
       "                        [{\"branchvalues\": \"total\", \"domain\": {\"x\": [0.0, 1.0], \"y\": [0.0, 1.0]}, \"hovertemplate\": \"labels=%{label}<br>employee_num=%{value}<br>parent=%{parent}<br>id=%{id}<extra></extra>\", \"ids\": [\"\\u98df\\u54c1 /\\u30ad\\u30c3\\u30b3\\u30fc\\u30de\\u30f3\\u682a\\u5f0f\\u4f1a\\u793e\", \"\\u98df\\u54c1 /\\u30b5\\u30c3\\u30dd\\u30ed\\u30db\\u30fc\\u30eb\\u30c7\\u30a3\\u30f3\\u30b0\\u30b9\\u682a\\u5f0f\\u4f1a\\u793e\", \"\\u60c5\\u5831\\u901a\\u4fe1\\u30fb\\u30b5\\u30fc\\u30d3\\u30b9\\u305d\\u306e\\u4ed6 /\\u30bb\\u30f3\\u30c8\\u30e9\\u30eb\\u30b9\\u30dd\\u30fc\\u30c4\\u682a\\u5f0f\\u4f1a\\u793e\", \"\\u60c5\\u5831\\u901a\\u4fe1\\u30fb\\u30b5\\u30fc\\u30d3\\u30b9\\u305d\\u306e\\u4ed6 /\\u30de\\u30fc\\u30af\\u30e9\\u30a4\\u30f3\\u30ba\\u682a\\u5f0f\\u4f1a\\u793e\", \"\\u4e0d\\u52d5\\u7523 /\\u4e09\\u4e95\\u4e0d\\u52d5\\u7523\\u682a\\u5f0f\\u4f1a\\u793e\", \"\\u904b\\u8f38\\u30fb\\u7269\\u6d41 /\\u4e09\\u83f1\\u5009\\u5eab\\u682a\\u5f0f\\u4f1a\\u793e\", \"\\u5546\\u793e\\u30fb\\u5378\\u58f2 /\\u4f0a\\u85e4\\u5fe0\\u5546\\u4e8b\\u682a\\u5f0f\\u4f1a\\u793e\", \"\\u7d20\\u6750\\u30fb\\u5316\\u5b66 /\\u4f4f\\u6c5f\\u7e54\\u7269\\u682a\\u5f0f\\u4f1a\\u793e\", \"\\u9244\\u92fc\\u30fb\\u975e\\u9244 /\\u53e4\\u6cb3\\u96fb\\u6c17\\u5de5\\u696d\\u682a\\u5f0f\\u4f1a\\u793e\", \"\\u5efa\\u8a2d\\u30fb\\u8cc7\\u6750 /\\u5927\\u6210\\u5efa\\u8a2d\\u682a\\u5f0f\\u4f1a\\u793e\", \"\\u7d20\\u6750\\u30fb\\u5316\\u5b66 /\\u5bcc\\u58eb\\u30d5\\u30a4\\u30eb\\u30e0\\u30db\\u30fc\\u30eb\\u30c7\\u30a3\\u30f3\\u30b0\\u30b9\\u682a\\u5f0f\\u4f1a\\u793e\", \"\\u7d20\\u6750\\u30fb\\u5316\\u5b66 /\\u5e1d\\u4eba\\u682a\\u5f0f\\u4f1a\\u793e\", \"\\u904b\\u8f38\\u30fb\\u7269\\u6d41 /\\u65e5\\u672c\\u822a\\u7a7a\\u682a\\u5f0f\\u4f1a\\u793e\", \"\\u98df\\u54c1 /\\u65e5\\u672c\\u88fd\\u7c89\\u682a\\u5f0f\\u4f1a\\u793e\", \"\\u9244\\u92fc\\u30fb\\u975e\\u9244 /\\u65e5\\u672c\\u88fd\\u9244\\u682a\\u5f0f\\u4f1a\\u793e\", \"\\u904b\\u8f38\\u30fb\\u7269\\u6d41 /\\u65e5\\u672c\\u90f5\\u8239\\u682a\\u5f0f\\u4f1a\\u793e\", \"\\u96fb\\u6a5f\\u30fb\\u7cbe\\u5bc6 /\\u65e5\\u672c\\u96fb\\u6c17\\u682a\\u5f0f\\u4f1a\\u793e\", \"\\u81ea\\u52d5\\u8eca\\u30fb\\u8f38\\u9001\\u6a5f /\\u65e5\\u7523\\u81ea\\u52d5\\u8eca\\u682a\\u5f0f\\u4f1a\\u793e\", \"\\u96fb\\u529b\\u30fb\\u30ac\\u30b9 /\\u6771\\u4eac\\u96fb\\u529b\\u30db\\u30fc\\u30eb\\u30c7\\u30a3\\u30f3\\u30b0\\u30b9\\u682a\\u5f0f\\u4f1a\\u793e\", \"\\u904b\\u8f38\\u30fb\\u7269\\u6d41 /\\u6771\\u6b66\\u9244\\u9053\\u682a\\u5f0f\\u4f1a\\u793e\", \"\\u7d20\\u6750\\u30fb\\u5316\\u5b66 /\\u6771\\u6d0b\\u7d21\\u682a\\u5f0f\\u4f1a\\u793e\", \"\\u5efa\\u8a2d\\u30fb\\u8cc7\\u6750 /\\u6771\\u6d0b\\u88fd\\u7f50\\u30b0\\u30eb\\u30fc\\u30d7\\u30db\\u30fc\\u30eb\\u30c7\\u30a3\\u30f3\\u30b0\\u30b9\\u682a\\u5f0f\\u4f1a\\u793e\", \"\\u5efa\\u8a2d\\u30fb\\u8cc7\\u6750 /\\u6771\\u6d77\\u30ab\\u30fc\\u30dc\\u30f3\\u682a\\u5f0f\\u4f1a\\u793e\", \"\\u60c5\\u5831\\u901a\\u4fe1\\u30fb\\u30b5\\u30fc\\u30d3\\u30b9\\u305d\\u306e\\u4ed6 /\\u677e\\u7af9\\u682a\\u5f0f\\u4f1a\\u793e\", \"\\u96fb\\u6a5f\\u30fb\\u7cbe\\u5bc6 /\\u682a\\u5f0f\\u4f1a\\u793e\\u3000\\u5cf6\\u6d25\\u88fd\\u4f5c\\u6240\", \"\\u60c5\\u5831\\u901a\\u4fe1\\u30fb\\u30b5\\u30fc\\u30d3\\u30b9\\u305d\\u306e\\u4ed6 /\\u682a\\u5f0f\\u4f1a\\u793e\\u30a2\\u30df\\u30e5\\u30fc\\u30ba\", \"\\u5efa\\u8a2d\\u30fb\\u8cc7\\u6750 /\\u682a\\u5f0f\\u4f1a\\u793e\\u30a8\\u30e0\\u30d3\\u30fc\\u30a8\\u30b9\", \"\\u6a5f\\u68b0 /\\u682a\\u5f0f\\u4f1a\\u793e\\u30c4\\u30ac\\u30df\", \"\\u5c0f\\u58f2 /\\u682a\\u5f0f\\u4f1a\\u793e\\u30dd\\u30d7\\u30e9\", \"\\u60c5\\u5831\\u901a\\u4fe1\\u30fb\\u30b5\\u30fc\\u30d3\\u30b9\\u305d\\u306e\\u4ed6 /\\u682a\\u5f0f\\u4f1a\\u793e\\u30de\\u30c4\\u30e2\\u30c8\", \"\\u91d1\\u878d\\uff08\\u9664\\u304f\\u9280\\u884c\\uff09 /\\u682a\\u5f0f\\u4f1a\\u793e\\u5927\\u548c\\u8a3c\\u5238\\u30b0\\u30eb\\u30fc\\u30d7\\u672c\\u793e\", \"\\u6a5f\\u68b0 /\\u682a\\u5f0f\\u4f1a\\u793e\\u5c0f\\u677e\\u88fd\\u4f5c\\u6240\", \"\\u96fb\\u6a5f\\u30fb\\u7cbe\\u5bc6 /\\u682a\\u5f0f\\u4f1a\\u793e\\u65e5\\u7acb\\u88fd\\u4f5c\\u6240\", \"\\u60c5\\u5831\\u901a\\u4fe1\\u30fb\\u30b5\\u30fc\\u30d3\\u30b9\\u305d\\u306e\\u4ed6 /\\u682a\\u5f0f\\u4f1a\\u793e\\u6771\\u4eac\\u653e\\u9001\\u30db\\u30fc\\u30eb\\u30c7\\u30a3\\u30f3\\u30b0\\u30b9\", \"\\u60c5\\u5831\\u901a\\u4fe1\\u30fb\\u30b5\\u30fc\\u30d3\\u30b9\\u305d\\u306e\\u4ed6 /\\u682a\\u5f0f\\u4f1a\\u793e\\u6771\\u4eac\\u6703\\u8218\", \"\\u98df\\u54c1 /\\u682a\\u5f0f\\u4f1a\\u793e\\u6975\\u6d0b\", \"\\u81ea\\u52d5\\u8eca\\u30fb\\u8f38\\u9001\\u6a5f /\\u682a\\u5f0f\\u4f1a\\u793e\\u8c4a\\u7530\\u81ea\\u52d5\\u7e54\\u6a5f\", \"\\u7d20\\u6750\\u30fb\\u5316\\u5b66 /\\u682a\\u5f0f\\u4f1a\\u793e\\uff21\\uff24\\uff25\\uff2b\\uff21\", \"\\u5546\\u793e\\u30fb\\u5378\\u58f2 /\\u682a\\u5f0f\\u4f1a\\u793e\\uff27\\uff33\\uff29\\u30af\\u30ec\\u30aa\\u30b9\", \"\\u98df\\u54c1 /\\u68ee\\u6c38\\u88fd\\u83d3\\u682a\\u5f0f\\u4f1a\\u793e\", \"\\u81ea\\u52d5\\u8eca\\u30fb\\u8f38\\u9001\\u6a5f /\\u6a2a\\u6d5c\\u30b4\\u30e0\\u682a\\u5f0f\\u4f1a\\u793e\", \"\\u96fb\\u6a5f\\u30fb\\u7cbe\\u5bc6 /\\u6fa4\\u85e4\\u96fb\\u6a5f\\u682a\\u5f0f\\u4f1a\\u793e\", \"\\u7d20\\u6750\\u30fb\\u5316\\u5b66 /\\u7247\\u5009\\u5de5\\u696d\\u682a\\u5f0f\\u4f1a\\u793e\", \"\\u98df\\u54c1 /\\u77f3\\u57a3\\u98df\\u54c1\\u682a\\u5f0f\\u4f1a\\u793e\", \"\\u5efa\\u8a2d\\u30fb\\u8cc7\\u6750 /\\uff21\\uff27\\uff23\\u682a\\u5f0f\\u4f1a\\u793e\", \"\\u4e0d\\u52d5\\u7523 \", \"\\u5546\\u793e\\u30fb\\u5378\\u58f2 \", \"\\u5c0f\\u58f2 \", \"\\u5efa\\u8a2d\\u30fb\\u8cc7\\u6750 \", \"\\u60c5\\u5831\\u901a\\u4fe1\\u30fb\\u30b5\\u30fc\\u30d3\\u30b9\\u305d\\u306e\\u4ed6 \", \"\\u6a5f\\u68b0 \", \"\\u7d20\\u6750\\u30fb\\u5316\\u5b66 \", \"\\u81ea\\u52d5\\u8eca\\u30fb\\u8f38\\u9001\\u6a5f \", \"\\u904b\\u8f38\\u30fb\\u7269\\u6d41 \", \"\\u91d1\\u878d\\uff08\\u9664\\u304f\\u9280\\u884c\\uff09 \", \"\\u9244\\u92fc\\u30fb\\u975e\\u9244 \", \"\\u96fb\\u529b\\u30fb\\u30ac\\u30b9 \", \"\\u96fb\\u6a5f\\u30fb\\u7cbe\\u5bc6 \", \"\\u98df\\u54c1 \"], \"labels\": [\"\\u30ad\\u30c3\\u30b3\\u30fc\\u30de\\u30f3\\u682a\\u5f0f\\u4f1a\\u793e\", \"\\u30b5\\u30c3\\u30dd\\u30ed\\u30db\\u30fc\\u30eb\\u30c7\\u30a3\\u30f3\\u30b0\\u30b9\\u682a\\u5f0f\\u4f1a\\u793e\", \"\\u30bb\\u30f3\\u30c8\\u30e9\\u30eb\\u30b9\\u30dd\\u30fc\\u30c4\\u682a\\u5f0f\\u4f1a\\u793e\", \"\\u30de\\u30fc\\u30af\\u30e9\\u30a4\\u30f3\\u30ba\\u682a\\u5f0f\\u4f1a\\u793e\", \"\\u4e09\\u4e95\\u4e0d\\u52d5\\u7523\\u682a\\u5f0f\\u4f1a\\u793e\", \"\\u4e09\\u83f1\\u5009\\u5eab\\u682a\\u5f0f\\u4f1a\\u793e\", \"\\u4f0a\\u85e4\\u5fe0\\u5546\\u4e8b\\u682a\\u5f0f\\u4f1a\\u793e\", \"\\u4f4f\\u6c5f\\u7e54\\u7269\\u682a\\u5f0f\\u4f1a\\u793e\", \"\\u53e4\\u6cb3\\u96fb\\u6c17\\u5de5\\u696d\\u682a\\u5f0f\\u4f1a\\u793e\", \"\\u5927\\u6210\\u5efa\\u8a2d\\u682a\\u5f0f\\u4f1a\\u793e\", \"\\u5bcc\\u58eb\\u30d5\\u30a4\\u30eb\\u30e0\\u30db\\u30fc\\u30eb\\u30c7\\u30a3\\u30f3\\u30b0\\u30b9\\u682a\\u5f0f\\u4f1a\\u793e\", \"\\u5e1d\\u4eba\\u682a\\u5f0f\\u4f1a\\u793e\", \"\\u65e5\\u672c\\u822a\\u7a7a\\u682a\\u5f0f\\u4f1a\\u793e\", \"\\u65e5\\u672c\\u88fd\\u7c89\\u682a\\u5f0f\\u4f1a\\u793e\", \"\\u65e5\\u672c\\u88fd\\u9244\\u682a\\u5f0f\\u4f1a\\u793e\", \"\\u65e5\\u672c\\u90f5\\u8239\\u682a\\u5f0f\\u4f1a\\u793e\", \"\\u65e5\\u672c\\u96fb\\u6c17\\u682a\\u5f0f\\u4f1a\\u793e\", \"\\u65e5\\u7523\\u81ea\\u52d5\\u8eca\\u682a\\u5f0f\\u4f1a\\u793e\", \"\\u6771\\u4eac\\u96fb\\u529b\\u30db\\u30fc\\u30eb\\u30c7\\u30a3\\u30f3\\u30b0\\u30b9\\u682a\\u5f0f\\u4f1a\\u793e\", \"\\u6771\\u6b66\\u9244\\u9053\\u682a\\u5f0f\\u4f1a\\u793e\", \"\\u6771\\u6d0b\\u7d21\\u682a\\u5f0f\\u4f1a\\u793e\", \"\\u6771\\u6d0b\\u88fd\\u7f50\\u30b0\\u30eb\\u30fc\\u30d7\\u30db\\u30fc\\u30eb\\u30c7\\u30a3\\u30f3\\u30b0\\u30b9\\u682a\\u5f0f\\u4f1a\\u793e\", \"\\u6771\\u6d77\\u30ab\\u30fc\\u30dc\\u30f3\\u682a\\u5f0f\\u4f1a\\u793e\", \"\\u677e\\u7af9\\u682a\\u5f0f\\u4f1a\\u793e\", \"\\u682a\\u5f0f\\u4f1a\\u793e\\u3000\\u5cf6\\u6d25\\u88fd\\u4f5c\\u6240\", \"\\u682a\\u5f0f\\u4f1a\\u793e\\u30a2\\u30df\\u30e5\\u30fc\\u30ba\", \"\\u682a\\u5f0f\\u4f1a\\u793e\\u30a8\\u30e0\\u30d3\\u30fc\\u30a8\\u30b9\", \"\\u682a\\u5f0f\\u4f1a\\u793e\\u30c4\\u30ac\\u30df\", \"\\u682a\\u5f0f\\u4f1a\\u793e\\u30dd\\u30d7\\u30e9\", \"\\u682a\\u5f0f\\u4f1a\\u793e\\u30de\\u30c4\\u30e2\\u30c8\", \"\\u682a\\u5f0f\\u4f1a\\u793e\\u5927\\u548c\\u8a3c\\u5238\\u30b0\\u30eb\\u30fc\\u30d7\\u672c\\u793e\", \"\\u682a\\u5f0f\\u4f1a\\u793e\\u5c0f\\u677e\\u88fd\\u4f5c\\u6240\", \"\\u682a\\u5f0f\\u4f1a\\u793e\\u65e5\\u7acb\\u88fd\\u4f5c\\u6240\", \"\\u682a\\u5f0f\\u4f1a\\u793e\\u6771\\u4eac\\u653e\\u9001\\u30db\\u30fc\\u30eb\\u30c7\\u30a3\\u30f3\\u30b0\\u30b9\", \"\\u682a\\u5f0f\\u4f1a\\u793e\\u6771\\u4eac\\u6703\\u8218\", \"\\u682a\\u5f0f\\u4f1a\\u793e\\u6975\\u6d0b\", \"\\u682a\\u5f0f\\u4f1a\\u793e\\u8c4a\\u7530\\u81ea\\u52d5\\u7e54\\u6a5f\", \"\\u682a\\u5f0f\\u4f1a\\u793e\\uff21\\uff24\\uff25\\uff2b\\uff21\", \"\\u682a\\u5f0f\\u4f1a\\u793e\\uff27\\uff33\\uff29\\u30af\\u30ec\\u30aa\\u30b9\", \"\\u68ee\\u6c38\\u88fd\\u83d3\\u682a\\u5f0f\\u4f1a\\u793e\", \"\\u6a2a\\u6d5c\\u30b4\\u30e0\\u682a\\u5f0f\\u4f1a\\u793e\", \"\\u6fa4\\u85e4\\u96fb\\u6a5f\\u682a\\u5f0f\\u4f1a\\u793e\", \"\\u7247\\u5009\\u5de5\\u696d\\u682a\\u5f0f\\u4f1a\\u793e\", \"\\u77f3\\u57a3\\u98df\\u54c1\\u682a\\u5f0f\\u4f1a\\u793e\", \"\\uff21\\uff27\\uff23\\u682a\\u5f0f\\u4f1a\\u793e\", \"\\u4e0d\\u52d5\\u7523 \", \"\\u5546\\u793e\\u30fb\\u5378\\u58f2 \", \"\\u5c0f\\u58f2 \", \"\\u5efa\\u8a2d\\u30fb\\u8cc7\\u6750 \", \"\\u60c5\\u5831\\u901a\\u4fe1\\u30fb\\u30b5\\u30fc\\u30d3\\u30b9\\u305d\\u306e\\u4ed6 \", \"\\u6a5f\\u68b0 \", \"\\u7d20\\u6750\\u30fb\\u5316\\u5b66 \", \"\\u81ea\\u52d5\\u8eca\\u30fb\\u8f38\\u9001\\u6a5f \", \"\\u904b\\u8f38\\u30fb\\u7269\\u6d41 \", \"\\u91d1\\u878d\\uff08\\u9664\\u304f\\u9280\\u884c\\uff09 \", \"\\u9244\\u92fc\\u30fb\\u975e\\u9244 \", \"\\u96fb\\u529b\\u30fb\\u30ac\\u30b9 \", \"\\u96fb\\u6a5f\\u30fb\\u7cbe\\u5bc6 \", \"\\u98df\\u54c1 \"], \"name\": \"\", \"parents\": [\"\\u98df\\u54c1 \", \"\\u98df\\u54c1 \", \"\\u60c5\\u5831\\u901a\\u4fe1\\u30fb\\u30b5\\u30fc\\u30d3\\u30b9\\u305d\\u306e\\u4ed6 \", \"\\u60c5\\u5831\\u901a\\u4fe1\\u30fb\\u30b5\\u30fc\\u30d3\\u30b9\\u305d\\u306e\\u4ed6 \", \"\\u4e0d\\u52d5\\u7523 \", \"\\u904b\\u8f38\\u30fb\\u7269\\u6d41 \", \"\\u5546\\u793e\\u30fb\\u5378\\u58f2 \", \"\\u7d20\\u6750\\u30fb\\u5316\\u5b66 \", \"\\u9244\\u92fc\\u30fb\\u975e\\u9244 \", \"\\u5efa\\u8a2d\\u30fb\\u8cc7\\u6750 \", \"\\u7d20\\u6750\\u30fb\\u5316\\u5b66 \", \"\\u7d20\\u6750\\u30fb\\u5316\\u5b66 \", \"\\u904b\\u8f38\\u30fb\\u7269\\u6d41 \", \"\\u98df\\u54c1 \", \"\\u9244\\u92fc\\u30fb\\u975e\\u9244 \", \"\\u904b\\u8f38\\u30fb\\u7269\\u6d41 \", \"\\u96fb\\u6a5f\\u30fb\\u7cbe\\u5bc6 \", \"\\u81ea\\u52d5\\u8eca\\u30fb\\u8f38\\u9001\\u6a5f \", \"\\u96fb\\u529b\\u30fb\\u30ac\\u30b9 \", \"\\u904b\\u8f38\\u30fb\\u7269\\u6d41 \", \"\\u7d20\\u6750\\u30fb\\u5316\\u5b66 \", \"\\u5efa\\u8a2d\\u30fb\\u8cc7\\u6750 \", \"\\u5efa\\u8a2d\\u30fb\\u8cc7\\u6750 \", \"\\u60c5\\u5831\\u901a\\u4fe1\\u30fb\\u30b5\\u30fc\\u30d3\\u30b9\\u305d\\u306e\\u4ed6 \", \"\\u96fb\\u6a5f\\u30fb\\u7cbe\\u5bc6 \", \"\\u60c5\\u5831\\u901a\\u4fe1\\u30fb\\u30b5\\u30fc\\u30d3\\u30b9\\u305d\\u306e\\u4ed6 \", \"\\u5efa\\u8a2d\\u30fb\\u8cc7\\u6750 \", \"\\u6a5f\\u68b0 \", \"\\u5c0f\\u58f2 \", \"\\u60c5\\u5831\\u901a\\u4fe1\\u30fb\\u30b5\\u30fc\\u30d3\\u30b9\\u305d\\u306e\\u4ed6 \", \"\\u91d1\\u878d\\uff08\\u9664\\u304f\\u9280\\u884c\\uff09 \", \"\\u6a5f\\u68b0 \", \"\\u96fb\\u6a5f\\u30fb\\u7cbe\\u5bc6 \", \"\\u60c5\\u5831\\u901a\\u4fe1\\u30fb\\u30b5\\u30fc\\u30d3\\u30b9\\u305d\\u306e\\u4ed6 \", \"\\u60c5\\u5831\\u901a\\u4fe1\\u30fb\\u30b5\\u30fc\\u30d3\\u30b9\\u305d\\u306e\\u4ed6 \", \"\\u98df\\u54c1 \", \"\\u81ea\\u52d5\\u8eca\\u30fb\\u8f38\\u9001\\u6a5f \", \"\\u7d20\\u6750\\u30fb\\u5316\\u5b66 \", \"\\u5546\\u793e\\u30fb\\u5378\\u58f2 \", \"\\u98df\\u54c1 \", \"\\u81ea\\u52d5\\u8eca\\u30fb\\u8f38\\u9001\\u6a5f \", \"\\u96fb\\u6a5f\\u30fb\\u7cbe\\u5bc6 \", \"\\u7d20\\u6750\\u30fb\\u5316\\u5b66 \", \"\\u98df\\u54c1 \", \"\\u5efa\\u8a2d\\u30fb\\u8cc7\\u6750 \", \"\", \"\", \"\", \"\", \"\", \"\", \"\", \"\", \"\", \"\", \"\", \"\", \"\", \"\"], \"type\": \"treemap\", \"values\": [7376.0, 7736.0, 1144.0, 103.0, 20864.0, 4625.0, 128146.0, 2822.0, 50232.0, 14562.0, 73906.0, 20075.0, 35653.0, 3737.0, 106599.0, 34857.0, 112638.0, 136134.0, 37892.0, 20112.0, 10073.0, 19307.0, 3714.0, 1363.0, 13182.0, 499.0, 101.0, 2223.0, 335.0, 201.0, 15320.0, 62823.0, 301056.0, 6155.0, 533.0, 2307.0, 66478.0, 5189.0, 656.0, 2711.0, 27428.0, 891.0, 1169.0, 78.0, 55598.0, 20864.0, 128802.0, 335.0, 93282.0, 9998.0, 65046.0, 113234.0, 230040.0, 95247.0, 15320.0, 156831.0, 37892.0, 427767.0, 23945.0]}],\n",
       "                        {\"legend\": {\"tracegroupgap\": 0}, \"template\": {\"data\": {\"bar\": [{\"error_x\": {\"color\": \"#2a3f5f\"}, \"error_y\": {\"color\": \"#2a3f5f\"}, \"marker\": {\"line\": {\"color\": \"#E5ECF6\", \"width\": 0.5}}, \"type\": \"bar\"}], \"barpolar\": [{\"marker\": {\"line\": {\"color\": \"#E5ECF6\", \"width\": 0.5}}, \"type\": \"barpolar\"}], \"carpet\": [{\"aaxis\": {\"endlinecolor\": \"#2a3f5f\", \"gridcolor\": \"white\", \"linecolor\": \"white\", \"minorgridcolor\": \"white\", \"startlinecolor\": \"#2a3f5f\"}, \"baxis\": {\"endlinecolor\": \"#2a3f5f\", \"gridcolor\": \"white\", \"linecolor\": \"white\", \"minorgridcolor\": \"white\", \"startlinecolor\": \"#2a3f5f\"}, \"type\": \"carpet\"}], \"choropleth\": [{\"colorbar\": {\"outlinewidth\": 0, \"ticks\": \"\"}, \"type\": \"choropleth\"}], \"contour\": [{\"colorbar\": {\"outlinewidth\": 0, \"ticks\": \"\"}, \"colorscale\": [[0.0, \"#0d0887\"], [0.1111111111111111, \"#46039f\"], [0.2222222222222222, \"#7201a8\"], [0.3333333333333333, \"#9c179e\"], [0.4444444444444444, \"#bd3786\"], [0.5555555555555556, \"#d8576b\"], [0.6666666666666666, \"#ed7953\"], [0.7777777777777778, \"#fb9f3a\"], [0.8888888888888888, \"#fdca26\"], [1.0, \"#f0f921\"]], \"type\": \"contour\"}], \"contourcarpet\": [{\"colorbar\": {\"outlinewidth\": 0, \"ticks\": \"\"}, \"type\": \"contourcarpet\"}], \"heatmap\": [{\"colorbar\": {\"outlinewidth\": 0, \"ticks\": \"\"}, \"colorscale\": [[0.0, \"#0d0887\"], [0.1111111111111111, \"#46039f\"], [0.2222222222222222, \"#7201a8\"], [0.3333333333333333, \"#9c179e\"], [0.4444444444444444, \"#bd3786\"], [0.5555555555555556, \"#d8576b\"], [0.6666666666666666, \"#ed7953\"], [0.7777777777777778, \"#fb9f3a\"], [0.8888888888888888, \"#fdca26\"], [1.0, \"#f0f921\"]], \"type\": \"heatmap\"}], \"heatmapgl\": [{\"colorbar\": {\"outlinewidth\": 0, \"ticks\": \"\"}, \"colorscale\": [[0.0, \"#0d0887\"], [0.1111111111111111, \"#46039f\"], [0.2222222222222222, \"#7201a8\"], [0.3333333333333333, \"#9c179e\"], [0.4444444444444444, \"#bd3786\"], [0.5555555555555556, \"#d8576b\"], [0.6666666666666666, \"#ed7953\"], [0.7777777777777778, \"#fb9f3a\"], [0.8888888888888888, \"#fdca26\"], [1.0, \"#f0f921\"]], \"type\": \"heatmapgl\"}], \"histogram\": [{\"marker\": {\"colorbar\": {\"outlinewidth\": 0, \"ticks\": \"\"}}, \"type\": \"histogram\"}], \"histogram2d\": [{\"colorbar\": {\"outlinewidth\": 0, \"ticks\": \"\"}, \"colorscale\": [[0.0, \"#0d0887\"], [0.1111111111111111, \"#46039f\"], [0.2222222222222222, \"#7201a8\"], [0.3333333333333333, \"#9c179e\"], [0.4444444444444444, \"#bd3786\"], [0.5555555555555556, \"#d8576b\"], [0.6666666666666666, \"#ed7953\"], [0.7777777777777778, \"#fb9f3a\"], [0.8888888888888888, \"#fdca26\"], [1.0, \"#f0f921\"]], \"type\": \"histogram2d\"}], \"histogram2dcontour\": [{\"colorbar\": {\"outlinewidth\": 0, \"ticks\": \"\"}, \"colorscale\": [[0.0, \"#0d0887\"], [0.1111111111111111, \"#46039f\"], [0.2222222222222222, \"#7201a8\"], [0.3333333333333333, \"#9c179e\"], [0.4444444444444444, \"#bd3786\"], [0.5555555555555556, \"#d8576b\"], [0.6666666666666666, \"#ed7953\"], [0.7777777777777778, \"#fb9f3a\"], [0.8888888888888888, \"#fdca26\"], [1.0, \"#f0f921\"]], \"type\": \"histogram2dcontour\"}], \"mesh3d\": [{\"colorbar\": {\"outlinewidth\": 0, \"ticks\": \"\"}, \"type\": \"mesh3d\"}], \"parcoords\": [{\"line\": {\"colorbar\": {\"outlinewidth\": 0, \"ticks\": \"\"}}, \"type\": \"parcoords\"}], \"pie\": [{\"automargin\": true, \"type\": \"pie\"}], \"scatter\": [{\"marker\": {\"colorbar\": {\"outlinewidth\": 0, \"ticks\": \"\"}}, \"type\": \"scatter\"}], \"scatter3d\": [{\"line\": {\"colorbar\": {\"outlinewidth\": 0, \"ticks\": \"\"}}, \"marker\": {\"colorbar\": {\"outlinewidth\": 0, \"ticks\": \"\"}}, \"type\": \"scatter3d\"}], \"scattercarpet\": [{\"marker\": {\"colorbar\": {\"outlinewidth\": 0, \"ticks\": \"\"}}, \"type\": \"scattercarpet\"}], \"scattergeo\": [{\"marker\": {\"colorbar\": {\"outlinewidth\": 0, \"ticks\": \"\"}}, \"type\": \"scattergeo\"}], \"scattergl\": [{\"marker\": {\"colorbar\": {\"outlinewidth\": 0, \"ticks\": \"\"}}, \"type\": \"scattergl\"}], \"scattermapbox\": [{\"marker\": {\"colorbar\": {\"outlinewidth\": 0, \"ticks\": \"\"}}, \"type\": \"scattermapbox\"}], \"scatterpolar\": [{\"marker\": {\"colorbar\": {\"outlinewidth\": 0, \"ticks\": \"\"}}, \"type\": \"scatterpolar\"}], \"scatterpolargl\": [{\"marker\": {\"colorbar\": {\"outlinewidth\": 0, \"ticks\": \"\"}}, \"type\": \"scatterpolargl\"}], \"scatterternary\": [{\"marker\": {\"colorbar\": {\"outlinewidth\": 0, \"ticks\": \"\"}}, \"type\": \"scatterternary\"}], \"surface\": [{\"colorbar\": {\"outlinewidth\": 0, \"ticks\": \"\"}, \"colorscale\": [[0.0, \"#0d0887\"], [0.1111111111111111, \"#46039f\"], [0.2222222222222222, \"#7201a8\"], [0.3333333333333333, \"#9c179e\"], [0.4444444444444444, \"#bd3786\"], [0.5555555555555556, \"#d8576b\"], [0.6666666666666666, \"#ed7953\"], [0.7777777777777778, \"#fb9f3a\"], [0.8888888888888888, \"#fdca26\"], [1.0, \"#f0f921\"]], \"type\": \"surface\"}], \"table\": [{\"cells\": {\"fill\": {\"color\": \"#EBF0F8\"}, \"line\": {\"color\": \"white\"}}, \"header\": {\"fill\": {\"color\": \"#C8D4E3\"}, \"line\": {\"color\": \"white\"}}, \"type\": \"table\"}]}, \"layout\": {\"annotationdefaults\": {\"arrowcolor\": \"#2a3f5f\", \"arrowhead\": 0, \"arrowwidth\": 1}, \"coloraxis\": {\"colorbar\": {\"outlinewidth\": 0, \"ticks\": \"\"}}, \"colorscale\": {\"diverging\": [[0, \"#8e0152\"], [0.1, \"#c51b7d\"], [0.2, \"#de77ae\"], [0.3, \"#f1b6da\"], [0.4, \"#fde0ef\"], [0.5, \"#f7f7f7\"], [0.6, \"#e6f5d0\"], [0.7, \"#b8e186\"], [0.8, \"#7fbc41\"], [0.9, \"#4d9221\"], [1, \"#276419\"]], \"sequential\": [[0.0, \"#0d0887\"], [0.1111111111111111, \"#46039f\"], [0.2222222222222222, \"#7201a8\"], [0.3333333333333333, \"#9c179e\"], [0.4444444444444444, \"#bd3786\"], [0.5555555555555556, \"#d8576b\"], [0.6666666666666666, \"#ed7953\"], [0.7777777777777778, \"#fb9f3a\"], [0.8888888888888888, \"#fdca26\"], [1.0, \"#f0f921\"]], \"sequentialminus\": [[0.0, \"#0d0887\"], [0.1111111111111111, \"#46039f\"], [0.2222222222222222, \"#7201a8\"], [0.3333333333333333, \"#9c179e\"], [0.4444444444444444, \"#bd3786\"], [0.5555555555555556, \"#d8576b\"], [0.6666666666666666, \"#ed7953\"], [0.7777777777777778, \"#fb9f3a\"], [0.8888888888888888, \"#fdca26\"], [1.0, \"#f0f921\"]]}, \"colorway\": [\"#636efa\", \"#EF553B\", \"#00cc96\", \"#ab63fa\", \"#FFA15A\", \"#19d3f3\", \"#FF6692\", \"#B6E880\", \"#FF97FF\", \"#FECB52\"], \"font\": {\"color\": \"#2a3f5f\"}, \"geo\": {\"bgcolor\": \"white\", \"lakecolor\": \"white\", \"landcolor\": \"#E5ECF6\", \"showlakes\": true, \"showland\": true, \"subunitcolor\": \"white\"}, \"hoverlabel\": {\"align\": \"left\"}, \"hovermode\": \"closest\", \"mapbox\": {\"style\": \"light\"}, \"paper_bgcolor\": \"white\", \"plot_bgcolor\": \"#E5ECF6\", \"polar\": {\"angularaxis\": {\"gridcolor\": \"white\", \"linecolor\": \"white\", \"ticks\": \"\"}, \"bgcolor\": \"#E5ECF6\", \"radialaxis\": {\"gridcolor\": \"white\", \"linecolor\": \"white\", \"ticks\": \"\"}}, \"scene\": {\"xaxis\": {\"backgroundcolor\": \"#E5ECF6\", \"gridcolor\": \"white\", \"gridwidth\": 2, \"linecolor\": \"white\", \"showbackground\": true, \"ticks\": \"\", \"zerolinecolor\": \"white\"}, \"yaxis\": {\"backgroundcolor\": \"#E5ECF6\", \"gridcolor\": \"white\", \"gridwidth\": 2, \"linecolor\": \"white\", \"showbackground\": true, \"ticks\": \"\", \"zerolinecolor\": \"white\"}, \"zaxis\": {\"backgroundcolor\": \"#E5ECF6\", \"gridcolor\": \"white\", \"gridwidth\": 2, \"linecolor\": \"white\", \"showbackground\": true, \"ticks\": \"\", \"zerolinecolor\": \"white\"}}, \"shapedefaults\": {\"line\": {\"color\": \"#2a3f5f\"}}, \"ternary\": {\"aaxis\": {\"gridcolor\": \"white\", \"linecolor\": \"white\", \"ticks\": \"\"}, \"baxis\": {\"gridcolor\": \"white\", \"linecolor\": \"white\", \"ticks\": \"\"}, \"bgcolor\": \"#E5ECF6\", \"caxis\": {\"gridcolor\": \"white\", \"linecolor\": \"white\", \"ticks\": \"\"}}, \"title\": {\"x\": 0.05}, \"xaxis\": {\"automargin\": true, \"gridcolor\": \"white\", \"linecolor\": \"white\", \"ticks\": \"\", \"title\": {\"standoff\": 15}, \"zerolinecolor\": \"white\", \"zerolinewidth\": 2}, \"yaxis\": {\"automargin\": true, \"gridcolor\": \"white\", \"linecolor\": \"white\", \"ticks\": \"\", \"title\": {\"standoff\": 15}, \"zerolinecolor\": \"white\", \"zerolinewidth\": 2}}}, \"title\": {\"text\": \"\\u5f93\\u696d\\u54e1\\u6570\"}},\n",
       "                        {\"responsive\": true}\n",
       "                    ).then(function(){\n",
       "                            \n",
       "var gd = document.getElementById('eff15c76-9597-4e94-833d-860fbe17718a');\n",
       "var x = new MutationObserver(function (mutations, observer) {{\n",
       "        var display = window.getComputedStyle(gd).display;\n",
       "        if (!display || display === 'none') {{\n",
       "            console.log([gd, 'removed!']);\n",
       "            Plotly.purge(gd);\n",
       "            observer.disconnect();\n",
       "        }}\n",
       "}});\n",
       "\n",
       "// Listen for the removal of the full notebook cells\n",
       "var notebookContainer = gd.closest('#notebook-container');\n",
       "if (notebookContainer) {{\n",
       "    x.observe(notebookContainer, {childList: true});\n",
       "}}\n",
       "\n",
       "// Listen for the clearing of the current output cell\n",
       "var outputEl = gd.closest('.output');\n",
       "if (outputEl) {{\n",
       "    x.observe(outputEl, {childList: true});\n",
       "}}\n",
       "\n",
       "                        })\n",
       "                };\n",
       "                });\n",
       "            </script>\n",
       "        </div>"
      ]
     },
     "metadata": {},
     "output_type": "display_data"
    }
   ],
   "source": [
    "import plotly_express as px\n",
    "\n",
    "px.treemap(\n",
    "    groupby_fyq.get_group(\"2019Q4\"),\n",
    "    path=[\"17業種区分\", \"company_name\"],\n",
    "    values=\"employee_num\",\n",
    "    title=\"従業員数\",\n",
    ")"
   ]
  },
  {
   "cell_type": "code",
   "execution_count": 9,
   "metadata": {},
   "outputs": [
    {
     "data": {
      "application/vnd.plotly.v1+json": {
       "config": {
        "plotlyServerURL": "https://plot.ly"
       },
       "data": [
        {
         "branchvalues": "total",
         "domain": {
          "x": [
           0,
           1
          ],
          "y": [
           0,
           1
          ]
         },
         "hovertemplate": "labels=%{label}<br>net_sales=%{value}<br>parent=%{parent}<br>id=%{id}<extra></extra>",
         "ids": [
          "食品 /キッコーマン株式会社",
          "食品 /サッポロホールディングス株式会社",
          "情報通信・サービスその他 /セントラルスポーツ株式会社",
          "情報通信・サービスその他 /マークラインズ株式会社",
          "不動産 /三井不動産株式会社",
          "運輸・物流 /三菱倉庫株式会社",
          "商社・卸売 /伊藤忠商事株式会社",
          "素材・化学 /住江織物株式会社",
          "鉄鋼・非鉄 /古河電気工業株式会社",
          "建設・資材 /大成建設株式会社",
          "素材・化学 /富士フイルムホールディングス株式会社",
          "素材・化学 /帝人株式会社",
          "運輸・物流 /日本航空株式会社",
          "食品 /日本製粉株式会社",
          "鉄鋼・非鉄 /日本製鉄株式会社",
          "運輸・物流 /日本郵船株式会社",
          "電機・精密 /日本電気株式会社",
          "自動車・輸送機 /日産自動車株式会社",
          "電力・ガス /東京電力ホールディングス株式会社",
          "運輸・物流 /東武鉄道株式会社",
          "素材・化学 /東洋紡株式会社",
          "建設・資材 /東洋製罐グループホールディングス株式会社",
          "建設・資材 /東海カーボン株式会社",
          "情報通信・サービスその他 /松竹株式会社",
          "電機・精密 /株式会社　島津製作所",
          "情報通信・サービスその他 /株式会社アミューズ",
          "建設・資材 /株式会社エムビーエス",
          "機械 /株式会社ツガミ",
          "小売 /株式会社ポプラ",
          "情報通信・サービスその他 /株式会社マツモト",
          "金融（除く銀行） /株式会社大和証券グループ本社",
          "機械 /株式会社小松製作所",
          "電機・精密 /株式会社日立製作所",
          "情報通信・サービスその他 /株式会社東京放送ホールディングス",
          "情報通信・サービスその他 /株式会社東京會舘",
          "食品 /株式会社極洋",
          "自動車・輸送機 /株式会社豊田自動織機",
          "素材・化学 /株式会社ＡＤＥＫＡ",
          "商社・卸売 /株式会社ＧＳＩクレオス",
          "食品 /森永製菓株式会社",
          "自動車・輸送機 /横浜ゴム株式会社",
          "電機・精密 /澤藤電機株式会社",
          "素材・化学 /片倉工業株式会社",
          "食品 /石垣食品株式会社",
          "建設・資材 /ＡＧＣ株式会社",
          "不動産 ",
          "商社・卸売 ",
          "小売 ",
          "建設・資材 ",
          "情報通信・サービスその他 ",
          "機械 ",
          "素材・化学 ",
          "自動車・輸送機 ",
          "運輸・物流 ",
          "金融（除く銀行） ",
          "鉄鋼・非鉄 ",
          "電力・ガス ",
          "電機・精密 ",
          "食品 "
         ],
         "labels": [
          "キッコーマン株式会社",
          "サッポロホールディングス株式会社",
          "セントラルスポーツ株式会社",
          "マークラインズ株式会社",
          "三井不動産株式会社",
          "三菱倉庫株式会社",
          "伊藤忠商事株式会社",
          "住江織物株式会社",
          "古河電気工業株式会社",
          "大成建設株式会社",
          "富士フイルムホールディングス株式会社",
          "帝人株式会社",
          "日本航空株式会社",
          "日本製粉株式会社",
          "日本製鉄株式会社",
          "日本郵船株式会社",
          "日本電気株式会社",
          "日産自動車株式会社",
          "東京電力ホールディングス株式会社",
          "東武鉄道株式会社",
          "東洋紡株式会社",
          "東洋製罐グループホールディングス株式会社",
          "東海カーボン株式会社",
          "松竹株式会社",
          "株式会社　島津製作所",
          "株式会社アミューズ",
          "株式会社エムビーエス",
          "株式会社ツガミ",
          "株式会社ポプラ",
          "株式会社マツモト",
          "株式会社大和証券グループ本社",
          "株式会社小松製作所",
          "株式会社日立製作所",
          "株式会社東京放送ホールディングス",
          "株式会社東京會舘",
          "株式会社極洋",
          "株式会社豊田自動織機",
          "株式会社ＡＤＥＫＡ",
          "株式会社ＧＳＩクレオス",
          "森永製菓株式会社",
          "横浜ゴム株式会社",
          "澤藤電機株式会社",
          "片倉工業株式会社",
          "石垣食品株式会社",
          "ＡＧＣ株式会社",
          "不動産 ",
          "商社・卸売 ",
          "小売 ",
          "建設・資材 ",
          "情報通信・サービスその他 ",
          "機械 ",
          "素材・化学 ",
          "自動車・輸送機 ",
          "運輸・物流 ",
          "金融（除く銀行） ",
          "鉄鋼・非鉄 ",
          "電力・ガス ",
          "電機・精密 ",
          "食品 "
         ],
         "name": "",
         "parents": [
          "食品 ",
          "食品 ",
          "情報通信・サービスその他 ",
          "情報通信・サービスその他 ",
          "不動産 ",
          "運輸・物流 ",
          "商社・卸売 ",
          "素材・化学 ",
          "鉄鋼・非鉄 ",
          "建設・資材 ",
          "素材・化学 ",
          "素材・化学 ",
          "運輸・物流 ",
          "食品 ",
          "鉄鋼・非鉄 ",
          "運輸・物流 ",
          "電機・精密 ",
          "自動車・輸送機 ",
          "電力・ガス ",
          "運輸・物流 ",
          "素材・化学 ",
          "建設・資材 ",
          "建設・資材 ",
          "情報通信・サービスその他 ",
          "電機・精密 ",
          "情報通信・サービスその他 ",
          "建設・資材 ",
          "機械 ",
          "小売 ",
          "情報通信・サービスその他 ",
          "金融（除く銀行） ",
          "機械 ",
          "電機・精密 ",
          "情報通信・サービスその他 ",
          "情報通信・サービスその他 ",
          "食品 ",
          "自動車・輸送機 ",
          "素材・化学 ",
          "商社・卸売 ",
          "食品 ",
          "自動車・輸送機 ",
          "電機・精密 ",
          "素材・化学 ",
          "食品 ",
          "建設・資材 ",
          "",
          "",
          "",
          "",
          "",
          "",
          "",
          "",
          "",
          "",
          "",
          "",
          "",
          ""
         ],
         "type": "treemap",
         "values": [
          468616000000,
          491896000000,
          53386000000,
          2380655000,
          1905642000000,
          229057000000,
          10982968000000,
          91512000000,
          914439000000,
          1751330000000,
          2315141000000,
          853746000000,
          1411230000000,
          344839000000,
          5921525000000,
          1668355000000,
          3095234000000,
          9878866000000,
          6241422000000,
          653874000000,
          339607000000,
          790814000000,
          262028000000,
          97479000000,
          385443000000,
          58806000000,
          3345618000,
          49310000000,
          25370179000,
          2818992000,
          672287000000,
          2444870000000,
          8767263000000,
          356796000000,
          11504107000,
          262519000000,
          2171355000000,
          304131000000,
          115548000000,
          208878000000,
          650462000000,
          29995000000,
          44043000000,
          2627670000,
          1518039000000,
          1905642000000,
          11098516000000,
          25370179000,
          4325556618000,
          583170754000,
          2494180000000,
          3948180000000,
          12700683000000,
          3962516000000,
          672287000000,
          6835964000000,
          6241422000000,
          12277935000000,
          1779375670000
         ]
        }
       ],
       "layout": {
        "legend": {
         "tracegroupgap": 0
        },
        "template": {
         "data": {
          "bar": [
           {
            "error_x": {
             "color": "#2a3f5f"
            },
            "error_y": {
             "color": "#2a3f5f"
            },
            "marker": {
             "line": {
              "color": "#E5ECF6",
              "width": 0.5
             }
            },
            "type": "bar"
           }
          ],
          "barpolar": [
           {
            "marker": {
             "line": {
              "color": "#E5ECF6",
              "width": 0.5
             }
            },
            "type": "barpolar"
           }
          ],
          "carpet": [
           {
            "aaxis": {
             "endlinecolor": "#2a3f5f",
             "gridcolor": "white",
             "linecolor": "white",
             "minorgridcolor": "white",
             "startlinecolor": "#2a3f5f"
            },
            "baxis": {
             "endlinecolor": "#2a3f5f",
             "gridcolor": "white",
             "linecolor": "white",
             "minorgridcolor": "white",
             "startlinecolor": "#2a3f5f"
            },
            "type": "carpet"
           }
          ],
          "choropleth": [
           {
            "colorbar": {
             "outlinewidth": 0,
             "ticks": ""
            },
            "type": "choropleth"
           }
          ],
          "contour": [
           {
            "colorbar": {
             "outlinewidth": 0,
             "ticks": ""
            },
            "colorscale": [
             [
              0,
              "#0d0887"
             ],
             [
              0.1111111111111111,
              "#46039f"
             ],
             [
              0.2222222222222222,
              "#7201a8"
             ],
             [
              0.3333333333333333,
              "#9c179e"
             ],
             [
              0.4444444444444444,
              "#bd3786"
             ],
             [
              0.5555555555555556,
              "#d8576b"
             ],
             [
              0.6666666666666666,
              "#ed7953"
             ],
             [
              0.7777777777777778,
              "#fb9f3a"
             ],
             [
              0.8888888888888888,
              "#fdca26"
             ],
             [
              1,
              "#f0f921"
             ]
            ],
            "type": "contour"
           }
          ],
          "contourcarpet": [
           {
            "colorbar": {
             "outlinewidth": 0,
             "ticks": ""
            },
            "type": "contourcarpet"
           }
          ],
          "heatmap": [
           {
            "colorbar": {
             "outlinewidth": 0,
             "ticks": ""
            },
            "colorscale": [
             [
              0,
              "#0d0887"
             ],
             [
              0.1111111111111111,
              "#46039f"
             ],
             [
              0.2222222222222222,
              "#7201a8"
             ],
             [
              0.3333333333333333,
              "#9c179e"
             ],
             [
              0.4444444444444444,
              "#bd3786"
             ],
             [
              0.5555555555555556,
              "#d8576b"
             ],
             [
              0.6666666666666666,
              "#ed7953"
             ],
             [
              0.7777777777777778,
              "#fb9f3a"
             ],
             [
              0.8888888888888888,
              "#fdca26"
             ],
             [
              1,
              "#f0f921"
             ]
            ],
            "type": "heatmap"
           }
          ],
          "heatmapgl": [
           {
            "colorbar": {
             "outlinewidth": 0,
             "ticks": ""
            },
            "colorscale": [
             [
              0,
              "#0d0887"
             ],
             [
              0.1111111111111111,
              "#46039f"
             ],
             [
              0.2222222222222222,
              "#7201a8"
             ],
             [
              0.3333333333333333,
              "#9c179e"
             ],
             [
              0.4444444444444444,
              "#bd3786"
             ],
             [
              0.5555555555555556,
              "#d8576b"
             ],
             [
              0.6666666666666666,
              "#ed7953"
             ],
             [
              0.7777777777777778,
              "#fb9f3a"
             ],
             [
              0.8888888888888888,
              "#fdca26"
             ],
             [
              1,
              "#f0f921"
             ]
            ],
            "type": "heatmapgl"
           }
          ],
          "histogram": [
           {
            "marker": {
             "colorbar": {
              "outlinewidth": 0,
              "ticks": ""
             }
            },
            "type": "histogram"
           }
          ],
          "histogram2d": [
           {
            "colorbar": {
             "outlinewidth": 0,
             "ticks": ""
            },
            "colorscale": [
             [
              0,
              "#0d0887"
             ],
             [
              0.1111111111111111,
              "#46039f"
             ],
             [
              0.2222222222222222,
              "#7201a8"
             ],
             [
              0.3333333333333333,
              "#9c179e"
             ],
             [
              0.4444444444444444,
              "#bd3786"
             ],
             [
              0.5555555555555556,
              "#d8576b"
             ],
             [
              0.6666666666666666,
              "#ed7953"
             ],
             [
              0.7777777777777778,
              "#fb9f3a"
             ],
             [
              0.8888888888888888,
              "#fdca26"
             ],
             [
              1,
              "#f0f921"
             ]
            ],
            "type": "histogram2d"
           }
          ],
          "histogram2dcontour": [
           {
            "colorbar": {
             "outlinewidth": 0,
             "ticks": ""
            },
            "colorscale": [
             [
              0,
              "#0d0887"
             ],
             [
              0.1111111111111111,
              "#46039f"
             ],
             [
              0.2222222222222222,
              "#7201a8"
             ],
             [
              0.3333333333333333,
              "#9c179e"
             ],
             [
              0.4444444444444444,
              "#bd3786"
             ],
             [
              0.5555555555555556,
              "#d8576b"
             ],
             [
              0.6666666666666666,
              "#ed7953"
             ],
             [
              0.7777777777777778,
              "#fb9f3a"
             ],
             [
              0.8888888888888888,
              "#fdca26"
             ],
             [
              1,
              "#f0f921"
             ]
            ],
            "type": "histogram2dcontour"
           }
          ],
          "mesh3d": [
           {
            "colorbar": {
             "outlinewidth": 0,
             "ticks": ""
            },
            "type": "mesh3d"
           }
          ],
          "parcoords": [
           {
            "line": {
             "colorbar": {
              "outlinewidth": 0,
              "ticks": ""
             }
            },
            "type": "parcoords"
           }
          ],
          "pie": [
           {
            "automargin": true,
            "type": "pie"
           }
          ],
          "scatter": [
           {
            "marker": {
             "colorbar": {
              "outlinewidth": 0,
              "ticks": ""
             }
            },
            "type": "scatter"
           }
          ],
          "scatter3d": [
           {
            "line": {
             "colorbar": {
              "outlinewidth": 0,
              "ticks": ""
             }
            },
            "marker": {
             "colorbar": {
              "outlinewidth": 0,
              "ticks": ""
             }
            },
            "type": "scatter3d"
           }
          ],
          "scattercarpet": [
           {
            "marker": {
             "colorbar": {
              "outlinewidth": 0,
              "ticks": ""
             }
            },
            "type": "scattercarpet"
           }
          ],
          "scattergeo": [
           {
            "marker": {
             "colorbar": {
              "outlinewidth": 0,
              "ticks": ""
             }
            },
            "type": "scattergeo"
           }
          ],
          "scattergl": [
           {
            "marker": {
             "colorbar": {
              "outlinewidth": 0,
              "ticks": ""
             }
            },
            "type": "scattergl"
           }
          ],
          "scattermapbox": [
           {
            "marker": {
             "colorbar": {
              "outlinewidth": 0,
              "ticks": ""
             }
            },
            "type": "scattermapbox"
           }
          ],
          "scatterpolar": [
           {
            "marker": {
             "colorbar": {
              "outlinewidth": 0,
              "ticks": ""
             }
            },
            "type": "scatterpolar"
           }
          ],
          "scatterpolargl": [
           {
            "marker": {
             "colorbar": {
              "outlinewidth": 0,
              "ticks": ""
             }
            },
            "type": "scatterpolargl"
           }
          ],
          "scatterternary": [
           {
            "marker": {
             "colorbar": {
              "outlinewidth": 0,
              "ticks": ""
             }
            },
            "type": "scatterternary"
           }
          ],
          "surface": [
           {
            "colorbar": {
             "outlinewidth": 0,
             "ticks": ""
            },
            "colorscale": [
             [
              0,
              "#0d0887"
             ],
             [
              0.1111111111111111,
              "#46039f"
             ],
             [
              0.2222222222222222,
              "#7201a8"
             ],
             [
              0.3333333333333333,
              "#9c179e"
             ],
             [
              0.4444444444444444,
              "#bd3786"
             ],
             [
              0.5555555555555556,
              "#d8576b"
             ],
             [
              0.6666666666666666,
              "#ed7953"
             ],
             [
              0.7777777777777778,
              "#fb9f3a"
             ],
             [
              0.8888888888888888,
              "#fdca26"
             ],
             [
              1,
              "#f0f921"
             ]
            ],
            "type": "surface"
           }
          ],
          "table": [
           {
            "cells": {
             "fill": {
              "color": "#EBF0F8"
             },
             "line": {
              "color": "white"
             }
            },
            "header": {
             "fill": {
              "color": "#C8D4E3"
             },
             "line": {
              "color": "white"
             }
            },
            "type": "table"
           }
          ]
         },
         "layout": {
          "annotationdefaults": {
           "arrowcolor": "#2a3f5f",
           "arrowhead": 0,
           "arrowwidth": 1
          },
          "coloraxis": {
           "colorbar": {
            "outlinewidth": 0,
            "ticks": ""
           }
          },
          "colorscale": {
           "diverging": [
            [
             0,
             "#8e0152"
            ],
            [
             0.1,
             "#c51b7d"
            ],
            [
             0.2,
             "#de77ae"
            ],
            [
             0.3,
             "#f1b6da"
            ],
            [
             0.4,
             "#fde0ef"
            ],
            [
             0.5,
             "#f7f7f7"
            ],
            [
             0.6,
             "#e6f5d0"
            ],
            [
             0.7,
             "#b8e186"
            ],
            [
             0.8,
             "#7fbc41"
            ],
            [
             0.9,
             "#4d9221"
            ],
            [
             1,
             "#276419"
            ]
           ],
           "sequential": [
            [
             0,
             "#0d0887"
            ],
            [
             0.1111111111111111,
             "#46039f"
            ],
            [
             0.2222222222222222,
             "#7201a8"
            ],
            [
             0.3333333333333333,
             "#9c179e"
            ],
            [
             0.4444444444444444,
             "#bd3786"
            ],
            [
             0.5555555555555556,
             "#d8576b"
            ],
            [
             0.6666666666666666,
             "#ed7953"
            ],
            [
             0.7777777777777778,
             "#fb9f3a"
            ],
            [
             0.8888888888888888,
             "#fdca26"
            ],
            [
             1,
             "#f0f921"
            ]
           ],
           "sequentialminus": [
            [
             0,
             "#0d0887"
            ],
            [
             0.1111111111111111,
             "#46039f"
            ],
            [
             0.2222222222222222,
             "#7201a8"
            ],
            [
             0.3333333333333333,
             "#9c179e"
            ],
            [
             0.4444444444444444,
             "#bd3786"
            ],
            [
             0.5555555555555556,
             "#d8576b"
            ],
            [
             0.6666666666666666,
             "#ed7953"
            ],
            [
             0.7777777777777778,
             "#fb9f3a"
            ],
            [
             0.8888888888888888,
             "#fdca26"
            ],
            [
             1,
             "#f0f921"
            ]
           ]
          },
          "colorway": [
           "#636efa",
           "#EF553B",
           "#00cc96",
           "#ab63fa",
           "#FFA15A",
           "#19d3f3",
           "#FF6692",
           "#B6E880",
           "#FF97FF",
           "#FECB52"
          ],
          "font": {
           "color": "#2a3f5f"
          },
          "geo": {
           "bgcolor": "white",
           "lakecolor": "white",
           "landcolor": "#E5ECF6",
           "showlakes": true,
           "showland": true,
           "subunitcolor": "white"
          },
          "hoverlabel": {
           "align": "left"
          },
          "hovermode": "closest",
          "mapbox": {
           "style": "light"
          },
          "paper_bgcolor": "white",
          "plot_bgcolor": "#E5ECF6",
          "polar": {
           "angularaxis": {
            "gridcolor": "white",
            "linecolor": "white",
            "ticks": ""
           },
           "bgcolor": "#E5ECF6",
           "radialaxis": {
            "gridcolor": "white",
            "linecolor": "white",
            "ticks": ""
           }
          },
          "scene": {
           "xaxis": {
            "backgroundcolor": "#E5ECF6",
            "gridcolor": "white",
            "gridwidth": 2,
            "linecolor": "white",
            "showbackground": true,
            "ticks": "",
            "zerolinecolor": "white"
           },
           "yaxis": {
            "backgroundcolor": "#E5ECF6",
            "gridcolor": "white",
            "gridwidth": 2,
            "linecolor": "white",
            "showbackground": true,
            "ticks": "",
            "zerolinecolor": "white"
           },
           "zaxis": {
            "backgroundcolor": "#E5ECF6",
            "gridcolor": "white",
            "gridwidth": 2,
            "linecolor": "white",
            "showbackground": true,
            "ticks": "",
            "zerolinecolor": "white"
           }
          },
          "shapedefaults": {
           "line": {
            "color": "#2a3f5f"
           }
          },
          "ternary": {
           "aaxis": {
            "gridcolor": "white",
            "linecolor": "white",
            "ticks": ""
           },
           "baxis": {
            "gridcolor": "white",
            "linecolor": "white",
            "ticks": ""
           },
           "bgcolor": "#E5ECF6",
           "caxis": {
            "gridcolor": "white",
            "linecolor": "white",
            "ticks": ""
           }
          },
          "title": {
           "x": 0.05
          },
          "xaxis": {
           "automargin": true,
           "gridcolor": "white",
           "linecolor": "white",
           "ticks": "",
           "title": {
            "standoff": 15
           },
           "zerolinecolor": "white",
           "zerolinewidth": 2
          },
          "yaxis": {
           "automargin": true,
           "gridcolor": "white",
           "linecolor": "white",
           "ticks": "",
           "title": {
            "standoff": 15
           },
           "zerolinecolor": "white",
           "zerolinewidth": 2
          }
         }
        },
        "title": {
         "text": "売上"
        }
       }
      },
      "text/html": [
       "<div>\n",
       "        \n",
       "        \n",
       "            <div id=\"b33a7968-7f8f-4483-a462-6a8a1f7a2dcd\" class=\"plotly-graph-div\" style=\"height:525px; width:100%;\"></div>\n",
       "            <script type=\"text/javascript\">\n",
       "                require([\"plotly\"], function(Plotly) {\n",
       "                    window.PLOTLYENV=window.PLOTLYENV || {};\n",
       "                    \n",
       "                if (document.getElementById(\"b33a7968-7f8f-4483-a462-6a8a1f7a2dcd\")) {\n",
       "                    Plotly.newPlot(\n",
       "                        'b33a7968-7f8f-4483-a462-6a8a1f7a2dcd',\n",
       "                        [{\"branchvalues\": \"total\", \"domain\": {\"x\": [0.0, 1.0], \"y\": [0.0, 1.0]}, \"hovertemplate\": \"labels=%{label}<br>net_sales=%{value}<br>parent=%{parent}<br>id=%{id}<extra></extra>\", \"ids\": [\"\\u98df\\u54c1 /\\u30ad\\u30c3\\u30b3\\u30fc\\u30de\\u30f3\\u682a\\u5f0f\\u4f1a\\u793e\", \"\\u98df\\u54c1 /\\u30b5\\u30c3\\u30dd\\u30ed\\u30db\\u30fc\\u30eb\\u30c7\\u30a3\\u30f3\\u30b0\\u30b9\\u682a\\u5f0f\\u4f1a\\u793e\", \"\\u60c5\\u5831\\u901a\\u4fe1\\u30fb\\u30b5\\u30fc\\u30d3\\u30b9\\u305d\\u306e\\u4ed6 /\\u30bb\\u30f3\\u30c8\\u30e9\\u30eb\\u30b9\\u30dd\\u30fc\\u30c4\\u682a\\u5f0f\\u4f1a\\u793e\", \"\\u60c5\\u5831\\u901a\\u4fe1\\u30fb\\u30b5\\u30fc\\u30d3\\u30b9\\u305d\\u306e\\u4ed6 /\\u30de\\u30fc\\u30af\\u30e9\\u30a4\\u30f3\\u30ba\\u682a\\u5f0f\\u4f1a\\u793e\", \"\\u4e0d\\u52d5\\u7523 /\\u4e09\\u4e95\\u4e0d\\u52d5\\u7523\\u682a\\u5f0f\\u4f1a\\u793e\", \"\\u904b\\u8f38\\u30fb\\u7269\\u6d41 /\\u4e09\\u83f1\\u5009\\u5eab\\u682a\\u5f0f\\u4f1a\\u793e\", \"\\u5546\\u793e\\u30fb\\u5378\\u58f2 /\\u4f0a\\u85e4\\u5fe0\\u5546\\u4e8b\\u682a\\u5f0f\\u4f1a\\u793e\", \"\\u7d20\\u6750\\u30fb\\u5316\\u5b66 /\\u4f4f\\u6c5f\\u7e54\\u7269\\u682a\\u5f0f\\u4f1a\\u793e\", \"\\u9244\\u92fc\\u30fb\\u975e\\u9244 /\\u53e4\\u6cb3\\u96fb\\u6c17\\u5de5\\u696d\\u682a\\u5f0f\\u4f1a\\u793e\", \"\\u5efa\\u8a2d\\u30fb\\u8cc7\\u6750 /\\u5927\\u6210\\u5efa\\u8a2d\\u682a\\u5f0f\\u4f1a\\u793e\", \"\\u7d20\\u6750\\u30fb\\u5316\\u5b66 /\\u5bcc\\u58eb\\u30d5\\u30a4\\u30eb\\u30e0\\u30db\\u30fc\\u30eb\\u30c7\\u30a3\\u30f3\\u30b0\\u30b9\\u682a\\u5f0f\\u4f1a\\u793e\", \"\\u7d20\\u6750\\u30fb\\u5316\\u5b66 /\\u5e1d\\u4eba\\u682a\\u5f0f\\u4f1a\\u793e\", \"\\u904b\\u8f38\\u30fb\\u7269\\u6d41 /\\u65e5\\u672c\\u822a\\u7a7a\\u682a\\u5f0f\\u4f1a\\u793e\", \"\\u98df\\u54c1 /\\u65e5\\u672c\\u88fd\\u7c89\\u682a\\u5f0f\\u4f1a\\u793e\", \"\\u9244\\u92fc\\u30fb\\u975e\\u9244 /\\u65e5\\u672c\\u88fd\\u9244\\u682a\\u5f0f\\u4f1a\\u793e\", \"\\u904b\\u8f38\\u30fb\\u7269\\u6d41 /\\u65e5\\u672c\\u90f5\\u8239\\u682a\\u5f0f\\u4f1a\\u793e\", \"\\u96fb\\u6a5f\\u30fb\\u7cbe\\u5bc6 /\\u65e5\\u672c\\u96fb\\u6c17\\u682a\\u5f0f\\u4f1a\\u793e\", \"\\u81ea\\u52d5\\u8eca\\u30fb\\u8f38\\u9001\\u6a5f /\\u65e5\\u7523\\u81ea\\u52d5\\u8eca\\u682a\\u5f0f\\u4f1a\\u793e\", \"\\u96fb\\u529b\\u30fb\\u30ac\\u30b9 /\\u6771\\u4eac\\u96fb\\u529b\\u30db\\u30fc\\u30eb\\u30c7\\u30a3\\u30f3\\u30b0\\u30b9\\u682a\\u5f0f\\u4f1a\\u793e\", \"\\u904b\\u8f38\\u30fb\\u7269\\u6d41 /\\u6771\\u6b66\\u9244\\u9053\\u682a\\u5f0f\\u4f1a\\u793e\", \"\\u7d20\\u6750\\u30fb\\u5316\\u5b66 /\\u6771\\u6d0b\\u7d21\\u682a\\u5f0f\\u4f1a\\u793e\", \"\\u5efa\\u8a2d\\u30fb\\u8cc7\\u6750 /\\u6771\\u6d0b\\u88fd\\u7f50\\u30b0\\u30eb\\u30fc\\u30d7\\u30db\\u30fc\\u30eb\\u30c7\\u30a3\\u30f3\\u30b0\\u30b9\\u682a\\u5f0f\\u4f1a\\u793e\", \"\\u5efa\\u8a2d\\u30fb\\u8cc7\\u6750 /\\u6771\\u6d77\\u30ab\\u30fc\\u30dc\\u30f3\\u682a\\u5f0f\\u4f1a\\u793e\", \"\\u60c5\\u5831\\u901a\\u4fe1\\u30fb\\u30b5\\u30fc\\u30d3\\u30b9\\u305d\\u306e\\u4ed6 /\\u677e\\u7af9\\u682a\\u5f0f\\u4f1a\\u793e\", \"\\u96fb\\u6a5f\\u30fb\\u7cbe\\u5bc6 /\\u682a\\u5f0f\\u4f1a\\u793e\\u3000\\u5cf6\\u6d25\\u88fd\\u4f5c\\u6240\", \"\\u60c5\\u5831\\u901a\\u4fe1\\u30fb\\u30b5\\u30fc\\u30d3\\u30b9\\u305d\\u306e\\u4ed6 /\\u682a\\u5f0f\\u4f1a\\u793e\\u30a2\\u30df\\u30e5\\u30fc\\u30ba\", \"\\u5efa\\u8a2d\\u30fb\\u8cc7\\u6750 /\\u682a\\u5f0f\\u4f1a\\u793e\\u30a8\\u30e0\\u30d3\\u30fc\\u30a8\\u30b9\", \"\\u6a5f\\u68b0 /\\u682a\\u5f0f\\u4f1a\\u793e\\u30c4\\u30ac\\u30df\", \"\\u5c0f\\u58f2 /\\u682a\\u5f0f\\u4f1a\\u793e\\u30dd\\u30d7\\u30e9\", \"\\u60c5\\u5831\\u901a\\u4fe1\\u30fb\\u30b5\\u30fc\\u30d3\\u30b9\\u305d\\u306e\\u4ed6 /\\u682a\\u5f0f\\u4f1a\\u793e\\u30de\\u30c4\\u30e2\\u30c8\", \"\\u91d1\\u878d\\uff08\\u9664\\u304f\\u9280\\u884c\\uff09 /\\u682a\\u5f0f\\u4f1a\\u793e\\u5927\\u548c\\u8a3c\\u5238\\u30b0\\u30eb\\u30fc\\u30d7\\u672c\\u793e\", \"\\u6a5f\\u68b0 /\\u682a\\u5f0f\\u4f1a\\u793e\\u5c0f\\u677e\\u88fd\\u4f5c\\u6240\", \"\\u96fb\\u6a5f\\u30fb\\u7cbe\\u5bc6 /\\u682a\\u5f0f\\u4f1a\\u793e\\u65e5\\u7acb\\u88fd\\u4f5c\\u6240\", \"\\u60c5\\u5831\\u901a\\u4fe1\\u30fb\\u30b5\\u30fc\\u30d3\\u30b9\\u305d\\u306e\\u4ed6 /\\u682a\\u5f0f\\u4f1a\\u793e\\u6771\\u4eac\\u653e\\u9001\\u30db\\u30fc\\u30eb\\u30c7\\u30a3\\u30f3\\u30b0\\u30b9\", \"\\u60c5\\u5831\\u901a\\u4fe1\\u30fb\\u30b5\\u30fc\\u30d3\\u30b9\\u305d\\u306e\\u4ed6 /\\u682a\\u5f0f\\u4f1a\\u793e\\u6771\\u4eac\\u6703\\u8218\", \"\\u98df\\u54c1 /\\u682a\\u5f0f\\u4f1a\\u793e\\u6975\\u6d0b\", \"\\u81ea\\u52d5\\u8eca\\u30fb\\u8f38\\u9001\\u6a5f /\\u682a\\u5f0f\\u4f1a\\u793e\\u8c4a\\u7530\\u81ea\\u52d5\\u7e54\\u6a5f\", \"\\u7d20\\u6750\\u30fb\\u5316\\u5b66 /\\u682a\\u5f0f\\u4f1a\\u793e\\uff21\\uff24\\uff25\\uff2b\\uff21\", \"\\u5546\\u793e\\u30fb\\u5378\\u58f2 /\\u682a\\u5f0f\\u4f1a\\u793e\\uff27\\uff33\\uff29\\u30af\\u30ec\\u30aa\\u30b9\", \"\\u98df\\u54c1 /\\u68ee\\u6c38\\u88fd\\u83d3\\u682a\\u5f0f\\u4f1a\\u793e\", \"\\u81ea\\u52d5\\u8eca\\u30fb\\u8f38\\u9001\\u6a5f /\\u6a2a\\u6d5c\\u30b4\\u30e0\\u682a\\u5f0f\\u4f1a\\u793e\", \"\\u96fb\\u6a5f\\u30fb\\u7cbe\\u5bc6 /\\u6fa4\\u85e4\\u96fb\\u6a5f\\u682a\\u5f0f\\u4f1a\\u793e\", \"\\u7d20\\u6750\\u30fb\\u5316\\u5b66 /\\u7247\\u5009\\u5de5\\u696d\\u682a\\u5f0f\\u4f1a\\u793e\", \"\\u98df\\u54c1 /\\u77f3\\u57a3\\u98df\\u54c1\\u682a\\u5f0f\\u4f1a\\u793e\", \"\\u5efa\\u8a2d\\u30fb\\u8cc7\\u6750 /\\uff21\\uff27\\uff23\\u682a\\u5f0f\\u4f1a\\u793e\", \"\\u4e0d\\u52d5\\u7523 \", \"\\u5546\\u793e\\u30fb\\u5378\\u58f2 \", \"\\u5c0f\\u58f2 \", \"\\u5efa\\u8a2d\\u30fb\\u8cc7\\u6750 \", \"\\u60c5\\u5831\\u901a\\u4fe1\\u30fb\\u30b5\\u30fc\\u30d3\\u30b9\\u305d\\u306e\\u4ed6 \", \"\\u6a5f\\u68b0 \", \"\\u7d20\\u6750\\u30fb\\u5316\\u5b66 \", \"\\u81ea\\u52d5\\u8eca\\u30fb\\u8f38\\u9001\\u6a5f \", \"\\u904b\\u8f38\\u30fb\\u7269\\u6d41 \", \"\\u91d1\\u878d\\uff08\\u9664\\u304f\\u9280\\u884c\\uff09 \", \"\\u9244\\u92fc\\u30fb\\u975e\\u9244 \", \"\\u96fb\\u529b\\u30fb\\u30ac\\u30b9 \", \"\\u96fb\\u6a5f\\u30fb\\u7cbe\\u5bc6 \", \"\\u98df\\u54c1 \"], \"labels\": [\"\\u30ad\\u30c3\\u30b3\\u30fc\\u30de\\u30f3\\u682a\\u5f0f\\u4f1a\\u793e\", \"\\u30b5\\u30c3\\u30dd\\u30ed\\u30db\\u30fc\\u30eb\\u30c7\\u30a3\\u30f3\\u30b0\\u30b9\\u682a\\u5f0f\\u4f1a\\u793e\", \"\\u30bb\\u30f3\\u30c8\\u30e9\\u30eb\\u30b9\\u30dd\\u30fc\\u30c4\\u682a\\u5f0f\\u4f1a\\u793e\", \"\\u30de\\u30fc\\u30af\\u30e9\\u30a4\\u30f3\\u30ba\\u682a\\u5f0f\\u4f1a\\u793e\", \"\\u4e09\\u4e95\\u4e0d\\u52d5\\u7523\\u682a\\u5f0f\\u4f1a\\u793e\", \"\\u4e09\\u83f1\\u5009\\u5eab\\u682a\\u5f0f\\u4f1a\\u793e\", \"\\u4f0a\\u85e4\\u5fe0\\u5546\\u4e8b\\u682a\\u5f0f\\u4f1a\\u793e\", \"\\u4f4f\\u6c5f\\u7e54\\u7269\\u682a\\u5f0f\\u4f1a\\u793e\", \"\\u53e4\\u6cb3\\u96fb\\u6c17\\u5de5\\u696d\\u682a\\u5f0f\\u4f1a\\u793e\", \"\\u5927\\u6210\\u5efa\\u8a2d\\u682a\\u5f0f\\u4f1a\\u793e\", \"\\u5bcc\\u58eb\\u30d5\\u30a4\\u30eb\\u30e0\\u30db\\u30fc\\u30eb\\u30c7\\u30a3\\u30f3\\u30b0\\u30b9\\u682a\\u5f0f\\u4f1a\\u793e\", \"\\u5e1d\\u4eba\\u682a\\u5f0f\\u4f1a\\u793e\", \"\\u65e5\\u672c\\u822a\\u7a7a\\u682a\\u5f0f\\u4f1a\\u793e\", \"\\u65e5\\u672c\\u88fd\\u7c89\\u682a\\u5f0f\\u4f1a\\u793e\", \"\\u65e5\\u672c\\u88fd\\u9244\\u682a\\u5f0f\\u4f1a\\u793e\", \"\\u65e5\\u672c\\u90f5\\u8239\\u682a\\u5f0f\\u4f1a\\u793e\", \"\\u65e5\\u672c\\u96fb\\u6c17\\u682a\\u5f0f\\u4f1a\\u793e\", \"\\u65e5\\u7523\\u81ea\\u52d5\\u8eca\\u682a\\u5f0f\\u4f1a\\u793e\", \"\\u6771\\u4eac\\u96fb\\u529b\\u30db\\u30fc\\u30eb\\u30c7\\u30a3\\u30f3\\u30b0\\u30b9\\u682a\\u5f0f\\u4f1a\\u793e\", \"\\u6771\\u6b66\\u9244\\u9053\\u682a\\u5f0f\\u4f1a\\u793e\", \"\\u6771\\u6d0b\\u7d21\\u682a\\u5f0f\\u4f1a\\u793e\", \"\\u6771\\u6d0b\\u88fd\\u7f50\\u30b0\\u30eb\\u30fc\\u30d7\\u30db\\u30fc\\u30eb\\u30c7\\u30a3\\u30f3\\u30b0\\u30b9\\u682a\\u5f0f\\u4f1a\\u793e\", \"\\u6771\\u6d77\\u30ab\\u30fc\\u30dc\\u30f3\\u682a\\u5f0f\\u4f1a\\u793e\", \"\\u677e\\u7af9\\u682a\\u5f0f\\u4f1a\\u793e\", \"\\u682a\\u5f0f\\u4f1a\\u793e\\u3000\\u5cf6\\u6d25\\u88fd\\u4f5c\\u6240\", \"\\u682a\\u5f0f\\u4f1a\\u793e\\u30a2\\u30df\\u30e5\\u30fc\\u30ba\", \"\\u682a\\u5f0f\\u4f1a\\u793e\\u30a8\\u30e0\\u30d3\\u30fc\\u30a8\\u30b9\", \"\\u682a\\u5f0f\\u4f1a\\u793e\\u30c4\\u30ac\\u30df\", \"\\u682a\\u5f0f\\u4f1a\\u793e\\u30dd\\u30d7\\u30e9\", \"\\u682a\\u5f0f\\u4f1a\\u793e\\u30de\\u30c4\\u30e2\\u30c8\", \"\\u682a\\u5f0f\\u4f1a\\u793e\\u5927\\u548c\\u8a3c\\u5238\\u30b0\\u30eb\\u30fc\\u30d7\\u672c\\u793e\", \"\\u682a\\u5f0f\\u4f1a\\u793e\\u5c0f\\u677e\\u88fd\\u4f5c\\u6240\", \"\\u682a\\u5f0f\\u4f1a\\u793e\\u65e5\\u7acb\\u88fd\\u4f5c\\u6240\", \"\\u682a\\u5f0f\\u4f1a\\u793e\\u6771\\u4eac\\u653e\\u9001\\u30db\\u30fc\\u30eb\\u30c7\\u30a3\\u30f3\\u30b0\\u30b9\", \"\\u682a\\u5f0f\\u4f1a\\u793e\\u6771\\u4eac\\u6703\\u8218\", \"\\u682a\\u5f0f\\u4f1a\\u793e\\u6975\\u6d0b\", \"\\u682a\\u5f0f\\u4f1a\\u793e\\u8c4a\\u7530\\u81ea\\u52d5\\u7e54\\u6a5f\", \"\\u682a\\u5f0f\\u4f1a\\u793e\\uff21\\uff24\\uff25\\uff2b\\uff21\", \"\\u682a\\u5f0f\\u4f1a\\u793e\\uff27\\uff33\\uff29\\u30af\\u30ec\\u30aa\\u30b9\", \"\\u68ee\\u6c38\\u88fd\\u83d3\\u682a\\u5f0f\\u4f1a\\u793e\", \"\\u6a2a\\u6d5c\\u30b4\\u30e0\\u682a\\u5f0f\\u4f1a\\u793e\", \"\\u6fa4\\u85e4\\u96fb\\u6a5f\\u682a\\u5f0f\\u4f1a\\u793e\", \"\\u7247\\u5009\\u5de5\\u696d\\u682a\\u5f0f\\u4f1a\\u793e\", \"\\u77f3\\u57a3\\u98df\\u54c1\\u682a\\u5f0f\\u4f1a\\u793e\", \"\\uff21\\uff27\\uff23\\u682a\\u5f0f\\u4f1a\\u793e\", \"\\u4e0d\\u52d5\\u7523 \", \"\\u5546\\u793e\\u30fb\\u5378\\u58f2 \", \"\\u5c0f\\u58f2 \", \"\\u5efa\\u8a2d\\u30fb\\u8cc7\\u6750 \", \"\\u60c5\\u5831\\u901a\\u4fe1\\u30fb\\u30b5\\u30fc\\u30d3\\u30b9\\u305d\\u306e\\u4ed6 \", \"\\u6a5f\\u68b0 \", \"\\u7d20\\u6750\\u30fb\\u5316\\u5b66 \", \"\\u81ea\\u52d5\\u8eca\\u30fb\\u8f38\\u9001\\u6a5f \", \"\\u904b\\u8f38\\u30fb\\u7269\\u6d41 \", \"\\u91d1\\u878d\\uff08\\u9664\\u304f\\u9280\\u884c\\uff09 \", \"\\u9244\\u92fc\\u30fb\\u975e\\u9244 \", \"\\u96fb\\u529b\\u30fb\\u30ac\\u30b9 \", \"\\u96fb\\u6a5f\\u30fb\\u7cbe\\u5bc6 \", \"\\u98df\\u54c1 \"], \"name\": \"\", \"parents\": [\"\\u98df\\u54c1 \", \"\\u98df\\u54c1 \", \"\\u60c5\\u5831\\u901a\\u4fe1\\u30fb\\u30b5\\u30fc\\u30d3\\u30b9\\u305d\\u306e\\u4ed6 \", \"\\u60c5\\u5831\\u901a\\u4fe1\\u30fb\\u30b5\\u30fc\\u30d3\\u30b9\\u305d\\u306e\\u4ed6 \", \"\\u4e0d\\u52d5\\u7523 \", \"\\u904b\\u8f38\\u30fb\\u7269\\u6d41 \", \"\\u5546\\u793e\\u30fb\\u5378\\u58f2 \", \"\\u7d20\\u6750\\u30fb\\u5316\\u5b66 \", \"\\u9244\\u92fc\\u30fb\\u975e\\u9244 \", \"\\u5efa\\u8a2d\\u30fb\\u8cc7\\u6750 \", \"\\u7d20\\u6750\\u30fb\\u5316\\u5b66 \", \"\\u7d20\\u6750\\u30fb\\u5316\\u5b66 \", \"\\u904b\\u8f38\\u30fb\\u7269\\u6d41 \", \"\\u98df\\u54c1 \", \"\\u9244\\u92fc\\u30fb\\u975e\\u9244 \", \"\\u904b\\u8f38\\u30fb\\u7269\\u6d41 \", \"\\u96fb\\u6a5f\\u30fb\\u7cbe\\u5bc6 \", \"\\u81ea\\u52d5\\u8eca\\u30fb\\u8f38\\u9001\\u6a5f \", \"\\u96fb\\u529b\\u30fb\\u30ac\\u30b9 \", \"\\u904b\\u8f38\\u30fb\\u7269\\u6d41 \", \"\\u7d20\\u6750\\u30fb\\u5316\\u5b66 \", \"\\u5efa\\u8a2d\\u30fb\\u8cc7\\u6750 \", \"\\u5efa\\u8a2d\\u30fb\\u8cc7\\u6750 \", \"\\u60c5\\u5831\\u901a\\u4fe1\\u30fb\\u30b5\\u30fc\\u30d3\\u30b9\\u305d\\u306e\\u4ed6 \", \"\\u96fb\\u6a5f\\u30fb\\u7cbe\\u5bc6 \", \"\\u60c5\\u5831\\u901a\\u4fe1\\u30fb\\u30b5\\u30fc\\u30d3\\u30b9\\u305d\\u306e\\u4ed6 \", \"\\u5efa\\u8a2d\\u30fb\\u8cc7\\u6750 \", \"\\u6a5f\\u68b0 \", \"\\u5c0f\\u58f2 \", \"\\u60c5\\u5831\\u901a\\u4fe1\\u30fb\\u30b5\\u30fc\\u30d3\\u30b9\\u305d\\u306e\\u4ed6 \", \"\\u91d1\\u878d\\uff08\\u9664\\u304f\\u9280\\u884c\\uff09 \", \"\\u6a5f\\u68b0 \", \"\\u96fb\\u6a5f\\u30fb\\u7cbe\\u5bc6 \", \"\\u60c5\\u5831\\u901a\\u4fe1\\u30fb\\u30b5\\u30fc\\u30d3\\u30b9\\u305d\\u306e\\u4ed6 \", \"\\u60c5\\u5831\\u901a\\u4fe1\\u30fb\\u30b5\\u30fc\\u30d3\\u30b9\\u305d\\u306e\\u4ed6 \", \"\\u98df\\u54c1 \", \"\\u81ea\\u52d5\\u8eca\\u30fb\\u8f38\\u9001\\u6a5f \", \"\\u7d20\\u6750\\u30fb\\u5316\\u5b66 \", \"\\u5546\\u793e\\u30fb\\u5378\\u58f2 \", \"\\u98df\\u54c1 \", \"\\u81ea\\u52d5\\u8eca\\u30fb\\u8f38\\u9001\\u6a5f \", \"\\u96fb\\u6a5f\\u30fb\\u7cbe\\u5bc6 \", \"\\u7d20\\u6750\\u30fb\\u5316\\u5b66 \", \"\\u98df\\u54c1 \", \"\\u5efa\\u8a2d\\u30fb\\u8cc7\\u6750 \", \"\", \"\", \"\", \"\", \"\", \"\", \"\", \"\", \"\", \"\", \"\", \"\", \"\", \"\"], \"type\": \"treemap\", \"values\": [468616000000, 491896000000, 53386000000, 2380655000, 1905642000000, 229057000000, 10982968000000, 91512000000, 914439000000, 1751330000000, 2315141000000, 853746000000, 1411230000000, 344839000000, 5921525000000, 1668355000000, 3095234000000, 9878866000000, 6241422000000, 653874000000, 339607000000, 790814000000, 262028000000, 97479000000, 385443000000, 58806000000, 3345618000, 49310000000, 25370179000, 2818992000, 672287000000, 2444870000000, 8767263000000, 356796000000, 11504107000, 262519000000, 2171355000000, 304131000000, 115548000000, 208878000000, 650462000000, 29995000000, 44043000000, 2627670000, 1518039000000, 1905642000000, 11098516000000, 25370179000, 4325556618000, 583170754000, 2494180000000, 3948180000000, 12700683000000, 3962516000000, 672287000000, 6835964000000, 6241422000000, 12277935000000, 1779375670000]}],\n",
       "                        {\"legend\": {\"tracegroupgap\": 0}, \"template\": {\"data\": {\"bar\": [{\"error_x\": {\"color\": \"#2a3f5f\"}, \"error_y\": {\"color\": \"#2a3f5f\"}, \"marker\": {\"line\": {\"color\": \"#E5ECF6\", \"width\": 0.5}}, \"type\": \"bar\"}], \"barpolar\": [{\"marker\": {\"line\": {\"color\": \"#E5ECF6\", \"width\": 0.5}}, \"type\": \"barpolar\"}], \"carpet\": [{\"aaxis\": {\"endlinecolor\": \"#2a3f5f\", \"gridcolor\": \"white\", \"linecolor\": \"white\", \"minorgridcolor\": \"white\", \"startlinecolor\": \"#2a3f5f\"}, \"baxis\": {\"endlinecolor\": \"#2a3f5f\", \"gridcolor\": \"white\", \"linecolor\": \"white\", \"minorgridcolor\": \"white\", \"startlinecolor\": \"#2a3f5f\"}, \"type\": \"carpet\"}], \"choropleth\": [{\"colorbar\": {\"outlinewidth\": 0, \"ticks\": \"\"}, \"type\": \"choropleth\"}], \"contour\": [{\"colorbar\": {\"outlinewidth\": 0, \"ticks\": \"\"}, \"colorscale\": [[0.0, \"#0d0887\"], [0.1111111111111111, \"#46039f\"], [0.2222222222222222, \"#7201a8\"], [0.3333333333333333, \"#9c179e\"], [0.4444444444444444, \"#bd3786\"], [0.5555555555555556, \"#d8576b\"], [0.6666666666666666, \"#ed7953\"], [0.7777777777777778, \"#fb9f3a\"], [0.8888888888888888, \"#fdca26\"], [1.0, \"#f0f921\"]], \"type\": \"contour\"}], \"contourcarpet\": [{\"colorbar\": {\"outlinewidth\": 0, \"ticks\": \"\"}, \"type\": \"contourcarpet\"}], \"heatmap\": [{\"colorbar\": {\"outlinewidth\": 0, \"ticks\": \"\"}, \"colorscale\": [[0.0, \"#0d0887\"], [0.1111111111111111, \"#46039f\"], [0.2222222222222222, \"#7201a8\"], [0.3333333333333333, \"#9c179e\"], [0.4444444444444444, \"#bd3786\"], [0.5555555555555556, \"#d8576b\"], [0.6666666666666666, \"#ed7953\"], [0.7777777777777778, \"#fb9f3a\"], [0.8888888888888888, \"#fdca26\"], [1.0, \"#f0f921\"]], \"type\": \"heatmap\"}], \"heatmapgl\": [{\"colorbar\": {\"outlinewidth\": 0, \"ticks\": \"\"}, \"colorscale\": [[0.0, \"#0d0887\"], [0.1111111111111111, \"#46039f\"], [0.2222222222222222, \"#7201a8\"], [0.3333333333333333, \"#9c179e\"], [0.4444444444444444, \"#bd3786\"], [0.5555555555555556, \"#d8576b\"], [0.6666666666666666, \"#ed7953\"], [0.7777777777777778, \"#fb9f3a\"], [0.8888888888888888, \"#fdca26\"], [1.0, \"#f0f921\"]], \"type\": \"heatmapgl\"}], \"histogram\": [{\"marker\": {\"colorbar\": {\"outlinewidth\": 0, \"ticks\": \"\"}}, \"type\": \"histogram\"}], \"histogram2d\": [{\"colorbar\": {\"outlinewidth\": 0, \"ticks\": \"\"}, \"colorscale\": [[0.0, \"#0d0887\"], [0.1111111111111111, \"#46039f\"], [0.2222222222222222, \"#7201a8\"], [0.3333333333333333, \"#9c179e\"], [0.4444444444444444, \"#bd3786\"], [0.5555555555555556, \"#d8576b\"], [0.6666666666666666, \"#ed7953\"], [0.7777777777777778, \"#fb9f3a\"], [0.8888888888888888, \"#fdca26\"], [1.0, \"#f0f921\"]], \"type\": \"histogram2d\"}], \"histogram2dcontour\": [{\"colorbar\": {\"outlinewidth\": 0, \"ticks\": \"\"}, \"colorscale\": [[0.0, \"#0d0887\"], [0.1111111111111111, \"#46039f\"], [0.2222222222222222, \"#7201a8\"], [0.3333333333333333, \"#9c179e\"], [0.4444444444444444, \"#bd3786\"], [0.5555555555555556, \"#d8576b\"], [0.6666666666666666, \"#ed7953\"], [0.7777777777777778, \"#fb9f3a\"], [0.8888888888888888, \"#fdca26\"], [1.0, \"#f0f921\"]], \"type\": \"histogram2dcontour\"}], \"mesh3d\": [{\"colorbar\": {\"outlinewidth\": 0, \"ticks\": \"\"}, \"type\": \"mesh3d\"}], \"parcoords\": [{\"line\": {\"colorbar\": {\"outlinewidth\": 0, \"ticks\": \"\"}}, \"type\": \"parcoords\"}], \"pie\": [{\"automargin\": true, \"type\": \"pie\"}], \"scatter\": [{\"marker\": {\"colorbar\": {\"outlinewidth\": 0, \"ticks\": \"\"}}, \"type\": \"scatter\"}], \"scatter3d\": [{\"line\": {\"colorbar\": {\"outlinewidth\": 0, \"ticks\": \"\"}}, \"marker\": {\"colorbar\": {\"outlinewidth\": 0, \"ticks\": \"\"}}, \"type\": \"scatter3d\"}], \"scattercarpet\": [{\"marker\": {\"colorbar\": {\"outlinewidth\": 0, \"ticks\": \"\"}}, \"type\": \"scattercarpet\"}], \"scattergeo\": [{\"marker\": {\"colorbar\": {\"outlinewidth\": 0, \"ticks\": \"\"}}, \"type\": \"scattergeo\"}], \"scattergl\": [{\"marker\": {\"colorbar\": {\"outlinewidth\": 0, \"ticks\": \"\"}}, \"type\": \"scattergl\"}], \"scattermapbox\": [{\"marker\": {\"colorbar\": {\"outlinewidth\": 0, \"ticks\": \"\"}}, \"type\": \"scattermapbox\"}], \"scatterpolar\": [{\"marker\": {\"colorbar\": {\"outlinewidth\": 0, \"ticks\": \"\"}}, \"type\": \"scatterpolar\"}], \"scatterpolargl\": [{\"marker\": {\"colorbar\": {\"outlinewidth\": 0, \"ticks\": \"\"}}, \"type\": \"scatterpolargl\"}], \"scatterternary\": [{\"marker\": {\"colorbar\": {\"outlinewidth\": 0, \"ticks\": \"\"}}, \"type\": \"scatterternary\"}], \"surface\": [{\"colorbar\": {\"outlinewidth\": 0, \"ticks\": \"\"}, \"colorscale\": [[0.0, \"#0d0887\"], [0.1111111111111111, \"#46039f\"], [0.2222222222222222, \"#7201a8\"], [0.3333333333333333, \"#9c179e\"], [0.4444444444444444, \"#bd3786\"], [0.5555555555555556, \"#d8576b\"], [0.6666666666666666, \"#ed7953\"], [0.7777777777777778, \"#fb9f3a\"], [0.8888888888888888, \"#fdca26\"], [1.0, \"#f0f921\"]], \"type\": \"surface\"}], \"table\": [{\"cells\": {\"fill\": {\"color\": \"#EBF0F8\"}, \"line\": {\"color\": \"white\"}}, \"header\": {\"fill\": {\"color\": \"#C8D4E3\"}, \"line\": {\"color\": \"white\"}}, \"type\": \"table\"}]}, \"layout\": {\"annotationdefaults\": {\"arrowcolor\": \"#2a3f5f\", \"arrowhead\": 0, \"arrowwidth\": 1}, \"coloraxis\": {\"colorbar\": {\"outlinewidth\": 0, \"ticks\": \"\"}}, \"colorscale\": {\"diverging\": [[0, \"#8e0152\"], [0.1, \"#c51b7d\"], [0.2, \"#de77ae\"], [0.3, \"#f1b6da\"], [0.4, \"#fde0ef\"], [0.5, \"#f7f7f7\"], [0.6, \"#e6f5d0\"], [0.7, \"#b8e186\"], [0.8, \"#7fbc41\"], [0.9, \"#4d9221\"], [1, \"#276419\"]], \"sequential\": [[0.0, \"#0d0887\"], [0.1111111111111111, \"#46039f\"], [0.2222222222222222, \"#7201a8\"], [0.3333333333333333, \"#9c179e\"], [0.4444444444444444, \"#bd3786\"], [0.5555555555555556, \"#d8576b\"], [0.6666666666666666, \"#ed7953\"], [0.7777777777777778, \"#fb9f3a\"], [0.8888888888888888, \"#fdca26\"], [1.0, \"#f0f921\"]], \"sequentialminus\": [[0.0, \"#0d0887\"], [0.1111111111111111, \"#46039f\"], [0.2222222222222222, \"#7201a8\"], [0.3333333333333333, \"#9c179e\"], [0.4444444444444444, \"#bd3786\"], [0.5555555555555556, \"#d8576b\"], [0.6666666666666666, \"#ed7953\"], [0.7777777777777778, \"#fb9f3a\"], [0.8888888888888888, \"#fdca26\"], [1.0, \"#f0f921\"]]}, \"colorway\": [\"#636efa\", \"#EF553B\", \"#00cc96\", \"#ab63fa\", \"#FFA15A\", \"#19d3f3\", \"#FF6692\", \"#B6E880\", \"#FF97FF\", \"#FECB52\"], \"font\": {\"color\": \"#2a3f5f\"}, \"geo\": {\"bgcolor\": \"white\", \"lakecolor\": \"white\", \"landcolor\": \"#E5ECF6\", \"showlakes\": true, \"showland\": true, \"subunitcolor\": \"white\"}, \"hoverlabel\": {\"align\": \"left\"}, \"hovermode\": \"closest\", \"mapbox\": {\"style\": \"light\"}, \"paper_bgcolor\": \"white\", \"plot_bgcolor\": \"#E5ECF6\", \"polar\": {\"angularaxis\": {\"gridcolor\": \"white\", \"linecolor\": \"white\", \"ticks\": \"\"}, \"bgcolor\": \"#E5ECF6\", \"radialaxis\": {\"gridcolor\": \"white\", \"linecolor\": \"white\", \"ticks\": \"\"}}, \"scene\": {\"xaxis\": {\"backgroundcolor\": \"#E5ECF6\", \"gridcolor\": \"white\", \"gridwidth\": 2, \"linecolor\": \"white\", \"showbackground\": true, \"ticks\": \"\", \"zerolinecolor\": \"white\"}, \"yaxis\": {\"backgroundcolor\": \"#E5ECF6\", \"gridcolor\": \"white\", \"gridwidth\": 2, \"linecolor\": \"white\", \"showbackground\": true, \"ticks\": \"\", \"zerolinecolor\": \"white\"}, \"zaxis\": {\"backgroundcolor\": \"#E5ECF6\", \"gridcolor\": \"white\", \"gridwidth\": 2, \"linecolor\": \"white\", \"showbackground\": true, \"ticks\": \"\", \"zerolinecolor\": \"white\"}}, \"shapedefaults\": {\"line\": {\"color\": \"#2a3f5f\"}}, \"ternary\": {\"aaxis\": {\"gridcolor\": \"white\", \"linecolor\": \"white\", \"ticks\": \"\"}, \"baxis\": {\"gridcolor\": \"white\", \"linecolor\": \"white\", \"ticks\": \"\"}, \"bgcolor\": \"#E5ECF6\", \"caxis\": {\"gridcolor\": \"white\", \"linecolor\": \"white\", \"ticks\": \"\"}}, \"title\": {\"x\": 0.05}, \"xaxis\": {\"automargin\": true, \"gridcolor\": \"white\", \"linecolor\": \"white\", \"ticks\": \"\", \"title\": {\"standoff\": 15}, \"zerolinecolor\": \"white\", \"zerolinewidth\": 2}, \"yaxis\": {\"automargin\": true, \"gridcolor\": \"white\", \"linecolor\": \"white\", \"ticks\": \"\", \"title\": {\"standoff\": 15}, \"zerolinecolor\": \"white\", \"zerolinewidth\": 2}}}, \"title\": {\"text\": \"\\u58f2\\u4e0a\"}},\n",
       "                        {\"responsive\": true}\n",
       "                    ).then(function(){\n",
       "                            \n",
       "var gd = document.getElementById('b33a7968-7f8f-4483-a462-6a8a1f7a2dcd');\n",
       "var x = new MutationObserver(function (mutations, observer) {{\n",
       "        var display = window.getComputedStyle(gd).display;\n",
       "        if (!display || display === 'none') {{\n",
       "            console.log([gd, 'removed!']);\n",
       "            Plotly.purge(gd);\n",
       "            observer.disconnect();\n",
       "        }}\n",
       "}});\n",
       "\n",
       "// Listen for the removal of the full notebook cells\n",
       "var notebookContainer = gd.closest('#notebook-container');\n",
       "if (notebookContainer) {{\n",
       "    x.observe(notebookContainer, {childList: true});\n",
       "}}\n",
       "\n",
       "// Listen for the clearing of the current output cell\n",
       "var outputEl = gd.closest('.output');\n",
       "if (outputEl) {{\n",
       "    x.observe(outputEl, {childList: true});\n",
       "}}\n",
       "\n",
       "                        })\n",
       "                };\n",
       "                });\n",
       "            </script>\n",
       "        </div>"
      ]
     },
     "metadata": {},
     "output_type": "display_data"
    }
   ],
   "source": [
    "px.treemap(\n",
    "    groupby_fyq.get_group(\"2019Q4\"),\n",
    "    path=[\"17業種区分\", \"company_name\"],\n",
    "    values=\"net_sales\",\n",
    "    title=\"売上\",\n",
    ")"
   ]
  },
  {
   "cell_type": "code",
   "execution_count": 11,
   "metadata": {},
   "outputs": [
    {
     "data": {
      "application/vnd.plotly.v1+json": {
       "config": {
        "plotlyServerURL": "https://plot.ly"
       },
       "data": [
        {
         "branchvalues": "total",
         "customdata": [
          [
           39826000000
          ],
          [
           12207999999.999998
          ],
          [
           3814000000.0000005
          ],
          [
           874463000
          ],
          [
           280617000000
          ],
          [
           12195000000
          ],
          [
           null
          ],
          [
           1557000000
          ],
          [
           23565000000
          ],
          [
           167755000000
          ],
          [
           186570000000
          ],
          [
           56205000000.00001
          ],
          [
           100632000000
          ],
          [
           11101000000
          ],
          [
           -406119000000
          ],
          [
           38696000000
          ],
          [
           127609000000.00002
          ],
          [
           -40469000000
          ],
          [
           211841000000.00003
          ],
          [
           62653000000.00001
          ],
          [
           22794000000
          ],
          [
           27271000000
          ],
          [
           54344000000
          ],
          [
           4604000000
          ],
          [
           41845000000
          ],
          [
           5155000000
          ],
          [
           283859000
          ],
          [
           4549000000
          ],
          [
           -360518000
          ],
          [
           -28488000
          ],
          [
           54288000000
          ],
          [
           250707000000
          ],
          [
           null
          ],
          [
           13103000000
          ],
          [
           148359000
          ],
          [
           2918000000
          ],
          [
           128233000000
          ],
          [
           22517000000
          ],
          [
           1191000000
          ],
          [
           21230000000
          ],
          [
           58564000000
          ],
          [
           233000000
          ],
          [
           2569000000
          ],
          [
           -144480000
          ],
          [
           101624000000
          ],
          [
           280617000000
          ],
          [
           null
          ],
          [
           -360518000
          ],
          [
           111863163548.07214
          ],
          [
           9661593323.11027
          ],
          [
           245840450280.25244
          ],
          [
           125314803437.53325
          ],
          [
           -6555143992.728579
          ],
          [
           63175538036.18711
          ],
          [
           54288000000
          ],
          [
           -348640668154.48413
          ],
          [
           211841000000.00003
          ],
          [
           null
          ],
          [
           18937179049.569897
          ]
         ],
         "domain": {
          "x": [
           0,
           1
          ],
          "y": [
           0,
           1
          ]
         },
         "hovertemplate": "labels=%{label}<br>net_sales=%{value}<br>parent=%{parent}<br>id=%{id}<br>operating_income=%{color}<extra></extra>",
         "ids": [
          "食品 /キッコーマン株式会社",
          "食品 /サッポロホールディングス株式会社",
          "情報通信・サービスその他 /セントラルスポーツ株式会社",
          "情報通信・サービスその他 /マークラインズ株式会社",
          "不動産 /三井不動産株式会社",
          "運輸・物流 /三菱倉庫株式会社",
          "商社・卸売 /伊藤忠商事株式会社",
          "素材・化学 /住江織物株式会社",
          "鉄鋼・非鉄 /古河電気工業株式会社",
          "建設・資材 /大成建設株式会社",
          "素材・化学 /富士フイルムホールディングス株式会社",
          "素材・化学 /帝人株式会社",
          "運輸・物流 /日本航空株式会社",
          "食品 /日本製粉株式会社",
          "鉄鋼・非鉄 /日本製鉄株式会社",
          "運輸・物流 /日本郵船株式会社",
          "電機・精密 /日本電気株式会社",
          "自動車・輸送機 /日産自動車株式会社",
          "電力・ガス /東京電力ホールディングス株式会社",
          "運輸・物流 /東武鉄道株式会社",
          "素材・化学 /東洋紡株式会社",
          "建設・資材 /東洋製罐グループホールディングス株式会社",
          "建設・資材 /東海カーボン株式会社",
          "情報通信・サービスその他 /松竹株式会社",
          "電機・精密 /株式会社　島津製作所",
          "情報通信・サービスその他 /株式会社アミューズ",
          "建設・資材 /株式会社エムビーエス",
          "機械 /株式会社ツガミ",
          "小売 /株式会社ポプラ",
          "情報通信・サービスその他 /株式会社マツモト",
          "金融（除く銀行） /株式会社大和証券グループ本社",
          "機械 /株式会社小松製作所",
          "電機・精密 /株式会社日立製作所",
          "情報通信・サービスその他 /株式会社東京放送ホールディングス",
          "情報通信・サービスその他 /株式会社東京會舘",
          "食品 /株式会社極洋",
          "自動車・輸送機 /株式会社豊田自動織機",
          "素材・化学 /株式会社ＡＤＥＫＡ",
          "商社・卸売 /株式会社ＧＳＩクレオス",
          "食品 /森永製菓株式会社",
          "自動車・輸送機 /横浜ゴム株式会社",
          "電機・精密 /澤藤電機株式会社",
          "素材・化学 /片倉工業株式会社",
          "食品 /石垣食品株式会社",
          "建設・資材 /ＡＧＣ株式会社",
          "不動産 ",
          "商社・卸売 ",
          "小売 ",
          "建設・資材 ",
          "情報通信・サービスその他 ",
          "機械 ",
          "素材・化学 ",
          "自動車・輸送機 ",
          "運輸・物流 ",
          "金融（除く銀行） ",
          "鉄鋼・非鉄 ",
          "電力・ガス ",
          "電機・精密 ",
          "食品 "
         ],
         "labels": [
          "キッコーマン株式会社",
          "サッポロホールディングス株式会社",
          "セントラルスポーツ株式会社",
          "マークラインズ株式会社",
          "三井不動産株式会社",
          "三菱倉庫株式会社",
          "伊藤忠商事株式会社",
          "住江織物株式会社",
          "古河電気工業株式会社",
          "大成建設株式会社",
          "富士フイルムホールディングス株式会社",
          "帝人株式会社",
          "日本航空株式会社",
          "日本製粉株式会社",
          "日本製鉄株式会社",
          "日本郵船株式会社",
          "日本電気株式会社",
          "日産自動車株式会社",
          "東京電力ホールディングス株式会社",
          "東武鉄道株式会社",
          "東洋紡株式会社",
          "東洋製罐グループホールディングス株式会社",
          "東海カーボン株式会社",
          "松竹株式会社",
          "株式会社　島津製作所",
          "株式会社アミューズ",
          "株式会社エムビーエス",
          "株式会社ツガミ",
          "株式会社ポプラ",
          "株式会社マツモト",
          "株式会社大和証券グループ本社",
          "株式会社小松製作所",
          "株式会社日立製作所",
          "株式会社東京放送ホールディングス",
          "株式会社東京會舘",
          "株式会社極洋",
          "株式会社豊田自動織機",
          "株式会社ＡＤＥＫＡ",
          "株式会社ＧＳＩクレオス",
          "森永製菓株式会社",
          "横浜ゴム株式会社",
          "澤藤電機株式会社",
          "片倉工業株式会社",
          "石垣食品株式会社",
          "ＡＧＣ株式会社",
          "不動産 ",
          "商社・卸売 ",
          "小売 ",
          "建設・資材 ",
          "情報通信・サービスその他 ",
          "機械 ",
          "素材・化学 ",
          "自動車・輸送機 ",
          "運輸・物流 ",
          "金融（除く銀行） ",
          "鉄鋼・非鉄 ",
          "電力・ガス ",
          "電機・精密 ",
          "食品 "
         ],
         "marker": {
          "coloraxis": "coloraxis",
          "colors": [
           39826000000,
           12207999999.999998,
           3814000000.0000005,
           874463000,
           280617000000,
           12195000000,
           null,
           1557000000,
           23565000000,
           167755000000,
           186570000000,
           56205000000.00001,
           100632000000,
           11101000000,
           -406119000000,
           38696000000,
           127609000000.00002,
           -40469000000,
           211841000000.00003,
           62653000000.00001,
           22794000000,
           27271000000,
           54344000000,
           4604000000,
           41845000000,
           5155000000,
           283859000,
           4549000000,
           -360518000,
           -28488000,
           54288000000,
           250707000000,
           null,
           13103000000,
           148359000,
           2918000000,
           128233000000,
           22517000000,
           1191000000,
           21230000000,
           58564000000,
           233000000,
           2569000000,
           -144480000,
           101624000000,
           280617000000,
           null,
           -360518000,
           111863163548.07214,
           9661593323.11027,
           245840450280.25244,
           125314803437.53325,
           -6555143992.728579,
           63175538036.18711,
           54288000000,
           -348640668154.48413,
           211841000000.00003,
           null,
           18937179049.569897
          ]
         },
         "name": "",
         "parents": [
          "食品 ",
          "食品 ",
          "情報通信・サービスその他 ",
          "情報通信・サービスその他 ",
          "不動産 ",
          "運輸・物流 ",
          "商社・卸売 ",
          "素材・化学 ",
          "鉄鋼・非鉄 ",
          "建設・資材 ",
          "素材・化学 ",
          "素材・化学 ",
          "運輸・物流 ",
          "食品 ",
          "鉄鋼・非鉄 ",
          "運輸・物流 ",
          "電機・精密 ",
          "自動車・輸送機 ",
          "電力・ガス ",
          "運輸・物流 ",
          "素材・化学 ",
          "建設・資材 ",
          "建設・資材 ",
          "情報通信・サービスその他 ",
          "電機・精密 ",
          "情報通信・サービスその他 ",
          "建設・資材 ",
          "機械 ",
          "小売 ",
          "情報通信・サービスその他 ",
          "金融（除く銀行） ",
          "機械 ",
          "電機・精密 ",
          "情報通信・サービスその他 ",
          "情報通信・サービスその他 ",
          "食品 ",
          "自動車・輸送機 ",
          "素材・化学 ",
          "商社・卸売 ",
          "食品 ",
          "自動車・輸送機 ",
          "電機・精密 ",
          "素材・化学 ",
          "食品 ",
          "建設・資材 ",
          "",
          "",
          "",
          "",
          "",
          "",
          "",
          "",
          "",
          "",
          "",
          "",
          "",
          ""
         ],
         "type": "treemap",
         "values": [
          468616000000,
          491896000000,
          53386000000,
          2380655000,
          1905642000000,
          229057000000,
          10982968000000,
          91512000000,
          914439000000,
          1751330000000,
          2315141000000,
          853746000000,
          1411230000000,
          344839000000,
          5921525000000,
          1668355000000,
          3095234000000,
          9878866000000,
          6241422000000,
          653874000000,
          339607000000,
          790814000000,
          262028000000,
          97479000000,
          385443000000,
          58806000000,
          3345618000,
          49310000000,
          25370179000,
          2818992000,
          672287000000,
          2444870000000,
          8767263000000,
          356796000000,
          11504107000,
          262519000000,
          2171355000000,
          304131000000,
          115548000000,
          208878000000,
          650462000000,
          29995000000,
          44043000000,
          2627670000,
          1518039000000,
          1905642000000,
          11098516000000,
          25370179000,
          4325556618000,
          583170754000,
          2494180000000,
          3948180000000,
          12700683000000,
          3962516000000,
          672287000000,
          6835964000000,
          6241422000000,
          12277935000000,
          1779375670000
         ]
        }
       ],
       "layout": {
        "coloraxis": {
         "colorbar": {
          "title": {
           "text": "operating_income"
          }
         },
         "colorscale": [
          [
           0,
           "rgb(255,0,0)"
          ],
          [
           1,
           "rgb(0,0,255)"
          ]
         ]
        },
        "legend": {
         "tracegroupgap": 0
        },
        "template": {
         "data": {
          "bar": [
           {
            "error_x": {
             "color": "#2a3f5f"
            },
            "error_y": {
             "color": "#2a3f5f"
            },
            "marker": {
             "line": {
              "color": "#E5ECF6",
              "width": 0.5
             }
            },
            "type": "bar"
           }
          ],
          "barpolar": [
           {
            "marker": {
             "line": {
              "color": "#E5ECF6",
              "width": 0.5
             }
            },
            "type": "barpolar"
           }
          ],
          "carpet": [
           {
            "aaxis": {
             "endlinecolor": "#2a3f5f",
             "gridcolor": "white",
             "linecolor": "white",
             "minorgridcolor": "white",
             "startlinecolor": "#2a3f5f"
            },
            "baxis": {
             "endlinecolor": "#2a3f5f",
             "gridcolor": "white",
             "linecolor": "white",
             "minorgridcolor": "white",
             "startlinecolor": "#2a3f5f"
            },
            "type": "carpet"
           }
          ],
          "choropleth": [
           {
            "colorbar": {
             "outlinewidth": 0,
             "ticks": ""
            },
            "type": "choropleth"
           }
          ],
          "contour": [
           {
            "colorbar": {
             "outlinewidth": 0,
             "ticks": ""
            },
            "colorscale": [
             [
              0,
              "#0d0887"
             ],
             [
              0.1111111111111111,
              "#46039f"
             ],
             [
              0.2222222222222222,
              "#7201a8"
             ],
             [
              0.3333333333333333,
              "#9c179e"
             ],
             [
              0.4444444444444444,
              "#bd3786"
             ],
             [
              0.5555555555555556,
              "#d8576b"
             ],
             [
              0.6666666666666666,
              "#ed7953"
             ],
             [
              0.7777777777777778,
              "#fb9f3a"
             ],
             [
              0.8888888888888888,
              "#fdca26"
             ],
             [
              1,
              "#f0f921"
             ]
            ],
            "type": "contour"
           }
          ],
          "contourcarpet": [
           {
            "colorbar": {
             "outlinewidth": 0,
             "ticks": ""
            },
            "type": "contourcarpet"
           }
          ],
          "heatmap": [
           {
            "colorbar": {
             "outlinewidth": 0,
             "ticks": ""
            },
            "colorscale": [
             [
              0,
              "#0d0887"
             ],
             [
              0.1111111111111111,
              "#46039f"
             ],
             [
              0.2222222222222222,
              "#7201a8"
             ],
             [
              0.3333333333333333,
              "#9c179e"
             ],
             [
              0.4444444444444444,
              "#bd3786"
             ],
             [
              0.5555555555555556,
              "#d8576b"
             ],
             [
              0.6666666666666666,
              "#ed7953"
             ],
             [
              0.7777777777777778,
              "#fb9f3a"
             ],
             [
              0.8888888888888888,
              "#fdca26"
             ],
             [
              1,
              "#f0f921"
             ]
            ],
            "type": "heatmap"
           }
          ],
          "heatmapgl": [
           {
            "colorbar": {
             "outlinewidth": 0,
             "ticks": ""
            },
            "colorscale": [
             [
              0,
              "#0d0887"
             ],
             [
              0.1111111111111111,
              "#46039f"
             ],
             [
              0.2222222222222222,
              "#7201a8"
             ],
             [
              0.3333333333333333,
              "#9c179e"
             ],
             [
              0.4444444444444444,
              "#bd3786"
             ],
             [
              0.5555555555555556,
              "#d8576b"
             ],
             [
              0.6666666666666666,
              "#ed7953"
             ],
             [
              0.7777777777777778,
              "#fb9f3a"
             ],
             [
              0.8888888888888888,
              "#fdca26"
             ],
             [
              1,
              "#f0f921"
             ]
            ],
            "type": "heatmapgl"
           }
          ],
          "histogram": [
           {
            "marker": {
             "colorbar": {
              "outlinewidth": 0,
              "ticks": ""
             }
            },
            "type": "histogram"
           }
          ],
          "histogram2d": [
           {
            "colorbar": {
             "outlinewidth": 0,
             "ticks": ""
            },
            "colorscale": [
             [
              0,
              "#0d0887"
             ],
             [
              0.1111111111111111,
              "#46039f"
             ],
             [
              0.2222222222222222,
              "#7201a8"
             ],
             [
              0.3333333333333333,
              "#9c179e"
             ],
             [
              0.4444444444444444,
              "#bd3786"
             ],
             [
              0.5555555555555556,
              "#d8576b"
             ],
             [
              0.6666666666666666,
              "#ed7953"
             ],
             [
              0.7777777777777778,
              "#fb9f3a"
             ],
             [
              0.8888888888888888,
              "#fdca26"
             ],
             [
              1,
              "#f0f921"
             ]
            ],
            "type": "histogram2d"
           }
          ],
          "histogram2dcontour": [
           {
            "colorbar": {
             "outlinewidth": 0,
             "ticks": ""
            },
            "colorscale": [
             [
              0,
              "#0d0887"
             ],
             [
              0.1111111111111111,
              "#46039f"
             ],
             [
              0.2222222222222222,
              "#7201a8"
             ],
             [
              0.3333333333333333,
              "#9c179e"
             ],
             [
              0.4444444444444444,
              "#bd3786"
             ],
             [
              0.5555555555555556,
              "#d8576b"
             ],
             [
              0.6666666666666666,
              "#ed7953"
             ],
             [
              0.7777777777777778,
              "#fb9f3a"
             ],
             [
              0.8888888888888888,
              "#fdca26"
             ],
             [
              1,
              "#f0f921"
             ]
            ],
            "type": "histogram2dcontour"
           }
          ],
          "mesh3d": [
           {
            "colorbar": {
             "outlinewidth": 0,
             "ticks": ""
            },
            "type": "mesh3d"
           }
          ],
          "parcoords": [
           {
            "line": {
             "colorbar": {
              "outlinewidth": 0,
              "ticks": ""
             }
            },
            "type": "parcoords"
           }
          ],
          "pie": [
           {
            "automargin": true,
            "type": "pie"
           }
          ],
          "scatter": [
           {
            "marker": {
             "colorbar": {
              "outlinewidth": 0,
              "ticks": ""
             }
            },
            "type": "scatter"
           }
          ],
          "scatter3d": [
           {
            "line": {
             "colorbar": {
              "outlinewidth": 0,
              "ticks": ""
             }
            },
            "marker": {
             "colorbar": {
              "outlinewidth": 0,
              "ticks": ""
             }
            },
            "type": "scatter3d"
           }
          ],
          "scattercarpet": [
           {
            "marker": {
             "colorbar": {
              "outlinewidth": 0,
              "ticks": ""
             }
            },
            "type": "scattercarpet"
           }
          ],
          "scattergeo": [
           {
            "marker": {
             "colorbar": {
              "outlinewidth": 0,
              "ticks": ""
             }
            },
            "type": "scattergeo"
           }
          ],
          "scattergl": [
           {
            "marker": {
             "colorbar": {
              "outlinewidth": 0,
              "ticks": ""
             }
            },
            "type": "scattergl"
           }
          ],
          "scattermapbox": [
           {
            "marker": {
             "colorbar": {
              "outlinewidth": 0,
              "ticks": ""
             }
            },
            "type": "scattermapbox"
           }
          ],
          "scatterpolar": [
           {
            "marker": {
             "colorbar": {
              "outlinewidth": 0,
              "ticks": ""
             }
            },
            "type": "scatterpolar"
           }
          ],
          "scatterpolargl": [
           {
            "marker": {
             "colorbar": {
              "outlinewidth": 0,
              "ticks": ""
             }
            },
            "type": "scatterpolargl"
           }
          ],
          "scatterternary": [
           {
            "marker": {
             "colorbar": {
              "outlinewidth": 0,
              "ticks": ""
             }
            },
            "type": "scatterternary"
           }
          ],
          "surface": [
           {
            "colorbar": {
             "outlinewidth": 0,
             "ticks": ""
            },
            "colorscale": [
             [
              0,
              "#0d0887"
             ],
             [
              0.1111111111111111,
              "#46039f"
             ],
             [
              0.2222222222222222,
              "#7201a8"
             ],
             [
              0.3333333333333333,
              "#9c179e"
             ],
             [
              0.4444444444444444,
              "#bd3786"
             ],
             [
              0.5555555555555556,
              "#d8576b"
             ],
             [
              0.6666666666666666,
              "#ed7953"
             ],
             [
              0.7777777777777778,
              "#fb9f3a"
             ],
             [
              0.8888888888888888,
              "#fdca26"
             ],
             [
              1,
              "#f0f921"
             ]
            ],
            "type": "surface"
           }
          ],
          "table": [
           {
            "cells": {
             "fill": {
              "color": "#EBF0F8"
             },
             "line": {
              "color": "white"
             }
            },
            "header": {
             "fill": {
              "color": "#C8D4E3"
             },
             "line": {
              "color": "white"
             }
            },
            "type": "table"
           }
          ]
         },
         "layout": {
          "annotationdefaults": {
           "arrowcolor": "#2a3f5f",
           "arrowhead": 0,
           "arrowwidth": 1
          },
          "coloraxis": {
           "colorbar": {
            "outlinewidth": 0,
            "ticks": ""
           }
          },
          "colorscale": {
           "diverging": [
            [
             0,
             "#8e0152"
            ],
            [
             0.1,
             "#c51b7d"
            ],
            [
             0.2,
             "#de77ae"
            ],
            [
             0.3,
             "#f1b6da"
            ],
            [
             0.4,
             "#fde0ef"
            ],
            [
             0.5,
             "#f7f7f7"
            ],
            [
             0.6,
             "#e6f5d0"
            ],
            [
             0.7,
             "#b8e186"
            ],
            [
             0.8,
             "#7fbc41"
            ],
            [
             0.9,
             "#4d9221"
            ],
            [
             1,
             "#276419"
            ]
           ],
           "sequential": [
            [
             0,
             "#0d0887"
            ],
            [
             0.1111111111111111,
             "#46039f"
            ],
            [
             0.2222222222222222,
             "#7201a8"
            ],
            [
             0.3333333333333333,
             "#9c179e"
            ],
            [
             0.4444444444444444,
             "#bd3786"
            ],
            [
             0.5555555555555556,
             "#d8576b"
            ],
            [
             0.6666666666666666,
             "#ed7953"
            ],
            [
             0.7777777777777778,
             "#fb9f3a"
            ],
            [
             0.8888888888888888,
             "#fdca26"
            ],
            [
             1,
             "#f0f921"
            ]
           ],
           "sequentialminus": [
            [
             0,
             "#0d0887"
            ],
            [
             0.1111111111111111,
             "#46039f"
            ],
            [
             0.2222222222222222,
             "#7201a8"
            ],
            [
             0.3333333333333333,
             "#9c179e"
            ],
            [
             0.4444444444444444,
             "#bd3786"
            ],
            [
             0.5555555555555556,
             "#d8576b"
            ],
            [
             0.6666666666666666,
             "#ed7953"
            ],
            [
             0.7777777777777778,
             "#fb9f3a"
            ],
            [
             0.8888888888888888,
             "#fdca26"
            ],
            [
             1,
             "#f0f921"
            ]
           ]
          },
          "colorway": [
           "#636efa",
           "#EF553B",
           "#00cc96",
           "#ab63fa",
           "#FFA15A",
           "#19d3f3",
           "#FF6692",
           "#B6E880",
           "#FF97FF",
           "#FECB52"
          ],
          "font": {
           "color": "#2a3f5f"
          },
          "geo": {
           "bgcolor": "white",
           "lakecolor": "white",
           "landcolor": "#E5ECF6",
           "showlakes": true,
           "showland": true,
           "subunitcolor": "white"
          },
          "hoverlabel": {
           "align": "left"
          },
          "hovermode": "closest",
          "mapbox": {
           "style": "light"
          },
          "paper_bgcolor": "white",
          "plot_bgcolor": "#E5ECF6",
          "polar": {
           "angularaxis": {
            "gridcolor": "white",
            "linecolor": "white",
            "ticks": ""
           },
           "bgcolor": "#E5ECF6",
           "radialaxis": {
            "gridcolor": "white",
            "linecolor": "white",
            "ticks": ""
           }
          },
          "scene": {
           "xaxis": {
            "backgroundcolor": "#E5ECF6",
            "gridcolor": "white",
            "gridwidth": 2,
            "linecolor": "white",
            "showbackground": true,
            "ticks": "",
            "zerolinecolor": "white"
           },
           "yaxis": {
            "backgroundcolor": "#E5ECF6",
            "gridcolor": "white",
            "gridwidth": 2,
            "linecolor": "white",
            "showbackground": true,
            "ticks": "",
            "zerolinecolor": "white"
           },
           "zaxis": {
            "backgroundcolor": "#E5ECF6",
            "gridcolor": "white",
            "gridwidth": 2,
            "linecolor": "white",
            "showbackground": true,
            "ticks": "",
            "zerolinecolor": "white"
           }
          },
          "shapedefaults": {
           "line": {
            "color": "#2a3f5f"
           }
          },
          "ternary": {
           "aaxis": {
            "gridcolor": "white",
            "linecolor": "white",
            "ticks": ""
           },
           "baxis": {
            "gridcolor": "white",
            "linecolor": "white",
            "ticks": ""
           },
           "bgcolor": "#E5ECF6",
           "caxis": {
            "gridcolor": "white",
            "linecolor": "white",
            "ticks": ""
           }
          },
          "title": {
           "x": 0.05
          },
          "xaxis": {
           "automargin": true,
           "gridcolor": "white",
           "linecolor": "white",
           "ticks": "",
           "title": {
            "standoff": 15
           },
           "zerolinecolor": "white",
           "zerolinewidth": 2
          },
          "yaxis": {
           "automargin": true,
           "gridcolor": "white",
           "linecolor": "white",
           "ticks": "",
           "title": {
            "standoff": 15
           },
           "zerolinecolor": "white",
           "zerolinewidth": 2
          }
         }
        },
        "title": {
         "text": "売上/営業利益"
        }
       }
      },
      "text/html": [
       "<div>\n",
       "        \n",
       "        \n",
       "            <div id=\"4072d613-34f9-4609-95de-9f2cac834ecf\" class=\"plotly-graph-div\" style=\"height:525px; width:100%;\"></div>\n",
       "            <script type=\"text/javascript\">\n",
       "                require([\"plotly\"], function(Plotly) {\n",
       "                    window.PLOTLYENV=window.PLOTLYENV || {};\n",
       "                    \n",
       "                if (document.getElementById(\"4072d613-34f9-4609-95de-9f2cac834ecf\")) {\n",
       "                    Plotly.newPlot(\n",
       "                        '4072d613-34f9-4609-95de-9f2cac834ecf',\n",
       "                        [{\"branchvalues\": \"total\", \"customdata\": [[39826000000.0], [12207999999.999998], [3814000000.0000005], [874463000.0], [280617000000.0], [12195000000.0], [null], [1557000000.0], [23565000000.0], [167755000000.0], [186570000000.0], [56205000000.00001], [100632000000.0], [11101000000.0], [-406119000000.0], [38696000000.0], [127609000000.00002], [-40469000000.0], [211841000000.00003], [62653000000.00001], [22794000000.0], [27271000000.0], [54344000000.0], [4604000000.0], [41845000000.0], [5155000000.0], [283859000.0], [4549000000.0], [-360518000.0], [-28488000.0], [54288000000.0], [250707000000.0], [null], [13103000000.0], [148359000.0], [2918000000.0], [128233000000.0], [22517000000.0], [1191000000.0], [21230000000.0], [58564000000.0], [233000000.0], [2569000000.0], [-144480000.0], [101624000000.0], [280617000000.0], [null], [-360518000.0], [111863163548.07214], [9661593323.11027], [245840450280.25244], [125314803437.53325], [-6555143992.728579], [63175538036.18711], [54288000000.0], [-348640668154.48413], [211841000000.00003], [null], [18937179049.569897]], \"domain\": {\"x\": [0.0, 1.0], \"y\": [0.0, 1.0]}, \"hovertemplate\": \"labels=%{label}<br>net_sales=%{value}<br>parent=%{parent}<br>id=%{id}<br>operating_income=%{color}<extra></extra>\", \"ids\": [\"\\u98df\\u54c1 /\\u30ad\\u30c3\\u30b3\\u30fc\\u30de\\u30f3\\u682a\\u5f0f\\u4f1a\\u793e\", \"\\u98df\\u54c1 /\\u30b5\\u30c3\\u30dd\\u30ed\\u30db\\u30fc\\u30eb\\u30c7\\u30a3\\u30f3\\u30b0\\u30b9\\u682a\\u5f0f\\u4f1a\\u793e\", \"\\u60c5\\u5831\\u901a\\u4fe1\\u30fb\\u30b5\\u30fc\\u30d3\\u30b9\\u305d\\u306e\\u4ed6 /\\u30bb\\u30f3\\u30c8\\u30e9\\u30eb\\u30b9\\u30dd\\u30fc\\u30c4\\u682a\\u5f0f\\u4f1a\\u793e\", \"\\u60c5\\u5831\\u901a\\u4fe1\\u30fb\\u30b5\\u30fc\\u30d3\\u30b9\\u305d\\u306e\\u4ed6 /\\u30de\\u30fc\\u30af\\u30e9\\u30a4\\u30f3\\u30ba\\u682a\\u5f0f\\u4f1a\\u793e\", \"\\u4e0d\\u52d5\\u7523 /\\u4e09\\u4e95\\u4e0d\\u52d5\\u7523\\u682a\\u5f0f\\u4f1a\\u793e\", \"\\u904b\\u8f38\\u30fb\\u7269\\u6d41 /\\u4e09\\u83f1\\u5009\\u5eab\\u682a\\u5f0f\\u4f1a\\u793e\", \"\\u5546\\u793e\\u30fb\\u5378\\u58f2 /\\u4f0a\\u85e4\\u5fe0\\u5546\\u4e8b\\u682a\\u5f0f\\u4f1a\\u793e\", \"\\u7d20\\u6750\\u30fb\\u5316\\u5b66 /\\u4f4f\\u6c5f\\u7e54\\u7269\\u682a\\u5f0f\\u4f1a\\u793e\", \"\\u9244\\u92fc\\u30fb\\u975e\\u9244 /\\u53e4\\u6cb3\\u96fb\\u6c17\\u5de5\\u696d\\u682a\\u5f0f\\u4f1a\\u793e\", \"\\u5efa\\u8a2d\\u30fb\\u8cc7\\u6750 /\\u5927\\u6210\\u5efa\\u8a2d\\u682a\\u5f0f\\u4f1a\\u793e\", \"\\u7d20\\u6750\\u30fb\\u5316\\u5b66 /\\u5bcc\\u58eb\\u30d5\\u30a4\\u30eb\\u30e0\\u30db\\u30fc\\u30eb\\u30c7\\u30a3\\u30f3\\u30b0\\u30b9\\u682a\\u5f0f\\u4f1a\\u793e\", \"\\u7d20\\u6750\\u30fb\\u5316\\u5b66 /\\u5e1d\\u4eba\\u682a\\u5f0f\\u4f1a\\u793e\", \"\\u904b\\u8f38\\u30fb\\u7269\\u6d41 /\\u65e5\\u672c\\u822a\\u7a7a\\u682a\\u5f0f\\u4f1a\\u793e\", \"\\u98df\\u54c1 /\\u65e5\\u672c\\u88fd\\u7c89\\u682a\\u5f0f\\u4f1a\\u793e\", \"\\u9244\\u92fc\\u30fb\\u975e\\u9244 /\\u65e5\\u672c\\u88fd\\u9244\\u682a\\u5f0f\\u4f1a\\u793e\", \"\\u904b\\u8f38\\u30fb\\u7269\\u6d41 /\\u65e5\\u672c\\u90f5\\u8239\\u682a\\u5f0f\\u4f1a\\u793e\", \"\\u96fb\\u6a5f\\u30fb\\u7cbe\\u5bc6 /\\u65e5\\u672c\\u96fb\\u6c17\\u682a\\u5f0f\\u4f1a\\u793e\", \"\\u81ea\\u52d5\\u8eca\\u30fb\\u8f38\\u9001\\u6a5f /\\u65e5\\u7523\\u81ea\\u52d5\\u8eca\\u682a\\u5f0f\\u4f1a\\u793e\", \"\\u96fb\\u529b\\u30fb\\u30ac\\u30b9 /\\u6771\\u4eac\\u96fb\\u529b\\u30db\\u30fc\\u30eb\\u30c7\\u30a3\\u30f3\\u30b0\\u30b9\\u682a\\u5f0f\\u4f1a\\u793e\", \"\\u904b\\u8f38\\u30fb\\u7269\\u6d41 /\\u6771\\u6b66\\u9244\\u9053\\u682a\\u5f0f\\u4f1a\\u793e\", \"\\u7d20\\u6750\\u30fb\\u5316\\u5b66 /\\u6771\\u6d0b\\u7d21\\u682a\\u5f0f\\u4f1a\\u793e\", \"\\u5efa\\u8a2d\\u30fb\\u8cc7\\u6750 /\\u6771\\u6d0b\\u88fd\\u7f50\\u30b0\\u30eb\\u30fc\\u30d7\\u30db\\u30fc\\u30eb\\u30c7\\u30a3\\u30f3\\u30b0\\u30b9\\u682a\\u5f0f\\u4f1a\\u793e\", \"\\u5efa\\u8a2d\\u30fb\\u8cc7\\u6750 /\\u6771\\u6d77\\u30ab\\u30fc\\u30dc\\u30f3\\u682a\\u5f0f\\u4f1a\\u793e\", \"\\u60c5\\u5831\\u901a\\u4fe1\\u30fb\\u30b5\\u30fc\\u30d3\\u30b9\\u305d\\u306e\\u4ed6 /\\u677e\\u7af9\\u682a\\u5f0f\\u4f1a\\u793e\", \"\\u96fb\\u6a5f\\u30fb\\u7cbe\\u5bc6 /\\u682a\\u5f0f\\u4f1a\\u793e\\u3000\\u5cf6\\u6d25\\u88fd\\u4f5c\\u6240\", \"\\u60c5\\u5831\\u901a\\u4fe1\\u30fb\\u30b5\\u30fc\\u30d3\\u30b9\\u305d\\u306e\\u4ed6 /\\u682a\\u5f0f\\u4f1a\\u793e\\u30a2\\u30df\\u30e5\\u30fc\\u30ba\", \"\\u5efa\\u8a2d\\u30fb\\u8cc7\\u6750 /\\u682a\\u5f0f\\u4f1a\\u793e\\u30a8\\u30e0\\u30d3\\u30fc\\u30a8\\u30b9\", \"\\u6a5f\\u68b0 /\\u682a\\u5f0f\\u4f1a\\u793e\\u30c4\\u30ac\\u30df\", \"\\u5c0f\\u58f2 /\\u682a\\u5f0f\\u4f1a\\u793e\\u30dd\\u30d7\\u30e9\", \"\\u60c5\\u5831\\u901a\\u4fe1\\u30fb\\u30b5\\u30fc\\u30d3\\u30b9\\u305d\\u306e\\u4ed6 /\\u682a\\u5f0f\\u4f1a\\u793e\\u30de\\u30c4\\u30e2\\u30c8\", \"\\u91d1\\u878d\\uff08\\u9664\\u304f\\u9280\\u884c\\uff09 /\\u682a\\u5f0f\\u4f1a\\u793e\\u5927\\u548c\\u8a3c\\u5238\\u30b0\\u30eb\\u30fc\\u30d7\\u672c\\u793e\", \"\\u6a5f\\u68b0 /\\u682a\\u5f0f\\u4f1a\\u793e\\u5c0f\\u677e\\u88fd\\u4f5c\\u6240\", \"\\u96fb\\u6a5f\\u30fb\\u7cbe\\u5bc6 /\\u682a\\u5f0f\\u4f1a\\u793e\\u65e5\\u7acb\\u88fd\\u4f5c\\u6240\", \"\\u60c5\\u5831\\u901a\\u4fe1\\u30fb\\u30b5\\u30fc\\u30d3\\u30b9\\u305d\\u306e\\u4ed6 /\\u682a\\u5f0f\\u4f1a\\u793e\\u6771\\u4eac\\u653e\\u9001\\u30db\\u30fc\\u30eb\\u30c7\\u30a3\\u30f3\\u30b0\\u30b9\", \"\\u60c5\\u5831\\u901a\\u4fe1\\u30fb\\u30b5\\u30fc\\u30d3\\u30b9\\u305d\\u306e\\u4ed6 /\\u682a\\u5f0f\\u4f1a\\u793e\\u6771\\u4eac\\u6703\\u8218\", \"\\u98df\\u54c1 /\\u682a\\u5f0f\\u4f1a\\u793e\\u6975\\u6d0b\", \"\\u81ea\\u52d5\\u8eca\\u30fb\\u8f38\\u9001\\u6a5f /\\u682a\\u5f0f\\u4f1a\\u793e\\u8c4a\\u7530\\u81ea\\u52d5\\u7e54\\u6a5f\", \"\\u7d20\\u6750\\u30fb\\u5316\\u5b66 /\\u682a\\u5f0f\\u4f1a\\u793e\\uff21\\uff24\\uff25\\uff2b\\uff21\", \"\\u5546\\u793e\\u30fb\\u5378\\u58f2 /\\u682a\\u5f0f\\u4f1a\\u793e\\uff27\\uff33\\uff29\\u30af\\u30ec\\u30aa\\u30b9\", \"\\u98df\\u54c1 /\\u68ee\\u6c38\\u88fd\\u83d3\\u682a\\u5f0f\\u4f1a\\u793e\", \"\\u81ea\\u52d5\\u8eca\\u30fb\\u8f38\\u9001\\u6a5f /\\u6a2a\\u6d5c\\u30b4\\u30e0\\u682a\\u5f0f\\u4f1a\\u793e\", \"\\u96fb\\u6a5f\\u30fb\\u7cbe\\u5bc6 /\\u6fa4\\u85e4\\u96fb\\u6a5f\\u682a\\u5f0f\\u4f1a\\u793e\", \"\\u7d20\\u6750\\u30fb\\u5316\\u5b66 /\\u7247\\u5009\\u5de5\\u696d\\u682a\\u5f0f\\u4f1a\\u793e\", \"\\u98df\\u54c1 /\\u77f3\\u57a3\\u98df\\u54c1\\u682a\\u5f0f\\u4f1a\\u793e\", \"\\u5efa\\u8a2d\\u30fb\\u8cc7\\u6750 /\\uff21\\uff27\\uff23\\u682a\\u5f0f\\u4f1a\\u793e\", \"\\u4e0d\\u52d5\\u7523 \", \"\\u5546\\u793e\\u30fb\\u5378\\u58f2 \", \"\\u5c0f\\u58f2 \", \"\\u5efa\\u8a2d\\u30fb\\u8cc7\\u6750 \", \"\\u60c5\\u5831\\u901a\\u4fe1\\u30fb\\u30b5\\u30fc\\u30d3\\u30b9\\u305d\\u306e\\u4ed6 \", \"\\u6a5f\\u68b0 \", \"\\u7d20\\u6750\\u30fb\\u5316\\u5b66 \", \"\\u81ea\\u52d5\\u8eca\\u30fb\\u8f38\\u9001\\u6a5f \", \"\\u904b\\u8f38\\u30fb\\u7269\\u6d41 \", \"\\u91d1\\u878d\\uff08\\u9664\\u304f\\u9280\\u884c\\uff09 \", \"\\u9244\\u92fc\\u30fb\\u975e\\u9244 \", \"\\u96fb\\u529b\\u30fb\\u30ac\\u30b9 \", \"\\u96fb\\u6a5f\\u30fb\\u7cbe\\u5bc6 \", \"\\u98df\\u54c1 \"], \"labels\": [\"\\u30ad\\u30c3\\u30b3\\u30fc\\u30de\\u30f3\\u682a\\u5f0f\\u4f1a\\u793e\", \"\\u30b5\\u30c3\\u30dd\\u30ed\\u30db\\u30fc\\u30eb\\u30c7\\u30a3\\u30f3\\u30b0\\u30b9\\u682a\\u5f0f\\u4f1a\\u793e\", \"\\u30bb\\u30f3\\u30c8\\u30e9\\u30eb\\u30b9\\u30dd\\u30fc\\u30c4\\u682a\\u5f0f\\u4f1a\\u793e\", \"\\u30de\\u30fc\\u30af\\u30e9\\u30a4\\u30f3\\u30ba\\u682a\\u5f0f\\u4f1a\\u793e\", \"\\u4e09\\u4e95\\u4e0d\\u52d5\\u7523\\u682a\\u5f0f\\u4f1a\\u793e\", \"\\u4e09\\u83f1\\u5009\\u5eab\\u682a\\u5f0f\\u4f1a\\u793e\", \"\\u4f0a\\u85e4\\u5fe0\\u5546\\u4e8b\\u682a\\u5f0f\\u4f1a\\u793e\", \"\\u4f4f\\u6c5f\\u7e54\\u7269\\u682a\\u5f0f\\u4f1a\\u793e\", \"\\u53e4\\u6cb3\\u96fb\\u6c17\\u5de5\\u696d\\u682a\\u5f0f\\u4f1a\\u793e\", \"\\u5927\\u6210\\u5efa\\u8a2d\\u682a\\u5f0f\\u4f1a\\u793e\", \"\\u5bcc\\u58eb\\u30d5\\u30a4\\u30eb\\u30e0\\u30db\\u30fc\\u30eb\\u30c7\\u30a3\\u30f3\\u30b0\\u30b9\\u682a\\u5f0f\\u4f1a\\u793e\", \"\\u5e1d\\u4eba\\u682a\\u5f0f\\u4f1a\\u793e\", \"\\u65e5\\u672c\\u822a\\u7a7a\\u682a\\u5f0f\\u4f1a\\u793e\", \"\\u65e5\\u672c\\u88fd\\u7c89\\u682a\\u5f0f\\u4f1a\\u793e\", \"\\u65e5\\u672c\\u88fd\\u9244\\u682a\\u5f0f\\u4f1a\\u793e\", \"\\u65e5\\u672c\\u90f5\\u8239\\u682a\\u5f0f\\u4f1a\\u793e\", \"\\u65e5\\u672c\\u96fb\\u6c17\\u682a\\u5f0f\\u4f1a\\u793e\", \"\\u65e5\\u7523\\u81ea\\u52d5\\u8eca\\u682a\\u5f0f\\u4f1a\\u793e\", \"\\u6771\\u4eac\\u96fb\\u529b\\u30db\\u30fc\\u30eb\\u30c7\\u30a3\\u30f3\\u30b0\\u30b9\\u682a\\u5f0f\\u4f1a\\u793e\", \"\\u6771\\u6b66\\u9244\\u9053\\u682a\\u5f0f\\u4f1a\\u793e\", \"\\u6771\\u6d0b\\u7d21\\u682a\\u5f0f\\u4f1a\\u793e\", \"\\u6771\\u6d0b\\u88fd\\u7f50\\u30b0\\u30eb\\u30fc\\u30d7\\u30db\\u30fc\\u30eb\\u30c7\\u30a3\\u30f3\\u30b0\\u30b9\\u682a\\u5f0f\\u4f1a\\u793e\", \"\\u6771\\u6d77\\u30ab\\u30fc\\u30dc\\u30f3\\u682a\\u5f0f\\u4f1a\\u793e\", \"\\u677e\\u7af9\\u682a\\u5f0f\\u4f1a\\u793e\", \"\\u682a\\u5f0f\\u4f1a\\u793e\\u3000\\u5cf6\\u6d25\\u88fd\\u4f5c\\u6240\", \"\\u682a\\u5f0f\\u4f1a\\u793e\\u30a2\\u30df\\u30e5\\u30fc\\u30ba\", \"\\u682a\\u5f0f\\u4f1a\\u793e\\u30a8\\u30e0\\u30d3\\u30fc\\u30a8\\u30b9\", \"\\u682a\\u5f0f\\u4f1a\\u793e\\u30c4\\u30ac\\u30df\", \"\\u682a\\u5f0f\\u4f1a\\u793e\\u30dd\\u30d7\\u30e9\", \"\\u682a\\u5f0f\\u4f1a\\u793e\\u30de\\u30c4\\u30e2\\u30c8\", \"\\u682a\\u5f0f\\u4f1a\\u793e\\u5927\\u548c\\u8a3c\\u5238\\u30b0\\u30eb\\u30fc\\u30d7\\u672c\\u793e\", \"\\u682a\\u5f0f\\u4f1a\\u793e\\u5c0f\\u677e\\u88fd\\u4f5c\\u6240\", \"\\u682a\\u5f0f\\u4f1a\\u793e\\u65e5\\u7acb\\u88fd\\u4f5c\\u6240\", \"\\u682a\\u5f0f\\u4f1a\\u793e\\u6771\\u4eac\\u653e\\u9001\\u30db\\u30fc\\u30eb\\u30c7\\u30a3\\u30f3\\u30b0\\u30b9\", \"\\u682a\\u5f0f\\u4f1a\\u793e\\u6771\\u4eac\\u6703\\u8218\", \"\\u682a\\u5f0f\\u4f1a\\u793e\\u6975\\u6d0b\", \"\\u682a\\u5f0f\\u4f1a\\u793e\\u8c4a\\u7530\\u81ea\\u52d5\\u7e54\\u6a5f\", \"\\u682a\\u5f0f\\u4f1a\\u793e\\uff21\\uff24\\uff25\\uff2b\\uff21\", \"\\u682a\\u5f0f\\u4f1a\\u793e\\uff27\\uff33\\uff29\\u30af\\u30ec\\u30aa\\u30b9\", \"\\u68ee\\u6c38\\u88fd\\u83d3\\u682a\\u5f0f\\u4f1a\\u793e\", \"\\u6a2a\\u6d5c\\u30b4\\u30e0\\u682a\\u5f0f\\u4f1a\\u793e\", \"\\u6fa4\\u85e4\\u96fb\\u6a5f\\u682a\\u5f0f\\u4f1a\\u793e\", \"\\u7247\\u5009\\u5de5\\u696d\\u682a\\u5f0f\\u4f1a\\u793e\", \"\\u77f3\\u57a3\\u98df\\u54c1\\u682a\\u5f0f\\u4f1a\\u793e\", \"\\uff21\\uff27\\uff23\\u682a\\u5f0f\\u4f1a\\u793e\", \"\\u4e0d\\u52d5\\u7523 \", \"\\u5546\\u793e\\u30fb\\u5378\\u58f2 \", \"\\u5c0f\\u58f2 \", \"\\u5efa\\u8a2d\\u30fb\\u8cc7\\u6750 \", \"\\u60c5\\u5831\\u901a\\u4fe1\\u30fb\\u30b5\\u30fc\\u30d3\\u30b9\\u305d\\u306e\\u4ed6 \", \"\\u6a5f\\u68b0 \", \"\\u7d20\\u6750\\u30fb\\u5316\\u5b66 \", \"\\u81ea\\u52d5\\u8eca\\u30fb\\u8f38\\u9001\\u6a5f \", \"\\u904b\\u8f38\\u30fb\\u7269\\u6d41 \", \"\\u91d1\\u878d\\uff08\\u9664\\u304f\\u9280\\u884c\\uff09 \", \"\\u9244\\u92fc\\u30fb\\u975e\\u9244 \", \"\\u96fb\\u529b\\u30fb\\u30ac\\u30b9 \", \"\\u96fb\\u6a5f\\u30fb\\u7cbe\\u5bc6 \", \"\\u98df\\u54c1 \"], \"marker\": {\"coloraxis\": \"coloraxis\", \"colors\": [39826000000.0, 12207999999.999998, 3814000000.0000005, 874463000.0, 280617000000.0, 12195000000.0, null, 1557000000.0, 23565000000.0, 167755000000.0, 186570000000.0, 56205000000.00001, 100632000000.0, 11101000000.0, -406119000000.0, 38696000000.0, 127609000000.00002, -40469000000.0, 211841000000.00003, 62653000000.00001, 22794000000.0, 27271000000.0, 54344000000.0, 4604000000.0, 41845000000.0, 5155000000.0, 283859000.0, 4549000000.0, -360518000.0, -28488000.0, 54288000000.0, 250707000000.0, null, 13103000000.0, 148359000.0, 2918000000.0, 128233000000.0, 22517000000.0, 1191000000.0, 21230000000.0, 58564000000.0, 233000000.0, 2569000000.0, -144480000.0, 101624000000.0, 280617000000.0, null, -360518000.0, 111863163548.07214, 9661593323.11027, 245840450280.25244, 125314803437.53325, -6555143992.728579, 63175538036.18711, 54288000000.0, -348640668154.48413, 211841000000.00003, null, 18937179049.569897]}, \"name\": \"\", \"parents\": [\"\\u98df\\u54c1 \", \"\\u98df\\u54c1 \", \"\\u60c5\\u5831\\u901a\\u4fe1\\u30fb\\u30b5\\u30fc\\u30d3\\u30b9\\u305d\\u306e\\u4ed6 \", \"\\u60c5\\u5831\\u901a\\u4fe1\\u30fb\\u30b5\\u30fc\\u30d3\\u30b9\\u305d\\u306e\\u4ed6 \", \"\\u4e0d\\u52d5\\u7523 \", \"\\u904b\\u8f38\\u30fb\\u7269\\u6d41 \", \"\\u5546\\u793e\\u30fb\\u5378\\u58f2 \", \"\\u7d20\\u6750\\u30fb\\u5316\\u5b66 \", \"\\u9244\\u92fc\\u30fb\\u975e\\u9244 \", \"\\u5efa\\u8a2d\\u30fb\\u8cc7\\u6750 \", \"\\u7d20\\u6750\\u30fb\\u5316\\u5b66 \", \"\\u7d20\\u6750\\u30fb\\u5316\\u5b66 \", \"\\u904b\\u8f38\\u30fb\\u7269\\u6d41 \", \"\\u98df\\u54c1 \", \"\\u9244\\u92fc\\u30fb\\u975e\\u9244 \", \"\\u904b\\u8f38\\u30fb\\u7269\\u6d41 \", \"\\u96fb\\u6a5f\\u30fb\\u7cbe\\u5bc6 \", \"\\u81ea\\u52d5\\u8eca\\u30fb\\u8f38\\u9001\\u6a5f \", \"\\u96fb\\u529b\\u30fb\\u30ac\\u30b9 \", \"\\u904b\\u8f38\\u30fb\\u7269\\u6d41 \", \"\\u7d20\\u6750\\u30fb\\u5316\\u5b66 \", \"\\u5efa\\u8a2d\\u30fb\\u8cc7\\u6750 \", \"\\u5efa\\u8a2d\\u30fb\\u8cc7\\u6750 \", \"\\u60c5\\u5831\\u901a\\u4fe1\\u30fb\\u30b5\\u30fc\\u30d3\\u30b9\\u305d\\u306e\\u4ed6 \", \"\\u96fb\\u6a5f\\u30fb\\u7cbe\\u5bc6 \", \"\\u60c5\\u5831\\u901a\\u4fe1\\u30fb\\u30b5\\u30fc\\u30d3\\u30b9\\u305d\\u306e\\u4ed6 \", \"\\u5efa\\u8a2d\\u30fb\\u8cc7\\u6750 \", \"\\u6a5f\\u68b0 \", \"\\u5c0f\\u58f2 \", \"\\u60c5\\u5831\\u901a\\u4fe1\\u30fb\\u30b5\\u30fc\\u30d3\\u30b9\\u305d\\u306e\\u4ed6 \", \"\\u91d1\\u878d\\uff08\\u9664\\u304f\\u9280\\u884c\\uff09 \", \"\\u6a5f\\u68b0 \", \"\\u96fb\\u6a5f\\u30fb\\u7cbe\\u5bc6 \", \"\\u60c5\\u5831\\u901a\\u4fe1\\u30fb\\u30b5\\u30fc\\u30d3\\u30b9\\u305d\\u306e\\u4ed6 \", \"\\u60c5\\u5831\\u901a\\u4fe1\\u30fb\\u30b5\\u30fc\\u30d3\\u30b9\\u305d\\u306e\\u4ed6 \", \"\\u98df\\u54c1 \", \"\\u81ea\\u52d5\\u8eca\\u30fb\\u8f38\\u9001\\u6a5f \", \"\\u7d20\\u6750\\u30fb\\u5316\\u5b66 \", \"\\u5546\\u793e\\u30fb\\u5378\\u58f2 \", \"\\u98df\\u54c1 \", \"\\u81ea\\u52d5\\u8eca\\u30fb\\u8f38\\u9001\\u6a5f \", \"\\u96fb\\u6a5f\\u30fb\\u7cbe\\u5bc6 \", \"\\u7d20\\u6750\\u30fb\\u5316\\u5b66 \", \"\\u98df\\u54c1 \", \"\\u5efa\\u8a2d\\u30fb\\u8cc7\\u6750 \", \"\", \"\", \"\", \"\", \"\", \"\", \"\", \"\", \"\", \"\", \"\", \"\", \"\", \"\"], \"type\": \"treemap\", \"values\": [468616000000, 491896000000, 53386000000, 2380655000, 1905642000000, 229057000000, 10982968000000, 91512000000, 914439000000, 1751330000000, 2315141000000, 853746000000, 1411230000000, 344839000000, 5921525000000, 1668355000000, 3095234000000, 9878866000000, 6241422000000, 653874000000, 339607000000, 790814000000, 262028000000, 97479000000, 385443000000, 58806000000, 3345618000, 49310000000, 25370179000, 2818992000, 672287000000, 2444870000000, 8767263000000, 356796000000, 11504107000, 262519000000, 2171355000000, 304131000000, 115548000000, 208878000000, 650462000000, 29995000000, 44043000000, 2627670000, 1518039000000, 1905642000000, 11098516000000, 25370179000, 4325556618000, 583170754000, 2494180000000, 3948180000000, 12700683000000, 3962516000000, 672287000000, 6835964000000, 6241422000000, 12277935000000, 1779375670000]}],\n",
       "                        {\"coloraxis\": {\"colorbar\": {\"title\": {\"text\": \"operating_income\"}}, \"colorscale\": [[0.0, \"rgb(255,0,0)\"], [1.0, \"rgb(0,0,255)\"]]}, \"legend\": {\"tracegroupgap\": 0}, \"template\": {\"data\": {\"bar\": [{\"error_x\": {\"color\": \"#2a3f5f\"}, \"error_y\": {\"color\": \"#2a3f5f\"}, \"marker\": {\"line\": {\"color\": \"#E5ECF6\", \"width\": 0.5}}, \"type\": \"bar\"}], \"barpolar\": [{\"marker\": {\"line\": {\"color\": \"#E5ECF6\", \"width\": 0.5}}, \"type\": \"barpolar\"}], \"carpet\": [{\"aaxis\": {\"endlinecolor\": \"#2a3f5f\", \"gridcolor\": \"white\", \"linecolor\": \"white\", \"minorgridcolor\": \"white\", \"startlinecolor\": \"#2a3f5f\"}, \"baxis\": {\"endlinecolor\": \"#2a3f5f\", \"gridcolor\": \"white\", \"linecolor\": \"white\", \"minorgridcolor\": \"white\", \"startlinecolor\": \"#2a3f5f\"}, \"type\": \"carpet\"}], \"choropleth\": [{\"colorbar\": {\"outlinewidth\": 0, \"ticks\": \"\"}, \"type\": \"choropleth\"}], \"contour\": [{\"colorbar\": {\"outlinewidth\": 0, \"ticks\": \"\"}, \"colorscale\": [[0.0, \"#0d0887\"], [0.1111111111111111, \"#46039f\"], [0.2222222222222222, \"#7201a8\"], [0.3333333333333333, \"#9c179e\"], [0.4444444444444444, \"#bd3786\"], [0.5555555555555556, \"#d8576b\"], [0.6666666666666666, \"#ed7953\"], [0.7777777777777778, \"#fb9f3a\"], [0.8888888888888888, \"#fdca26\"], [1.0, \"#f0f921\"]], \"type\": \"contour\"}], \"contourcarpet\": [{\"colorbar\": {\"outlinewidth\": 0, \"ticks\": \"\"}, \"type\": \"contourcarpet\"}], \"heatmap\": [{\"colorbar\": {\"outlinewidth\": 0, \"ticks\": \"\"}, \"colorscale\": [[0.0, \"#0d0887\"], [0.1111111111111111, \"#46039f\"], [0.2222222222222222, \"#7201a8\"], [0.3333333333333333, \"#9c179e\"], [0.4444444444444444, \"#bd3786\"], [0.5555555555555556, \"#d8576b\"], [0.6666666666666666, \"#ed7953\"], [0.7777777777777778, \"#fb9f3a\"], [0.8888888888888888, \"#fdca26\"], [1.0, \"#f0f921\"]], \"type\": \"heatmap\"}], \"heatmapgl\": [{\"colorbar\": {\"outlinewidth\": 0, \"ticks\": \"\"}, \"colorscale\": [[0.0, \"#0d0887\"], [0.1111111111111111, \"#46039f\"], [0.2222222222222222, \"#7201a8\"], [0.3333333333333333, \"#9c179e\"], [0.4444444444444444, \"#bd3786\"], [0.5555555555555556, \"#d8576b\"], [0.6666666666666666, \"#ed7953\"], [0.7777777777777778, \"#fb9f3a\"], [0.8888888888888888, \"#fdca26\"], [1.0, \"#f0f921\"]], \"type\": \"heatmapgl\"}], \"histogram\": [{\"marker\": {\"colorbar\": {\"outlinewidth\": 0, \"ticks\": \"\"}}, \"type\": \"histogram\"}], \"histogram2d\": [{\"colorbar\": {\"outlinewidth\": 0, \"ticks\": \"\"}, \"colorscale\": [[0.0, \"#0d0887\"], [0.1111111111111111, \"#46039f\"], [0.2222222222222222, \"#7201a8\"], [0.3333333333333333, \"#9c179e\"], [0.4444444444444444, \"#bd3786\"], [0.5555555555555556, \"#d8576b\"], [0.6666666666666666, \"#ed7953\"], [0.7777777777777778, \"#fb9f3a\"], [0.8888888888888888, \"#fdca26\"], [1.0, \"#f0f921\"]], \"type\": \"histogram2d\"}], \"histogram2dcontour\": [{\"colorbar\": {\"outlinewidth\": 0, \"ticks\": \"\"}, \"colorscale\": [[0.0, \"#0d0887\"], [0.1111111111111111, \"#46039f\"], [0.2222222222222222, \"#7201a8\"], [0.3333333333333333, \"#9c179e\"], [0.4444444444444444, \"#bd3786\"], [0.5555555555555556, \"#d8576b\"], [0.6666666666666666, \"#ed7953\"], [0.7777777777777778, \"#fb9f3a\"], [0.8888888888888888, \"#fdca26\"], [1.0, \"#f0f921\"]], \"type\": \"histogram2dcontour\"}], \"mesh3d\": [{\"colorbar\": {\"outlinewidth\": 0, \"ticks\": \"\"}, \"type\": \"mesh3d\"}], \"parcoords\": [{\"line\": {\"colorbar\": {\"outlinewidth\": 0, \"ticks\": \"\"}}, \"type\": \"parcoords\"}], \"pie\": [{\"automargin\": true, \"type\": \"pie\"}], \"scatter\": [{\"marker\": {\"colorbar\": {\"outlinewidth\": 0, \"ticks\": \"\"}}, \"type\": \"scatter\"}], \"scatter3d\": [{\"line\": {\"colorbar\": {\"outlinewidth\": 0, \"ticks\": \"\"}}, \"marker\": {\"colorbar\": {\"outlinewidth\": 0, \"ticks\": \"\"}}, \"type\": \"scatter3d\"}], \"scattercarpet\": [{\"marker\": {\"colorbar\": {\"outlinewidth\": 0, \"ticks\": \"\"}}, \"type\": \"scattercarpet\"}], \"scattergeo\": [{\"marker\": {\"colorbar\": {\"outlinewidth\": 0, \"ticks\": \"\"}}, \"type\": \"scattergeo\"}], \"scattergl\": [{\"marker\": {\"colorbar\": {\"outlinewidth\": 0, \"ticks\": \"\"}}, \"type\": \"scattergl\"}], \"scattermapbox\": [{\"marker\": {\"colorbar\": {\"outlinewidth\": 0, \"ticks\": \"\"}}, \"type\": \"scattermapbox\"}], \"scatterpolar\": [{\"marker\": {\"colorbar\": {\"outlinewidth\": 0, \"ticks\": \"\"}}, \"type\": \"scatterpolar\"}], \"scatterpolargl\": [{\"marker\": {\"colorbar\": {\"outlinewidth\": 0, \"ticks\": \"\"}}, \"type\": \"scatterpolargl\"}], \"scatterternary\": [{\"marker\": {\"colorbar\": {\"outlinewidth\": 0, \"ticks\": \"\"}}, \"type\": \"scatterternary\"}], \"surface\": [{\"colorbar\": {\"outlinewidth\": 0, \"ticks\": \"\"}, \"colorscale\": [[0.0, \"#0d0887\"], [0.1111111111111111, \"#46039f\"], [0.2222222222222222, \"#7201a8\"], [0.3333333333333333, \"#9c179e\"], [0.4444444444444444, \"#bd3786\"], [0.5555555555555556, \"#d8576b\"], [0.6666666666666666, \"#ed7953\"], [0.7777777777777778, \"#fb9f3a\"], [0.8888888888888888, \"#fdca26\"], [1.0, \"#f0f921\"]], \"type\": \"surface\"}], \"table\": [{\"cells\": {\"fill\": {\"color\": \"#EBF0F8\"}, \"line\": {\"color\": \"white\"}}, \"header\": {\"fill\": {\"color\": \"#C8D4E3\"}, \"line\": {\"color\": \"white\"}}, \"type\": \"table\"}]}, \"layout\": {\"annotationdefaults\": {\"arrowcolor\": \"#2a3f5f\", \"arrowhead\": 0, \"arrowwidth\": 1}, \"coloraxis\": {\"colorbar\": {\"outlinewidth\": 0, \"ticks\": \"\"}}, \"colorscale\": {\"diverging\": [[0, \"#8e0152\"], [0.1, \"#c51b7d\"], [0.2, \"#de77ae\"], [0.3, \"#f1b6da\"], [0.4, \"#fde0ef\"], [0.5, \"#f7f7f7\"], [0.6, \"#e6f5d0\"], [0.7, \"#b8e186\"], [0.8, \"#7fbc41\"], [0.9, \"#4d9221\"], [1, \"#276419\"]], \"sequential\": [[0.0, \"#0d0887\"], [0.1111111111111111, \"#46039f\"], [0.2222222222222222, \"#7201a8\"], [0.3333333333333333, \"#9c179e\"], [0.4444444444444444, \"#bd3786\"], [0.5555555555555556, \"#d8576b\"], [0.6666666666666666, \"#ed7953\"], [0.7777777777777778, \"#fb9f3a\"], [0.8888888888888888, \"#fdca26\"], [1.0, \"#f0f921\"]], \"sequentialminus\": [[0.0, \"#0d0887\"], [0.1111111111111111, \"#46039f\"], [0.2222222222222222, \"#7201a8\"], [0.3333333333333333, \"#9c179e\"], [0.4444444444444444, \"#bd3786\"], [0.5555555555555556, \"#d8576b\"], [0.6666666666666666, \"#ed7953\"], [0.7777777777777778, \"#fb9f3a\"], [0.8888888888888888, \"#fdca26\"], [1.0, \"#f0f921\"]]}, \"colorway\": [\"#636efa\", \"#EF553B\", \"#00cc96\", \"#ab63fa\", \"#FFA15A\", \"#19d3f3\", \"#FF6692\", \"#B6E880\", \"#FF97FF\", \"#FECB52\"], \"font\": {\"color\": \"#2a3f5f\"}, \"geo\": {\"bgcolor\": \"white\", \"lakecolor\": \"white\", \"landcolor\": \"#E5ECF6\", \"showlakes\": true, \"showland\": true, \"subunitcolor\": \"white\"}, \"hoverlabel\": {\"align\": \"left\"}, \"hovermode\": \"closest\", \"mapbox\": {\"style\": \"light\"}, \"paper_bgcolor\": \"white\", \"plot_bgcolor\": \"#E5ECF6\", \"polar\": {\"angularaxis\": {\"gridcolor\": \"white\", \"linecolor\": \"white\", \"ticks\": \"\"}, \"bgcolor\": \"#E5ECF6\", \"radialaxis\": {\"gridcolor\": \"white\", \"linecolor\": \"white\", \"ticks\": \"\"}}, \"scene\": {\"xaxis\": {\"backgroundcolor\": \"#E5ECF6\", \"gridcolor\": \"white\", \"gridwidth\": 2, \"linecolor\": \"white\", \"showbackground\": true, \"ticks\": \"\", \"zerolinecolor\": \"white\"}, \"yaxis\": {\"backgroundcolor\": \"#E5ECF6\", \"gridcolor\": \"white\", \"gridwidth\": 2, \"linecolor\": \"white\", \"showbackground\": true, \"ticks\": \"\", \"zerolinecolor\": \"white\"}, \"zaxis\": {\"backgroundcolor\": \"#E5ECF6\", \"gridcolor\": \"white\", \"gridwidth\": 2, \"linecolor\": \"white\", \"showbackground\": true, \"ticks\": \"\", \"zerolinecolor\": \"white\"}}, \"shapedefaults\": {\"line\": {\"color\": \"#2a3f5f\"}}, \"ternary\": {\"aaxis\": {\"gridcolor\": \"white\", \"linecolor\": \"white\", \"ticks\": \"\"}, \"baxis\": {\"gridcolor\": \"white\", \"linecolor\": \"white\", \"ticks\": \"\"}, \"bgcolor\": \"#E5ECF6\", \"caxis\": {\"gridcolor\": \"white\", \"linecolor\": \"white\", \"ticks\": \"\"}}, \"title\": {\"x\": 0.05}, \"xaxis\": {\"automargin\": true, \"gridcolor\": \"white\", \"linecolor\": \"white\", \"ticks\": \"\", \"title\": {\"standoff\": 15}, \"zerolinecolor\": \"white\", \"zerolinewidth\": 2}, \"yaxis\": {\"automargin\": true, \"gridcolor\": \"white\", \"linecolor\": \"white\", \"ticks\": \"\", \"title\": {\"standoff\": 15}, \"zerolinecolor\": \"white\", \"zerolinewidth\": 2}}}, \"title\": {\"text\": \"\\u58f2\\u4e0a/\\u55b6\\u696d\\u5229\\u76ca\"}},\n",
       "                        {\"responsive\": true}\n",
       "                    ).then(function(){\n",
       "                            \n",
       "var gd = document.getElementById('4072d613-34f9-4609-95de-9f2cac834ecf');\n",
       "var x = new MutationObserver(function (mutations, observer) {{\n",
       "        var display = window.getComputedStyle(gd).display;\n",
       "        if (!display || display === 'none') {{\n",
       "            console.log([gd, 'removed!']);\n",
       "            Plotly.purge(gd);\n",
       "            observer.disconnect();\n",
       "        }}\n",
       "}});\n",
       "\n",
       "// Listen for the removal of the full notebook cells\n",
       "var notebookContainer = gd.closest('#notebook-container');\n",
       "if (notebookContainer) {{\n",
       "    x.observe(notebookContainer, {childList: true});\n",
       "}}\n",
       "\n",
       "// Listen for the clearing of the current output cell\n",
       "var outputEl = gd.closest('.output');\n",
       "if (outputEl) {{\n",
       "    x.observe(outputEl, {childList: true});\n",
       "}}\n",
       "\n",
       "                        })\n",
       "                };\n",
       "                });\n",
       "            </script>\n",
       "        </div>"
      ]
     },
     "metadata": {},
     "output_type": "display_data"
    }
   ],
   "source": [
    "px.treemap(\n",
    "    groupby_fyq.get_group(\"2019Q4\"),\n",
    "    path=[\"17業種区分\", \"company_name\"],\n",
    "    values=\"net_sales\",\n",
    "    color=\"operating_income\",\n",
    "    color_continuous_scale=\"Bluered_r\",\n",
    "    title=\"売上/営業利益\",\n",
    ")"
   ]
  },
  {
   "cell_type": "code",
   "execution_count": 14,
   "metadata": {},
   "outputs": [
    {
     "data": {
      "application/vnd.plotly.v1+json": {
       "config": {
        "plotlyServerURL": "https://plot.ly"
       },
       "data": [
        {
         "alignmentgroup": "True",
         "hovertemplate": "17業種区分=食品 <br>fiscal_year_quarter=%{x}<br>net_sales=%{y}<extra></extra>",
         "legendgroup": "食品 ",
         "marker": {
          "color": "#636efa"
         },
         "name": "食品 ",
         "offsetgroup": "食品 ",
         "orientation": "v",
         "showlegend": true,
         "textposition": "auto",
         "type": "bar",
         "x": [
          "2016Q1",
          "2016Q2",
          "2016Q3",
          "2016Q4",
          "2017Q1",
          "2017Q2",
          "2017Q3",
          "2017Q4",
          "2018Q1",
          "2018Q2",
          "2018Q3",
          "2018Q4",
          "2019Q1",
          "2019Q2",
          "2019Q3",
          "2019Q4",
          "2016Q1",
          "2016Q2",
          "2016Q3",
          "2016Q4",
          "2017Q1",
          "2017Q2",
          "2017Q3",
          "2017Q4",
          "2018Q1",
          "2018Q2",
          "2018Q3",
          "2018Q4",
          "2019Q1",
          "2019Q2",
          "2019Q3",
          "2019Q4",
          "2016Q1",
          "2016Q2",
          "2016Q3",
          "2016Q4",
          "2017Q1",
          "2017Q2",
          "2017Q3",
          "2017Q4",
          "2018Q1",
          "2018Q2",
          "2018Q3",
          "2018Q4",
          "2019Q1",
          "2019Q2",
          "2019Q3",
          "2019Q4",
          "2016Q1",
          "2016Q2",
          "2016Q3",
          "2016Q4",
          "2017Q1",
          "2017Q2",
          "2017Q3",
          "2017Q4",
          "2018Q1",
          "2018Q2",
          "2018Q3",
          "2018Q4",
          "2019Q1",
          "2019Q2",
          "2019Q3",
          "2019Q4",
          "2016Q1",
          "2016Q2",
          "2016Q3",
          "2016Q4",
          "2017Q1",
          "2017Q2",
          "2017Q3",
          "2017Q4",
          "2018Q1",
          "2018Q2",
          "2018Q3",
          "2018Q4",
          "2019Q1",
          "2019Q2",
          "2019Q3",
          "2019Q4",
          "2016Q1",
          "2016Q2",
          "2016Q3",
          "2016Q4",
          "2017Q1",
          "2017Q2",
          "2017Q3",
          "2017Q4",
          "2018Q1",
          "2018Q2",
          "2018Q3",
          "2018Q4",
          "2019Q1",
          "2019Q2",
          "2019Q3",
          "2019Q4"
         ],
         "xaxis": "x",
         "y": [
          52206000000,
          109570000000,
          179975000000,
          236561000000,
          56844000000,
          120458000000,
          198323000000,
          254783000000,
          57957000000,
          119202000000,
          197783000000,
          256151000000,
          62644000000,
          126884000000,
          205436000000,
          262519000000,
          78459000000,
          156404000000,
          237491000000,
          312932000000,
          80274000000,
          160760000000,
          245108000000,
          323495000000,
          83387000000,
          167586000000,
          254992000000,
          335399000000,
          85544000000,
          172253000000,
          263141000000,
          344839000000,
          47651000000,
          99005000000,
          150853000000,
          199479000000,
          52062000000,
          106057000000,
          157918000000,
          205022000000,
          50288000000,
          104724000000,
          158496000000,
          205368000000,
          52430000000,
          106989000000,
          160822000000,
          208878000000,
          111391000000,
          248959000000,
          392270000000,
          541847000000,
          117788000000,
          257970000000,
          400845000000,
          551548000000,
          111342000000,
          241740000000,
          381044000000,
          493908000000,
          100958000000,
          228207000000,
          382658000000,
          491896000000,
          98863000000,
          196783000000,
          301777000000,
          402174000000,
          106834000000,
          214473000000,
          326250000000,
          430602000000,
          111774000000,
          226099000000,
          343390000000,
          453565000000,
          115642000000,
          231624000000,
          355496000000,
          468616000000,
          123271000,
          240160000,
          326747000,
          405217000,
          105130000,
          213064000,
          703795000,
          1378472000,
          662507000,
          1353760000,
          2043408000,
          2721223000,
          652965000,
          1293782000,
          1940303000,
          2627670000
         ],
         "yaxis": "y"
        },
        {
         "alignmentgroup": "True",
         "hovertemplate": "17業種区分=建設・資材 <br>fiscal_year_quarter=%{x}<br>net_sales=%{y}<extra></extra>",
         "legendgroup": "建設・資材 ",
         "marker": {
          "color": "#EF553B"
         },
         "name": "建設・資材 ",
         "offsetgroup": "建設・資材 ",
         "orientation": "v",
         "showlegend": true,
         "textposition": "auto",
         "type": "bar",
         "x": [
          "2016Q1",
          "2016Q2",
          "2016Q3",
          "2016Q4",
          "2017Q1",
          "2017Q2",
          "2017Q3",
          "2017Q4",
          "2018Q1",
          "2018Q2",
          "2018Q3",
          "2018Q4",
          "2019Q1",
          "2019Q2",
          "2019Q3",
          "2019Q4",
          "2016Q1",
          "2016Q2",
          "2016Q3",
          "2016Q4",
          "2017Q1",
          "2017Q2",
          "2017Q3",
          "2017Q4",
          "2018Q1",
          "2018Q2",
          "2018Q3",
          "2018Q4",
          "2019Q1",
          "2019Q2",
          "2019Q3",
          "2019Q4",
          "2016Q1",
          "2016Q2",
          "2016Q3",
          "2016Q4",
          "2017Q1",
          "2017Q2",
          "2017Q3",
          "2017Q4",
          "2018Q1",
          "2018Q2",
          "2018Q3",
          "2018Q4",
          "2019Q1",
          "2019Q2",
          "2019Q3",
          "2019Q4",
          "2016Q1",
          "2016Q2",
          "2016Q3",
          "2016Q4",
          "2017Q1",
          "2017Q2",
          "2017Q3",
          "2017Q4",
          "2018Q1",
          "2018Q2",
          "2018Q3",
          "2018Q4",
          "2019Q1",
          "2019Q2",
          "2019Q3",
          "2019Q4",
          "2016Q1",
          "2016Q2",
          "2016Q3",
          "2016Q4",
          "2017Q1",
          "2017Q2",
          "2017Q3",
          "2017Q4",
          "2018Q1",
          "2018Q2",
          "2018Q3",
          "2018Q4",
          "2019Q1",
          "2019Q2",
          "2019Q3",
          "2019Q4"
         ],
         "xaxis": "x",
         "y": [
          492813000,
          1210419000,
          1776062000,
          2660864000,
          752733000,
          1398677000,
          1994490000,
          3017440000,
          608856000,
          1682206000,
          2366998000,
          3340619000,
          686167000,
          1708979000,
          2500117000,
          3345618000,
          297320000000,
          646382000000,
          1019026000000,
          1487252000000,
          320247000000,
          685350000000,
          1082985000000,
          1585497000000,
          318218000000,
          704651000000,
          1097508000000,
          1650877000000,
          349621000000,
          766414000000,
          1174690000000,
          1751330000000,
          307997000000,
          624949000000,
          939902000000,
          1282570000000,
          335340000000,
          689989000000,
          1063960000000,
          1463532000000,
          372460000000,
          745499000000,
          1126152000000,
          1522904000000,
          361615000000,
          737489000000,
          1123753000000,
          1518039000000,
          22643000000,
          44872000000,
          66373000000,
          88580000000,
          24104000000,
          49184000000,
          75067000000,
          106252000000,
          41595000000,
          91688000000,
          155385000000,
          231302000000,
          68838000000,
          139176000000,
          198624000000,
          262028000000,
          204535000000,
          402591000000,
          588614000000,
          779469000000,
          204620000000,
          403759000000,
          598977000000,
          785278000000,
          205365000000,
          404727000000,
          604780000000,
          793119000000,
          200777000000,
          405585000000,
          598553000000,
          790814000000
         ],
         "yaxis": "y"
        },
        {
         "alignmentgroup": "True",
         "hovertemplate": "17業種区分=素材・化学 <br>fiscal_year_quarter=%{x}<br>net_sales=%{y}<extra></extra>",
         "legendgroup": "素材・化学 ",
         "marker": {
          "color": "#00cc96"
         },
         "name": "素材・化学 ",
         "offsetgroup": "素材・化学 ",
         "orientation": "v",
         "showlegend": true,
         "textposition": "auto",
         "type": "bar",
         "x": [
          "2016Q1",
          "2016Q2",
          "2016Q3",
          "2016Q4",
          "2017Q1",
          "2017Q2",
          "2017Q3",
          "2017Q4",
          "2018Q1",
          "2018Q2",
          "2018Q3",
          "2018Q4",
          "2019Q1",
          "2019Q2",
          "2019Q3",
          "2019Q4",
          "2016Q1",
          "2016Q2",
          "2016Q3",
          "2016Q4",
          "2017Q1",
          "2017Q2",
          "2017Q3",
          "2017Q4",
          "2018Q1",
          "2018Q2",
          "2018Q3",
          "2018Q4",
          "2019Q1",
          "2019Q2",
          "2019Q3",
          "2019Q4",
          "2016Q1",
          "2016Q2",
          "2016Q3",
          "2016Q4",
          "2017Q1",
          "2017Q2",
          "2017Q3",
          "2017Q4",
          "2018Q1",
          "2018Q2",
          "2018Q3",
          "2018Q4",
          "2019Q1",
          "2019Q2",
          "2019Q3",
          "2019Q4",
          "2016Q1",
          "2016Q2",
          "2016Q3",
          "2016Q4",
          "2017Q1",
          "2017Q2",
          "2017Q3",
          "2017Q4",
          "2018Q1",
          "2018Q2",
          "2018Q3",
          "2018Q4",
          "2019Q1",
          "2019Q2",
          "2019Q3",
          "2019Q4",
          "2016Q1",
          "2016Q2",
          "2016Q3",
          "2016Q4",
          "2017Q1",
          "2017Q2",
          "2017Q3",
          "2017Q4",
          "2018Q1",
          "2018Q2",
          "2018Q3",
          "2018Q4",
          "2019Q1",
          "2019Q2",
          "2019Q3",
          "2019Q4",
          "2016Q1",
          "2016Q2",
          "2016Q3",
          "2016Q4",
          "2017Q1",
          "2017Q2",
          "2017Q3",
          "2017Q4",
          "2018Q1",
          "2018Q2",
          "2018Q3",
          "2018Q4",
          "2019Q1",
          "2019Q2",
          "2019Q3",
          "2019Q4"
         ],
         "xaxis": "x",
         "y": [
          14237000000,
          24935000000,
          35238000000,
          46927000000,
          14841000000,
          25467000000,
          35479000000,
          46185000000,
          14181000000,
          24304000000,
          33480000000,
          44308000000,
          14307000000,
          24205000000,
          33888000000,
          44043000000,
          82734000000,
          164658000000,
          242270000000,
          329487000000,
          78474000000,
          161400000000,
          241690000000,
          331148000000,
          80762000000,
          164728000000,
          249927000000,
          336698000000,
          80827000000,
          164909000000,
          248018000000,
          339607000000,
          174226000000,
          353049000000,
          535180000000,
          741291000000,
          198240000000,
          404654000000,
          614678000000,
          834986000000,
          216374000000,
          439418000000,
          659650000000,
          888589000000,
          214621000000,
          436040000000,
          647460000000,
          853746000000,
          22392000000,
          47334000000,
          71068000000,
          96038000000,
          23143000000,
          49195000000,
          73333000000,
          97872000000,
          23058000000,
          49309000000,
          73734000000,
          98617000000,
          23031000000,
          48602000000,
          70889000000,
          91512000000,
          53589000000,
          108895000000,
          165636000000,
          223440000000,
          57482000000,
          114712000000,
          177062000000,
          239612000000,
          61779000000,
          126127000000,
          201281000000,
          299354000000,
          70155000000,
          146172000000,
          218370000000,
          304131000000,
          545845000000,
          1113620000000,
          1692261000000,
          2322163000000,
          571488000000,
          1187940000000,
          1809682000000,
          2433370000000,
          564892000000,
          1172743000000,
          1799816000000,
          2431489000000,
          535326000000,
          1132134000000,
          1728397000000,
          2315141000000
         ],
         "yaxis": "y"
        },
        {
         "alignmentgroup": "True",
         "hovertemplate": "17業種区分=情報通信・サービスその他 <br>fiscal_year_quarter=%{x}<br>net_sales=%{y}<extra></extra>",
         "legendgroup": "情報通信・サービスその他 ",
         "marker": {
          "color": "#ab63fa"
         },
         "name": "情報通信・サービスその他 ",
         "offsetgroup": "情報通信・サービスその他 ",
         "orientation": "v",
         "showlegend": true,
         "textposition": "auto",
         "type": "bar",
         "x": [
          "2016Q1",
          "2016Q2",
          "2016Q3",
          "2016Q4",
          "2017Q1",
          "2017Q2",
          "2017Q3",
          "2017Q4",
          "2018Q1",
          "2018Q2",
          "2018Q3",
          "2018Q4",
          "2019Q1",
          "2019Q2",
          "2019Q3",
          "2019Q4",
          "2016Q1",
          "2016Q2",
          "2016Q3",
          "2016Q4",
          "2017Q1",
          "2017Q2",
          "2017Q3",
          "2017Q4",
          "2018Q1",
          "2018Q2",
          "2018Q3",
          "2018Q4",
          "2019Q1",
          "2019Q2",
          "2019Q3",
          "2019Q4",
          "2016Q1",
          "2016Q2",
          "2016Q3",
          "2016Q4",
          "2017Q1",
          "2017Q2",
          "2017Q3",
          "2017Q4",
          "2018Q1",
          "2018Q2",
          "2018Q3",
          "2018Q4",
          "2019Q1",
          "2019Q2",
          "2019Q3",
          "2019Q4",
          "2016Q1",
          "2016Q2",
          "2016Q3",
          "2016Q4",
          "2017Q1",
          "2017Q2",
          "2017Q3",
          "2017Q4",
          "2018Q1",
          "2018Q2",
          "2018Q3",
          "2018Q4",
          "2019Q1",
          "2019Q2",
          "2019Q3",
          "2019Q4",
          "2016Q1",
          "2016Q2",
          "2016Q3",
          "2016Q4",
          "2017Q1",
          "2017Q2",
          "2017Q3",
          "2017Q4",
          "2018Q1",
          "2018Q2",
          "2018Q3",
          "2018Q4",
          "2019Q1",
          "2019Q2",
          "2019Q3",
          "2019Q4",
          "2016Q1",
          "2016Q2",
          "2016Q3",
          "2016Q4",
          "2017Q1",
          "2017Q2",
          "2017Q3",
          "2017Q4",
          "2018Q1",
          "2018Q2",
          "2018Q3",
          "2018Q4",
          "2019Q1",
          "2019Q2",
          "2019Q3",
          "2019Q4",
          "2016Q1",
          "2016Q2",
          "2016Q3",
          "2016Q4",
          "2017Q1",
          "2017Q2",
          "2017Q3",
          "2017Q4",
          "2018Q1",
          "2018Q2",
          "2018Q3",
          "2018Q4",
          "2019Q1",
          "2019Q2",
          "2019Q3",
          "2019Q4"
         ],
         "xaxis": "x",
         "y": [
          342877000,
          678921000,
          1050208000,
          1432149000,
          404753000,
          802987000,
          1216571000,
          1680218000,
          520203000,
          1001181000,
          1500456000,
          2043472000,
          618632000,
          1199538000,
          1793794000,
          2380655000,
          11688289000,
          23859292000,
          35608008000,
          50647773000,
          9965741000,
          19519348000,
          33771859000,
          47283807000,
          15979000000,
          24178000000,
          37985000000,
          55166000000,
          17764000000,
          29649000000,
          44406000000,
          58806000000,
          12997000000,
          26238000000,
          39523000000,
          52712000000,
          13151000000,
          26652000000,
          40214000000,
          53576000000,
          13559000000,
          27117000000,
          40744000000,
          54258000000,
          13461000000,
          27160000000,
          40689000000,
          53386000000,
          500021000,
          744744000,
          963420000,
          2811136000,
          501836000,
          749156000,
          963518000,
          2757186000,
          531227000,
          789363000,
          987276000,
          2835197000,
          552736000,
          813047000,
          983458000,
          2818992000,
          86993000000,
          172508000000,
          264427000000,
          355363000000,
          88002000000,
          177528000000,
          271764000000,
          361954000000,
          88783000000,
          178103000000,
          274911000000,
          366353000000,
          88488000000,
          176880000000,
          269331000000,
          356796000000,
          23529000000,
          47819000000,
          73923000000,
          96173000000,
          24887000000,
          49384000000,
          70930000000,
          92878000000,
          21601000000,
          44281000000,
          66937000000,
          90827000000,
          23397000000,
          50278000000,
          73766000000,
          97479000000,
          1543305000,
          2848194000,
          4457238000,
          5884509000,
          1426110000,
          2604843000,
          4113799000,
          5341882000,
          1405075000,
          2564496000,
          4180734000,
          7062741000,
          3183078000,
          5871490000,
          9256064000,
          11504107000
         ],
         "yaxis": "y"
        },
        {
         "alignmentgroup": "True",
         "hovertemplate": "17業種区分=自動車・輸送機 <br>fiscal_year_quarter=%{x}<br>net_sales=%{y}<extra></extra>",
         "legendgroup": "自動車・輸送機 ",
         "marker": {
          "color": "#FFA15A"
         },
         "name": "自動車・輸送機 ",
         "offsetgroup": "自動車・輸送機 ",
         "orientation": "v",
         "showlegend": true,
         "textposition": "auto",
         "type": "bar",
         "x": [
          "2016Q1",
          "2016Q2",
          "2016Q3",
          "2016Q4",
          "2017Q1",
          "2017Q2",
          "2017Q3",
          "2017Q4",
          "2018Q1",
          "2018Q2",
          "2018Q3",
          "2018Q4",
          "2019Q1",
          "2019Q2",
          "2019Q3",
          "2019Q4",
          "2016Q1",
          "2016Q2",
          "2016Q3",
          "2016Q4",
          "2017Q1",
          "2017Q2",
          "2017Q3",
          "2017Q4",
          "2018Q1",
          "2018Q2",
          "2018Q3",
          "2018Q4",
          "2019Q1",
          "2019Q2",
          "2019Q3",
          "2019Q4",
          "2016Q1",
          "2016Q2",
          "2016Q3",
          "2016Q4",
          "2017Q1",
          "2017Q2",
          "2017Q3",
          "2017Q4",
          "2018Q1",
          "2018Q2",
          "2018Q3",
          "2018Q4",
          "2019Q1",
          "2019Q2",
          "2019Q3",
          "2019Q4"
         ],
         "xaxis": "x",
         "y": [
          129344000000,
          268117000000,
          410218000000,
          596193000000,
          147739000000,
          310837000000,
          466790000000,
          646272000000,
          149157000000,
          309677000000,
          460835000000,
          650239000000,
          149523000000,
          311106000000,
          465739000000,
          650462000000,
          529788000000,
          1078430000000,
          1640554000000,
          1675150000000,
          445388000000,
          937936000000,
          1464690000000,
          2003973000000,
          522145000000,
          1057011000000,
          1629827000000,
          2214946000000,
          551225000000,
          1102951000000,
          1624488000000,
          2171355000000,
          2654499000000,
          5321037000000,
          8264767000000,
          11720041000000,
          2760436000000,
          5652509000000,
          8527992000000,
          11951169000000,
          2716592000000,
          5532722000000,
          8578426000000,
          11574247000000,
          2372422000000,
          5003075000000,
          7507286000000,
          9878866000000
         ],
         "yaxis": "y"
        },
        {
         "alignmentgroup": "True",
         "hovertemplate": "17業種区分=鉄鋼・非鉄 <br>fiscal_year_quarter=%{x}<br>net_sales=%{y}<extra></extra>",
         "legendgroup": "鉄鋼・非鉄 ",
         "marker": {
          "color": "#19d3f3"
         },
         "name": "鉄鋼・非鉄 ",
         "offsetgroup": "鉄鋼・非鉄 ",
         "orientation": "v",
         "showlegend": true,
         "textposition": "auto",
         "type": "bar",
         "x": [
          "2016Q1",
          "2016Q2",
          "2016Q3",
          "2016Q4",
          "2017Q1",
          "2017Q2",
          "2017Q3",
          "2017Q4",
          "2018Q1",
          "2018Q2",
          "2018Q3",
          "2018Q4",
          "2019Q1",
          "2019Q2",
          "2019Q3",
          "2019Q4",
          "2016Q1",
          "2016Q2",
          "2016Q3",
          "2016Q4",
          "2017Q1",
          "2017Q2",
          "2017Q3",
          "2017Q4",
          "2018Q1",
          "2018Q2",
          "2018Q3",
          "2018Q4",
          "2019Q1",
          "2019Q2",
          "2019Q3",
          "2019Q4"
         ],
         "xaxis": "x",
         "y": [
          1051141000000,
          2160793000000,
          3332004000000,
          4632890000000,
          1355466000000,
          2745096000000,
          4164556000000,
          5712965000000,
          1459992000000,
          2941586000000,
          4575280000000,
          6177947000000,
          1522479000000,
          3047183000000,
          4476014000000,
          5921525000000,
          196184000000,
          397569000000,
          604937000000,
          843344000000,
          224944000000,
          457517000000,
          703387000000,
          967333000000,
          240827000000,
          487437000000,
          738633000000,
          991590000000,
          226271000000,
          455200000000,
          676162000000,
          914439000000
         ],
         "yaxis": "y"
        },
        {
         "alignmentgroup": "True",
         "hovertemplate": "17業種区分=機械 <br>fiscal_year_quarter=%{x}<br>net_sales=%{y}<extra></extra>",
         "legendgroup": "機械 ",
         "marker": {
          "color": "#FF6692"
         },
         "name": "機械 ",
         "offsetgroup": "機械 ",
         "orientation": "v",
         "showlegend": true,
         "textposition": "auto",
         "type": "bar",
         "x": [
          "2016Q1",
          "2016Q2",
          "2016Q3",
          "2016Q4",
          "2017Q1",
          "2017Q2",
          "2017Q3",
          "2017Q4",
          "2018Q1",
          "2018Q2",
          "2018Q3",
          "2018Q4",
          "2019Q1",
          "2019Q2",
          "2019Q3",
          "2019Q4",
          "2016Q1",
          "2016Q2",
          "2016Q3",
          "2016Q4",
          "2017Q1",
          "2017Q2",
          "2017Q3",
          "2017Q4",
          "2018Q1",
          "2018Q2",
          "2018Q3",
          "2018Q4",
          "2019Q1",
          "2019Q2",
          "2019Q3",
          "2019Q4"
         ],
         "xaxis": "x",
         "y": [
          8665000000,
          18401000000,
          30488000000,
          41050000000,
          12746000000,
          27376000000,
          42269000000,
          56794000000,
          18033000000,
          35427000000,
          50858000000,
          68486000000,
          14810000000,
          27396000000,
          39218000000,
          49310000000,
          389252000000,
          796112000000,
          1226710000000,
          1802990000000,
          561211000000,
          1158960000000,
          1805801000000,
          2501110000000,
          646060000000,
          1320000000000,
          2018609000000,
          2725243000000,
          609767000000,
          1213485000000,
          1827442000000,
          2444870000000
         ],
         "yaxis": "y"
        },
        {
         "alignmentgroup": "True",
         "hovertemplate": "17業種区分=電機・精密 <br>fiscal_year_quarter=%{x}<br>net_sales=%{y}<extra></extra>",
         "legendgroup": "電機・精密 ",
         "marker": {
          "color": "#B6E880"
         },
         "name": "電機・精密 ",
         "offsetgroup": "電機・精密 ",
         "orientation": "v",
         "showlegend": true,
         "textposition": "auto",
         "type": "bar",
         "x": [
          "2016Q1",
          "2016Q2",
          "2016Q3",
          "2016Q4",
          "2017Q1",
          "2017Q2",
          "2017Q3",
          "2017Q4",
          "2018Q1",
          "2018Q2",
          "2018Q3",
          "2018Q4",
          "2019Q1",
          "2019Q2",
          "2019Q3",
          "2019Q4",
          "2016Q1",
          "2016Q2",
          "2016Q3",
          "2016Q4",
          "2017Q1",
          "2017Q2",
          "2017Q3",
          "2017Q4",
          "2018Q1",
          "2018Q2",
          "2018Q3",
          "2018Q4",
          "2019Q1",
          "2019Q2",
          "2019Q3",
          "2019Q4",
          "2016Q1",
          "2016Q2",
          "2016Q3",
          "2016Q4",
          "2017Q1",
          "2017Q2",
          "2017Q3",
          "2017Q4",
          "2018Q1",
          "2018Q2",
          "2018Q3",
          "2018Q4",
          "2019Q1",
          "2019Q2",
          "2019Q3",
          "2019Q4",
          "2016Q1",
          "2016Q2",
          "2016Q3",
          "2016Q4",
          "2017Q1",
          "2017Q2",
          "2017Q3",
          "2017Q4",
          "2018Q1",
          "2018Q2",
          "2018Q3",
          "2018Q4",
          "2019Q1",
          "2019Q2",
          "2019Q3",
          "2019Q4"
         ],
         "xaxis": "x",
         "y": [
          2130470000000,
          4353774000000,
          6519311000000,
          9162264000000,
          2088670000000,
          4376470000000,
          6674030000000,
          9368614000000,
          2165899000000,
          4491834000000,
          6782969000000,
          9480619000000,
          2032582000000,
          4221327000000,
          6344181000000,
          8767263000000,
          518703000000,
          1201062000000,
          1794470000000,
          2665040000000,
          582456000000,
          1288011000000,
          1971282000000,
          2844447000000,
          612962000000,
          1336424000000,
          2034653000000,
          2913446000000,
          653855000000,
          1448993000000,
          2175614000000,
          3095234000000,
          6892000000,
          13528000000,
          19974000000,
          27361000000,
          7235000000,
          14399000000,
          22211000000,
          30868000000,
          7909000000,
          15610000000,
          23291000000,
          31151000000,
          7662000000,
          15234000000,
          22430000000,
          29995000000,
          69723000000,
          154756000000,
          236314000000,
          342479000000,
          75803000000,
          172066000000,
          263327000000,
          376530000000,
          85655000000,
          182854000000,
          278218000000,
          391213000000,
          80776000000,
          186479000000,
          279103000000,
          385443000000
         ],
         "yaxis": "y"
        },
        {
         "alignmentgroup": "True",
         "hovertemplate": "17業種区分=小売 <br>fiscal_year_quarter=%{x}<br>net_sales=%{y}<extra></extra>",
         "legendgroup": "小売 ",
         "marker": {
          "color": "#FF97FF"
         },
         "name": "小売 ",
         "offsetgroup": "小売 ",
         "orientation": "v",
         "showlegend": true,
         "textposition": "auto",
         "type": "bar",
         "x": [
          "2016Q1",
          "2016Q2",
          "2016Q3",
          "2016Q4",
          "2017Q1",
          "2017Q2",
          "2017Q3",
          "2017Q4",
          "2018Q1",
          "2018Q2",
          "2018Q3",
          "2018Q4",
          "2019Q1",
          "2019Q2",
          "2019Q3",
          "2019Q4"
         ],
         "xaxis": "x",
         "y": [
          7958852000,
          16103504000,
          23226878000,
          29687307000,
          6492223000,
          13208102000,
          19463210000,
          25440764000,
          5769932000,
          11795334000,
          17451023000,
          22906550000,
          5636605000,
          11497644000,
          19365502000,
          25370179000
         ],
         "yaxis": "y"
        },
        {
         "alignmentgroup": "True",
         "hovertemplate": "17業種区分=商社・卸売 <br>fiscal_year_quarter=%{x}<br>net_sales=%{y}<extra></extra>",
         "legendgroup": "商社・卸売 ",
         "marker": {
          "color": "#FECB52"
         },
         "name": "商社・卸売 ",
         "offsetgroup": "商社・卸売 ",
         "orientation": "v",
         "showlegend": true,
         "textposition": "auto",
         "type": "bar",
         "x": [
          "2016Q1",
          "2016Q2",
          "2016Q3",
          "2016Q4",
          "2017Q1",
          "2017Q2",
          "2017Q3",
          "2017Q4",
          "2018Q1",
          "2018Q2",
          "2018Q3",
          "2018Q4",
          "2019Q1",
          "2019Q2",
          "2019Q3",
          "2019Q4",
          "2016Q1",
          "2016Q2",
          "2016Q3",
          "2016Q4",
          "2017Q1",
          "2017Q2",
          "2017Q3",
          "2017Q4",
          "2018Q1",
          "2018Q2",
          "2018Q3",
          "2018Q4",
          "2019Q1",
          "2019Q2",
          "2019Q3",
          "2019Q4"
         ],
         "xaxis": "x",
         "y": [
          1106650000000,
          2246482000000,
          3471072000000,
          4838464000000,
          1218792000000,
          2577710000000,
          4019802000000,
          5510059000000,
          2613081000000,
          5460924000000,
          8626834000000,
          11600485000000,
          2726702000000,
          5489699000000,
          8260562000000,
          10982968000000,
          33686000000,
          66001000000,
          98049000000,
          141532000000,
          33509000000,
          65372000000,
          100057000000,
          133727000000,
          31505000000,
          68889000000,
          107606000000,
          138487000000,
          25185000000,
          56642000000,
          87485000000,
          115548000000
         ],
         "yaxis": "y"
        },
        {
         "alignmentgroup": "True",
         "hovertemplate": "17業種区分=金融（除く銀行） <br>fiscal_year_quarter=%{x}<br>net_sales=%{y}<extra></extra>",
         "legendgroup": "金融（除く銀行） ",
         "marker": {
          "color": "#636efa"
         },
         "name": "金融（除く銀行） ",
         "offsetgroup": "金融（除く銀行） ",
         "orientation": "v",
         "showlegend": true,
         "textposition": "auto",
         "type": "bar",
         "x": [
          "2016Q1",
          "2016Q2",
          "2016Q3",
          "2016Q4",
          "2017Q1",
          "2017Q2",
          "2017Q3",
          "2017Q4",
          "2018Q1",
          "2018Q2",
          "2018Q3",
          "2018Q4",
          "2019Q1",
          "2019Q2",
          "2019Q3",
          "2019Q4"
         ],
         "xaxis": "x",
         "y": [
          151859000000,
          296977000000,
          450175000000,
          616497000000,
          159652000000,
          336264000000,
          527140000000,
          712601000000,
          175175000000,
          347746000000,
          536499000000,
          720586000000,
          181341000000,
          341007000000,
          511680000000,
          672287000000
         ],
         "yaxis": "y"
        },
        {
         "alignmentgroup": "True",
         "hovertemplate": "17業種区分=不動産 <br>fiscal_year_quarter=%{x}<br>net_sales=%{y}<extra></extra>",
         "legendgroup": "不動産 ",
         "marker": {
          "color": "#EF553B"
         },
         "name": "不動産 ",
         "offsetgroup": "不動産 ",
         "orientation": "v",
         "showlegend": true,
         "textposition": "auto",
         "type": "bar",
         "x": [
          "2016Q1",
          "2016Q2",
          "2016Q3",
          "2016Q4",
          "2017Q1",
          "2017Q2",
          "2017Q3",
          "2017Q4",
          "2018Q1",
          "2018Q2",
          "2018Q3",
          "2018Q4",
          "2019Q1",
          "2019Q2",
          "2019Q3",
          "2019Q4"
         ],
         "xaxis": "x",
         "y": [
          356470000000,
          810979000000,
          1198672000000,
          1704416000000,
          381553000000,
          721787000000,
          1101607000000,
          1751114000000,
          442352000000,
          860705000000,
          1244009000000,
          1861195000000,
          427171000000,
          888776000000,
          1295461000000,
          1905642000000
         ],
         "yaxis": "y"
        },
        {
         "alignmentgroup": "True",
         "hovertemplate": "17業種区分=運輸・物流 <br>fiscal_year_quarter=%{x}<br>net_sales=%{y}<extra></extra>",
         "legendgroup": "運輸・物流 ",
         "marker": {
          "color": "#00cc96"
         },
         "name": "運輸・物流 ",
         "offsetgroup": "運輸・物流 ",
         "orientation": "v",
         "showlegend": true,
         "textposition": "auto",
         "type": "bar",
         "x": [
          "2016Q1",
          "2016Q2",
          "2016Q3",
          "2016Q4",
          "2017Q1",
          "2017Q2",
          "2017Q3",
          "2017Q4",
          "2018Q1",
          "2018Q2",
          "2018Q3",
          "2018Q4",
          "2019Q1",
          "2019Q2",
          "2019Q3",
          "2019Q4",
          "2016Q1",
          "2016Q2",
          "2016Q3",
          "2016Q4",
          "2017Q1",
          "2017Q2",
          "2017Q3",
          "2017Q4",
          "2018Q1",
          "2018Q2",
          "2018Q3",
          "2018Q4",
          "2019Q1",
          "2019Q2",
          "2019Q3",
          "2019Q4",
          "2016Q1",
          "2016Q2",
          "2016Q3",
          "2016Q4",
          "2017Q1",
          "2017Q2",
          "2017Q3",
          "2017Q4",
          "2018Q1",
          "2018Q2",
          "2018Q3",
          "2018Q4",
          "2019Q1",
          "2019Q2",
          "2019Q3",
          "2019Q4",
          "2016Q1",
          "2016Q2",
          "2016Q3",
          "2016Q4",
          "2017Q1",
          "2017Q2",
          "2017Q3",
          "2017Q4",
          "2018Q1",
          "2018Q2",
          "2018Q3",
          "2018Q4",
          "2019Q1",
          "2019Q2",
          "2019Q3",
          "2019Q4"
         ],
         "xaxis": "x",
         "y": [
          139219000000,
          277526000000,
          418261000000,
          568887000000,
          142401000000,
          282870000000,
          424278000000,
          569519000000,
          139510000000,
          281476000000,
          448301000000,
          617543000000,
          163067000000,
          334963000000,
          498066000000,
          653874000000,
          470759000000,
          928582000000,
          1414549000000,
          1923881000000,
          521721000000,
          1064279000000,
          1630609000000,
          2183201000000,
          464895000000,
          915670000000,
          1384620000000,
          1829300000000,
          406402000000,
          824737000000,
          1253259000000,
          1668355000000,
          297210000000,
          651928000000,
          975488000000,
          1288967000000,
          314815000000,
          692319000000,
          1046054000000,
          1383257000000,
          342101000000,
          750179000000,
          1131064000000,
          1487261000000,
          348808000000,
          748923000000,
          1130872000000,
          1411230000000,
          49268000000,
          97636000000,
          155407000000,
          208718000000,
          52022000000,
          105459000000,
          160107000000,
          215407000000,
          54931000000,
          109979000000,
          169011000000,
          227185000000,
          57883000000,
          114978000000,
          170655000000,
          229057000000
         ],
         "yaxis": "y"
        },
        {
         "alignmentgroup": "True",
         "hovertemplate": "17業種区分=電力・ガス <br>fiscal_year_quarter=%{x}<br>net_sales=%{y}<extra></extra>",
         "legendgroup": "電力・ガス ",
         "marker": {
          "color": "#ab63fa"
         },
         "name": "電力・ガス ",
         "offsetgroup": "電力・ガス ",
         "orientation": "v",
         "showlegend": true,
         "textposition": "auto",
         "type": "bar",
         "x": [
          "2016Q1",
          "2016Q2",
          "2016Q3",
          "2016Q4",
          "2017Q1",
          "2017Q2",
          "2017Q3",
          "2017Q4",
          "2018Q1",
          "2018Q2",
          "2018Q3",
          "2018Q4",
          "2019Q1",
          "2019Q2",
          "2019Q3",
          "2019Q4"
         ],
         "xaxis": "x",
         "y": [
          1264975000000,
          2643377000000,
          3877682000000,
          5357734000000,
          1313330000000,
          2831653000000,
          4206453000000,
          5850939000000,
          1354024000000,
          3055593000000,
          4553206000000,
          6338490000000,
          1504031000000,
          3175671000000,
          4637986000000,
          6241422000000
         ],
         "yaxis": "y"
        }
       ],
       "layout": {
        "barmode": "relative",
        "legend": {
         "title": {
          "text": "17業種区分"
         },
         "tracegroupgap": 0
        },
        "template": {
         "data": {
          "bar": [
           {
            "error_x": {
             "color": "#2a3f5f"
            },
            "error_y": {
             "color": "#2a3f5f"
            },
            "marker": {
             "line": {
              "color": "#E5ECF6",
              "width": 0.5
             }
            },
            "type": "bar"
           }
          ],
          "barpolar": [
           {
            "marker": {
             "line": {
              "color": "#E5ECF6",
              "width": 0.5
             }
            },
            "type": "barpolar"
           }
          ],
          "carpet": [
           {
            "aaxis": {
             "endlinecolor": "#2a3f5f",
             "gridcolor": "white",
             "linecolor": "white",
             "minorgridcolor": "white",
             "startlinecolor": "#2a3f5f"
            },
            "baxis": {
             "endlinecolor": "#2a3f5f",
             "gridcolor": "white",
             "linecolor": "white",
             "minorgridcolor": "white",
             "startlinecolor": "#2a3f5f"
            },
            "type": "carpet"
           }
          ],
          "choropleth": [
           {
            "colorbar": {
             "outlinewidth": 0,
             "ticks": ""
            },
            "type": "choropleth"
           }
          ],
          "contour": [
           {
            "colorbar": {
             "outlinewidth": 0,
             "ticks": ""
            },
            "colorscale": [
             [
              0,
              "#0d0887"
             ],
             [
              0.1111111111111111,
              "#46039f"
             ],
             [
              0.2222222222222222,
              "#7201a8"
             ],
             [
              0.3333333333333333,
              "#9c179e"
             ],
             [
              0.4444444444444444,
              "#bd3786"
             ],
             [
              0.5555555555555556,
              "#d8576b"
             ],
             [
              0.6666666666666666,
              "#ed7953"
             ],
             [
              0.7777777777777778,
              "#fb9f3a"
             ],
             [
              0.8888888888888888,
              "#fdca26"
             ],
             [
              1,
              "#f0f921"
             ]
            ],
            "type": "contour"
           }
          ],
          "contourcarpet": [
           {
            "colorbar": {
             "outlinewidth": 0,
             "ticks": ""
            },
            "type": "contourcarpet"
           }
          ],
          "heatmap": [
           {
            "colorbar": {
             "outlinewidth": 0,
             "ticks": ""
            },
            "colorscale": [
             [
              0,
              "#0d0887"
             ],
             [
              0.1111111111111111,
              "#46039f"
             ],
             [
              0.2222222222222222,
              "#7201a8"
             ],
             [
              0.3333333333333333,
              "#9c179e"
             ],
             [
              0.4444444444444444,
              "#bd3786"
             ],
             [
              0.5555555555555556,
              "#d8576b"
             ],
             [
              0.6666666666666666,
              "#ed7953"
             ],
             [
              0.7777777777777778,
              "#fb9f3a"
             ],
             [
              0.8888888888888888,
              "#fdca26"
             ],
             [
              1,
              "#f0f921"
             ]
            ],
            "type": "heatmap"
           }
          ],
          "heatmapgl": [
           {
            "colorbar": {
             "outlinewidth": 0,
             "ticks": ""
            },
            "colorscale": [
             [
              0,
              "#0d0887"
             ],
             [
              0.1111111111111111,
              "#46039f"
             ],
             [
              0.2222222222222222,
              "#7201a8"
             ],
             [
              0.3333333333333333,
              "#9c179e"
             ],
             [
              0.4444444444444444,
              "#bd3786"
             ],
             [
              0.5555555555555556,
              "#d8576b"
             ],
             [
              0.6666666666666666,
              "#ed7953"
             ],
             [
              0.7777777777777778,
              "#fb9f3a"
             ],
             [
              0.8888888888888888,
              "#fdca26"
             ],
             [
              1,
              "#f0f921"
             ]
            ],
            "type": "heatmapgl"
           }
          ],
          "histogram": [
           {
            "marker": {
             "colorbar": {
              "outlinewidth": 0,
              "ticks": ""
             }
            },
            "type": "histogram"
           }
          ],
          "histogram2d": [
           {
            "colorbar": {
             "outlinewidth": 0,
             "ticks": ""
            },
            "colorscale": [
             [
              0,
              "#0d0887"
             ],
             [
              0.1111111111111111,
              "#46039f"
             ],
             [
              0.2222222222222222,
              "#7201a8"
             ],
             [
              0.3333333333333333,
              "#9c179e"
             ],
             [
              0.4444444444444444,
              "#bd3786"
             ],
             [
              0.5555555555555556,
              "#d8576b"
             ],
             [
              0.6666666666666666,
              "#ed7953"
             ],
             [
              0.7777777777777778,
              "#fb9f3a"
             ],
             [
              0.8888888888888888,
              "#fdca26"
             ],
             [
              1,
              "#f0f921"
             ]
            ],
            "type": "histogram2d"
           }
          ],
          "histogram2dcontour": [
           {
            "colorbar": {
             "outlinewidth": 0,
             "ticks": ""
            },
            "colorscale": [
             [
              0,
              "#0d0887"
             ],
             [
              0.1111111111111111,
              "#46039f"
             ],
             [
              0.2222222222222222,
              "#7201a8"
             ],
             [
              0.3333333333333333,
              "#9c179e"
             ],
             [
              0.4444444444444444,
              "#bd3786"
             ],
             [
              0.5555555555555556,
              "#d8576b"
             ],
             [
              0.6666666666666666,
              "#ed7953"
             ],
             [
              0.7777777777777778,
              "#fb9f3a"
             ],
             [
              0.8888888888888888,
              "#fdca26"
             ],
             [
              1,
              "#f0f921"
             ]
            ],
            "type": "histogram2dcontour"
           }
          ],
          "mesh3d": [
           {
            "colorbar": {
             "outlinewidth": 0,
             "ticks": ""
            },
            "type": "mesh3d"
           }
          ],
          "parcoords": [
           {
            "line": {
             "colorbar": {
              "outlinewidth": 0,
              "ticks": ""
             }
            },
            "type": "parcoords"
           }
          ],
          "pie": [
           {
            "automargin": true,
            "type": "pie"
           }
          ],
          "scatter": [
           {
            "marker": {
             "colorbar": {
              "outlinewidth": 0,
              "ticks": ""
             }
            },
            "type": "scatter"
           }
          ],
          "scatter3d": [
           {
            "line": {
             "colorbar": {
              "outlinewidth": 0,
              "ticks": ""
             }
            },
            "marker": {
             "colorbar": {
              "outlinewidth": 0,
              "ticks": ""
             }
            },
            "type": "scatter3d"
           }
          ],
          "scattercarpet": [
           {
            "marker": {
             "colorbar": {
              "outlinewidth": 0,
              "ticks": ""
             }
            },
            "type": "scattercarpet"
           }
          ],
          "scattergeo": [
           {
            "marker": {
             "colorbar": {
              "outlinewidth": 0,
              "ticks": ""
             }
            },
            "type": "scattergeo"
           }
          ],
          "scattergl": [
           {
            "marker": {
             "colorbar": {
              "outlinewidth": 0,
              "ticks": ""
             }
            },
            "type": "scattergl"
           }
          ],
          "scattermapbox": [
           {
            "marker": {
             "colorbar": {
              "outlinewidth": 0,
              "ticks": ""
             }
            },
            "type": "scattermapbox"
           }
          ],
          "scatterpolar": [
           {
            "marker": {
             "colorbar": {
              "outlinewidth": 0,
              "ticks": ""
             }
            },
            "type": "scatterpolar"
           }
          ],
          "scatterpolargl": [
           {
            "marker": {
             "colorbar": {
              "outlinewidth": 0,
              "ticks": ""
             }
            },
            "type": "scatterpolargl"
           }
          ],
          "scatterternary": [
           {
            "marker": {
             "colorbar": {
              "outlinewidth": 0,
              "ticks": ""
             }
            },
            "type": "scatterternary"
           }
          ],
          "surface": [
           {
            "colorbar": {
             "outlinewidth": 0,
             "ticks": ""
            },
            "colorscale": [
             [
              0,
              "#0d0887"
             ],
             [
              0.1111111111111111,
              "#46039f"
             ],
             [
              0.2222222222222222,
              "#7201a8"
             ],
             [
              0.3333333333333333,
              "#9c179e"
             ],
             [
              0.4444444444444444,
              "#bd3786"
             ],
             [
              0.5555555555555556,
              "#d8576b"
             ],
             [
              0.6666666666666666,
              "#ed7953"
             ],
             [
              0.7777777777777778,
              "#fb9f3a"
             ],
             [
              0.8888888888888888,
              "#fdca26"
             ],
             [
              1,
              "#f0f921"
             ]
            ],
            "type": "surface"
           }
          ],
          "table": [
           {
            "cells": {
             "fill": {
              "color": "#EBF0F8"
             },
             "line": {
              "color": "white"
             }
            },
            "header": {
             "fill": {
              "color": "#C8D4E3"
             },
             "line": {
              "color": "white"
             }
            },
            "type": "table"
           }
          ]
         },
         "layout": {
          "annotationdefaults": {
           "arrowcolor": "#2a3f5f",
           "arrowhead": 0,
           "arrowwidth": 1
          },
          "coloraxis": {
           "colorbar": {
            "outlinewidth": 0,
            "ticks": ""
           }
          },
          "colorscale": {
           "diverging": [
            [
             0,
             "#8e0152"
            ],
            [
             0.1,
             "#c51b7d"
            ],
            [
             0.2,
             "#de77ae"
            ],
            [
             0.3,
             "#f1b6da"
            ],
            [
             0.4,
             "#fde0ef"
            ],
            [
             0.5,
             "#f7f7f7"
            ],
            [
             0.6,
             "#e6f5d0"
            ],
            [
             0.7,
             "#b8e186"
            ],
            [
             0.8,
             "#7fbc41"
            ],
            [
             0.9,
             "#4d9221"
            ],
            [
             1,
             "#276419"
            ]
           ],
           "sequential": [
            [
             0,
             "#0d0887"
            ],
            [
             0.1111111111111111,
             "#46039f"
            ],
            [
             0.2222222222222222,
             "#7201a8"
            ],
            [
             0.3333333333333333,
             "#9c179e"
            ],
            [
             0.4444444444444444,
             "#bd3786"
            ],
            [
             0.5555555555555556,
             "#d8576b"
            ],
            [
             0.6666666666666666,
             "#ed7953"
            ],
            [
             0.7777777777777778,
             "#fb9f3a"
            ],
            [
             0.8888888888888888,
             "#fdca26"
            ],
            [
             1,
             "#f0f921"
            ]
           ],
           "sequentialminus": [
            [
             0,
             "#0d0887"
            ],
            [
             0.1111111111111111,
             "#46039f"
            ],
            [
             0.2222222222222222,
             "#7201a8"
            ],
            [
             0.3333333333333333,
             "#9c179e"
            ],
            [
             0.4444444444444444,
             "#bd3786"
            ],
            [
             0.5555555555555556,
             "#d8576b"
            ],
            [
             0.6666666666666666,
             "#ed7953"
            ],
            [
             0.7777777777777778,
             "#fb9f3a"
            ],
            [
             0.8888888888888888,
             "#fdca26"
            ],
            [
             1,
             "#f0f921"
            ]
           ]
          },
          "colorway": [
           "#636efa",
           "#EF553B",
           "#00cc96",
           "#ab63fa",
           "#FFA15A",
           "#19d3f3",
           "#FF6692",
           "#B6E880",
           "#FF97FF",
           "#FECB52"
          ],
          "font": {
           "color": "#2a3f5f"
          },
          "geo": {
           "bgcolor": "white",
           "lakecolor": "white",
           "landcolor": "#E5ECF6",
           "showlakes": true,
           "showland": true,
           "subunitcolor": "white"
          },
          "hoverlabel": {
           "align": "left"
          },
          "hovermode": "closest",
          "mapbox": {
           "style": "light"
          },
          "paper_bgcolor": "white",
          "plot_bgcolor": "#E5ECF6",
          "polar": {
           "angularaxis": {
            "gridcolor": "white",
            "linecolor": "white",
            "ticks": ""
           },
           "bgcolor": "#E5ECF6",
           "radialaxis": {
            "gridcolor": "white",
            "linecolor": "white",
            "ticks": ""
           }
          },
          "scene": {
           "xaxis": {
            "backgroundcolor": "#E5ECF6",
            "gridcolor": "white",
            "gridwidth": 2,
            "linecolor": "white",
            "showbackground": true,
            "ticks": "",
            "zerolinecolor": "white"
           },
           "yaxis": {
            "backgroundcolor": "#E5ECF6",
            "gridcolor": "white",
            "gridwidth": 2,
            "linecolor": "white",
            "showbackground": true,
            "ticks": "",
            "zerolinecolor": "white"
           },
           "zaxis": {
            "backgroundcolor": "#E5ECF6",
            "gridcolor": "white",
            "gridwidth": 2,
            "linecolor": "white",
            "showbackground": true,
            "ticks": "",
            "zerolinecolor": "white"
           }
          },
          "shapedefaults": {
           "line": {
            "color": "#2a3f5f"
           }
          },
          "ternary": {
           "aaxis": {
            "gridcolor": "white",
            "linecolor": "white",
            "ticks": ""
           },
           "baxis": {
            "gridcolor": "white",
            "linecolor": "white",
            "ticks": ""
           },
           "bgcolor": "#E5ECF6",
           "caxis": {
            "gridcolor": "white",
            "linecolor": "white",
            "ticks": ""
           }
          },
          "title": {
           "x": 0.05
          },
          "xaxis": {
           "automargin": true,
           "gridcolor": "white",
           "linecolor": "white",
           "ticks": "",
           "title": {
            "standoff": 15
           },
           "zerolinecolor": "white",
           "zerolinewidth": 2
          },
          "yaxis": {
           "automargin": true,
           "gridcolor": "white",
           "linecolor": "white",
           "ticks": "",
           "title": {
            "standoff": 15
           },
           "zerolinecolor": "white",
           "zerolinewidth": 2
          }
         }
        },
        "title": {
         "text": "売上の推移"
        },
        "xaxis": {
         "anchor": "y",
         "domain": [
          0,
          1
         ],
         "title": {
          "text": "fiscal_year_quarter"
         }
        },
        "yaxis": {
         "anchor": "x",
         "domain": [
          0,
          1
         ],
         "title": {
          "text": "net_sales"
         }
        }
       }
      },
      "text/html": [
       "<div>\n",
       "        \n",
       "        \n",
       "            <div id=\"37e070b3-aca6-47ef-8a67-c8702ad6e3a3\" class=\"plotly-graph-div\" style=\"height:525px; width:100%;\"></div>\n",
       "            <script type=\"text/javascript\">\n",
       "                require([\"plotly\"], function(Plotly) {\n",
       "                    window.PLOTLYENV=window.PLOTLYENV || {};\n",
       "                    \n",
       "                if (document.getElementById(\"37e070b3-aca6-47ef-8a67-c8702ad6e3a3\")) {\n",
       "                    Plotly.newPlot(\n",
       "                        '37e070b3-aca6-47ef-8a67-c8702ad6e3a3',\n",
       "                        [{\"alignmentgroup\": \"True\", \"hovertemplate\": \"17\\u696d\\u7a2e\\u533a\\u5206=\\u98df\\u54c1 <br>fiscal_year_quarter=%{x}<br>net_sales=%{y}<extra></extra>\", \"legendgroup\": \"\\u98df\\u54c1 \", \"marker\": {\"color\": \"#636efa\"}, \"name\": \"\\u98df\\u54c1 \", \"offsetgroup\": \"\\u98df\\u54c1 \", \"orientation\": \"v\", \"showlegend\": true, \"textposition\": \"auto\", \"type\": \"bar\", \"x\": [\"2016Q1\", \"2016Q2\", \"2016Q3\", \"2016Q4\", \"2017Q1\", \"2017Q2\", \"2017Q3\", \"2017Q4\", \"2018Q1\", \"2018Q2\", \"2018Q3\", \"2018Q4\", \"2019Q1\", \"2019Q2\", \"2019Q3\", \"2019Q4\", \"2016Q1\", \"2016Q2\", \"2016Q3\", \"2016Q4\", \"2017Q1\", \"2017Q2\", \"2017Q3\", \"2017Q4\", \"2018Q1\", \"2018Q2\", \"2018Q3\", \"2018Q4\", \"2019Q1\", \"2019Q2\", \"2019Q3\", \"2019Q4\", \"2016Q1\", \"2016Q2\", \"2016Q3\", \"2016Q4\", \"2017Q1\", \"2017Q2\", \"2017Q3\", \"2017Q4\", \"2018Q1\", \"2018Q2\", \"2018Q3\", \"2018Q4\", \"2019Q1\", \"2019Q2\", \"2019Q3\", \"2019Q4\", \"2016Q1\", \"2016Q2\", \"2016Q3\", \"2016Q4\", \"2017Q1\", \"2017Q2\", \"2017Q3\", \"2017Q4\", \"2018Q1\", \"2018Q2\", \"2018Q3\", \"2018Q4\", \"2019Q1\", \"2019Q2\", \"2019Q3\", \"2019Q4\", \"2016Q1\", \"2016Q2\", \"2016Q3\", \"2016Q4\", \"2017Q1\", \"2017Q2\", \"2017Q3\", \"2017Q4\", \"2018Q1\", \"2018Q2\", \"2018Q3\", \"2018Q4\", \"2019Q1\", \"2019Q2\", \"2019Q3\", \"2019Q4\", \"2016Q1\", \"2016Q2\", \"2016Q3\", \"2016Q4\", \"2017Q1\", \"2017Q2\", \"2017Q3\", \"2017Q4\", \"2018Q1\", \"2018Q2\", \"2018Q3\", \"2018Q4\", \"2019Q1\", \"2019Q2\", \"2019Q3\", \"2019Q4\"], \"xaxis\": \"x\", \"y\": [52206000000, 109570000000, 179975000000, 236561000000, 56844000000, 120458000000, 198323000000, 254783000000, 57957000000, 119202000000, 197783000000, 256151000000, 62644000000, 126884000000, 205436000000, 262519000000, 78459000000, 156404000000, 237491000000, 312932000000, 80274000000, 160760000000, 245108000000, 323495000000, 83387000000, 167586000000, 254992000000, 335399000000, 85544000000, 172253000000, 263141000000, 344839000000, 47651000000, 99005000000, 150853000000, 199479000000, 52062000000, 106057000000, 157918000000, 205022000000, 50288000000, 104724000000, 158496000000, 205368000000, 52430000000, 106989000000, 160822000000, 208878000000, 111391000000, 248959000000, 392270000000, 541847000000, 117788000000, 257970000000, 400845000000, 551548000000, 111342000000, 241740000000, 381044000000, 493908000000, 100958000000, 228207000000, 382658000000, 491896000000, 98863000000, 196783000000, 301777000000, 402174000000, 106834000000, 214473000000, 326250000000, 430602000000, 111774000000, 226099000000, 343390000000, 453565000000, 115642000000, 231624000000, 355496000000, 468616000000, 123271000, 240160000, 326747000, 405217000, 105130000, 213064000, 703795000, 1378472000, 662507000, 1353760000, 2043408000, 2721223000, 652965000, 1293782000, 1940303000, 2627670000], \"yaxis\": \"y\"}, {\"alignmentgroup\": \"True\", \"hovertemplate\": \"17\\u696d\\u7a2e\\u533a\\u5206=\\u5efa\\u8a2d\\u30fb\\u8cc7\\u6750 <br>fiscal_year_quarter=%{x}<br>net_sales=%{y}<extra></extra>\", \"legendgroup\": \"\\u5efa\\u8a2d\\u30fb\\u8cc7\\u6750 \", \"marker\": {\"color\": \"#EF553B\"}, \"name\": \"\\u5efa\\u8a2d\\u30fb\\u8cc7\\u6750 \", \"offsetgroup\": \"\\u5efa\\u8a2d\\u30fb\\u8cc7\\u6750 \", \"orientation\": \"v\", \"showlegend\": true, \"textposition\": \"auto\", \"type\": \"bar\", \"x\": [\"2016Q1\", \"2016Q2\", \"2016Q3\", \"2016Q4\", \"2017Q1\", \"2017Q2\", \"2017Q3\", \"2017Q4\", \"2018Q1\", \"2018Q2\", \"2018Q3\", \"2018Q4\", \"2019Q1\", \"2019Q2\", \"2019Q3\", \"2019Q4\", \"2016Q1\", \"2016Q2\", \"2016Q3\", \"2016Q4\", \"2017Q1\", \"2017Q2\", \"2017Q3\", \"2017Q4\", \"2018Q1\", \"2018Q2\", \"2018Q3\", \"2018Q4\", \"2019Q1\", \"2019Q2\", \"2019Q3\", \"2019Q4\", \"2016Q1\", \"2016Q2\", \"2016Q3\", \"2016Q4\", \"2017Q1\", \"2017Q2\", \"2017Q3\", \"2017Q4\", \"2018Q1\", \"2018Q2\", \"2018Q3\", \"2018Q4\", \"2019Q1\", \"2019Q2\", \"2019Q3\", \"2019Q4\", \"2016Q1\", \"2016Q2\", \"2016Q3\", \"2016Q4\", \"2017Q1\", \"2017Q2\", \"2017Q3\", \"2017Q4\", \"2018Q1\", \"2018Q2\", \"2018Q3\", \"2018Q4\", \"2019Q1\", \"2019Q2\", \"2019Q3\", \"2019Q4\", \"2016Q1\", \"2016Q2\", \"2016Q3\", \"2016Q4\", \"2017Q1\", \"2017Q2\", \"2017Q3\", \"2017Q4\", \"2018Q1\", \"2018Q2\", \"2018Q3\", \"2018Q4\", \"2019Q1\", \"2019Q2\", \"2019Q3\", \"2019Q4\"], \"xaxis\": \"x\", \"y\": [492813000, 1210419000, 1776062000, 2660864000, 752733000, 1398677000, 1994490000, 3017440000, 608856000, 1682206000, 2366998000, 3340619000, 686167000, 1708979000, 2500117000, 3345618000, 297320000000, 646382000000, 1019026000000, 1487252000000, 320247000000, 685350000000, 1082985000000, 1585497000000, 318218000000, 704651000000, 1097508000000, 1650877000000, 349621000000, 766414000000, 1174690000000, 1751330000000, 307997000000, 624949000000, 939902000000, 1282570000000, 335340000000, 689989000000, 1063960000000, 1463532000000, 372460000000, 745499000000, 1126152000000, 1522904000000, 361615000000, 737489000000, 1123753000000, 1518039000000, 22643000000, 44872000000, 66373000000, 88580000000, 24104000000, 49184000000, 75067000000, 106252000000, 41595000000, 91688000000, 155385000000, 231302000000, 68838000000, 139176000000, 198624000000, 262028000000, 204535000000, 402591000000, 588614000000, 779469000000, 204620000000, 403759000000, 598977000000, 785278000000, 205365000000, 404727000000, 604780000000, 793119000000, 200777000000, 405585000000, 598553000000, 790814000000], \"yaxis\": \"y\"}, {\"alignmentgroup\": \"True\", \"hovertemplate\": \"17\\u696d\\u7a2e\\u533a\\u5206=\\u7d20\\u6750\\u30fb\\u5316\\u5b66 <br>fiscal_year_quarter=%{x}<br>net_sales=%{y}<extra></extra>\", \"legendgroup\": \"\\u7d20\\u6750\\u30fb\\u5316\\u5b66 \", \"marker\": {\"color\": \"#00cc96\"}, \"name\": \"\\u7d20\\u6750\\u30fb\\u5316\\u5b66 \", \"offsetgroup\": \"\\u7d20\\u6750\\u30fb\\u5316\\u5b66 \", \"orientation\": \"v\", \"showlegend\": true, \"textposition\": \"auto\", \"type\": \"bar\", \"x\": [\"2016Q1\", \"2016Q2\", \"2016Q3\", \"2016Q4\", \"2017Q1\", \"2017Q2\", \"2017Q3\", \"2017Q4\", \"2018Q1\", \"2018Q2\", \"2018Q3\", \"2018Q4\", \"2019Q1\", \"2019Q2\", \"2019Q3\", \"2019Q4\", \"2016Q1\", \"2016Q2\", \"2016Q3\", \"2016Q4\", \"2017Q1\", \"2017Q2\", \"2017Q3\", \"2017Q4\", \"2018Q1\", \"2018Q2\", \"2018Q3\", \"2018Q4\", \"2019Q1\", \"2019Q2\", \"2019Q3\", \"2019Q4\", \"2016Q1\", \"2016Q2\", \"2016Q3\", \"2016Q4\", \"2017Q1\", \"2017Q2\", \"2017Q3\", \"2017Q4\", \"2018Q1\", \"2018Q2\", \"2018Q3\", \"2018Q4\", \"2019Q1\", \"2019Q2\", \"2019Q3\", \"2019Q4\", \"2016Q1\", \"2016Q2\", \"2016Q3\", \"2016Q4\", \"2017Q1\", \"2017Q2\", \"2017Q3\", \"2017Q4\", \"2018Q1\", \"2018Q2\", \"2018Q3\", \"2018Q4\", \"2019Q1\", \"2019Q2\", \"2019Q3\", \"2019Q4\", \"2016Q1\", \"2016Q2\", \"2016Q3\", \"2016Q4\", \"2017Q1\", \"2017Q2\", \"2017Q3\", \"2017Q4\", \"2018Q1\", \"2018Q2\", \"2018Q3\", \"2018Q4\", \"2019Q1\", \"2019Q2\", \"2019Q3\", \"2019Q4\", \"2016Q1\", \"2016Q2\", \"2016Q3\", \"2016Q4\", \"2017Q1\", \"2017Q2\", \"2017Q3\", \"2017Q4\", \"2018Q1\", \"2018Q2\", \"2018Q3\", \"2018Q4\", \"2019Q1\", \"2019Q2\", \"2019Q3\", \"2019Q4\"], \"xaxis\": \"x\", \"y\": [14237000000, 24935000000, 35238000000, 46927000000, 14841000000, 25467000000, 35479000000, 46185000000, 14181000000, 24304000000, 33480000000, 44308000000, 14307000000, 24205000000, 33888000000, 44043000000, 82734000000, 164658000000, 242270000000, 329487000000, 78474000000, 161400000000, 241690000000, 331148000000, 80762000000, 164728000000, 249927000000, 336698000000, 80827000000, 164909000000, 248018000000, 339607000000, 174226000000, 353049000000, 535180000000, 741291000000, 198240000000, 404654000000, 614678000000, 834986000000, 216374000000, 439418000000, 659650000000, 888589000000, 214621000000, 436040000000, 647460000000, 853746000000, 22392000000, 47334000000, 71068000000, 96038000000, 23143000000, 49195000000, 73333000000, 97872000000, 23058000000, 49309000000, 73734000000, 98617000000, 23031000000, 48602000000, 70889000000, 91512000000, 53589000000, 108895000000, 165636000000, 223440000000, 57482000000, 114712000000, 177062000000, 239612000000, 61779000000, 126127000000, 201281000000, 299354000000, 70155000000, 146172000000, 218370000000, 304131000000, 545845000000, 1113620000000, 1692261000000, 2322163000000, 571488000000, 1187940000000, 1809682000000, 2433370000000, 564892000000, 1172743000000, 1799816000000, 2431489000000, 535326000000, 1132134000000, 1728397000000, 2315141000000], \"yaxis\": \"y\"}, {\"alignmentgroup\": \"True\", \"hovertemplate\": \"17\\u696d\\u7a2e\\u533a\\u5206=\\u60c5\\u5831\\u901a\\u4fe1\\u30fb\\u30b5\\u30fc\\u30d3\\u30b9\\u305d\\u306e\\u4ed6 <br>fiscal_year_quarter=%{x}<br>net_sales=%{y}<extra></extra>\", \"legendgroup\": \"\\u60c5\\u5831\\u901a\\u4fe1\\u30fb\\u30b5\\u30fc\\u30d3\\u30b9\\u305d\\u306e\\u4ed6 \", \"marker\": {\"color\": \"#ab63fa\"}, \"name\": \"\\u60c5\\u5831\\u901a\\u4fe1\\u30fb\\u30b5\\u30fc\\u30d3\\u30b9\\u305d\\u306e\\u4ed6 \", \"offsetgroup\": \"\\u60c5\\u5831\\u901a\\u4fe1\\u30fb\\u30b5\\u30fc\\u30d3\\u30b9\\u305d\\u306e\\u4ed6 \", \"orientation\": \"v\", \"showlegend\": true, \"textposition\": \"auto\", \"type\": \"bar\", \"x\": [\"2016Q1\", \"2016Q2\", \"2016Q3\", \"2016Q4\", \"2017Q1\", \"2017Q2\", \"2017Q3\", \"2017Q4\", \"2018Q1\", \"2018Q2\", \"2018Q3\", \"2018Q4\", \"2019Q1\", \"2019Q2\", \"2019Q3\", \"2019Q4\", \"2016Q1\", \"2016Q2\", \"2016Q3\", \"2016Q4\", \"2017Q1\", \"2017Q2\", \"2017Q3\", \"2017Q4\", \"2018Q1\", \"2018Q2\", \"2018Q3\", \"2018Q4\", \"2019Q1\", \"2019Q2\", \"2019Q3\", \"2019Q4\", \"2016Q1\", \"2016Q2\", \"2016Q3\", \"2016Q4\", \"2017Q1\", \"2017Q2\", \"2017Q3\", \"2017Q4\", \"2018Q1\", \"2018Q2\", \"2018Q3\", \"2018Q4\", \"2019Q1\", \"2019Q2\", \"2019Q3\", \"2019Q4\", \"2016Q1\", \"2016Q2\", \"2016Q3\", \"2016Q4\", \"2017Q1\", \"2017Q2\", \"2017Q3\", \"2017Q4\", \"2018Q1\", \"2018Q2\", \"2018Q3\", \"2018Q4\", \"2019Q1\", \"2019Q2\", \"2019Q3\", \"2019Q4\", \"2016Q1\", \"2016Q2\", \"2016Q3\", \"2016Q4\", \"2017Q1\", \"2017Q2\", \"2017Q3\", \"2017Q4\", \"2018Q1\", \"2018Q2\", \"2018Q3\", \"2018Q4\", \"2019Q1\", \"2019Q2\", \"2019Q3\", \"2019Q4\", \"2016Q1\", \"2016Q2\", \"2016Q3\", \"2016Q4\", \"2017Q1\", \"2017Q2\", \"2017Q3\", \"2017Q4\", \"2018Q1\", \"2018Q2\", \"2018Q3\", \"2018Q4\", \"2019Q1\", \"2019Q2\", \"2019Q3\", \"2019Q4\", \"2016Q1\", \"2016Q2\", \"2016Q3\", \"2016Q4\", \"2017Q1\", \"2017Q2\", \"2017Q3\", \"2017Q4\", \"2018Q1\", \"2018Q2\", \"2018Q3\", \"2018Q4\", \"2019Q1\", \"2019Q2\", \"2019Q3\", \"2019Q4\"], \"xaxis\": \"x\", \"y\": [342877000, 678921000, 1050208000, 1432149000, 404753000, 802987000, 1216571000, 1680218000, 520203000, 1001181000, 1500456000, 2043472000, 618632000, 1199538000, 1793794000, 2380655000, 11688289000, 23859292000, 35608008000, 50647773000, 9965741000, 19519348000, 33771859000, 47283807000, 15979000000, 24178000000, 37985000000, 55166000000, 17764000000, 29649000000, 44406000000, 58806000000, 12997000000, 26238000000, 39523000000, 52712000000, 13151000000, 26652000000, 40214000000, 53576000000, 13559000000, 27117000000, 40744000000, 54258000000, 13461000000, 27160000000, 40689000000, 53386000000, 500021000, 744744000, 963420000, 2811136000, 501836000, 749156000, 963518000, 2757186000, 531227000, 789363000, 987276000, 2835197000, 552736000, 813047000, 983458000, 2818992000, 86993000000, 172508000000, 264427000000, 355363000000, 88002000000, 177528000000, 271764000000, 361954000000, 88783000000, 178103000000, 274911000000, 366353000000, 88488000000, 176880000000, 269331000000, 356796000000, 23529000000, 47819000000, 73923000000, 96173000000, 24887000000, 49384000000, 70930000000, 92878000000, 21601000000, 44281000000, 66937000000, 90827000000, 23397000000, 50278000000, 73766000000, 97479000000, 1543305000, 2848194000, 4457238000, 5884509000, 1426110000, 2604843000, 4113799000, 5341882000, 1405075000, 2564496000, 4180734000, 7062741000, 3183078000, 5871490000, 9256064000, 11504107000], \"yaxis\": \"y\"}, {\"alignmentgroup\": \"True\", \"hovertemplate\": \"17\\u696d\\u7a2e\\u533a\\u5206=\\u81ea\\u52d5\\u8eca\\u30fb\\u8f38\\u9001\\u6a5f <br>fiscal_year_quarter=%{x}<br>net_sales=%{y}<extra></extra>\", \"legendgroup\": \"\\u81ea\\u52d5\\u8eca\\u30fb\\u8f38\\u9001\\u6a5f \", \"marker\": {\"color\": \"#FFA15A\"}, \"name\": \"\\u81ea\\u52d5\\u8eca\\u30fb\\u8f38\\u9001\\u6a5f \", \"offsetgroup\": \"\\u81ea\\u52d5\\u8eca\\u30fb\\u8f38\\u9001\\u6a5f \", \"orientation\": \"v\", \"showlegend\": true, \"textposition\": \"auto\", \"type\": \"bar\", \"x\": [\"2016Q1\", \"2016Q2\", \"2016Q3\", \"2016Q4\", \"2017Q1\", \"2017Q2\", \"2017Q3\", \"2017Q4\", \"2018Q1\", \"2018Q2\", \"2018Q3\", \"2018Q4\", \"2019Q1\", \"2019Q2\", \"2019Q3\", \"2019Q4\", \"2016Q1\", \"2016Q2\", \"2016Q3\", \"2016Q4\", \"2017Q1\", \"2017Q2\", \"2017Q3\", \"2017Q4\", \"2018Q1\", \"2018Q2\", \"2018Q3\", \"2018Q4\", \"2019Q1\", \"2019Q2\", \"2019Q3\", \"2019Q4\", \"2016Q1\", \"2016Q2\", \"2016Q3\", \"2016Q4\", \"2017Q1\", \"2017Q2\", \"2017Q3\", \"2017Q4\", \"2018Q1\", \"2018Q2\", \"2018Q3\", \"2018Q4\", \"2019Q1\", \"2019Q2\", \"2019Q3\", \"2019Q4\"], \"xaxis\": \"x\", \"y\": [129344000000, 268117000000, 410218000000, 596193000000, 147739000000, 310837000000, 466790000000, 646272000000, 149157000000, 309677000000, 460835000000, 650239000000, 149523000000, 311106000000, 465739000000, 650462000000, 529788000000, 1078430000000, 1640554000000, 1675150000000, 445388000000, 937936000000, 1464690000000, 2003973000000, 522145000000, 1057011000000, 1629827000000, 2214946000000, 551225000000, 1102951000000, 1624488000000, 2171355000000, 2654499000000, 5321037000000, 8264767000000, 11720041000000, 2760436000000, 5652509000000, 8527992000000, 11951169000000, 2716592000000, 5532722000000, 8578426000000, 11574247000000, 2372422000000, 5003075000000, 7507286000000, 9878866000000], \"yaxis\": \"y\"}, {\"alignmentgroup\": \"True\", \"hovertemplate\": \"17\\u696d\\u7a2e\\u533a\\u5206=\\u9244\\u92fc\\u30fb\\u975e\\u9244 <br>fiscal_year_quarter=%{x}<br>net_sales=%{y}<extra></extra>\", \"legendgroup\": \"\\u9244\\u92fc\\u30fb\\u975e\\u9244 \", \"marker\": {\"color\": \"#19d3f3\"}, \"name\": \"\\u9244\\u92fc\\u30fb\\u975e\\u9244 \", \"offsetgroup\": \"\\u9244\\u92fc\\u30fb\\u975e\\u9244 \", \"orientation\": \"v\", \"showlegend\": true, \"textposition\": \"auto\", \"type\": \"bar\", \"x\": [\"2016Q1\", \"2016Q2\", \"2016Q3\", \"2016Q4\", \"2017Q1\", \"2017Q2\", \"2017Q3\", \"2017Q4\", \"2018Q1\", \"2018Q2\", \"2018Q3\", \"2018Q4\", \"2019Q1\", \"2019Q2\", \"2019Q3\", \"2019Q4\", \"2016Q1\", \"2016Q2\", \"2016Q3\", \"2016Q4\", \"2017Q1\", \"2017Q2\", \"2017Q3\", \"2017Q4\", \"2018Q1\", \"2018Q2\", \"2018Q3\", \"2018Q4\", \"2019Q1\", \"2019Q2\", \"2019Q3\", \"2019Q4\"], \"xaxis\": \"x\", \"y\": [1051141000000, 2160793000000, 3332004000000, 4632890000000, 1355466000000, 2745096000000, 4164556000000, 5712965000000, 1459992000000, 2941586000000, 4575280000000, 6177947000000, 1522479000000, 3047183000000, 4476014000000, 5921525000000, 196184000000, 397569000000, 604937000000, 843344000000, 224944000000, 457517000000, 703387000000, 967333000000, 240827000000, 487437000000, 738633000000, 991590000000, 226271000000, 455200000000, 676162000000, 914439000000], \"yaxis\": \"y\"}, {\"alignmentgroup\": \"True\", \"hovertemplate\": \"17\\u696d\\u7a2e\\u533a\\u5206=\\u6a5f\\u68b0 <br>fiscal_year_quarter=%{x}<br>net_sales=%{y}<extra></extra>\", \"legendgroup\": \"\\u6a5f\\u68b0 \", \"marker\": {\"color\": \"#FF6692\"}, \"name\": \"\\u6a5f\\u68b0 \", \"offsetgroup\": \"\\u6a5f\\u68b0 \", \"orientation\": \"v\", \"showlegend\": true, \"textposition\": \"auto\", \"type\": \"bar\", \"x\": [\"2016Q1\", \"2016Q2\", \"2016Q3\", \"2016Q4\", \"2017Q1\", \"2017Q2\", \"2017Q3\", \"2017Q4\", \"2018Q1\", \"2018Q2\", \"2018Q3\", \"2018Q4\", \"2019Q1\", \"2019Q2\", \"2019Q3\", \"2019Q4\", \"2016Q1\", \"2016Q2\", \"2016Q3\", \"2016Q4\", \"2017Q1\", \"2017Q2\", \"2017Q3\", \"2017Q4\", \"2018Q1\", \"2018Q2\", \"2018Q3\", \"2018Q4\", \"2019Q1\", \"2019Q2\", \"2019Q3\", \"2019Q4\"], \"xaxis\": \"x\", \"y\": [8665000000, 18401000000, 30488000000, 41050000000, 12746000000, 27376000000, 42269000000, 56794000000, 18033000000, 35427000000, 50858000000, 68486000000, 14810000000, 27396000000, 39218000000, 49310000000, 389252000000, 796112000000, 1226710000000, 1802990000000, 561211000000, 1158960000000, 1805801000000, 2501110000000, 646060000000, 1320000000000, 2018609000000, 2725243000000, 609767000000, 1213485000000, 1827442000000, 2444870000000], \"yaxis\": \"y\"}, {\"alignmentgroup\": \"True\", \"hovertemplate\": \"17\\u696d\\u7a2e\\u533a\\u5206=\\u96fb\\u6a5f\\u30fb\\u7cbe\\u5bc6 <br>fiscal_year_quarter=%{x}<br>net_sales=%{y}<extra></extra>\", \"legendgroup\": \"\\u96fb\\u6a5f\\u30fb\\u7cbe\\u5bc6 \", \"marker\": {\"color\": \"#B6E880\"}, \"name\": \"\\u96fb\\u6a5f\\u30fb\\u7cbe\\u5bc6 \", \"offsetgroup\": \"\\u96fb\\u6a5f\\u30fb\\u7cbe\\u5bc6 \", \"orientation\": \"v\", \"showlegend\": true, \"textposition\": \"auto\", \"type\": \"bar\", \"x\": [\"2016Q1\", \"2016Q2\", \"2016Q3\", \"2016Q4\", \"2017Q1\", \"2017Q2\", \"2017Q3\", \"2017Q4\", \"2018Q1\", \"2018Q2\", \"2018Q3\", \"2018Q4\", \"2019Q1\", \"2019Q2\", \"2019Q3\", \"2019Q4\", \"2016Q1\", \"2016Q2\", \"2016Q3\", \"2016Q4\", \"2017Q1\", \"2017Q2\", \"2017Q3\", \"2017Q4\", \"2018Q1\", \"2018Q2\", \"2018Q3\", \"2018Q4\", \"2019Q1\", \"2019Q2\", \"2019Q3\", \"2019Q4\", \"2016Q1\", \"2016Q2\", \"2016Q3\", \"2016Q4\", \"2017Q1\", \"2017Q2\", \"2017Q3\", \"2017Q4\", \"2018Q1\", \"2018Q2\", \"2018Q3\", \"2018Q4\", \"2019Q1\", \"2019Q2\", \"2019Q3\", \"2019Q4\", \"2016Q1\", \"2016Q2\", \"2016Q3\", \"2016Q4\", \"2017Q1\", \"2017Q2\", \"2017Q3\", \"2017Q4\", \"2018Q1\", \"2018Q2\", \"2018Q3\", \"2018Q4\", \"2019Q1\", \"2019Q2\", \"2019Q3\", \"2019Q4\"], \"xaxis\": \"x\", \"y\": [2130470000000, 4353774000000, 6519311000000, 9162264000000, 2088670000000, 4376470000000, 6674030000000, 9368614000000, 2165899000000, 4491834000000, 6782969000000, 9480619000000, 2032582000000, 4221327000000, 6344181000000, 8767263000000, 518703000000, 1201062000000, 1794470000000, 2665040000000, 582456000000, 1288011000000, 1971282000000, 2844447000000, 612962000000, 1336424000000, 2034653000000, 2913446000000, 653855000000, 1448993000000, 2175614000000, 3095234000000, 6892000000, 13528000000, 19974000000, 27361000000, 7235000000, 14399000000, 22211000000, 30868000000, 7909000000, 15610000000, 23291000000, 31151000000, 7662000000, 15234000000, 22430000000, 29995000000, 69723000000, 154756000000, 236314000000, 342479000000, 75803000000, 172066000000, 263327000000, 376530000000, 85655000000, 182854000000, 278218000000, 391213000000, 80776000000, 186479000000, 279103000000, 385443000000], \"yaxis\": \"y\"}, {\"alignmentgroup\": \"True\", \"hovertemplate\": \"17\\u696d\\u7a2e\\u533a\\u5206=\\u5c0f\\u58f2 <br>fiscal_year_quarter=%{x}<br>net_sales=%{y}<extra></extra>\", \"legendgroup\": \"\\u5c0f\\u58f2 \", \"marker\": {\"color\": \"#FF97FF\"}, \"name\": \"\\u5c0f\\u58f2 \", \"offsetgroup\": \"\\u5c0f\\u58f2 \", \"orientation\": \"v\", \"showlegend\": true, \"textposition\": \"auto\", \"type\": \"bar\", \"x\": [\"2016Q1\", \"2016Q2\", \"2016Q3\", \"2016Q4\", \"2017Q1\", \"2017Q2\", \"2017Q3\", \"2017Q4\", \"2018Q1\", \"2018Q2\", \"2018Q3\", \"2018Q4\", \"2019Q1\", \"2019Q2\", \"2019Q3\", \"2019Q4\"], \"xaxis\": \"x\", \"y\": [7958852000, 16103504000, 23226878000, 29687307000, 6492223000, 13208102000, 19463210000, 25440764000, 5769932000, 11795334000, 17451023000, 22906550000, 5636605000, 11497644000, 19365502000, 25370179000], \"yaxis\": \"y\"}, {\"alignmentgroup\": \"True\", \"hovertemplate\": \"17\\u696d\\u7a2e\\u533a\\u5206=\\u5546\\u793e\\u30fb\\u5378\\u58f2 <br>fiscal_year_quarter=%{x}<br>net_sales=%{y}<extra></extra>\", \"legendgroup\": \"\\u5546\\u793e\\u30fb\\u5378\\u58f2 \", \"marker\": {\"color\": \"#FECB52\"}, \"name\": \"\\u5546\\u793e\\u30fb\\u5378\\u58f2 \", \"offsetgroup\": \"\\u5546\\u793e\\u30fb\\u5378\\u58f2 \", \"orientation\": \"v\", \"showlegend\": true, \"textposition\": \"auto\", \"type\": \"bar\", \"x\": [\"2016Q1\", \"2016Q2\", \"2016Q3\", \"2016Q4\", \"2017Q1\", \"2017Q2\", \"2017Q3\", \"2017Q4\", \"2018Q1\", \"2018Q2\", \"2018Q3\", \"2018Q4\", \"2019Q1\", \"2019Q2\", \"2019Q3\", \"2019Q4\", \"2016Q1\", \"2016Q2\", \"2016Q3\", \"2016Q4\", \"2017Q1\", \"2017Q2\", \"2017Q3\", \"2017Q4\", \"2018Q1\", \"2018Q2\", \"2018Q3\", \"2018Q4\", \"2019Q1\", \"2019Q2\", \"2019Q3\", \"2019Q4\"], \"xaxis\": \"x\", \"y\": [1106650000000, 2246482000000, 3471072000000, 4838464000000, 1218792000000, 2577710000000, 4019802000000, 5510059000000, 2613081000000, 5460924000000, 8626834000000, 11600485000000, 2726702000000, 5489699000000, 8260562000000, 10982968000000, 33686000000, 66001000000, 98049000000, 141532000000, 33509000000, 65372000000, 100057000000, 133727000000, 31505000000, 68889000000, 107606000000, 138487000000, 25185000000, 56642000000, 87485000000, 115548000000], \"yaxis\": \"y\"}, {\"alignmentgroup\": \"True\", \"hovertemplate\": \"17\\u696d\\u7a2e\\u533a\\u5206=\\u91d1\\u878d\\uff08\\u9664\\u304f\\u9280\\u884c\\uff09 <br>fiscal_year_quarter=%{x}<br>net_sales=%{y}<extra></extra>\", \"legendgroup\": \"\\u91d1\\u878d\\uff08\\u9664\\u304f\\u9280\\u884c\\uff09 \", \"marker\": {\"color\": \"#636efa\"}, \"name\": \"\\u91d1\\u878d\\uff08\\u9664\\u304f\\u9280\\u884c\\uff09 \", \"offsetgroup\": \"\\u91d1\\u878d\\uff08\\u9664\\u304f\\u9280\\u884c\\uff09 \", \"orientation\": \"v\", \"showlegend\": true, \"textposition\": \"auto\", \"type\": \"bar\", \"x\": [\"2016Q1\", \"2016Q2\", \"2016Q3\", \"2016Q4\", \"2017Q1\", \"2017Q2\", \"2017Q3\", \"2017Q4\", \"2018Q1\", \"2018Q2\", \"2018Q3\", \"2018Q4\", \"2019Q1\", \"2019Q2\", \"2019Q3\", \"2019Q4\"], \"xaxis\": \"x\", \"y\": [151859000000, 296977000000, 450175000000, 616497000000, 159652000000, 336264000000, 527140000000, 712601000000, 175175000000, 347746000000, 536499000000, 720586000000, 181341000000, 341007000000, 511680000000, 672287000000], \"yaxis\": \"y\"}, {\"alignmentgroup\": \"True\", \"hovertemplate\": \"17\\u696d\\u7a2e\\u533a\\u5206=\\u4e0d\\u52d5\\u7523 <br>fiscal_year_quarter=%{x}<br>net_sales=%{y}<extra></extra>\", \"legendgroup\": \"\\u4e0d\\u52d5\\u7523 \", \"marker\": {\"color\": \"#EF553B\"}, \"name\": \"\\u4e0d\\u52d5\\u7523 \", \"offsetgroup\": \"\\u4e0d\\u52d5\\u7523 \", \"orientation\": \"v\", \"showlegend\": true, \"textposition\": \"auto\", \"type\": \"bar\", \"x\": [\"2016Q1\", \"2016Q2\", \"2016Q3\", \"2016Q4\", \"2017Q1\", \"2017Q2\", \"2017Q3\", \"2017Q4\", \"2018Q1\", \"2018Q2\", \"2018Q3\", \"2018Q4\", \"2019Q1\", \"2019Q2\", \"2019Q3\", \"2019Q4\"], \"xaxis\": \"x\", \"y\": [356470000000, 810979000000, 1198672000000, 1704416000000, 381553000000, 721787000000, 1101607000000, 1751114000000, 442352000000, 860705000000, 1244009000000, 1861195000000, 427171000000, 888776000000, 1295461000000, 1905642000000], \"yaxis\": \"y\"}, {\"alignmentgroup\": \"True\", \"hovertemplate\": \"17\\u696d\\u7a2e\\u533a\\u5206=\\u904b\\u8f38\\u30fb\\u7269\\u6d41 <br>fiscal_year_quarter=%{x}<br>net_sales=%{y}<extra></extra>\", \"legendgroup\": \"\\u904b\\u8f38\\u30fb\\u7269\\u6d41 \", \"marker\": {\"color\": \"#00cc96\"}, \"name\": \"\\u904b\\u8f38\\u30fb\\u7269\\u6d41 \", \"offsetgroup\": \"\\u904b\\u8f38\\u30fb\\u7269\\u6d41 \", \"orientation\": \"v\", \"showlegend\": true, \"textposition\": \"auto\", \"type\": \"bar\", \"x\": [\"2016Q1\", \"2016Q2\", \"2016Q3\", \"2016Q4\", \"2017Q1\", \"2017Q2\", \"2017Q3\", \"2017Q4\", \"2018Q1\", \"2018Q2\", \"2018Q3\", \"2018Q4\", \"2019Q1\", \"2019Q2\", \"2019Q3\", \"2019Q4\", \"2016Q1\", \"2016Q2\", \"2016Q3\", \"2016Q4\", \"2017Q1\", \"2017Q2\", \"2017Q3\", \"2017Q4\", \"2018Q1\", \"2018Q2\", \"2018Q3\", \"2018Q4\", \"2019Q1\", \"2019Q2\", \"2019Q3\", \"2019Q4\", \"2016Q1\", \"2016Q2\", \"2016Q3\", \"2016Q4\", \"2017Q1\", \"2017Q2\", \"2017Q3\", \"2017Q4\", \"2018Q1\", \"2018Q2\", \"2018Q3\", \"2018Q4\", \"2019Q1\", \"2019Q2\", \"2019Q3\", \"2019Q4\", \"2016Q1\", \"2016Q2\", \"2016Q3\", \"2016Q4\", \"2017Q1\", \"2017Q2\", \"2017Q3\", \"2017Q4\", \"2018Q1\", \"2018Q2\", \"2018Q3\", \"2018Q4\", \"2019Q1\", \"2019Q2\", \"2019Q3\", \"2019Q4\"], \"xaxis\": \"x\", \"y\": [139219000000, 277526000000, 418261000000, 568887000000, 142401000000, 282870000000, 424278000000, 569519000000, 139510000000, 281476000000, 448301000000, 617543000000, 163067000000, 334963000000, 498066000000, 653874000000, 470759000000, 928582000000, 1414549000000, 1923881000000, 521721000000, 1064279000000, 1630609000000, 2183201000000, 464895000000, 915670000000, 1384620000000, 1829300000000, 406402000000, 824737000000, 1253259000000, 1668355000000, 297210000000, 651928000000, 975488000000, 1288967000000, 314815000000, 692319000000, 1046054000000, 1383257000000, 342101000000, 750179000000, 1131064000000, 1487261000000, 348808000000, 748923000000, 1130872000000, 1411230000000, 49268000000, 97636000000, 155407000000, 208718000000, 52022000000, 105459000000, 160107000000, 215407000000, 54931000000, 109979000000, 169011000000, 227185000000, 57883000000, 114978000000, 170655000000, 229057000000], \"yaxis\": \"y\"}, {\"alignmentgroup\": \"True\", \"hovertemplate\": \"17\\u696d\\u7a2e\\u533a\\u5206=\\u96fb\\u529b\\u30fb\\u30ac\\u30b9 <br>fiscal_year_quarter=%{x}<br>net_sales=%{y}<extra></extra>\", \"legendgroup\": \"\\u96fb\\u529b\\u30fb\\u30ac\\u30b9 \", \"marker\": {\"color\": \"#ab63fa\"}, \"name\": \"\\u96fb\\u529b\\u30fb\\u30ac\\u30b9 \", \"offsetgroup\": \"\\u96fb\\u529b\\u30fb\\u30ac\\u30b9 \", \"orientation\": \"v\", \"showlegend\": true, \"textposition\": \"auto\", \"type\": \"bar\", \"x\": [\"2016Q1\", \"2016Q2\", \"2016Q3\", \"2016Q4\", \"2017Q1\", \"2017Q2\", \"2017Q3\", \"2017Q4\", \"2018Q1\", \"2018Q2\", \"2018Q3\", \"2018Q4\", \"2019Q1\", \"2019Q2\", \"2019Q3\", \"2019Q4\"], \"xaxis\": \"x\", \"y\": [1264975000000, 2643377000000, 3877682000000, 5357734000000, 1313330000000, 2831653000000, 4206453000000, 5850939000000, 1354024000000, 3055593000000, 4553206000000, 6338490000000, 1504031000000, 3175671000000, 4637986000000, 6241422000000], \"yaxis\": \"y\"}],\n",
       "                        {\"barmode\": \"relative\", \"legend\": {\"title\": {\"text\": \"17\\u696d\\u7a2e\\u533a\\u5206\"}, \"tracegroupgap\": 0}, \"template\": {\"data\": {\"bar\": [{\"error_x\": {\"color\": \"#2a3f5f\"}, \"error_y\": {\"color\": \"#2a3f5f\"}, \"marker\": {\"line\": {\"color\": \"#E5ECF6\", \"width\": 0.5}}, \"type\": \"bar\"}], \"barpolar\": [{\"marker\": {\"line\": {\"color\": \"#E5ECF6\", \"width\": 0.5}}, \"type\": \"barpolar\"}], \"carpet\": [{\"aaxis\": {\"endlinecolor\": \"#2a3f5f\", \"gridcolor\": \"white\", \"linecolor\": \"white\", \"minorgridcolor\": \"white\", \"startlinecolor\": \"#2a3f5f\"}, \"baxis\": {\"endlinecolor\": \"#2a3f5f\", \"gridcolor\": \"white\", \"linecolor\": \"white\", \"minorgridcolor\": \"white\", \"startlinecolor\": \"#2a3f5f\"}, \"type\": \"carpet\"}], \"choropleth\": [{\"colorbar\": {\"outlinewidth\": 0, \"ticks\": \"\"}, \"type\": \"choropleth\"}], \"contour\": [{\"colorbar\": {\"outlinewidth\": 0, \"ticks\": \"\"}, \"colorscale\": [[0.0, \"#0d0887\"], [0.1111111111111111, \"#46039f\"], [0.2222222222222222, \"#7201a8\"], [0.3333333333333333, \"#9c179e\"], [0.4444444444444444, \"#bd3786\"], [0.5555555555555556, \"#d8576b\"], [0.6666666666666666, \"#ed7953\"], [0.7777777777777778, \"#fb9f3a\"], [0.8888888888888888, \"#fdca26\"], [1.0, \"#f0f921\"]], \"type\": \"contour\"}], \"contourcarpet\": [{\"colorbar\": {\"outlinewidth\": 0, \"ticks\": \"\"}, \"type\": \"contourcarpet\"}], \"heatmap\": [{\"colorbar\": {\"outlinewidth\": 0, \"ticks\": \"\"}, \"colorscale\": [[0.0, \"#0d0887\"], [0.1111111111111111, \"#46039f\"], [0.2222222222222222, \"#7201a8\"], [0.3333333333333333, \"#9c179e\"], [0.4444444444444444, \"#bd3786\"], [0.5555555555555556, \"#d8576b\"], [0.6666666666666666, \"#ed7953\"], [0.7777777777777778, \"#fb9f3a\"], [0.8888888888888888, \"#fdca26\"], [1.0, \"#f0f921\"]], \"type\": \"heatmap\"}], \"heatmapgl\": [{\"colorbar\": {\"outlinewidth\": 0, \"ticks\": \"\"}, \"colorscale\": [[0.0, \"#0d0887\"], [0.1111111111111111, \"#46039f\"], [0.2222222222222222, \"#7201a8\"], [0.3333333333333333, \"#9c179e\"], [0.4444444444444444, \"#bd3786\"], [0.5555555555555556, \"#d8576b\"], [0.6666666666666666, \"#ed7953\"], [0.7777777777777778, \"#fb9f3a\"], [0.8888888888888888, \"#fdca26\"], [1.0, \"#f0f921\"]], \"type\": \"heatmapgl\"}], \"histogram\": [{\"marker\": {\"colorbar\": {\"outlinewidth\": 0, \"ticks\": \"\"}}, \"type\": \"histogram\"}], \"histogram2d\": [{\"colorbar\": {\"outlinewidth\": 0, \"ticks\": \"\"}, \"colorscale\": [[0.0, \"#0d0887\"], [0.1111111111111111, \"#46039f\"], [0.2222222222222222, \"#7201a8\"], [0.3333333333333333, \"#9c179e\"], [0.4444444444444444, \"#bd3786\"], [0.5555555555555556, \"#d8576b\"], [0.6666666666666666, \"#ed7953\"], [0.7777777777777778, \"#fb9f3a\"], [0.8888888888888888, \"#fdca26\"], [1.0, \"#f0f921\"]], \"type\": \"histogram2d\"}], \"histogram2dcontour\": [{\"colorbar\": {\"outlinewidth\": 0, \"ticks\": \"\"}, \"colorscale\": [[0.0, \"#0d0887\"], [0.1111111111111111, \"#46039f\"], [0.2222222222222222, \"#7201a8\"], [0.3333333333333333, \"#9c179e\"], [0.4444444444444444, \"#bd3786\"], [0.5555555555555556, \"#d8576b\"], [0.6666666666666666, \"#ed7953\"], [0.7777777777777778, \"#fb9f3a\"], [0.8888888888888888, \"#fdca26\"], [1.0, \"#f0f921\"]], \"type\": \"histogram2dcontour\"}], \"mesh3d\": [{\"colorbar\": {\"outlinewidth\": 0, \"ticks\": \"\"}, \"type\": \"mesh3d\"}], \"parcoords\": [{\"line\": {\"colorbar\": {\"outlinewidth\": 0, \"ticks\": \"\"}}, \"type\": \"parcoords\"}], \"pie\": [{\"automargin\": true, \"type\": \"pie\"}], \"scatter\": [{\"marker\": {\"colorbar\": {\"outlinewidth\": 0, \"ticks\": \"\"}}, \"type\": \"scatter\"}], \"scatter3d\": [{\"line\": {\"colorbar\": {\"outlinewidth\": 0, \"ticks\": \"\"}}, \"marker\": {\"colorbar\": {\"outlinewidth\": 0, \"ticks\": \"\"}}, \"type\": \"scatter3d\"}], \"scattercarpet\": [{\"marker\": {\"colorbar\": {\"outlinewidth\": 0, \"ticks\": \"\"}}, \"type\": \"scattercarpet\"}], \"scattergeo\": [{\"marker\": {\"colorbar\": {\"outlinewidth\": 0, \"ticks\": \"\"}}, \"type\": \"scattergeo\"}], \"scattergl\": [{\"marker\": {\"colorbar\": {\"outlinewidth\": 0, \"ticks\": \"\"}}, \"type\": \"scattergl\"}], \"scattermapbox\": [{\"marker\": {\"colorbar\": {\"outlinewidth\": 0, \"ticks\": \"\"}}, \"type\": \"scattermapbox\"}], \"scatterpolar\": [{\"marker\": {\"colorbar\": {\"outlinewidth\": 0, \"ticks\": \"\"}}, \"type\": \"scatterpolar\"}], \"scatterpolargl\": [{\"marker\": {\"colorbar\": {\"outlinewidth\": 0, \"ticks\": \"\"}}, \"type\": \"scatterpolargl\"}], \"scatterternary\": [{\"marker\": {\"colorbar\": {\"outlinewidth\": 0, \"ticks\": \"\"}}, \"type\": \"scatterternary\"}], \"surface\": [{\"colorbar\": {\"outlinewidth\": 0, \"ticks\": \"\"}, \"colorscale\": [[0.0, \"#0d0887\"], [0.1111111111111111, \"#46039f\"], [0.2222222222222222, \"#7201a8\"], [0.3333333333333333, \"#9c179e\"], [0.4444444444444444, \"#bd3786\"], [0.5555555555555556, \"#d8576b\"], [0.6666666666666666, \"#ed7953\"], [0.7777777777777778, \"#fb9f3a\"], [0.8888888888888888, \"#fdca26\"], [1.0, \"#f0f921\"]], \"type\": \"surface\"}], \"table\": [{\"cells\": {\"fill\": {\"color\": \"#EBF0F8\"}, \"line\": {\"color\": \"white\"}}, \"header\": {\"fill\": {\"color\": \"#C8D4E3\"}, \"line\": {\"color\": \"white\"}}, \"type\": \"table\"}]}, \"layout\": {\"annotationdefaults\": {\"arrowcolor\": \"#2a3f5f\", \"arrowhead\": 0, \"arrowwidth\": 1}, \"coloraxis\": {\"colorbar\": {\"outlinewidth\": 0, \"ticks\": \"\"}}, \"colorscale\": {\"diverging\": [[0, \"#8e0152\"], [0.1, \"#c51b7d\"], [0.2, \"#de77ae\"], [0.3, \"#f1b6da\"], [0.4, \"#fde0ef\"], [0.5, \"#f7f7f7\"], [0.6, \"#e6f5d0\"], [0.7, \"#b8e186\"], [0.8, \"#7fbc41\"], [0.9, \"#4d9221\"], [1, \"#276419\"]], \"sequential\": [[0.0, \"#0d0887\"], [0.1111111111111111, \"#46039f\"], [0.2222222222222222, \"#7201a8\"], [0.3333333333333333, \"#9c179e\"], [0.4444444444444444, \"#bd3786\"], [0.5555555555555556, \"#d8576b\"], [0.6666666666666666, \"#ed7953\"], [0.7777777777777778, \"#fb9f3a\"], [0.8888888888888888, \"#fdca26\"], [1.0, \"#f0f921\"]], \"sequentialminus\": [[0.0, \"#0d0887\"], [0.1111111111111111, \"#46039f\"], [0.2222222222222222, \"#7201a8\"], [0.3333333333333333, \"#9c179e\"], [0.4444444444444444, \"#bd3786\"], [0.5555555555555556, \"#d8576b\"], [0.6666666666666666, \"#ed7953\"], [0.7777777777777778, \"#fb9f3a\"], [0.8888888888888888, \"#fdca26\"], [1.0, \"#f0f921\"]]}, \"colorway\": [\"#636efa\", \"#EF553B\", \"#00cc96\", \"#ab63fa\", \"#FFA15A\", \"#19d3f3\", \"#FF6692\", \"#B6E880\", \"#FF97FF\", \"#FECB52\"], \"font\": {\"color\": \"#2a3f5f\"}, \"geo\": {\"bgcolor\": \"white\", \"lakecolor\": \"white\", \"landcolor\": \"#E5ECF6\", \"showlakes\": true, \"showland\": true, \"subunitcolor\": \"white\"}, \"hoverlabel\": {\"align\": \"left\"}, \"hovermode\": \"closest\", \"mapbox\": {\"style\": \"light\"}, \"paper_bgcolor\": \"white\", \"plot_bgcolor\": \"#E5ECF6\", \"polar\": {\"angularaxis\": {\"gridcolor\": \"white\", \"linecolor\": \"white\", \"ticks\": \"\"}, \"bgcolor\": \"#E5ECF6\", \"radialaxis\": {\"gridcolor\": \"white\", \"linecolor\": \"white\", \"ticks\": \"\"}}, \"scene\": {\"xaxis\": {\"backgroundcolor\": \"#E5ECF6\", \"gridcolor\": \"white\", \"gridwidth\": 2, \"linecolor\": \"white\", \"showbackground\": true, \"ticks\": \"\", \"zerolinecolor\": \"white\"}, \"yaxis\": {\"backgroundcolor\": \"#E5ECF6\", \"gridcolor\": \"white\", \"gridwidth\": 2, \"linecolor\": \"white\", \"showbackground\": true, \"ticks\": \"\", \"zerolinecolor\": \"white\"}, \"zaxis\": {\"backgroundcolor\": \"#E5ECF6\", \"gridcolor\": \"white\", \"gridwidth\": 2, \"linecolor\": \"white\", \"showbackground\": true, \"ticks\": \"\", \"zerolinecolor\": \"white\"}}, \"shapedefaults\": {\"line\": {\"color\": \"#2a3f5f\"}}, \"ternary\": {\"aaxis\": {\"gridcolor\": \"white\", \"linecolor\": \"white\", \"ticks\": \"\"}, \"baxis\": {\"gridcolor\": \"white\", \"linecolor\": \"white\", \"ticks\": \"\"}, \"bgcolor\": \"#E5ECF6\", \"caxis\": {\"gridcolor\": \"white\", \"linecolor\": \"white\", \"ticks\": \"\"}}, \"title\": {\"x\": 0.05}, \"xaxis\": {\"automargin\": true, \"gridcolor\": \"white\", \"linecolor\": \"white\", \"ticks\": \"\", \"title\": {\"standoff\": 15}, \"zerolinecolor\": \"white\", \"zerolinewidth\": 2}, \"yaxis\": {\"automargin\": true, \"gridcolor\": \"white\", \"linecolor\": \"white\", \"ticks\": \"\", \"title\": {\"standoff\": 15}, \"zerolinecolor\": \"white\", \"zerolinewidth\": 2}}}, \"title\": {\"text\": \"\\u58f2\\u4e0a\\u306e\\u63a8\\u79fb\"}, \"xaxis\": {\"anchor\": \"y\", \"domain\": [0.0, 1.0], \"title\": {\"text\": \"fiscal_year_quarter\"}}, \"yaxis\": {\"anchor\": \"x\", \"domain\": [0.0, 1.0], \"title\": {\"text\": \"net_sales\"}}},\n",
       "                        {\"responsive\": true}\n",
       "                    ).then(function(){\n",
       "                            \n",
       "var gd = document.getElementById('37e070b3-aca6-47ef-8a67-c8702ad6e3a3');\n",
       "var x = new MutationObserver(function (mutations, observer) {{\n",
       "        var display = window.getComputedStyle(gd).display;\n",
       "        if (!display || display === 'none') {{\n",
       "            console.log([gd, 'removed!']);\n",
       "            Plotly.purge(gd);\n",
       "            observer.disconnect();\n",
       "        }}\n",
       "}});\n",
       "\n",
       "// Listen for the removal of the full notebook cells\n",
       "var notebookContainer = gd.closest('#notebook-container');\n",
       "if (notebookContainer) {{\n",
       "    x.observe(notebookContainer, {childList: true});\n",
       "}}\n",
       "\n",
       "// Listen for the clearing of the current output cell\n",
       "var outputEl = gd.closest('.output');\n",
       "if (outputEl) {{\n",
       "    x.observe(outputEl, {childList: true});\n",
       "}}\n",
       "\n",
       "                        })\n",
       "                };\n",
       "                });\n",
       "            </script>\n",
       "        </div>"
      ]
     },
     "metadata": {},
     "output_type": "display_data"
    }
   ],
   "source": [
    "px.bar(\n",
    "    quarter,\n",
    "    x=\"fiscal_year_quarter\",\n",
    "    y=\"net_sales\",\n",
    "    color=\"17業種区分\",\n",
    "    title=\"売上の推移\",\n",
    ")"
   ]
  },
  {
   "cell_type": "code",
   "execution_count": 20,
   "metadata": {},
   "outputs": [
    {
     "data": {
      "application/vnd.plotly.v1+json": {
       "config": {
        "plotlyServerURL": "https://plot.ly"
       },
       "data": [
        {
         "alignmentgroup": "True",
         "hovertemplate": "17業種区分=食品 <br>fiscal_year_quarter=%{x}<br>operating_income=%{y}<extra></extra>",
         "legendgroup": "食品 ",
         "marker": {
          "color": "#636efa"
         },
         "name": "食品 ",
         "offsetgroup": "食品 ",
         "orientation": "v",
         "showlegend": true,
         "textposition": "auto",
         "type": "bar",
         "x": [
          "2016Q1",
          "2016Q2",
          "2016Q3",
          "2016Q4",
          "2017Q1",
          "2017Q2",
          "2017Q3",
          "2017Q4",
          "2018Q1",
          "2018Q2",
          "2018Q3",
          "2018Q4",
          "2019Q1",
          "2019Q2",
          "2019Q3",
          "2019Q4",
          "2016Q1",
          "2016Q2",
          "2016Q3",
          "2016Q4",
          "2017Q1",
          "2017Q2",
          "2017Q3",
          "2017Q4",
          "2018Q1",
          "2018Q2",
          "2018Q3",
          "2018Q4",
          "2019Q1",
          "2019Q2",
          "2019Q3",
          "2019Q4",
          "2016Q1",
          "2016Q2",
          "2016Q3",
          "2016Q4",
          "2017Q1",
          "2017Q2",
          "2017Q3",
          "2017Q4",
          "2018Q1",
          "2018Q2",
          "2018Q3",
          "2018Q4",
          "2019Q1",
          "2019Q2",
          "2019Q3",
          "2019Q4",
          "2016Q1",
          "2016Q2",
          "2016Q3",
          "2016Q4",
          "2017Q1",
          "2017Q2",
          "2017Q3",
          "2017Q4",
          "2018Q1",
          "2018Q2",
          "2018Q3",
          "2018Q4",
          "2019Q1",
          "2019Q2",
          "2019Q3",
          "2019Q4",
          "2016Q1",
          "2016Q2",
          "2016Q3",
          "2016Q4",
          "2017Q1",
          "2017Q2",
          "2017Q3",
          "2017Q4",
          "2018Q1",
          "2018Q2",
          "2018Q3",
          "2018Q4",
          "2019Q1",
          "2019Q2",
          "2019Q3",
          "2019Q4",
          "2016Q1",
          "2016Q2",
          "2016Q3",
          "2016Q4",
          "2017Q1",
          "2017Q2",
          "2017Q3",
          "2017Q4",
          "2018Q1",
          "2018Q2",
          "2018Q3",
          "2018Q4",
          "2019Q1",
          "2019Q2",
          "2019Q3",
          "2019Q4"
         ],
         "xaxis": "x",
         "y": [
          467000000,
          1171000000,
          2872000000,
          3723000000,
          979000000,
          2246000000,
          3863000000,
          4066000000,
          565000000,
          1072000000,
          3280000000,
          3831000000,
          770000000,
          735000000,
          2616000000,
          2918000000,
          2818000000,
          5401000000,
          9045000000,
          11574000000,
          2027000000,
          4501000000,
          7622000000,
          10060000000,
          2527000000,
          5346000000,
          8729000000,
          11222000000,
          2486000000,
          5308000000,
          8593000000,
          11101000000,
          5258000000,
          11213000000,
          16881000000,
          17612000000,
          6105000000,
          12258000000,
          17232000000,
          19751000000,
          5070000000,
          11440000000,
          17214000000,
          20217000000,
          6177000000,
          12975000000,
          19151000000,
          21230000000,
          -1427000000,
          3048000000,
          12886000000,
          20267000000,
          -1453000000,
          3018000000,
          10732000000,
          17032000000,
          -5505000000,
          -3043000000,
          6837000000,
          11588000000,
          -4147000000,
          136000000,
          7718000000,
          12208000000,
          8469000000,
          16944000000,
          26259000000,
          32842000000,
          9703000000,
          19070000000,
          29789000000,
          36502000000,
          10100000000,
          20068000000,
          30859000000,
          38417000000,
          10553000000,
          20986000000,
          32612000000,
          39826000000,
          -11734000,
          -28633000,
          -41431000,
          -51917000,
          -10752000,
          -22632000,
          -11675000,
          -34106000,
          -42952000,
          -94693000,
          -147906000,
          -230223000,
          -42766000,
          -92398000,
          -131318000,
          -144480000
         ],
         "yaxis": "y"
        },
        {
         "alignmentgroup": "True",
         "hovertemplate": "17業種区分=建設・資材 <br>fiscal_year_quarter=%{x}<br>operating_income=%{y}<extra></extra>",
         "legendgroup": "建設・資材 ",
         "marker": {
          "color": "#EF553B"
         },
         "name": "建設・資材 ",
         "offsetgroup": "建設・資材 ",
         "orientation": "v",
         "showlegend": true,
         "textposition": "auto",
         "type": "bar",
         "x": [
          "2016Q1",
          "2016Q2",
          "2016Q3",
          "2016Q4",
          "2017Q1",
          "2017Q2",
          "2017Q3",
          "2017Q4",
          "2018Q1",
          "2018Q2",
          "2018Q3",
          "2018Q4",
          "2019Q1",
          "2019Q2",
          "2019Q3",
          "2019Q4",
          "2016Q1",
          "2016Q2",
          "2016Q3",
          "2016Q4",
          "2017Q1",
          "2017Q2",
          "2017Q3",
          "2017Q4",
          "2018Q1",
          "2018Q2",
          "2018Q3",
          "2018Q4",
          "2019Q1",
          "2019Q2",
          "2019Q3",
          "2019Q4",
          "2016Q1",
          "2016Q2",
          "2016Q3",
          "2016Q4",
          "2017Q1",
          "2017Q2",
          "2017Q3",
          "2017Q4",
          "2018Q1",
          "2018Q2",
          "2018Q3",
          "2018Q4",
          "2019Q1",
          "2019Q2",
          "2019Q3",
          "2019Q4",
          "2016Q1",
          "2016Q2",
          "2016Q3",
          "2016Q4",
          "2017Q1",
          "2017Q2",
          "2017Q3",
          "2017Q4",
          "2018Q1",
          "2018Q2",
          "2018Q3",
          "2018Q4",
          "2019Q1",
          "2019Q2",
          "2019Q3",
          "2019Q4",
          "2016Q1",
          "2016Q2",
          "2016Q3",
          "2016Q4",
          "2017Q1",
          "2017Q2",
          "2017Q3",
          "2017Q4",
          "2018Q1",
          "2018Q2",
          "2018Q3",
          "2018Q4",
          "2019Q1",
          "2019Q2",
          "2019Q3",
          "2019Q4"
         ],
         "xaxis": "x",
         "y": [
          37430000,
          137377000,
          170895000,
          250544000,
          91671000,
          167377000,
          198637000,
          311946000,
          13183000,
          160808000,
          192255000,
          313050000,
          32356000,
          173138000,
          236711000,
          283859000,
          16064000000,
          52514000000,
          104396000000,
          140822000000,
          26578000000,
          63247000000,
          114738000000,
          181859000000,
          15281000000,
          48002000000,
          85437000000,
          153323000000,
          25907000000,
          59852000000,
          92999000000,
          167755000000,
          16708000000,
          39884000000,
          62152000000,
          96292000000,
          22222000000,
          49286000000,
          82451000000,
          119646000000,
          30649000000,
          60305000000,
          87024000000,
          120555000000,
          20870000000,
          41487000000,
          73609000000,
          101624000000,
          557000000,
          -80000000,
          470000000,
          1131000000,
          1781000000,
          4228000000,
          7570000000,
          11093000000,
          12610000000,
          28513000000,
          50160000000,
          73065000000,
          21226000000,
          40441000000,
          49422000000,
          54344000000,
          13460000000,
          24264000000,
          33807000000,
          36273000000,
          13676000000,
          23623000000,
          30301000000,
          31870000000,
          12086000000,
          20105000000,
          26466000000,
          25443000000,
          8151000000,
          15255000000,
          21218000000,
          27271000000
         ],
         "yaxis": "y"
        },
        {
         "alignmentgroup": "True",
         "hovertemplate": "17業種区分=素材・化学 <br>fiscal_year_quarter=%{x}<br>operating_income=%{y}<extra></extra>",
         "legendgroup": "素材・化学 ",
         "marker": {
          "color": "#00cc96"
         },
         "name": "素材・化学 ",
         "offsetgroup": "素材・化学 ",
         "orientation": "v",
         "showlegend": true,
         "textposition": "auto",
         "type": "bar",
         "x": [
          "2016Q1",
          "2016Q2",
          "2016Q3",
          "2016Q4",
          "2017Q1",
          "2017Q2",
          "2017Q3",
          "2017Q4",
          "2018Q1",
          "2018Q2",
          "2018Q3",
          "2018Q4",
          "2019Q1",
          "2019Q2",
          "2019Q3",
          "2019Q4",
          "2016Q1",
          "2016Q2",
          "2016Q3",
          "2016Q4",
          "2017Q1",
          "2017Q2",
          "2017Q3",
          "2017Q4",
          "2018Q1",
          "2018Q2",
          "2018Q3",
          "2018Q4",
          "2019Q1",
          "2019Q2",
          "2019Q3",
          "2019Q4",
          "2016Q1",
          "2016Q2",
          "2016Q3",
          "2016Q4",
          "2017Q1",
          "2017Q2",
          "2017Q3",
          "2017Q4",
          "2018Q1",
          "2018Q2",
          "2018Q3",
          "2018Q4",
          "2019Q1",
          "2019Q2",
          "2019Q3",
          "2019Q4",
          "2016Q1",
          "2016Q2",
          "2016Q3",
          "2016Q4",
          "2017Q1",
          "2017Q2",
          "2017Q3",
          "2017Q4",
          "2018Q1",
          "2018Q2",
          "2018Q3",
          "2018Q4",
          "2019Q1",
          "2019Q2",
          "2019Q3",
          "2019Q4",
          "2016Q1",
          "2016Q2",
          "2016Q3",
          "2016Q4",
          "2017Q1",
          "2017Q2",
          "2017Q3",
          "2017Q4",
          "2018Q1",
          "2018Q2",
          "2018Q3",
          "2018Q4",
          "2019Q1",
          "2019Q2",
          "2019Q3",
          "2019Q4",
          "2016Q1",
          "2016Q2",
          "2016Q3",
          "2016Q4",
          "2017Q1",
          "2017Q2",
          "2017Q3",
          "2017Q4",
          "2018Q1",
          "2018Q2",
          "2018Q3",
          "2018Q4",
          "2019Q1",
          "2019Q2",
          "2019Q3",
          "2019Q4"
         ],
         "xaxis": "x",
         "y": [
          1089000000,
          1221000000,
          1276000000,
          1486000000,
          1143000000,
          1530000000,
          1802000000,
          1901000000,
          777000000,
          1269000000,
          1348000000,
          1531000000,
          1053000000,
          2058000000,
          2521000000,
          2569000000,
          4602000000,
          10668000000,
          15740000000,
          23332000000,
          4983000000,
          10506000000,
          16048000000,
          23923000000,
          5347000000,
          10601000000,
          15345000000,
          21727000000,
          5231000000,
          11114000000,
          15968000000,
          22794000000,
          15697000000,
          26997000000,
          43614000000,
          56512000000,
          19145000000,
          37533000000,
          56292000000,
          69823000000,
          18251000000,
          36200000000,
          48102000000,
          60000000000,
          16958000000,
          33759000000,
          48216000000,
          56205000000,
          -241000000,
          80000000,
          365000000,
          1297000000,
          345000000,
          1332000000,
          1796000000,
          2247000000,
          213000000,
          1351000000,
          2001000000,
          3118000000,
          291000000,
          1190000000,
          1226000000,
          1557000000,
          4760000000,
          9875000000,
          15550000000,
          21041000000,
          5216000000,
          10205000000,
          16693000000,
          21335000000,
          5384000000,
          10706000000,
          16129000000,
          26638000000,
          4493000000,
          9021000000,
          14022000000,
          22517000000,
          29500000000,
          67354000000,
          118317000000,
          172281000000,
          35836000000,
          75877000000,
          128587000000,
          130679000000,
          36855000000,
          83930000000,
          158347000000,
          209827000000,
          37113000000,
          92039000000,
          151635000000,
          186570000000
         ],
         "yaxis": "y"
        },
        {
         "alignmentgroup": "True",
         "hovertemplate": "17業種区分=情報通信・サービスその他 <br>fiscal_year_quarter=%{x}<br>operating_income=%{y}<extra></extra>",
         "legendgroup": "情報通信・サービスその他 ",
         "marker": {
          "color": "#ab63fa"
         },
         "name": "情報通信・サービスその他 ",
         "offsetgroup": "情報通信・サービスその他 ",
         "orientation": "v",
         "showlegend": true,
         "textposition": "auto",
         "type": "bar",
         "x": [
          "2016Q1",
          "2016Q2",
          "2016Q3",
          "2016Q4",
          "2017Q1",
          "2017Q2",
          "2017Q3",
          "2017Q4",
          "2018Q1",
          "2018Q2",
          "2018Q3",
          "2018Q4",
          "2019Q1",
          "2019Q2",
          "2019Q3",
          "2019Q4",
          "2016Q1",
          "2016Q2",
          "2016Q3",
          "2016Q4",
          "2017Q1",
          "2017Q2",
          "2017Q3",
          "2017Q4",
          "2018Q1",
          "2018Q2",
          "2018Q3",
          "2018Q4",
          "2019Q1",
          "2019Q2",
          "2019Q3",
          "2019Q4",
          "2016Q1",
          "2016Q2",
          "2016Q3",
          "2016Q4",
          "2017Q1",
          "2017Q2",
          "2017Q3",
          "2017Q4",
          "2018Q1",
          "2018Q2",
          "2018Q3",
          "2018Q4",
          "2019Q1",
          "2019Q2",
          "2019Q3",
          "2019Q4",
          "2016Q1",
          "2016Q2",
          "2016Q3",
          "2016Q4",
          "2017Q1",
          "2017Q2",
          "2017Q3",
          "2017Q4",
          "2018Q1",
          "2018Q2",
          "2018Q3",
          "2018Q4",
          "2019Q1",
          "2019Q2",
          "2019Q3",
          "2019Q4",
          "2016Q1",
          "2016Q2",
          "2016Q3",
          "2016Q4",
          "2017Q1",
          "2017Q2",
          "2017Q3",
          "2017Q4",
          "2018Q1",
          "2018Q2",
          "2018Q3",
          "2018Q4",
          "2019Q1",
          "2019Q2",
          "2019Q3",
          "2019Q4",
          "2016Q1",
          "2016Q2",
          "2016Q3",
          "2016Q4",
          "2017Q1",
          "2017Q2",
          "2017Q3",
          "2017Q4",
          "2018Q1",
          "2018Q2",
          "2018Q3",
          "2018Q4",
          "2019Q1",
          "2019Q2",
          "2019Q3",
          "2019Q4",
          "2016Q1",
          "2016Q2",
          "2016Q3",
          "2016Q4",
          "2017Q1",
          "2017Q2",
          "2017Q3",
          "2017Q4",
          "2018Q1",
          "2018Q2",
          "2018Q3",
          "2018Q4",
          "2019Q1",
          "2019Q2",
          "2019Q3",
          "2019Q4"
         ],
         "xaxis": "x",
         "y": [
          112947000,
          233800000,
          381321000,
          518692000,
          136835000,
          270714000,
          425259000,
          607377000,
          200601000,
          358459000,
          528237000,
          734163000,
          226387000,
          438248000,
          654330000,
          874463000,
          1280637000,
          2389371000,
          3126052000,
          5361560000,
          762125000,
          1291772000,
          2375568000,
          3342897000,
          1492000000,
          1780000000,
          2608000000,
          4479000000,
          2988000000,
          4107000000,
          5935000000,
          5155000000,
          1052000000,
          2087000000,
          3193000000,
          4252000000,
          967000000,
          2096000000,
          3152000000,
          4341000000,
          1095000000,
          2044000000,
          2926000000,
          4240000000,
          993000000,
          1935000000,
          2863000000,
          3814000000,
          -134888000,
          -491703000,
          -657598000,
          -27942000,
          -168333000,
          -510725000,
          -672463000,
          -157748000,
          -160645000,
          -519469000,
          -627995000,
          -71171000,
          -121254000,
          -452863000,
          -541732000,
          -28488000,
          5255000000,
          7338000000,
          16887000000,
          19878000000,
          6565000000,
          10119000000,
          18593000000,
          18800000000,
          4868000000,
          7831000000,
          15943000000,
          18572000000,
          4985000000,
          6804000000,
          11559000000,
          13103000000,
          2186000000,
          4168000000,
          6977000000,
          7540000000,
          2426000000,
          4801000000,
          5370000000,
          6463000000,
          905000000,
          2450000000,
          2896000000,
          4565000000,
          863000000,
          3326000000,
          3840000000,
          4604000000,
          -308623000,
          -693929000,
          -878934000,
          -1089529000,
          -283579000,
          -801355000,
          -1111164000,
          -1505684000,
          -527498000,
          -1305619000,
          -2558422000,
          -2826757000,
          261063000,
          120764000,
          438378000,
          148359000
         ],
         "yaxis": "y"
        },
        {
         "alignmentgroup": "True",
         "hovertemplate": "17業種区分=自動車・輸送機 <br>fiscal_year_quarter=%{x}<br>operating_income=%{y}<extra></extra>",
         "legendgroup": "自動車・輸送機 ",
         "marker": {
          "color": "#FFA15A"
         },
         "name": "自動車・輸送機 ",
         "offsetgroup": "自動車・輸送機 ",
         "orientation": "v",
         "showlegend": true,
         "textposition": "auto",
         "type": "bar",
         "x": [
          "2016Q1",
          "2016Q2",
          "2016Q3",
          "2016Q4",
          "2017Q1",
          "2017Q2",
          "2017Q3",
          "2017Q4",
          "2018Q1",
          "2018Q2",
          "2018Q3",
          "2018Q4",
          "2019Q1",
          "2019Q2",
          "2019Q3",
          "2019Q4",
          "2016Q1",
          "2016Q2",
          "2016Q3",
          "2016Q4",
          "2017Q1",
          "2017Q2",
          "2017Q3",
          "2017Q4",
          "2018Q1",
          "2018Q2",
          "2018Q3",
          "2018Q4",
          "2019Q1",
          "2019Q2",
          "2019Q3",
          "2019Q4",
          "2016Q1",
          "2016Q2",
          "2016Q3",
          "2016Q4",
          "2017Q1",
          "2017Q2",
          "2017Q3",
          "2017Q4",
          "2018Q1",
          "2018Q2",
          "2018Q3",
          "2018Q4",
          "2019Q1",
          "2019Q2",
          "2019Q3",
          "2019Q4"
         ],
         "xaxis": "x",
         "y": [
          6868000000,
          15717000000,
          18890000000,
          42317000000,
          9068000000,
          18351000000,
          26382000000,
          54224000000,
          14066000000,
          26369000000,
          26953000000,
          53478000000,
          12878000000,
          25123000000,
          33361000000,
          58564000000,
          28116000000,
          58217000000,
          89402000000,
          127345000000,
          44222000000,
          77024000000,
          115022000000,
          147445000000,
          33943000000,
          61397000000,
          97941000000,
          134684000000,
          31669000000,
          71582000000,
          101039000000,
          128233000000,
          175830000000,
          339731000000,
          503241000000,
          742228000000,
          153317000000,
          281832000000,
          364235000000,
          574760000000,
          109144000000,
          210335000000,
          313677000000,
          318224000000,
          1609000000,
          31608000000,
          54343000000,
          -40469000000
         ],
         "yaxis": "y"
        },
        {
         "alignmentgroup": "True",
         "hovertemplate": "17業種区分=鉄鋼・非鉄 <br>fiscal_year_quarter=%{x}<br>operating_income=%{y}<extra></extra>",
         "legendgroup": "鉄鋼・非鉄 ",
         "marker": {
          "color": "#19d3f3"
         },
         "name": "鉄鋼・非鉄 ",
         "offsetgroup": "鉄鋼・非鉄 ",
         "orientation": "v",
         "showlegend": true,
         "textposition": "auto",
         "type": "bar",
         "x": [
          "2016Q1",
          "2016Q2",
          "2016Q3",
          "2016Q4",
          "2017Q1",
          "2017Q2",
          "2017Q3",
          "2017Q4",
          "2018Q1",
          "2018Q2",
          "2018Q3",
          "2018Q4",
          "2019Q1",
          "2019Q2",
          "2019Q3",
          "2019Q4",
          "2016Q1",
          "2016Q2",
          "2016Q3",
          "2016Q4",
          "2017Q1",
          "2017Q2",
          "2017Q3",
          "2017Q4",
          "2018Q1",
          "2018Q2",
          "2018Q3",
          "2018Q4",
          "2019Q1",
          "2019Q2",
          "2019Q3",
          "2019Q4"
         ],
         "xaxis": "x",
         "y": [
          -7392000000,
          17830000000,
          62159000000,
          114202000000,
          66536000000,
          99997000000,
          138031000000,
          288700000000,
          90615000000,
          136950000000,
          241028000000,
          265111000000,
          60600000000,
          73100000000,
          -372502000000,
          -406119000000,
          4678000000,
          13275000000,
          23756000000,
          38623000000,
          10434000000,
          21751000000,
          33272000000,
          44804000000,
          8514000000,
          17552000000,
          30705000000,
          40842000000,
          4912000000,
          10766000000,
          15291000000,
          23565000000
         ],
         "yaxis": "y"
        },
        {
         "alignmentgroup": "True",
         "hovertemplate": "17業種区分=機械 <br>fiscal_year_quarter=%{x}<br>operating_income=%{y}<extra></extra>",
         "legendgroup": "機械 ",
         "marker": {
          "color": "#FF6692"
         },
         "name": "機械 ",
         "offsetgroup": "機械 ",
         "orientation": "v",
         "showlegend": true,
         "textposition": "auto",
         "type": "bar",
         "x": [
          "2016Q1",
          "2016Q2",
          "2016Q3",
          "2016Q4",
          "2017Q1",
          "2017Q2",
          "2017Q3",
          "2017Q4",
          "2018Q1",
          "2018Q2",
          "2018Q3",
          "2018Q4",
          "2019Q1",
          "2019Q2",
          "2019Q3",
          "2019Q4",
          "2016Q1",
          "2016Q2",
          "2016Q3",
          "2016Q4",
          "2017Q1",
          "2017Q2",
          "2017Q3",
          "2017Q4",
          "2018Q1",
          "2018Q2",
          "2018Q3",
          "2018Q4",
          "2019Q1",
          "2019Q2",
          "2019Q3",
          "2019Q4"
         ],
         "xaxis": "x",
         "y": [
          598000000,
          1452000000,
          2077000000,
          3083000000,
          1551000000,
          3347000000,
          4976000000,
          6412000000,
          2856000000,
          5556000000,
          7737000000,
          10215000000,
          1971000000,
          2889000000,
          3971000000,
          4549000000,
          29789000000,
          64126000000,
          107025000000,
          174097000000,
          52407000000,
          112623000000,
          188189000000,
          271581000000,
          96048000000,
          200000000000,
          295835000000,
          397806000000,
          74760000000,
          141982000000,
          207828000000,
          250707000000
         ],
         "yaxis": "y"
        },
        {
         "alignmentgroup": "True",
         "hovertemplate": "17業種区分=電機・精密 <br>fiscal_year_quarter=%{x}<br>operating_income=%{y}<extra></extra>",
         "legendgroup": "電機・精密 ",
         "marker": {
          "color": "#B6E880"
         },
         "name": "電機・精密 ",
         "offsetgroup": "電機・精密 ",
         "orientation": "v",
         "showlegend": true,
         "textposition": "auto",
         "type": "bar",
         "x": [
          "2016Q1",
          "2016Q2",
          "2016Q3",
          "2016Q4",
          "2017Q1",
          "2017Q2",
          "2017Q3",
          "2017Q4",
          "2018Q1",
          "2018Q2",
          "2018Q3",
          "2018Q4",
          "2019Q1",
          "2019Q2",
          "2019Q3",
          "2019Q4",
          "2016Q1",
          "2016Q2",
          "2016Q3",
          "2016Q4",
          "2017Q1",
          "2017Q2",
          "2017Q3",
          "2017Q4",
          "2018Q1",
          "2018Q2",
          "2018Q3",
          "2018Q4",
          "2019Q1",
          "2019Q2",
          "2019Q3",
          "2019Q4",
          "2016Q1",
          "2016Q2",
          "2016Q3",
          "2016Q4",
          "2017Q1",
          "2017Q2",
          "2017Q3",
          "2017Q4",
          "2018Q1",
          "2018Q2",
          "2018Q3",
          "2018Q4",
          "2019Q1",
          "2019Q2",
          "2019Q3",
          "2019Q4",
          "2016Q1",
          "2016Q2",
          "2016Q3",
          "2016Q4",
          "2017Q1",
          "2017Q2",
          "2017Q3",
          "2017Q4",
          "2018Q1",
          "2018Q2",
          "2018Q3",
          "2018Q4",
          "2019Q1",
          "2019Q2",
          "2019Q3",
          "2019Q4"
         ],
         "xaxis": "x",
         "y": [
          91483000000,
          230670000000,
          373107000000,
          541483000000,
          121542000000,
          264313000000,
          426540000000,
          586012000000,
          177376000000,
          335836000000,
          282709000000,
          null,
          null,
          null,
          null,
          null,
          -29944000000,
          3744000000,
          -17035000000,
          41838000000,
          -14441000000,
          7272000000,
          14272000000,
          63850000000,
          -10700000000,
          13825000000,
          16688000000,
          57780000000,
          3382000000,
          46856000000,
          77906000000,
          127609000000,
          115000000,
          327000000,
          399000000,
          478000000,
          81000000,
          8000000,
          297000000,
          447000000,
          188000000,
          446000000,
          597000000,
          671000000,
          -189000000,
          135000000,
          -16000000,
          233000000,
          4508000000,
          15246000000,
          21945000000,
          37089000000,
          3884000000,
          15748000000,
          25437000000,
          42822000000,
          5739000000,
          17438000000,
          27568000000,
          44480000000,
          4463000000,
          17869000000,
          27958000000,
          41845000000
         ],
         "yaxis": "y"
        },
        {
         "alignmentgroup": "True",
         "hovertemplate": "17業種区分=小売 <br>fiscal_year_quarter=%{x}<br>operating_income=%{y}<extra></extra>",
         "legendgroup": "小売 ",
         "marker": {
          "color": "#FF97FF"
         },
         "name": "小売 ",
         "offsetgroup": "小売 ",
         "orientation": "v",
         "showlegend": true,
         "textposition": "auto",
         "type": "bar",
         "x": [
          "2016Q1",
          "2016Q2",
          "2016Q3",
          "2016Q4",
          "2017Q1",
          "2017Q2",
          "2017Q3",
          "2017Q4",
          "2018Q1",
          "2018Q2",
          "2018Q3",
          "2018Q4",
          "2019Q1",
          "2019Q2",
          "2019Q3",
          "2019Q4"
         ],
         "xaxis": "x",
         "y": [
          -152967000,
          -50697000,
          -308513000,
          -468026000,
          -155126000,
          -130479000,
          -287105000,
          -336901000,
          -155844000,
          -111945000,
          -236859000,
          -399003000,
          -91724000,
          -36084000,
          -198630000,
          -360518000
         ],
         "yaxis": "y"
        },
        {
         "alignmentgroup": "True",
         "hovertemplate": "17業種区分=商社・卸売 <br>fiscal_year_quarter=%{x}<br>operating_income=%{y}<extra></extra>",
         "legendgroup": "商社・卸売 ",
         "marker": {
          "color": "#FECB52"
         },
         "name": "商社・卸売 ",
         "offsetgroup": "商社・卸売 ",
         "orientation": "v",
         "showlegend": true,
         "textposition": "auto",
         "type": "bar",
         "x": [
          "2016Q1",
          "2016Q2",
          "2016Q3",
          "2016Q4",
          "2017Q1",
          "2017Q2",
          "2017Q3",
          "2017Q4",
          "2018Q1",
          "2018Q2",
          "2018Q3",
          "2018Q4",
          "2019Q1",
          "2019Q2",
          "2019Q3",
          "2019Q4",
          "2016Q1",
          "2016Q2",
          "2016Q3",
          "2016Q4",
          "2017Q1",
          "2017Q2",
          "2017Q3",
          "2017Q4",
          "2018Q1",
          "2018Q2",
          "2018Q3",
          "2018Q4",
          "2019Q1",
          "2019Q2",
          "2019Q3",
          "2019Q4"
         ],
         "xaxis": "x",
         "y": [
          48449000000,
          116895000000,
          243829000000,
          298422000000,
          83204000000,
          196507000000,
          277734000000,
          294104000000,
          77729000000,
          362337000000,
          492421000000,
          null,
          null,
          null,
          null,
          null,
          201000000,
          583000000,
          1024000000,
          1309000000,
          326000000,
          766000000,
          1436000000,
          1573000000,
          376000000,
          997000000,
          1457000000,
          1683000000,
          144000000,
          614000000,
          978000000,
          1191000000
         ],
         "yaxis": "y"
        },
        {
         "alignmentgroup": "True",
         "hovertemplate": "17業種区分=金融（除く銀行） <br>fiscal_year_quarter=%{x}<br>operating_income=%{y}<extra></extra>",
         "legendgroup": "金融（除く銀行） ",
         "marker": {
          "color": "#636efa"
         },
         "name": "金融（除く銀行） ",
         "offsetgroup": "金融（除く銀行） ",
         "orientation": "v",
         "showlegend": true,
         "textposition": "auto",
         "type": "bar",
         "x": [
          "2016Q1",
          "2016Q2",
          "2016Q3",
          "2016Q4",
          "2017Q1",
          "2017Q2",
          "2017Q3",
          "2017Q4",
          "2018Q1",
          "2018Q2",
          "2018Q3",
          "2018Q4",
          "2019Q1",
          "2019Q2",
          "2019Q3",
          "2019Q4"
         ],
         "xaxis": "x",
         "y": [
          28019000000,
          57342000000,
          88952000000,
          119062000000,
          21422000000,
          61420000000,
          101692000000,
          135058000000,
          22151000000,
          37667000000,
          53852000000,
          67326000000,
          12414000000,
          18900000000,
          37883000000,
          54288000000
         ],
         "yaxis": "y"
        },
        {
         "alignmentgroup": "True",
         "hovertemplate": "17業種区分=不動産 <br>fiscal_year_quarter=%{x}<br>operating_income=%{y}<extra></extra>",
         "legendgroup": "不動産 ",
         "marker": {
          "color": "#EF553B"
         },
         "name": "不動産 ",
         "offsetgroup": "不動産 ",
         "orientation": "v",
         "showlegend": true,
         "textposition": "auto",
         "type": "bar",
         "x": [
          "2016Q1",
          "2016Q2",
          "2016Q3",
          "2016Q4",
          "2017Q1",
          "2017Q2",
          "2017Q3",
          "2017Q4",
          "2018Q1",
          "2018Q2",
          "2018Q3",
          "2018Q4",
          "2019Q1",
          "2019Q2",
          "2019Q3",
          "2019Q4"
         ],
         "xaxis": "x",
         "y": [
          47581000000,
          114752000000,
          166464000000,
          232698000000,
          51750000000,
          92232000000,
          135953000000,
          245902000000,
          55768000000,
          112110000000,
          156353000000,
          262147000000,
          50885000000,
          118604000000,
          170338000000,
          280617000000
         ],
         "yaxis": "y"
        },
        {
         "alignmentgroup": "True",
         "hovertemplate": "17業種区分=運輸・物流 <br>fiscal_year_quarter=%{x}<br>operating_income=%{y}<extra></extra>",
         "legendgroup": "運輸・物流 ",
         "marker": {
          "color": "#00cc96"
         },
         "name": "運輸・物流 ",
         "offsetgroup": "運輸・物流 ",
         "orientation": "v",
         "showlegend": true,
         "textposition": "auto",
         "type": "bar",
         "x": [
          "2016Q1",
          "2016Q2",
          "2016Q3",
          "2016Q4",
          "2017Q1",
          "2017Q2",
          "2017Q3",
          "2017Q4",
          "2018Q1",
          "2018Q2",
          "2018Q3",
          "2018Q4",
          "2019Q1",
          "2019Q2",
          "2019Q3",
          "2019Q4",
          "2016Q1",
          "2016Q2",
          "2016Q3",
          "2016Q4",
          "2017Q1",
          "2017Q2",
          "2017Q3",
          "2017Q4",
          "2018Q1",
          "2018Q2",
          "2018Q3",
          "2018Q4",
          "2019Q1",
          "2019Q2",
          "2019Q3",
          "2019Q4",
          "2016Q1",
          "2016Q2",
          "2016Q3",
          "2016Q4",
          "2017Q1",
          "2017Q2",
          "2017Q3",
          "2017Q4",
          "2018Q1",
          "2018Q2",
          "2018Q3",
          "2018Q4",
          "2019Q1",
          "2019Q2",
          "2019Q3",
          "2019Q4",
          "2016Q1",
          "2016Q2",
          "2016Q3",
          "2016Q4",
          "2017Q1",
          "2017Q2",
          "2017Q3",
          "2017Q4",
          "2018Q1",
          "2018Q2",
          "2018Q3",
          "2018Q4",
          "2019Q1",
          "2019Q2",
          "2019Q3",
          "2019Q4"
         ],
         "xaxis": "x",
         "y": [
          16424000000,
          32006000000,
          49815000000,
          68335000000,
          17753000000,
          34590000000,
          51528000000,
          66645000000,
          17264000000,
          31719000000,
          49764000000,
          67295000000,
          18512000000,
          37173000000,
          53440000000,
          62653000000,
          -10963000000,
          -22472000000,
          -15516000000,
          -18078000000,
          3572000000,
          12741000000,
          24822000000,
          27824000000,
          -8119000000,
          -4194000000,
          4564000000,
          11085000000,
          5470000000,
          15836000000,
          32469000000,
          38696000000,
          22090000000,
          92442000000,
          137311000000,
          170332000000,
          24747000000,
          99073000000,
          145233000000,
          174565000000,
          24930000000,
          96831000000,
          145511000000,
          176160000000,
          19396000000,
          80326000000,
          120168000000,
          100632000000,
          3219000000,
          6258000000,
          10984000000,
          12748000000,
          3402000000,
          6791000000,
          10113000000,
          12421000000,
          3613000000,
          6557000000,
          10205000000,
          12660000000,
          3266000000,
          6609000000,
          9918000000,
          12195000000
         ],
         "yaxis": "y"
        },
        {
         "alignmentgroup": "True",
         "hovertemplate": "17業種区分=電力・ガス <br>fiscal_year_quarter=%{x}<br>operating_income=%{y}<extra></extra>",
         "legendgroup": "電力・ガス ",
         "marker": {
          "color": "#ab63fa"
         },
         "name": "電力・ガス ",
         "offsetgroup": "電力・ガス ",
         "orientation": "v",
         "showlegend": true,
         "textposition": "auto",
         "type": "bar",
         "x": [
          "2016Q1",
          "2016Q2",
          "2016Q3",
          "2016Q4",
          "2017Q1",
          "2017Q2",
          "2017Q3",
          "2017Q4",
          "2018Q1",
          "2018Q2",
          "2018Q3",
          "2018Q4",
          "2019Q1",
          "2019Q2",
          "2019Q3",
          "2019Q4"
         ],
         "xaxis": "x",
         "y": [
          143611000000,
          292834000000,
          336953000000,
          258680000000,
          67627000000,
          237736000000,
          295680000000,
          288470000000,
          68888000000,
          219675000000,
          260478000000,
          312257000000,
          51256000000,
          196619000000,
          247176000000,
          211841000000
         ],
         "yaxis": "y"
        }
       ],
       "layout": {
        "barmode": "relative",
        "legend": {
         "title": {
          "text": "17業種区分"
         },
         "tracegroupgap": 0
        },
        "template": {
         "data": {
          "bar": [
           {
            "error_x": {
             "color": "#2a3f5f"
            },
            "error_y": {
             "color": "#2a3f5f"
            },
            "marker": {
             "line": {
              "color": "#E5ECF6",
              "width": 0.5
             }
            },
            "type": "bar"
           }
          ],
          "barpolar": [
           {
            "marker": {
             "line": {
              "color": "#E5ECF6",
              "width": 0.5
             }
            },
            "type": "barpolar"
           }
          ],
          "carpet": [
           {
            "aaxis": {
             "endlinecolor": "#2a3f5f",
             "gridcolor": "white",
             "linecolor": "white",
             "minorgridcolor": "white",
             "startlinecolor": "#2a3f5f"
            },
            "baxis": {
             "endlinecolor": "#2a3f5f",
             "gridcolor": "white",
             "linecolor": "white",
             "minorgridcolor": "white",
             "startlinecolor": "#2a3f5f"
            },
            "type": "carpet"
           }
          ],
          "choropleth": [
           {
            "colorbar": {
             "outlinewidth": 0,
             "ticks": ""
            },
            "type": "choropleth"
           }
          ],
          "contour": [
           {
            "colorbar": {
             "outlinewidth": 0,
             "ticks": ""
            },
            "colorscale": [
             [
              0,
              "#0d0887"
             ],
             [
              0.1111111111111111,
              "#46039f"
             ],
             [
              0.2222222222222222,
              "#7201a8"
             ],
             [
              0.3333333333333333,
              "#9c179e"
             ],
             [
              0.4444444444444444,
              "#bd3786"
             ],
             [
              0.5555555555555556,
              "#d8576b"
             ],
             [
              0.6666666666666666,
              "#ed7953"
             ],
             [
              0.7777777777777778,
              "#fb9f3a"
             ],
             [
              0.8888888888888888,
              "#fdca26"
             ],
             [
              1,
              "#f0f921"
             ]
            ],
            "type": "contour"
           }
          ],
          "contourcarpet": [
           {
            "colorbar": {
             "outlinewidth": 0,
             "ticks": ""
            },
            "type": "contourcarpet"
           }
          ],
          "heatmap": [
           {
            "colorbar": {
             "outlinewidth": 0,
             "ticks": ""
            },
            "colorscale": [
             [
              0,
              "#0d0887"
             ],
             [
              0.1111111111111111,
              "#46039f"
             ],
             [
              0.2222222222222222,
              "#7201a8"
             ],
             [
              0.3333333333333333,
              "#9c179e"
             ],
             [
              0.4444444444444444,
              "#bd3786"
             ],
             [
              0.5555555555555556,
              "#d8576b"
             ],
             [
              0.6666666666666666,
              "#ed7953"
             ],
             [
              0.7777777777777778,
              "#fb9f3a"
             ],
             [
              0.8888888888888888,
              "#fdca26"
             ],
             [
              1,
              "#f0f921"
             ]
            ],
            "type": "heatmap"
           }
          ],
          "heatmapgl": [
           {
            "colorbar": {
             "outlinewidth": 0,
             "ticks": ""
            },
            "colorscale": [
             [
              0,
              "#0d0887"
             ],
             [
              0.1111111111111111,
              "#46039f"
             ],
             [
              0.2222222222222222,
              "#7201a8"
             ],
             [
              0.3333333333333333,
              "#9c179e"
             ],
             [
              0.4444444444444444,
              "#bd3786"
             ],
             [
              0.5555555555555556,
              "#d8576b"
             ],
             [
              0.6666666666666666,
              "#ed7953"
             ],
             [
              0.7777777777777778,
              "#fb9f3a"
             ],
             [
              0.8888888888888888,
              "#fdca26"
             ],
             [
              1,
              "#f0f921"
             ]
            ],
            "type": "heatmapgl"
           }
          ],
          "histogram": [
           {
            "marker": {
             "colorbar": {
              "outlinewidth": 0,
              "ticks": ""
             }
            },
            "type": "histogram"
           }
          ],
          "histogram2d": [
           {
            "colorbar": {
             "outlinewidth": 0,
             "ticks": ""
            },
            "colorscale": [
             [
              0,
              "#0d0887"
             ],
             [
              0.1111111111111111,
              "#46039f"
             ],
             [
              0.2222222222222222,
              "#7201a8"
             ],
             [
              0.3333333333333333,
              "#9c179e"
             ],
             [
              0.4444444444444444,
              "#bd3786"
             ],
             [
              0.5555555555555556,
              "#d8576b"
             ],
             [
              0.6666666666666666,
              "#ed7953"
             ],
             [
              0.7777777777777778,
              "#fb9f3a"
             ],
             [
              0.8888888888888888,
              "#fdca26"
             ],
             [
              1,
              "#f0f921"
             ]
            ],
            "type": "histogram2d"
           }
          ],
          "histogram2dcontour": [
           {
            "colorbar": {
             "outlinewidth": 0,
             "ticks": ""
            },
            "colorscale": [
             [
              0,
              "#0d0887"
             ],
             [
              0.1111111111111111,
              "#46039f"
             ],
             [
              0.2222222222222222,
              "#7201a8"
             ],
             [
              0.3333333333333333,
              "#9c179e"
             ],
             [
              0.4444444444444444,
              "#bd3786"
             ],
             [
              0.5555555555555556,
              "#d8576b"
             ],
             [
              0.6666666666666666,
              "#ed7953"
             ],
             [
              0.7777777777777778,
              "#fb9f3a"
             ],
             [
              0.8888888888888888,
              "#fdca26"
             ],
             [
              1,
              "#f0f921"
             ]
            ],
            "type": "histogram2dcontour"
           }
          ],
          "mesh3d": [
           {
            "colorbar": {
             "outlinewidth": 0,
             "ticks": ""
            },
            "type": "mesh3d"
           }
          ],
          "parcoords": [
           {
            "line": {
             "colorbar": {
              "outlinewidth": 0,
              "ticks": ""
             }
            },
            "type": "parcoords"
           }
          ],
          "pie": [
           {
            "automargin": true,
            "type": "pie"
           }
          ],
          "scatter": [
           {
            "marker": {
             "colorbar": {
              "outlinewidth": 0,
              "ticks": ""
             }
            },
            "type": "scatter"
           }
          ],
          "scatter3d": [
           {
            "line": {
             "colorbar": {
              "outlinewidth": 0,
              "ticks": ""
             }
            },
            "marker": {
             "colorbar": {
              "outlinewidth": 0,
              "ticks": ""
             }
            },
            "type": "scatter3d"
           }
          ],
          "scattercarpet": [
           {
            "marker": {
             "colorbar": {
              "outlinewidth": 0,
              "ticks": ""
             }
            },
            "type": "scattercarpet"
           }
          ],
          "scattergeo": [
           {
            "marker": {
             "colorbar": {
              "outlinewidth": 0,
              "ticks": ""
             }
            },
            "type": "scattergeo"
           }
          ],
          "scattergl": [
           {
            "marker": {
             "colorbar": {
              "outlinewidth": 0,
              "ticks": ""
             }
            },
            "type": "scattergl"
           }
          ],
          "scattermapbox": [
           {
            "marker": {
             "colorbar": {
              "outlinewidth": 0,
              "ticks": ""
             }
            },
            "type": "scattermapbox"
           }
          ],
          "scatterpolar": [
           {
            "marker": {
             "colorbar": {
              "outlinewidth": 0,
              "ticks": ""
             }
            },
            "type": "scatterpolar"
           }
          ],
          "scatterpolargl": [
           {
            "marker": {
             "colorbar": {
              "outlinewidth": 0,
              "ticks": ""
             }
            },
            "type": "scatterpolargl"
           }
          ],
          "scatterternary": [
           {
            "marker": {
             "colorbar": {
              "outlinewidth": 0,
              "ticks": ""
             }
            },
            "type": "scatterternary"
           }
          ],
          "surface": [
           {
            "colorbar": {
             "outlinewidth": 0,
             "ticks": ""
            },
            "colorscale": [
             [
              0,
              "#0d0887"
             ],
             [
              0.1111111111111111,
              "#46039f"
             ],
             [
              0.2222222222222222,
              "#7201a8"
             ],
             [
              0.3333333333333333,
              "#9c179e"
             ],
             [
              0.4444444444444444,
              "#bd3786"
             ],
             [
              0.5555555555555556,
              "#d8576b"
             ],
             [
              0.6666666666666666,
              "#ed7953"
             ],
             [
              0.7777777777777778,
              "#fb9f3a"
             ],
             [
              0.8888888888888888,
              "#fdca26"
             ],
             [
              1,
              "#f0f921"
             ]
            ],
            "type": "surface"
           }
          ],
          "table": [
           {
            "cells": {
             "fill": {
              "color": "#EBF0F8"
             },
             "line": {
              "color": "white"
             }
            },
            "header": {
             "fill": {
              "color": "#C8D4E3"
             },
             "line": {
              "color": "white"
             }
            },
            "type": "table"
           }
          ]
         },
         "layout": {
          "annotationdefaults": {
           "arrowcolor": "#2a3f5f",
           "arrowhead": 0,
           "arrowwidth": 1
          },
          "coloraxis": {
           "colorbar": {
            "outlinewidth": 0,
            "ticks": ""
           }
          },
          "colorscale": {
           "diverging": [
            [
             0,
             "#8e0152"
            ],
            [
             0.1,
             "#c51b7d"
            ],
            [
             0.2,
             "#de77ae"
            ],
            [
             0.3,
             "#f1b6da"
            ],
            [
             0.4,
             "#fde0ef"
            ],
            [
             0.5,
             "#f7f7f7"
            ],
            [
             0.6,
             "#e6f5d0"
            ],
            [
             0.7,
             "#b8e186"
            ],
            [
             0.8,
             "#7fbc41"
            ],
            [
             0.9,
             "#4d9221"
            ],
            [
             1,
             "#276419"
            ]
           ],
           "sequential": [
            [
             0,
             "#0d0887"
            ],
            [
             0.1111111111111111,
             "#46039f"
            ],
            [
             0.2222222222222222,
             "#7201a8"
            ],
            [
             0.3333333333333333,
             "#9c179e"
            ],
            [
             0.4444444444444444,
             "#bd3786"
            ],
            [
             0.5555555555555556,
             "#d8576b"
            ],
            [
             0.6666666666666666,
             "#ed7953"
            ],
            [
             0.7777777777777778,
             "#fb9f3a"
            ],
            [
             0.8888888888888888,
             "#fdca26"
            ],
            [
             1,
             "#f0f921"
            ]
           ],
           "sequentialminus": [
            [
             0,
             "#0d0887"
            ],
            [
             0.1111111111111111,
             "#46039f"
            ],
            [
             0.2222222222222222,
             "#7201a8"
            ],
            [
             0.3333333333333333,
             "#9c179e"
            ],
            [
             0.4444444444444444,
             "#bd3786"
            ],
            [
             0.5555555555555556,
             "#d8576b"
            ],
            [
             0.6666666666666666,
             "#ed7953"
            ],
            [
             0.7777777777777778,
             "#fb9f3a"
            ],
            [
             0.8888888888888888,
             "#fdca26"
            ],
            [
             1,
             "#f0f921"
            ]
           ]
          },
          "colorway": [
           "#636efa",
           "#EF553B",
           "#00cc96",
           "#ab63fa",
           "#FFA15A",
           "#19d3f3",
           "#FF6692",
           "#B6E880",
           "#FF97FF",
           "#FECB52"
          ],
          "font": {
           "color": "#2a3f5f"
          },
          "geo": {
           "bgcolor": "white",
           "lakecolor": "white",
           "landcolor": "#E5ECF6",
           "showlakes": true,
           "showland": true,
           "subunitcolor": "white"
          },
          "hoverlabel": {
           "align": "left"
          },
          "hovermode": "closest",
          "mapbox": {
           "style": "light"
          },
          "paper_bgcolor": "white",
          "plot_bgcolor": "#E5ECF6",
          "polar": {
           "angularaxis": {
            "gridcolor": "white",
            "linecolor": "white",
            "ticks": ""
           },
           "bgcolor": "#E5ECF6",
           "radialaxis": {
            "gridcolor": "white",
            "linecolor": "white",
            "ticks": ""
           }
          },
          "scene": {
           "xaxis": {
            "backgroundcolor": "#E5ECF6",
            "gridcolor": "white",
            "gridwidth": 2,
            "linecolor": "white",
            "showbackground": true,
            "ticks": "",
            "zerolinecolor": "white"
           },
           "yaxis": {
            "backgroundcolor": "#E5ECF6",
            "gridcolor": "white",
            "gridwidth": 2,
            "linecolor": "white",
            "showbackground": true,
            "ticks": "",
            "zerolinecolor": "white"
           },
           "zaxis": {
            "backgroundcolor": "#E5ECF6",
            "gridcolor": "white",
            "gridwidth": 2,
            "linecolor": "white",
            "showbackground": true,
            "ticks": "",
            "zerolinecolor": "white"
           }
          },
          "shapedefaults": {
           "line": {
            "color": "#2a3f5f"
           }
          },
          "ternary": {
           "aaxis": {
            "gridcolor": "white",
            "linecolor": "white",
            "ticks": ""
           },
           "baxis": {
            "gridcolor": "white",
            "linecolor": "white",
            "ticks": ""
           },
           "bgcolor": "#E5ECF6",
           "caxis": {
            "gridcolor": "white",
            "linecolor": "white",
            "ticks": ""
           }
          },
          "title": {
           "x": 0.05
          },
          "xaxis": {
           "automargin": true,
           "gridcolor": "white",
           "linecolor": "white",
           "ticks": "",
           "title": {
            "standoff": 15
           },
           "zerolinecolor": "white",
           "zerolinewidth": 2
          },
          "yaxis": {
           "automargin": true,
           "gridcolor": "white",
           "linecolor": "white",
           "ticks": "",
           "title": {
            "standoff": 15
           },
           "zerolinecolor": "white",
           "zerolinewidth": 2
          }
         }
        },
        "title": {
         "text": "営業利益"
        },
        "xaxis": {
         "anchor": "y",
         "domain": [
          0,
          1
         ],
         "title": {
          "text": "fiscal_year_quarter"
         }
        },
        "yaxis": {
         "anchor": "x",
         "domain": [
          0,
          1
         ],
         "title": {
          "text": "operating_income"
         }
        }
       }
      },
      "text/html": [
       "<div>\n",
       "        \n",
       "        \n",
       "            <div id=\"cdd78411-0770-4871-84ec-5ee02c5b7bd4\" class=\"plotly-graph-div\" style=\"height:525px; width:100%;\"></div>\n",
       "            <script type=\"text/javascript\">\n",
       "                require([\"plotly\"], function(Plotly) {\n",
       "                    window.PLOTLYENV=window.PLOTLYENV || {};\n",
       "                    \n",
       "                if (document.getElementById(\"cdd78411-0770-4871-84ec-5ee02c5b7bd4\")) {\n",
       "                    Plotly.newPlot(\n",
       "                        'cdd78411-0770-4871-84ec-5ee02c5b7bd4',\n",
       "                        [{\"alignmentgroup\": \"True\", \"hovertemplate\": \"17\\u696d\\u7a2e\\u533a\\u5206=\\u98df\\u54c1 <br>fiscal_year_quarter=%{x}<br>operating_income=%{y}<extra></extra>\", \"legendgroup\": \"\\u98df\\u54c1 \", \"marker\": {\"color\": \"#636efa\"}, \"name\": \"\\u98df\\u54c1 \", \"offsetgroup\": \"\\u98df\\u54c1 \", \"orientation\": \"v\", \"showlegend\": true, \"textposition\": \"auto\", \"type\": \"bar\", \"x\": [\"2016Q1\", \"2016Q2\", \"2016Q3\", \"2016Q4\", \"2017Q1\", \"2017Q2\", \"2017Q3\", \"2017Q4\", \"2018Q1\", \"2018Q2\", \"2018Q3\", \"2018Q4\", \"2019Q1\", \"2019Q2\", \"2019Q3\", \"2019Q4\", \"2016Q1\", \"2016Q2\", \"2016Q3\", \"2016Q4\", \"2017Q1\", \"2017Q2\", \"2017Q3\", \"2017Q4\", \"2018Q1\", \"2018Q2\", \"2018Q3\", \"2018Q4\", \"2019Q1\", \"2019Q2\", \"2019Q3\", \"2019Q4\", \"2016Q1\", \"2016Q2\", \"2016Q3\", \"2016Q4\", \"2017Q1\", \"2017Q2\", \"2017Q3\", \"2017Q4\", \"2018Q1\", \"2018Q2\", \"2018Q3\", \"2018Q4\", \"2019Q1\", \"2019Q2\", \"2019Q3\", \"2019Q4\", \"2016Q1\", \"2016Q2\", \"2016Q3\", \"2016Q4\", \"2017Q1\", \"2017Q2\", \"2017Q3\", \"2017Q4\", \"2018Q1\", \"2018Q2\", \"2018Q3\", \"2018Q4\", \"2019Q1\", \"2019Q2\", \"2019Q3\", \"2019Q4\", \"2016Q1\", \"2016Q2\", \"2016Q3\", \"2016Q4\", \"2017Q1\", \"2017Q2\", \"2017Q3\", \"2017Q4\", \"2018Q1\", \"2018Q2\", \"2018Q3\", \"2018Q4\", \"2019Q1\", \"2019Q2\", \"2019Q3\", \"2019Q4\", \"2016Q1\", \"2016Q2\", \"2016Q3\", \"2016Q4\", \"2017Q1\", \"2017Q2\", \"2017Q3\", \"2017Q4\", \"2018Q1\", \"2018Q2\", \"2018Q3\", \"2018Q4\", \"2019Q1\", \"2019Q2\", \"2019Q3\", \"2019Q4\"], \"xaxis\": \"x\", \"y\": [467000000.0, 1171000000.0, 2872000000.0, 3723000000.0, 979000000.0, 2246000000.0, 3863000000.0, 4066000000.0, 565000000.0, 1072000000.0, 3280000000.0, 3831000000.0, 770000000.0, 735000000.0, 2616000000.0, 2918000000.0, 2818000000.0, 5401000000.0, 9045000000.0, 11574000000.0, 2027000000.0, 4501000000.0, 7622000000.0, 10060000000.0, 2527000000.0, 5346000000.0, 8729000000.0, 11222000000.0, 2486000000.0, 5308000000.0, 8593000000.0, 11101000000.0, 5258000000.0, 11213000000.0, 16881000000.0, 17612000000.0, 6105000000.0, 12258000000.0, 17232000000.0, 19751000000.0, 5070000000.0, 11440000000.0, 17214000000.0, 20217000000.0, 6177000000.0, 12975000000.0, 19151000000.0, 21230000000.0, -1427000000.0, 3048000000.0, 12886000000.0, 20267000000.0, -1453000000.0, 3018000000.0, 10732000000.0, 17032000000.0, -5505000000.0, -3043000000.0, 6837000000.0, 11588000000.0, -4147000000.0, 136000000.0, 7718000000.0, 12208000000.0, 8469000000.0, 16944000000.0, 26259000000.0, 32842000000.0, 9703000000.0, 19070000000.0, 29789000000.0, 36502000000.0, 10100000000.0, 20068000000.0, 30859000000.0, 38417000000.0, 10553000000.0, 20986000000.0, 32612000000.0, 39826000000.0, -11734000.0, -28633000.0, -41431000.0, -51917000.0, -10752000.0, -22632000.0, -11675000.0, -34106000.0, -42952000.0, -94693000.0, -147906000.0, -230223000.0, -42766000.0, -92398000.0, -131318000.0, -144480000.0], \"yaxis\": \"y\"}, {\"alignmentgroup\": \"True\", \"hovertemplate\": \"17\\u696d\\u7a2e\\u533a\\u5206=\\u5efa\\u8a2d\\u30fb\\u8cc7\\u6750 <br>fiscal_year_quarter=%{x}<br>operating_income=%{y}<extra></extra>\", \"legendgroup\": \"\\u5efa\\u8a2d\\u30fb\\u8cc7\\u6750 \", \"marker\": {\"color\": \"#EF553B\"}, \"name\": \"\\u5efa\\u8a2d\\u30fb\\u8cc7\\u6750 \", \"offsetgroup\": \"\\u5efa\\u8a2d\\u30fb\\u8cc7\\u6750 \", \"orientation\": \"v\", \"showlegend\": true, \"textposition\": \"auto\", \"type\": \"bar\", \"x\": [\"2016Q1\", \"2016Q2\", \"2016Q3\", \"2016Q4\", \"2017Q1\", \"2017Q2\", \"2017Q3\", \"2017Q4\", \"2018Q1\", \"2018Q2\", \"2018Q3\", \"2018Q4\", \"2019Q1\", \"2019Q2\", \"2019Q3\", \"2019Q4\", \"2016Q1\", \"2016Q2\", \"2016Q3\", \"2016Q4\", \"2017Q1\", \"2017Q2\", \"2017Q3\", \"2017Q4\", \"2018Q1\", \"2018Q2\", \"2018Q3\", \"2018Q4\", \"2019Q1\", \"2019Q2\", \"2019Q3\", \"2019Q4\", \"2016Q1\", \"2016Q2\", \"2016Q3\", \"2016Q4\", \"2017Q1\", \"2017Q2\", \"2017Q3\", \"2017Q4\", \"2018Q1\", \"2018Q2\", \"2018Q3\", \"2018Q4\", \"2019Q1\", \"2019Q2\", \"2019Q3\", \"2019Q4\", \"2016Q1\", \"2016Q2\", \"2016Q3\", \"2016Q4\", \"2017Q1\", \"2017Q2\", \"2017Q3\", \"2017Q4\", \"2018Q1\", \"2018Q2\", \"2018Q3\", \"2018Q4\", \"2019Q1\", \"2019Q2\", \"2019Q3\", \"2019Q4\", \"2016Q1\", \"2016Q2\", \"2016Q3\", \"2016Q4\", \"2017Q1\", \"2017Q2\", \"2017Q3\", \"2017Q4\", \"2018Q1\", \"2018Q2\", \"2018Q3\", \"2018Q4\", \"2019Q1\", \"2019Q2\", \"2019Q3\", \"2019Q4\"], \"xaxis\": \"x\", \"y\": [37430000.0, 137377000.0, 170895000.0, 250544000.0, 91671000.0, 167377000.0, 198637000.0, 311946000.0, 13183000.0, 160808000.0, 192255000.0, 313050000.0, 32356000.0, 173138000.0, 236711000.0, 283859000.0, 16064000000.0, 52514000000.0, 104396000000.0, 140822000000.0, 26578000000.0, 63247000000.0, 114738000000.0, 181859000000.0, 15281000000.0, 48002000000.0, 85437000000.0, 153323000000.0, 25907000000.0, 59852000000.0, 92999000000.0, 167755000000.0, 16708000000.0, 39884000000.0, 62152000000.0, 96292000000.0, 22222000000.0, 49286000000.0, 82451000000.0, 119646000000.0, 30649000000.0, 60305000000.0, 87024000000.0, 120555000000.0, 20870000000.0, 41487000000.0, 73609000000.0, 101624000000.0, 557000000.0, -80000000.0, 470000000.0, 1131000000.0, 1781000000.0, 4228000000.0, 7570000000.0, 11093000000.0, 12610000000.0, 28513000000.0, 50160000000.0, 73065000000.0, 21226000000.0, 40441000000.0, 49422000000.0, 54344000000.0, 13460000000.0, 24264000000.0, 33807000000.0, 36273000000.0, 13676000000.0, 23623000000.0, 30301000000.0, 31870000000.0, 12086000000.0, 20105000000.0, 26466000000.0, 25443000000.0, 8151000000.0, 15255000000.0, 21218000000.0, 27271000000.0], \"yaxis\": \"y\"}, {\"alignmentgroup\": \"True\", \"hovertemplate\": \"17\\u696d\\u7a2e\\u533a\\u5206=\\u7d20\\u6750\\u30fb\\u5316\\u5b66 <br>fiscal_year_quarter=%{x}<br>operating_income=%{y}<extra></extra>\", \"legendgroup\": \"\\u7d20\\u6750\\u30fb\\u5316\\u5b66 \", \"marker\": {\"color\": \"#00cc96\"}, \"name\": \"\\u7d20\\u6750\\u30fb\\u5316\\u5b66 \", \"offsetgroup\": \"\\u7d20\\u6750\\u30fb\\u5316\\u5b66 \", \"orientation\": \"v\", \"showlegend\": true, \"textposition\": \"auto\", \"type\": \"bar\", \"x\": [\"2016Q1\", \"2016Q2\", \"2016Q3\", \"2016Q4\", \"2017Q1\", \"2017Q2\", \"2017Q3\", \"2017Q4\", \"2018Q1\", \"2018Q2\", \"2018Q3\", \"2018Q4\", \"2019Q1\", \"2019Q2\", \"2019Q3\", \"2019Q4\", \"2016Q1\", \"2016Q2\", \"2016Q3\", \"2016Q4\", \"2017Q1\", \"2017Q2\", \"2017Q3\", \"2017Q4\", \"2018Q1\", \"2018Q2\", \"2018Q3\", \"2018Q4\", \"2019Q1\", \"2019Q2\", \"2019Q3\", \"2019Q4\", \"2016Q1\", \"2016Q2\", \"2016Q3\", \"2016Q4\", \"2017Q1\", \"2017Q2\", \"2017Q3\", \"2017Q4\", \"2018Q1\", \"2018Q2\", \"2018Q3\", \"2018Q4\", \"2019Q1\", \"2019Q2\", \"2019Q3\", \"2019Q4\", \"2016Q1\", \"2016Q2\", \"2016Q3\", \"2016Q4\", \"2017Q1\", \"2017Q2\", \"2017Q3\", \"2017Q4\", \"2018Q1\", \"2018Q2\", \"2018Q3\", \"2018Q4\", \"2019Q1\", \"2019Q2\", \"2019Q3\", \"2019Q4\", \"2016Q1\", \"2016Q2\", \"2016Q3\", \"2016Q4\", \"2017Q1\", \"2017Q2\", \"2017Q3\", \"2017Q4\", \"2018Q1\", \"2018Q2\", \"2018Q3\", \"2018Q4\", \"2019Q1\", \"2019Q2\", \"2019Q3\", \"2019Q4\", \"2016Q1\", \"2016Q2\", \"2016Q3\", \"2016Q4\", \"2017Q1\", \"2017Q2\", \"2017Q3\", \"2017Q4\", \"2018Q1\", \"2018Q2\", \"2018Q3\", \"2018Q4\", \"2019Q1\", \"2019Q2\", \"2019Q3\", \"2019Q4\"], \"xaxis\": \"x\", \"y\": [1089000000.0, 1221000000.0, 1276000000.0, 1486000000.0, 1143000000.0, 1530000000.0, 1802000000.0, 1901000000.0, 777000000.0, 1269000000.0, 1348000000.0, 1531000000.0, 1053000000.0, 2058000000.0, 2521000000.0, 2569000000.0, 4602000000.0, 10668000000.0, 15740000000.0, 23332000000.0, 4983000000.0, 10506000000.0, 16048000000.0, 23923000000.0, 5347000000.0, 10601000000.0, 15345000000.0, 21727000000.0, 5231000000.0, 11114000000.0, 15968000000.0, 22794000000.0, 15697000000.0, 26997000000.0, 43614000000.0, 56512000000.0, 19145000000.0, 37533000000.0, 56292000000.0, 69823000000.0, 18251000000.0, 36200000000.0, 48102000000.0, 60000000000.0, 16958000000.0, 33759000000.0, 48216000000.0, 56205000000.0, -241000000.0, 80000000.0, 365000000.0, 1297000000.0, 345000000.0, 1332000000.0, 1796000000.0, 2247000000.0, 213000000.0, 1351000000.0, 2001000000.0, 3118000000.0, 291000000.0, 1190000000.0, 1226000000.0, 1557000000.0, 4760000000.0, 9875000000.0, 15550000000.0, 21041000000.0, 5216000000.0, 10205000000.0, 16693000000.0, 21335000000.0, 5384000000.0, 10706000000.0, 16129000000.0, 26638000000.0, 4493000000.0, 9021000000.0, 14022000000.0, 22517000000.0, 29500000000.0, 67354000000.0, 118317000000.0, 172281000000.0, 35836000000.0, 75877000000.0, 128587000000.0, 130679000000.0, 36855000000.0, 83930000000.0, 158347000000.0, 209827000000.0, 37113000000.0, 92039000000.0, 151635000000.0, 186570000000.0], \"yaxis\": \"y\"}, {\"alignmentgroup\": \"True\", \"hovertemplate\": \"17\\u696d\\u7a2e\\u533a\\u5206=\\u60c5\\u5831\\u901a\\u4fe1\\u30fb\\u30b5\\u30fc\\u30d3\\u30b9\\u305d\\u306e\\u4ed6 <br>fiscal_year_quarter=%{x}<br>operating_income=%{y}<extra></extra>\", \"legendgroup\": \"\\u60c5\\u5831\\u901a\\u4fe1\\u30fb\\u30b5\\u30fc\\u30d3\\u30b9\\u305d\\u306e\\u4ed6 \", \"marker\": {\"color\": \"#ab63fa\"}, \"name\": \"\\u60c5\\u5831\\u901a\\u4fe1\\u30fb\\u30b5\\u30fc\\u30d3\\u30b9\\u305d\\u306e\\u4ed6 \", \"offsetgroup\": \"\\u60c5\\u5831\\u901a\\u4fe1\\u30fb\\u30b5\\u30fc\\u30d3\\u30b9\\u305d\\u306e\\u4ed6 \", \"orientation\": \"v\", \"showlegend\": true, \"textposition\": \"auto\", \"type\": \"bar\", \"x\": [\"2016Q1\", \"2016Q2\", \"2016Q3\", \"2016Q4\", \"2017Q1\", \"2017Q2\", \"2017Q3\", \"2017Q4\", \"2018Q1\", \"2018Q2\", \"2018Q3\", \"2018Q4\", \"2019Q1\", \"2019Q2\", \"2019Q3\", \"2019Q4\", \"2016Q1\", \"2016Q2\", \"2016Q3\", \"2016Q4\", \"2017Q1\", \"2017Q2\", \"2017Q3\", \"2017Q4\", \"2018Q1\", \"2018Q2\", \"2018Q3\", \"2018Q4\", \"2019Q1\", \"2019Q2\", \"2019Q3\", \"2019Q4\", \"2016Q1\", \"2016Q2\", \"2016Q3\", \"2016Q4\", \"2017Q1\", \"2017Q2\", \"2017Q3\", \"2017Q4\", \"2018Q1\", \"2018Q2\", \"2018Q3\", \"2018Q4\", \"2019Q1\", \"2019Q2\", \"2019Q3\", \"2019Q4\", \"2016Q1\", \"2016Q2\", \"2016Q3\", \"2016Q4\", \"2017Q1\", \"2017Q2\", \"2017Q3\", \"2017Q4\", \"2018Q1\", \"2018Q2\", \"2018Q3\", \"2018Q4\", \"2019Q1\", \"2019Q2\", \"2019Q3\", \"2019Q4\", \"2016Q1\", \"2016Q2\", \"2016Q3\", \"2016Q4\", \"2017Q1\", \"2017Q2\", \"2017Q3\", \"2017Q4\", \"2018Q1\", \"2018Q2\", \"2018Q3\", \"2018Q4\", \"2019Q1\", \"2019Q2\", \"2019Q3\", \"2019Q4\", \"2016Q1\", \"2016Q2\", \"2016Q3\", \"2016Q4\", \"2017Q1\", \"2017Q2\", \"2017Q3\", \"2017Q4\", \"2018Q1\", \"2018Q2\", \"2018Q3\", \"2018Q4\", \"2019Q1\", \"2019Q2\", \"2019Q3\", \"2019Q4\", \"2016Q1\", \"2016Q2\", \"2016Q3\", \"2016Q4\", \"2017Q1\", \"2017Q2\", \"2017Q3\", \"2017Q4\", \"2018Q1\", \"2018Q2\", \"2018Q3\", \"2018Q4\", \"2019Q1\", \"2019Q2\", \"2019Q3\", \"2019Q4\"], \"xaxis\": \"x\", \"y\": [112947000.0, 233800000.0, 381321000.0, 518692000.0, 136835000.0, 270714000.0, 425259000.0, 607377000.0, 200601000.0, 358459000.0, 528237000.0, 734163000.0, 226387000.0, 438248000.0, 654330000.0, 874463000.0, 1280637000.0, 2389371000.0, 3126052000.0, 5361560000.0, 762125000.0, 1291772000.0, 2375568000.0, 3342897000.0, 1492000000.0, 1780000000.0, 2608000000.0, 4479000000.0, 2988000000.0, 4107000000.0, 5935000000.0, 5155000000.0, 1052000000.0, 2087000000.0, 3193000000.0, 4252000000.0, 967000000.0, 2096000000.0, 3152000000.0, 4341000000.0, 1095000000.0, 2044000000.0, 2926000000.0, 4240000000.0, 993000000.0, 1935000000.0, 2863000000.0, 3814000000.0, -134888000.0, -491703000.0, -657598000.0, -27942000.0, -168333000.0, -510725000.0, -672463000.0, -157748000.0, -160645000.0, -519469000.0, -627995000.0, -71171000.0, -121254000.0, -452863000.0, -541732000.0, -28488000.0, 5255000000.0, 7338000000.0, 16887000000.0, 19878000000.0, 6565000000.0, 10119000000.0, 18593000000.0, 18800000000.0, 4868000000.0, 7831000000.0, 15943000000.0, 18572000000.0, 4985000000.0, 6804000000.0, 11559000000.0, 13103000000.0, 2186000000.0, 4168000000.0, 6977000000.0, 7540000000.0, 2426000000.0, 4801000000.0, 5370000000.0, 6463000000.0, 905000000.0, 2450000000.0, 2896000000.0, 4565000000.0, 863000000.0, 3326000000.0, 3840000000.0, 4604000000.0, -308623000.0, -693929000.0, -878934000.0, -1089529000.0, -283579000.0, -801355000.0, -1111164000.0, -1505684000.0, -527498000.0, -1305619000.0, -2558422000.0, -2826757000.0, 261063000.0, 120764000.0, 438378000.0, 148359000.0], \"yaxis\": \"y\"}, {\"alignmentgroup\": \"True\", \"hovertemplate\": \"17\\u696d\\u7a2e\\u533a\\u5206=\\u81ea\\u52d5\\u8eca\\u30fb\\u8f38\\u9001\\u6a5f <br>fiscal_year_quarter=%{x}<br>operating_income=%{y}<extra></extra>\", \"legendgroup\": \"\\u81ea\\u52d5\\u8eca\\u30fb\\u8f38\\u9001\\u6a5f \", \"marker\": {\"color\": \"#FFA15A\"}, \"name\": \"\\u81ea\\u52d5\\u8eca\\u30fb\\u8f38\\u9001\\u6a5f \", \"offsetgroup\": \"\\u81ea\\u52d5\\u8eca\\u30fb\\u8f38\\u9001\\u6a5f \", \"orientation\": \"v\", \"showlegend\": true, \"textposition\": \"auto\", \"type\": \"bar\", \"x\": [\"2016Q1\", \"2016Q2\", \"2016Q3\", \"2016Q4\", \"2017Q1\", \"2017Q2\", \"2017Q3\", \"2017Q4\", \"2018Q1\", \"2018Q2\", \"2018Q3\", \"2018Q4\", \"2019Q1\", \"2019Q2\", \"2019Q3\", \"2019Q4\", \"2016Q1\", \"2016Q2\", \"2016Q3\", \"2016Q4\", \"2017Q1\", \"2017Q2\", \"2017Q3\", \"2017Q4\", \"2018Q1\", \"2018Q2\", \"2018Q3\", \"2018Q4\", \"2019Q1\", \"2019Q2\", \"2019Q3\", \"2019Q4\", \"2016Q1\", \"2016Q2\", \"2016Q3\", \"2016Q4\", \"2017Q1\", \"2017Q2\", \"2017Q3\", \"2017Q4\", \"2018Q1\", \"2018Q2\", \"2018Q3\", \"2018Q4\", \"2019Q1\", \"2019Q2\", \"2019Q3\", \"2019Q4\"], \"xaxis\": \"x\", \"y\": [6868000000.0, 15717000000.0, 18890000000.0, 42317000000.0, 9068000000.0, 18351000000.0, 26382000000.0, 54224000000.0, 14066000000.0, 26369000000.0, 26953000000.0, 53478000000.0, 12878000000.0, 25123000000.0, 33361000000.0, 58564000000.0, 28116000000.0, 58217000000.0, 89402000000.0, 127345000000.0, 44222000000.0, 77024000000.0, 115022000000.0, 147445000000.0, 33943000000.0, 61397000000.0, 97941000000.0, 134684000000.0, 31669000000.0, 71582000000.0, 101039000000.0, 128233000000.0, 175830000000.0, 339731000000.0, 503241000000.0, 742228000000.0, 153317000000.0, 281832000000.0, 364235000000.0, 574760000000.0, 109144000000.0, 210335000000.0, 313677000000.0, 318224000000.0, 1609000000.0, 31608000000.0, 54343000000.0, -40469000000.0], \"yaxis\": \"y\"}, {\"alignmentgroup\": \"True\", \"hovertemplate\": \"17\\u696d\\u7a2e\\u533a\\u5206=\\u9244\\u92fc\\u30fb\\u975e\\u9244 <br>fiscal_year_quarter=%{x}<br>operating_income=%{y}<extra></extra>\", \"legendgroup\": \"\\u9244\\u92fc\\u30fb\\u975e\\u9244 \", \"marker\": {\"color\": \"#19d3f3\"}, \"name\": \"\\u9244\\u92fc\\u30fb\\u975e\\u9244 \", \"offsetgroup\": \"\\u9244\\u92fc\\u30fb\\u975e\\u9244 \", \"orientation\": \"v\", \"showlegend\": true, \"textposition\": \"auto\", \"type\": \"bar\", \"x\": [\"2016Q1\", \"2016Q2\", \"2016Q3\", \"2016Q4\", \"2017Q1\", \"2017Q2\", \"2017Q3\", \"2017Q4\", \"2018Q1\", \"2018Q2\", \"2018Q3\", \"2018Q4\", \"2019Q1\", \"2019Q2\", \"2019Q3\", \"2019Q4\", \"2016Q1\", \"2016Q2\", \"2016Q3\", \"2016Q4\", \"2017Q1\", \"2017Q2\", \"2017Q3\", \"2017Q4\", \"2018Q1\", \"2018Q2\", \"2018Q3\", \"2018Q4\", \"2019Q1\", \"2019Q2\", \"2019Q3\", \"2019Q4\"], \"xaxis\": \"x\", \"y\": [-7392000000.0, 17830000000.0, 62159000000.0, 114202000000.0, 66536000000.0, 99997000000.0, 138031000000.0, 288700000000.0, 90615000000.0, 136950000000.0, 241028000000.0, 265111000000.0, 60600000000.0, 73100000000.0, -372502000000.0, -406119000000.0, 4678000000.0, 13275000000.0, 23756000000.0, 38623000000.0, 10434000000.0, 21751000000.0, 33272000000.0, 44804000000.0, 8514000000.0, 17552000000.0, 30705000000.0, 40842000000.0, 4912000000.0, 10766000000.0, 15291000000.0, 23565000000.0], \"yaxis\": \"y\"}, {\"alignmentgroup\": \"True\", \"hovertemplate\": \"17\\u696d\\u7a2e\\u533a\\u5206=\\u6a5f\\u68b0 <br>fiscal_year_quarter=%{x}<br>operating_income=%{y}<extra></extra>\", \"legendgroup\": \"\\u6a5f\\u68b0 \", \"marker\": {\"color\": \"#FF6692\"}, \"name\": \"\\u6a5f\\u68b0 \", \"offsetgroup\": \"\\u6a5f\\u68b0 \", \"orientation\": \"v\", \"showlegend\": true, \"textposition\": \"auto\", \"type\": \"bar\", \"x\": [\"2016Q1\", \"2016Q2\", \"2016Q3\", \"2016Q4\", \"2017Q1\", \"2017Q2\", \"2017Q3\", \"2017Q4\", \"2018Q1\", \"2018Q2\", \"2018Q3\", \"2018Q4\", \"2019Q1\", \"2019Q2\", \"2019Q3\", \"2019Q4\", \"2016Q1\", \"2016Q2\", \"2016Q3\", \"2016Q4\", \"2017Q1\", \"2017Q2\", \"2017Q3\", \"2017Q4\", \"2018Q1\", \"2018Q2\", \"2018Q3\", \"2018Q4\", \"2019Q1\", \"2019Q2\", \"2019Q3\", \"2019Q4\"], \"xaxis\": \"x\", \"y\": [598000000.0, 1452000000.0, 2077000000.0, 3083000000.0, 1551000000.0, 3347000000.0, 4976000000.0, 6412000000.0, 2856000000.0, 5556000000.0, 7737000000.0, 10215000000.0, 1971000000.0, 2889000000.0, 3971000000.0, 4549000000.0, 29789000000.0, 64126000000.0, 107025000000.0, 174097000000.0, 52407000000.0, 112623000000.0, 188189000000.0, 271581000000.0, 96048000000.0, 200000000000.0, 295835000000.0, 397806000000.0, 74760000000.0, 141982000000.0, 207828000000.0, 250707000000.0], \"yaxis\": \"y\"}, {\"alignmentgroup\": \"True\", \"hovertemplate\": \"17\\u696d\\u7a2e\\u533a\\u5206=\\u96fb\\u6a5f\\u30fb\\u7cbe\\u5bc6 <br>fiscal_year_quarter=%{x}<br>operating_income=%{y}<extra></extra>\", \"legendgroup\": \"\\u96fb\\u6a5f\\u30fb\\u7cbe\\u5bc6 \", \"marker\": {\"color\": \"#B6E880\"}, \"name\": \"\\u96fb\\u6a5f\\u30fb\\u7cbe\\u5bc6 \", \"offsetgroup\": \"\\u96fb\\u6a5f\\u30fb\\u7cbe\\u5bc6 \", \"orientation\": \"v\", \"showlegend\": true, \"textposition\": \"auto\", \"type\": \"bar\", \"x\": [\"2016Q1\", \"2016Q2\", \"2016Q3\", \"2016Q4\", \"2017Q1\", \"2017Q2\", \"2017Q3\", \"2017Q4\", \"2018Q1\", \"2018Q2\", \"2018Q3\", \"2018Q4\", \"2019Q1\", \"2019Q2\", \"2019Q3\", \"2019Q4\", \"2016Q1\", \"2016Q2\", \"2016Q3\", \"2016Q4\", \"2017Q1\", \"2017Q2\", \"2017Q3\", \"2017Q4\", \"2018Q1\", \"2018Q2\", \"2018Q3\", \"2018Q4\", \"2019Q1\", \"2019Q2\", \"2019Q3\", \"2019Q4\", \"2016Q1\", \"2016Q2\", \"2016Q3\", \"2016Q4\", \"2017Q1\", \"2017Q2\", \"2017Q3\", \"2017Q4\", \"2018Q1\", \"2018Q2\", \"2018Q3\", \"2018Q4\", \"2019Q1\", \"2019Q2\", \"2019Q3\", \"2019Q4\", \"2016Q1\", \"2016Q2\", \"2016Q3\", \"2016Q4\", \"2017Q1\", \"2017Q2\", \"2017Q3\", \"2017Q4\", \"2018Q1\", \"2018Q2\", \"2018Q3\", \"2018Q4\", \"2019Q1\", \"2019Q2\", \"2019Q3\", \"2019Q4\"], \"xaxis\": \"x\", \"y\": [91483000000.0, 230670000000.0, 373107000000.0, 541483000000.0, 121542000000.0, 264313000000.0, 426540000000.0, 586012000000.0, 177376000000.0, 335836000000.0, 282709000000.0, null, null, null, null, null, -29944000000.0, 3744000000.0, -17035000000.0, 41838000000.0, -14441000000.0, 7272000000.0, 14272000000.0, 63850000000.0, -10700000000.0, 13825000000.0, 16688000000.0, 57780000000.0, 3382000000.0, 46856000000.0, 77906000000.0, 127609000000.0, 115000000.0, 327000000.0, 399000000.0, 478000000.0, 81000000.0, 8000000.0, 297000000.0, 447000000.0, 188000000.0, 446000000.0, 597000000.0, 671000000.0, -189000000.0, 135000000.0, -16000000.0, 233000000.0, 4508000000.0, 15246000000.0, 21945000000.0, 37089000000.0, 3884000000.0, 15748000000.0, 25437000000.0, 42822000000.0, 5739000000.0, 17438000000.0, 27568000000.0, 44480000000.0, 4463000000.0, 17869000000.0, 27958000000.0, 41845000000.0], \"yaxis\": \"y\"}, {\"alignmentgroup\": \"True\", \"hovertemplate\": \"17\\u696d\\u7a2e\\u533a\\u5206=\\u5c0f\\u58f2 <br>fiscal_year_quarter=%{x}<br>operating_income=%{y}<extra></extra>\", \"legendgroup\": \"\\u5c0f\\u58f2 \", \"marker\": {\"color\": \"#FF97FF\"}, \"name\": \"\\u5c0f\\u58f2 \", \"offsetgroup\": \"\\u5c0f\\u58f2 \", \"orientation\": \"v\", \"showlegend\": true, \"textposition\": \"auto\", \"type\": \"bar\", \"x\": [\"2016Q1\", \"2016Q2\", \"2016Q3\", \"2016Q4\", \"2017Q1\", \"2017Q2\", \"2017Q3\", \"2017Q4\", \"2018Q1\", \"2018Q2\", \"2018Q3\", \"2018Q4\", \"2019Q1\", \"2019Q2\", \"2019Q3\", \"2019Q4\"], \"xaxis\": \"x\", \"y\": [-152967000.0, -50697000.0, -308513000.0, -468026000.0, -155126000.0, -130479000.0, -287105000.0, -336901000.0, -155844000.0, -111945000.0, -236859000.0, -399003000.0, -91724000.0, -36084000.0, -198630000.0, -360518000.0], \"yaxis\": \"y\"}, {\"alignmentgroup\": \"True\", \"hovertemplate\": \"17\\u696d\\u7a2e\\u533a\\u5206=\\u5546\\u793e\\u30fb\\u5378\\u58f2 <br>fiscal_year_quarter=%{x}<br>operating_income=%{y}<extra></extra>\", \"legendgroup\": \"\\u5546\\u793e\\u30fb\\u5378\\u58f2 \", \"marker\": {\"color\": \"#FECB52\"}, \"name\": \"\\u5546\\u793e\\u30fb\\u5378\\u58f2 \", \"offsetgroup\": \"\\u5546\\u793e\\u30fb\\u5378\\u58f2 \", \"orientation\": \"v\", \"showlegend\": true, \"textposition\": \"auto\", \"type\": \"bar\", \"x\": [\"2016Q1\", \"2016Q2\", \"2016Q3\", \"2016Q4\", \"2017Q1\", \"2017Q2\", \"2017Q3\", \"2017Q4\", \"2018Q1\", \"2018Q2\", \"2018Q3\", \"2018Q4\", \"2019Q1\", \"2019Q2\", \"2019Q3\", \"2019Q4\", \"2016Q1\", \"2016Q2\", \"2016Q3\", \"2016Q4\", \"2017Q1\", \"2017Q2\", \"2017Q3\", \"2017Q4\", \"2018Q1\", \"2018Q2\", \"2018Q3\", \"2018Q4\", \"2019Q1\", \"2019Q2\", \"2019Q3\", \"2019Q4\"], \"xaxis\": \"x\", \"y\": [48449000000.0, 116895000000.0, 243829000000.0, 298422000000.0, 83204000000.0, 196507000000.0, 277734000000.0, 294104000000.0, 77729000000.0, 362337000000.0, 492421000000.0, null, null, null, null, null, 201000000.0, 583000000.0, 1024000000.0, 1309000000.0, 326000000.0, 766000000.0, 1436000000.0, 1573000000.0, 376000000.0, 997000000.0, 1457000000.0, 1683000000.0, 144000000.0, 614000000.0, 978000000.0, 1191000000.0], \"yaxis\": \"y\"}, {\"alignmentgroup\": \"True\", \"hovertemplate\": \"17\\u696d\\u7a2e\\u533a\\u5206=\\u91d1\\u878d\\uff08\\u9664\\u304f\\u9280\\u884c\\uff09 <br>fiscal_year_quarter=%{x}<br>operating_income=%{y}<extra></extra>\", \"legendgroup\": \"\\u91d1\\u878d\\uff08\\u9664\\u304f\\u9280\\u884c\\uff09 \", \"marker\": {\"color\": \"#636efa\"}, \"name\": \"\\u91d1\\u878d\\uff08\\u9664\\u304f\\u9280\\u884c\\uff09 \", \"offsetgroup\": \"\\u91d1\\u878d\\uff08\\u9664\\u304f\\u9280\\u884c\\uff09 \", \"orientation\": \"v\", \"showlegend\": true, \"textposition\": \"auto\", \"type\": \"bar\", \"x\": [\"2016Q1\", \"2016Q2\", \"2016Q3\", \"2016Q4\", \"2017Q1\", \"2017Q2\", \"2017Q3\", \"2017Q4\", \"2018Q1\", \"2018Q2\", \"2018Q3\", \"2018Q4\", \"2019Q1\", \"2019Q2\", \"2019Q3\", \"2019Q4\"], \"xaxis\": \"x\", \"y\": [28019000000.0, 57342000000.0, 88952000000.0, 119062000000.0, 21422000000.0, 61420000000.0, 101692000000.0, 135058000000.0, 22151000000.0, 37667000000.0, 53852000000.0, 67326000000.0, 12414000000.0, 18900000000.0, 37883000000.0, 54288000000.0], \"yaxis\": \"y\"}, {\"alignmentgroup\": \"True\", \"hovertemplate\": \"17\\u696d\\u7a2e\\u533a\\u5206=\\u4e0d\\u52d5\\u7523 <br>fiscal_year_quarter=%{x}<br>operating_income=%{y}<extra></extra>\", \"legendgroup\": \"\\u4e0d\\u52d5\\u7523 \", \"marker\": {\"color\": \"#EF553B\"}, \"name\": \"\\u4e0d\\u52d5\\u7523 \", \"offsetgroup\": \"\\u4e0d\\u52d5\\u7523 \", \"orientation\": \"v\", \"showlegend\": true, \"textposition\": \"auto\", \"type\": \"bar\", \"x\": [\"2016Q1\", \"2016Q2\", \"2016Q3\", \"2016Q4\", \"2017Q1\", \"2017Q2\", \"2017Q3\", \"2017Q4\", \"2018Q1\", \"2018Q2\", \"2018Q3\", \"2018Q4\", \"2019Q1\", \"2019Q2\", \"2019Q3\", \"2019Q4\"], \"xaxis\": \"x\", \"y\": [47581000000.0, 114752000000.0, 166464000000.0, 232698000000.0, 51750000000.0, 92232000000.0, 135953000000.0, 245902000000.0, 55768000000.0, 112110000000.0, 156353000000.0, 262147000000.0, 50885000000.0, 118604000000.0, 170338000000.0, 280617000000.0], \"yaxis\": \"y\"}, {\"alignmentgroup\": \"True\", \"hovertemplate\": \"17\\u696d\\u7a2e\\u533a\\u5206=\\u904b\\u8f38\\u30fb\\u7269\\u6d41 <br>fiscal_year_quarter=%{x}<br>operating_income=%{y}<extra></extra>\", \"legendgroup\": \"\\u904b\\u8f38\\u30fb\\u7269\\u6d41 \", \"marker\": {\"color\": \"#00cc96\"}, \"name\": \"\\u904b\\u8f38\\u30fb\\u7269\\u6d41 \", \"offsetgroup\": \"\\u904b\\u8f38\\u30fb\\u7269\\u6d41 \", \"orientation\": \"v\", \"showlegend\": true, \"textposition\": \"auto\", \"type\": \"bar\", \"x\": [\"2016Q1\", \"2016Q2\", \"2016Q3\", \"2016Q4\", \"2017Q1\", \"2017Q2\", \"2017Q3\", \"2017Q4\", \"2018Q1\", \"2018Q2\", \"2018Q3\", \"2018Q4\", \"2019Q1\", \"2019Q2\", \"2019Q3\", \"2019Q4\", \"2016Q1\", \"2016Q2\", \"2016Q3\", \"2016Q4\", \"2017Q1\", \"2017Q2\", \"2017Q3\", \"2017Q4\", \"2018Q1\", \"2018Q2\", \"2018Q3\", \"2018Q4\", \"2019Q1\", \"2019Q2\", \"2019Q3\", \"2019Q4\", \"2016Q1\", \"2016Q2\", \"2016Q3\", \"2016Q4\", \"2017Q1\", \"2017Q2\", \"2017Q3\", \"2017Q4\", \"2018Q1\", \"2018Q2\", \"2018Q3\", \"2018Q4\", \"2019Q1\", \"2019Q2\", \"2019Q3\", \"2019Q4\", \"2016Q1\", \"2016Q2\", \"2016Q3\", \"2016Q4\", \"2017Q1\", \"2017Q2\", \"2017Q3\", \"2017Q4\", \"2018Q1\", \"2018Q2\", \"2018Q3\", \"2018Q4\", \"2019Q1\", \"2019Q2\", \"2019Q3\", \"2019Q4\"], \"xaxis\": \"x\", \"y\": [16424000000.0, 32006000000.0, 49815000000.0, 68335000000.0, 17753000000.0, 34590000000.0, 51528000000.0, 66645000000.0, 17264000000.0, 31719000000.0, 49764000000.0, 67295000000.0, 18512000000.0, 37173000000.0, 53440000000.0, 62653000000.0, -10963000000.0, -22472000000.0, -15516000000.0, -18078000000.0, 3572000000.0, 12741000000.0, 24822000000.0, 27824000000.0, -8119000000.0, -4194000000.0, 4564000000.0, 11085000000.0, 5470000000.0, 15836000000.0, 32469000000.0, 38696000000.0, 22090000000.0, 92442000000.0, 137311000000.0, 170332000000.0, 24747000000.0, 99073000000.0, 145233000000.0, 174565000000.0, 24930000000.0, 96831000000.0, 145511000000.0, 176160000000.0, 19396000000.0, 80326000000.0, 120168000000.0, 100632000000.0, 3219000000.0, 6258000000.0, 10984000000.0, 12748000000.0, 3402000000.0, 6791000000.0, 10113000000.0, 12421000000.0, 3613000000.0, 6557000000.0, 10205000000.0, 12660000000.0, 3266000000.0, 6609000000.0, 9918000000.0, 12195000000.0], \"yaxis\": \"y\"}, {\"alignmentgroup\": \"True\", \"hovertemplate\": \"17\\u696d\\u7a2e\\u533a\\u5206=\\u96fb\\u529b\\u30fb\\u30ac\\u30b9 <br>fiscal_year_quarter=%{x}<br>operating_income=%{y}<extra></extra>\", \"legendgroup\": \"\\u96fb\\u529b\\u30fb\\u30ac\\u30b9 \", \"marker\": {\"color\": \"#ab63fa\"}, \"name\": \"\\u96fb\\u529b\\u30fb\\u30ac\\u30b9 \", \"offsetgroup\": \"\\u96fb\\u529b\\u30fb\\u30ac\\u30b9 \", \"orientation\": \"v\", \"showlegend\": true, \"textposition\": \"auto\", \"type\": \"bar\", \"x\": [\"2016Q1\", \"2016Q2\", \"2016Q3\", \"2016Q4\", \"2017Q1\", \"2017Q2\", \"2017Q3\", \"2017Q4\", \"2018Q1\", \"2018Q2\", \"2018Q3\", \"2018Q4\", \"2019Q1\", \"2019Q2\", \"2019Q3\", \"2019Q4\"], \"xaxis\": \"x\", \"y\": [143611000000.0, 292834000000.0, 336953000000.0, 258680000000.0, 67627000000.0, 237736000000.0, 295680000000.0, 288470000000.0, 68888000000.0, 219675000000.0, 260478000000.0, 312257000000.0, 51256000000.0, 196619000000.0, 247176000000.0, 211841000000.0], \"yaxis\": \"y\"}],\n",
       "                        {\"barmode\": \"relative\", \"legend\": {\"title\": {\"text\": \"17\\u696d\\u7a2e\\u533a\\u5206\"}, \"tracegroupgap\": 0}, \"template\": {\"data\": {\"bar\": [{\"error_x\": {\"color\": \"#2a3f5f\"}, \"error_y\": {\"color\": \"#2a3f5f\"}, \"marker\": {\"line\": {\"color\": \"#E5ECF6\", \"width\": 0.5}}, \"type\": \"bar\"}], \"barpolar\": [{\"marker\": {\"line\": {\"color\": \"#E5ECF6\", \"width\": 0.5}}, \"type\": \"barpolar\"}], \"carpet\": [{\"aaxis\": {\"endlinecolor\": \"#2a3f5f\", \"gridcolor\": \"white\", \"linecolor\": \"white\", \"minorgridcolor\": \"white\", \"startlinecolor\": \"#2a3f5f\"}, \"baxis\": {\"endlinecolor\": \"#2a3f5f\", \"gridcolor\": \"white\", \"linecolor\": \"white\", \"minorgridcolor\": \"white\", \"startlinecolor\": \"#2a3f5f\"}, \"type\": \"carpet\"}], \"choropleth\": [{\"colorbar\": {\"outlinewidth\": 0, \"ticks\": \"\"}, \"type\": \"choropleth\"}], \"contour\": [{\"colorbar\": {\"outlinewidth\": 0, \"ticks\": \"\"}, \"colorscale\": [[0.0, \"#0d0887\"], [0.1111111111111111, \"#46039f\"], [0.2222222222222222, \"#7201a8\"], [0.3333333333333333, \"#9c179e\"], [0.4444444444444444, \"#bd3786\"], [0.5555555555555556, \"#d8576b\"], [0.6666666666666666, \"#ed7953\"], [0.7777777777777778, \"#fb9f3a\"], [0.8888888888888888, \"#fdca26\"], [1.0, \"#f0f921\"]], \"type\": \"contour\"}], \"contourcarpet\": [{\"colorbar\": {\"outlinewidth\": 0, \"ticks\": \"\"}, \"type\": \"contourcarpet\"}], \"heatmap\": [{\"colorbar\": {\"outlinewidth\": 0, \"ticks\": \"\"}, \"colorscale\": [[0.0, \"#0d0887\"], [0.1111111111111111, \"#46039f\"], [0.2222222222222222, \"#7201a8\"], [0.3333333333333333, \"#9c179e\"], [0.4444444444444444, \"#bd3786\"], [0.5555555555555556, \"#d8576b\"], [0.6666666666666666, \"#ed7953\"], [0.7777777777777778, \"#fb9f3a\"], [0.8888888888888888, \"#fdca26\"], [1.0, \"#f0f921\"]], \"type\": \"heatmap\"}], \"heatmapgl\": [{\"colorbar\": {\"outlinewidth\": 0, \"ticks\": \"\"}, \"colorscale\": [[0.0, \"#0d0887\"], [0.1111111111111111, \"#46039f\"], [0.2222222222222222, \"#7201a8\"], [0.3333333333333333, \"#9c179e\"], [0.4444444444444444, \"#bd3786\"], [0.5555555555555556, \"#d8576b\"], [0.6666666666666666, \"#ed7953\"], [0.7777777777777778, \"#fb9f3a\"], [0.8888888888888888, \"#fdca26\"], [1.0, \"#f0f921\"]], \"type\": \"heatmapgl\"}], \"histogram\": [{\"marker\": {\"colorbar\": {\"outlinewidth\": 0, \"ticks\": \"\"}}, \"type\": \"histogram\"}], \"histogram2d\": [{\"colorbar\": {\"outlinewidth\": 0, \"ticks\": \"\"}, \"colorscale\": [[0.0, \"#0d0887\"], [0.1111111111111111, \"#46039f\"], [0.2222222222222222, \"#7201a8\"], [0.3333333333333333, \"#9c179e\"], [0.4444444444444444, \"#bd3786\"], [0.5555555555555556, \"#d8576b\"], [0.6666666666666666, \"#ed7953\"], [0.7777777777777778, \"#fb9f3a\"], [0.8888888888888888, \"#fdca26\"], [1.0, \"#f0f921\"]], \"type\": \"histogram2d\"}], \"histogram2dcontour\": [{\"colorbar\": {\"outlinewidth\": 0, \"ticks\": \"\"}, \"colorscale\": [[0.0, \"#0d0887\"], [0.1111111111111111, \"#46039f\"], [0.2222222222222222, \"#7201a8\"], [0.3333333333333333, \"#9c179e\"], [0.4444444444444444, \"#bd3786\"], [0.5555555555555556, \"#d8576b\"], [0.6666666666666666, \"#ed7953\"], [0.7777777777777778, \"#fb9f3a\"], [0.8888888888888888, \"#fdca26\"], [1.0, \"#f0f921\"]], \"type\": \"histogram2dcontour\"}], \"mesh3d\": [{\"colorbar\": {\"outlinewidth\": 0, \"ticks\": \"\"}, \"type\": \"mesh3d\"}], \"parcoords\": [{\"line\": {\"colorbar\": {\"outlinewidth\": 0, \"ticks\": \"\"}}, \"type\": \"parcoords\"}], \"pie\": [{\"automargin\": true, \"type\": \"pie\"}], \"scatter\": [{\"marker\": {\"colorbar\": {\"outlinewidth\": 0, \"ticks\": \"\"}}, \"type\": \"scatter\"}], \"scatter3d\": [{\"line\": {\"colorbar\": {\"outlinewidth\": 0, \"ticks\": \"\"}}, \"marker\": {\"colorbar\": {\"outlinewidth\": 0, \"ticks\": \"\"}}, \"type\": \"scatter3d\"}], \"scattercarpet\": [{\"marker\": {\"colorbar\": {\"outlinewidth\": 0, \"ticks\": \"\"}}, \"type\": \"scattercarpet\"}], \"scattergeo\": [{\"marker\": {\"colorbar\": {\"outlinewidth\": 0, \"ticks\": \"\"}}, \"type\": \"scattergeo\"}], \"scattergl\": [{\"marker\": {\"colorbar\": {\"outlinewidth\": 0, \"ticks\": \"\"}}, \"type\": \"scattergl\"}], \"scattermapbox\": [{\"marker\": {\"colorbar\": {\"outlinewidth\": 0, \"ticks\": \"\"}}, \"type\": \"scattermapbox\"}], \"scatterpolar\": [{\"marker\": {\"colorbar\": {\"outlinewidth\": 0, \"ticks\": \"\"}}, \"type\": \"scatterpolar\"}], \"scatterpolargl\": [{\"marker\": {\"colorbar\": {\"outlinewidth\": 0, \"ticks\": \"\"}}, \"type\": \"scatterpolargl\"}], \"scatterternary\": [{\"marker\": {\"colorbar\": {\"outlinewidth\": 0, \"ticks\": \"\"}}, \"type\": \"scatterternary\"}], \"surface\": [{\"colorbar\": {\"outlinewidth\": 0, \"ticks\": \"\"}, \"colorscale\": [[0.0, \"#0d0887\"], [0.1111111111111111, \"#46039f\"], [0.2222222222222222, \"#7201a8\"], [0.3333333333333333, \"#9c179e\"], [0.4444444444444444, \"#bd3786\"], [0.5555555555555556, \"#d8576b\"], [0.6666666666666666, \"#ed7953\"], [0.7777777777777778, \"#fb9f3a\"], [0.8888888888888888, \"#fdca26\"], [1.0, \"#f0f921\"]], \"type\": \"surface\"}], \"table\": [{\"cells\": {\"fill\": {\"color\": \"#EBF0F8\"}, \"line\": {\"color\": \"white\"}}, \"header\": {\"fill\": {\"color\": \"#C8D4E3\"}, \"line\": {\"color\": \"white\"}}, \"type\": \"table\"}]}, \"layout\": {\"annotationdefaults\": {\"arrowcolor\": \"#2a3f5f\", \"arrowhead\": 0, \"arrowwidth\": 1}, \"coloraxis\": {\"colorbar\": {\"outlinewidth\": 0, \"ticks\": \"\"}}, \"colorscale\": {\"diverging\": [[0, \"#8e0152\"], [0.1, \"#c51b7d\"], [0.2, \"#de77ae\"], [0.3, \"#f1b6da\"], [0.4, \"#fde0ef\"], [0.5, \"#f7f7f7\"], [0.6, \"#e6f5d0\"], [0.7, \"#b8e186\"], [0.8, \"#7fbc41\"], [0.9, \"#4d9221\"], [1, \"#276419\"]], \"sequential\": [[0.0, \"#0d0887\"], [0.1111111111111111, \"#46039f\"], [0.2222222222222222, \"#7201a8\"], [0.3333333333333333, \"#9c179e\"], [0.4444444444444444, \"#bd3786\"], [0.5555555555555556, \"#d8576b\"], [0.6666666666666666, \"#ed7953\"], [0.7777777777777778, \"#fb9f3a\"], [0.8888888888888888, \"#fdca26\"], [1.0, \"#f0f921\"]], \"sequentialminus\": [[0.0, \"#0d0887\"], [0.1111111111111111, \"#46039f\"], [0.2222222222222222, \"#7201a8\"], [0.3333333333333333, \"#9c179e\"], [0.4444444444444444, \"#bd3786\"], [0.5555555555555556, \"#d8576b\"], [0.6666666666666666, \"#ed7953\"], [0.7777777777777778, \"#fb9f3a\"], [0.8888888888888888, \"#fdca26\"], [1.0, \"#f0f921\"]]}, \"colorway\": [\"#636efa\", \"#EF553B\", \"#00cc96\", \"#ab63fa\", \"#FFA15A\", \"#19d3f3\", \"#FF6692\", \"#B6E880\", \"#FF97FF\", \"#FECB52\"], \"font\": {\"color\": \"#2a3f5f\"}, \"geo\": {\"bgcolor\": \"white\", \"lakecolor\": \"white\", \"landcolor\": \"#E5ECF6\", \"showlakes\": true, \"showland\": true, \"subunitcolor\": \"white\"}, \"hoverlabel\": {\"align\": \"left\"}, \"hovermode\": \"closest\", \"mapbox\": {\"style\": \"light\"}, \"paper_bgcolor\": \"white\", \"plot_bgcolor\": \"#E5ECF6\", \"polar\": {\"angularaxis\": {\"gridcolor\": \"white\", \"linecolor\": \"white\", \"ticks\": \"\"}, \"bgcolor\": \"#E5ECF6\", \"radialaxis\": {\"gridcolor\": \"white\", \"linecolor\": \"white\", \"ticks\": \"\"}}, \"scene\": {\"xaxis\": {\"backgroundcolor\": \"#E5ECF6\", \"gridcolor\": \"white\", \"gridwidth\": 2, \"linecolor\": \"white\", \"showbackground\": true, \"ticks\": \"\", \"zerolinecolor\": \"white\"}, \"yaxis\": {\"backgroundcolor\": \"#E5ECF6\", \"gridcolor\": \"white\", \"gridwidth\": 2, \"linecolor\": \"white\", \"showbackground\": true, \"ticks\": \"\", \"zerolinecolor\": \"white\"}, \"zaxis\": {\"backgroundcolor\": \"#E5ECF6\", \"gridcolor\": \"white\", \"gridwidth\": 2, \"linecolor\": \"white\", \"showbackground\": true, \"ticks\": \"\", \"zerolinecolor\": \"white\"}}, \"shapedefaults\": {\"line\": {\"color\": \"#2a3f5f\"}}, \"ternary\": {\"aaxis\": {\"gridcolor\": \"white\", \"linecolor\": \"white\", \"ticks\": \"\"}, \"baxis\": {\"gridcolor\": \"white\", \"linecolor\": \"white\", \"ticks\": \"\"}, \"bgcolor\": \"#E5ECF6\", \"caxis\": {\"gridcolor\": \"white\", \"linecolor\": \"white\", \"ticks\": \"\"}}, \"title\": {\"x\": 0.05}, \"xaxis\": {\"automargin\": true, \"gridcolor\": \"white\", \"linecolor\": \"white\", \"ticks\": \"\", \"title\": {\"standoff\": 15}, \"zerolinecolor\": \"white\", \"zerolinewidth\": 2}, \"yaxis\": {\"automargin\": true, \"gridcolor\": \"white\", \"linecolor\": \"white\", \"ticks\": \"\", \"title\": {\"standoff\": 15}, \"zerolinecolor\": \"white\", \"zerolinewidth\": 2}}}, \"title\": {\"text\": \"\\u55b6\\u696d\\u5229\\u76ca\"}, \"xaxis\": {\"anchor\": \"y\", \"domain\": [0.0, 1.0], \"title\": {\"text\": \"fiscal_year_quarter\"}}, \"yaxis\": {\"anchor\": \"x\", \"domain\": [0.0, 1.0], \"title\": {\"text\": \"operating_income\"}}},\n",
       "                        {\"responsive\": true}\n",
       "                    ).then(function(){\n",
       "                            \n",
       "var gd = document.getElementById('cdd78411-0770-4871-84ec-5ee02c5b7bd4');\n",
       "var x = new MutationObserver(function (mutations, observer) {{\n",
       "        var display = window.getComputedStyle(gd).display;\n",
       "        if (!display || display === 'none') {{\n",
       "            console.log([gd, 'removed!']);\n",
       "            Plotly.purge(gd);\n",
       "            observer.disconnect();\n",
       "        }}\n",
       "}});\n",
       "\n",
       "// Listen for the removal of the full notebook cells\n",
       "var notebookContainer = gd.closest('#notebook-container');\n",
       "if (notebookContainer) {{\n",
       "    x.observe(notebookContainer, {childList: true});\n",
       "}}\n",
       "\n",
       "// Listen for the clearing of the current output cell\n",
       "var outputEl = gd.closest('.output');\n",
       "if (outputEl) {{\n",
       "    x.observe(outputEl, {childList: true});\n",
       "}}\n",
       "\n",
       "                        })\n",
       "                };\n",
       "                });\n",
       "            </script>\n",
       "        </div>"
      ]
     },
     "metadata": {},
     "output_type": "display_data"
    }
   ],
   "source": [
    "fig = px.bar(\n",
    "    quarter,\n",
    "    x=\"fiscal_year_quarter\",\n",
    "    y=\"operating_income\",\n",
    "    color=\"17業種区分\",\n",
    "    title=\"営業利益\",\n",
    ")\n",
    "fig.update_layout(barmode=\"relative\")"
   ]
  },
  {
   "cell_type": "code",
   "execution_count": 27,
   "metadata": {},
   "outputs": [
    {
     "data": {
      "application/vnd.plotly.v1+json": {
       "config": {
        "plotlyServerURL": "https://plot.ly"
       },
       "data": [
        {
         "alignmentgroup": "True",
         "hovertemplate": "company_name=新日鐵住金株式会社<br>fiscal_year_quarter=%{x}<br>operating_income=%{y}<extra></extra>",
         "legendgroup": "新日鐵住金株式会社",
         "marker": {
          "color": "#636efa"
         },
         "name": "新日鐵住金株式会社",
         "offsetgroup": "新日鐵住金株式会社",
         "orientation": "v",
         "showlegend": true,
         "textposition": "auto",
         "type": "bar",
         "x": [
          "2016Q1",
          "2016Q2",
          "2016Q3",
          "2016Q4",
          "2017Q1",
          "2017Q2",
          "2017Q3",
          "2017Q4",
          "2018Q1",
          "2018Q2",
          "2018Q3"
         ],
         "xaxis": "x",
         "y": [
          -7392000000,
          17830000000,
          62159000000,
          114202000000,
          66536000000,
          99997000000,
          138031000000,
          288700000000,
          90615000000,
          136950000000,
          241028000000
         ],
         "yaxis": "y"
        },
        {
         "alignmentgroup": "True",
         "hovertemplate": "company_name=日本製鉄株式会社(旧会社名　新日鐵住金株式会社)<br>fiscal_year_quarter=%{x}<br>operating_income=%{y}<extra></extra>",
         "legendgroup": "日本製鉄株式会社(旧会社名　新日鐵住金株式会社)",
         "marker": {
          "color": "#EF553B"
         },
         "name": "日本製鉄株式会社(旧会社名　新日鐵住金株式会社)",
         "offsetgroup": "日本製鉄株式会社(旧会社名　新日鐵住金株式会社)",
         "orientation": "v",
         "showlegend": true,
         "textposition": "auto",
         "type": "bar",
         "x": [
          "2018Q4"
         ],
         "xaxis": "x",
         "y": [
          265111000000
         ],
         "yaxis": "y"
        },
        {
         "alignmentgroup": "True",
         "hovertemplate": "company_name=日本製鉄株式会社<br>fiscal_year_quarter=%{x}<br>operating_income=%{y}<extra></extra>",
         "legendgroup": "日本製鉄株式会社",
         "marker": {
          "color": "#00cc96"
         },
         "name": "日本製鉄株式会社",
         "offsetgroup": "日本製鉄株式会社",
         "orientation": "v",
         "showlegend": true,
         "textposition": "auto",
         "type": "bar",
         "x": [
          "2019Q1",
          "2019Q2",
          "2019Q3",
          "2019Q4"
         ],
         "xaxis": "x",
         "y": [
          60600000000,
          73100000000,
          -372502000000,
          -406119000000
         ],
         "yaxis": "y"
        },
        {
         "alignmentgroup": "True",
         "hovertemplate": "company_name=古河電気工業株式会社<br>fiscal_year_quarter=%{x}<br>operating_income=%{y}<extra></extra>",
         "legendgroup": "古河電気工業株式会社",
         "marker": {
          "color": "#ab63fa"
         },
         "name": "古河電気工業株式会社",
         "offsetgroup": "古河電気工業株式会社",
         "orientation": "v",
         "showlegend": true,
         "textposition": "auto",
         "type": "bar",
         "x": [
          "2016Q1",
          "2016Q2",
          "2016Q3",
          "2016Q4",
          "2017Q1",
          "2017Q2",
          "2017Q3",
          "2017Q4",
          "2018Q1",
          "2018Q2",
          "2018Q3",
          "2018Q4",
          "2019Q1",
          "2019Q2",
          "2019Q3",
          "2019Q4"
         ],
         "xaxis": "x",
         "y": [
          4678000000,
          13275000000,
          23756000000,
          38623000000,
          10434000000,
          21751000000,
          33272000000,
          44804000000,
          8514000000,
          17552000000,
          30705000000,
          40842000000,
          4912000000,
          10766000000,
          15291000000,
          23565000000
         ],
         "yaxis": "y"
        }
       ],
       "layout": {
        "barmode": "relative",
        "legend": {
         "title": {
          "text": "company_name"
         },
         "tracegroupgap": 0
        },
        "template": {
         "data": {
          "bar": [
           {
            "error_x": {
             "color": "#2a3f5f"
            },
            "error_y": {
             "color": "#2a3f5f"
            },
            "marker": {
             "line": {
              "color": "#E5ECF6",
              "width": 0.5
             }
            },
            "type": "bar"
           }
          ],
          "barpolar": [
           {
            "marker": {
             "line": {
              "color": "#E5ECF6",
              "width": 0.5
             }
            },
            "type": "barpolar"
           }
          ],
          "carpet": [
           {
            "aaxis": {
             "endlinecolor": "#2a3f5f",
             "gridcolor": "white",
             "linecolor": "white",
             "minorgridcolor": "white",
             "startlinecolor": "#2a3f5f"
            },
            "baxis": {
             "endlinecolor": "#2a3f5f",
             "gridcolor": "white",
             "linecolor": "white",
             "minorgridcolor": "white",
             "startlinecolor": "#2a3f5f"
            },
            "type": "carpet"
           }
          ],
          "choropleth": [
           {
            "colorbar": {
             "outlinewidth": 0,
             "ticks": ""
            },
            "type": "choropleth"
           }
          ],
          "contour": [
           {
            "colorbar": {
             "outlinewidth": 0,
             "ticks": ""
            },
            "colorscale": [
             [
              0,
              "#0d0887"
             ],
             [
              0.1111111111111111,
              "#46039f"
             ],
             [
              0.2222222222222222,
              "#7201a8"
             ],
             [
              0.3333333333333333,
              "#9c179e"
             ],
             [
              0.4444444444444444,
              "#bd3786"
             ],
             [
              0.5555555555555556,
              "#d8576b"
             ],
             [
              0.6666666666666666,
              "#ed7953"
             ],
             [
              0.7777777777777778,
              "#fb9f3a"
             ],
             [
              0.8888888888888888,
              "#fdca26"
             ],
             [
              1,
              "#f0f921"
             ]
            ],
            "type": "contour"
           }
          ],
          "contourcarpet": [
           {
            "colorbar": {
             "outlinewidth": 0,
             "ticks": ""
            },
            "type": "contourcarpet"
           }
          ],
          "heatmap": [
           {
            "colorbar": {
             "outlinewidth": 0,
             "ticks": ""
            },
            "colorscale": [
             [
              0,
              "#0d0887"
             ],
             [
              0.1111111111111111,
              "#46039f"
             ],
             [
              0.2222222222222222,
              "#7201a8"
             ],
             [
              0.3333333333333333,
              "#9c179e"
             ],
             [
              0.4444444444444444,
              "#bd3786"
             ],
             [
              0.5555555555555556,
              "#d8576b"
             ],
             [
              0.6666666666666666,
              "#ed7953"
             ],
             [
              0.7777777777777778,
              "#fb9f3a"
             ],
             [
              0.8888888888888888,
              "#fdca26"
             ],
             [
              1,
              "#f0f921"
             ]
            ],
            "type": "heatmap"
           }
          ],
          "heatmapgl": [
           {
            "colorbar": {
             "outlinewidth": 0,
             "ticks": ""
            },
            "colorscale": [
             [
              0,
              "#0d0887"
             ],
             [
              0.1111111111111111,
              "#46039f"
             ],
             [
              0.2222222222222222,
              "#7201a8"
             ],
             [
              0.3333333333333333,
              "#9c179e"
             ],
             [
              0.4444444444444444,
              "#bd3786"
             ],
             [
              0.5555555555555556,
              "#d8576b"
             ],
             [
              0.6666666666666666,
              "#ed7953"
             ],
             [
              0.7777777777777778,
              "#fb9f3a"
             ],
             [
              0.8888888888888888,
              "#fdca26"
             ],
             [
              1,
              "#f0f921"
             ]
            ],
            "type": "heatmapgl"
           }
          ],
          "histogram": [
           {
            "marker": {
             "colorbar": {
              "outlinewidth": 0,
              "ticks": ""
             }
            },
            "type": "histogram"
           }
          ],
          "histogram2d": [
           {
            "colorbar": {
             "outlinewidth": 0,
             "ticks": ""
            },
            "colorscale": [
             [
              0,
              "#0d0887"
             ],
             [
              0.1111111111111111,
              "#46039f"
             ],
             [
              0.2222222222222222,
              "#7201a8"
             ],
             [
              0.3333333333333333,
              "#9c179e"
             ],
             [
              0.4444444444444444,
              "#bd3786"
             ],
             [
              0.5555555555555556,
              "#d8576b"
             ],
             [
              0.6666666666666666,
              "#ed7953"
             ],
             [
              0.7777777777777778,
              "#fb9f3a"
             ],
             [
              0.8888888888888888,
              "#fdca26"
             ],
             [
              1,
              "#f0f921"
             ]
            ],
            "type": "histogram2d"
           }
          ],
          "histogram2dcontour": [
           {
            "colorbar": {
             "outlinewidth": 0,
             "ticks": ""
            },
            "colorscale": [
             [
              0,
              "#0d0887"
             ],
             [
              0.1111111111111111,
              "#46039f"
             ],
             [
              0.2222222222222222,
              "#7201a8"
             ],
             [
              0.3333333333333333,
              "#9c179e"
             ],
             [
              0.4444444444444444,
              "#bd3786"
             ],
             [
              0.5555555555555556,
              "#d8576b"
             ],
             [
              0.6666666666666666,
              "#ed7953"
             ],
             [
              0.7777777777777778,
              "#fb9f3a"
             ],
             [
              0.8888888888888888,
              "#fdca26"
             ],
             [
              1,
              "#f0f921"
             ]
            ],
            "type": "histogram2dcontour"
           }
          ],
          "mesh3d": [
           {
            "colorbar": {
             "outlinewidth": 0,
             "ticks": ""
            },
            "type": "mesh3d"
           }
          ],
          "parcoords": [
           {
            "line": {
             "colorbar": {
              "outlinewidth": 0,
              "ticks": ""
             }
            },
            "type": "parcoords"
           }
          ],
          "pie": [
           {
            "automargin": true,
            "type": "pie"
           }
          ],
          "scatter": [
           {
            "marker": {
             "colorbar": {
              "outlinewidth": 0,
              "ticks": ""
             }
            },
            "type": "scatter"
           }
          ],
          "scatter3d": [
           {
            "line": {
             "colorbar": {
              "outlinewidth": 0,
              "ticks": ""
             }
            },
            "marker": {
             "colorbar": {
              "outlinewidth": 0,
              "ticks": ""
             }
            },
            "type": "scatter3d"
           }
          ],
          "scattercarpet": [
           {
            "marker": {
             "colorbar": {
              "outlinewidth": 0,
              "ticks": ""
             }
            },
            "type": "scattercarpet"
           }
          ],
          "scattergeo": [
           {
            "marker": {
             "colorbar": {
              "outlinewidth": 0,
              "ticks": ""
             }
            },
            "type": "scattergeo"
           }
          ],
          "scattergl": [
           {
            "marker": {
             "colorbar": {
              "outlinewidth": 0,
              "ticks": ""
             }
            },
            "type": "scattergl"
           }
          ],
          "scattermapbox": [
           {
            "marker": {
             "colorbar": {
              "outlinewidth": 0,
              "ticks": ""
             }
            },
            "type": "scattermapbox"
           }
          ],
          "scatterpolar": [
           {
            "marker": {
             "colorbar": {
              "outlinewidth": 0,
              "ticks": ""
             }
            },
            "type": "scatterpolar"
           }
          ],
          "scatterpolargl": [
           {
            "marker": {
             "colorbar": {
              "outlinewidth": 0,
              "ticks": ""
             }
            },
            "type": "scatterpolargl"
           }
          ],
          "scatterternary": [
           {
            "marker": {
             "colorbar": {
              "outlinewidth": 0,
              "ticks": ""
             }
            },
            "type": "scatterternary"
           }
          ],
          "surface": [
           {
            "colorbar": {
             "outlinewidth": 0,
             "ticks": ""
            },
            "colorscale": [
             [
              0,
              "#0d0887"
             ],
             [
              0.1111111111111111,
              "#46039f"
             ],
             [
              0.2222222222222222,
              "#7201a8"
             ],
             [
              0.3333333333333333,
              "#9c179e"
             ],
             [
              0.4444444444444444,
              "#bd3786"
             ],
             [
              0.5555555555555556,
              "#d8576b"
             ],
             [
              0.6666666666666666,
              "#ed7953"
             ],
             [
              0.7777777777777778,
              "#fb9f3a"
             ],
             [
              0.8888888888888888,
              "#fdca26"
             ],
             [
              1,
              "#f0f921"
             ]
            ],
            "type": "surface"
           }
          ],
          "table": [
           {
            "cells": {
             "fill": {
              "color": "#EBF0F8"
             },
             "line": {
              "color": "white"
             }
            },
            "header": {
             "fill": {
              "color": "#C8D4E3"
             },
             "line": {
              "color": "white"
             }
            },
            "type": "table"
           }
          ]
         },
         "layout": {
          "annotationdefaults": {
           "arrowcolor": "#2a3f5f",
           "arrowhead": 0,
           "arrowwidth": 1
          },
          "coloraxis": {
           "colorbar": {
            "outlinewidth": 0,
            "ticks": ""
           }
          },
          "colorscale": {
           "diverging": [
            [
             0,
             "#8e0152"
            ],
            [
             0.1,
             "#c51b7d"
            ],
            [
             0.2,
             "#de77ae"
            ],
            [
             0.3,
             "#f1b6da"
            ],
            [
             0.4,
             "#fde0ef"
            ],
            [
             0.5,
             "#f7f7f7"
            ],
            [
             0.6,
             "#e6f5d0"
            ],
            [
             0.7,
             "#b8e186"
            ],
            [
             0.8,
             "#7fbc41"
            ],
            [
             0.9,
             "#4d9221"
            ],
            [
             1,
             "#276419"
            ]
           ],
           "sequential": [
            [
             0,
             "#0d0887"
            ],
            [
             0.1111111111111111,
             "#46039f"
            ],
            [
             0.2222222222222222,
             "#7201a8"
            ],
            [
             0.3333333333333333,
             "#9c179e"
            ],
            [
             0.4444444444444444,
             "#bd3786"
            ],
            [
             0.5555555555555556,
             "#d8576b"
            ],
            [
             0.6666666666666666,
             "#ed7953"
            ],
            [
             0.7777777777777778,
             "#fb9f3a"
            ],
            [
             0.8888888888888888,
             "#fdca26"
            ],
            [
             1,
             "#f0f921"
            ]
           ],
           "sequentialminus": [
            [
             0,
             "#0d0887"
            ],
            [
             0.1111111111111111,
             "#46039f"
            ],
            [
             0.2222222222222222,
             "#7201a8"
            ],
            [
             0.3333333333333333,
             "#9c179e"
            ],
            [
             0.4444444444444444,
             "#bd3786"
            ],
            [
             0.5555555555555556,
             "#d8576b"
            ],
            [
             0.6666666666666666,
             "#ed7953"
            ],
            [
             0.7777777777777778,
             "#fb9f3a"
            ],
            [
             0.8888888888888888,
             "#fdca26"
            ],
            [
             1,
             "#f0f921"
            ]
           ]
          },
          "colorway": [
           "#636efa",
           "#EF553B",
           "#00cc96",
           "#ab63fa",
           "#FFA15A",
           "#19d3f3",
           "#FF6692",
           "#B6E880",
           "#FF97FF",
           "#FECB52"
          ],
          "font": {
           "color": "#2a3f5f"
          },
          "geo": {
           "bgcolor": "white",
           "lakecolor": "white",
           "landcolor": "#E5ECF6",
           "showlakes": true,
           "showland": true,
           "subunitcolor": "white"
          },
          "hoverlabel": {
           "align": "left"
          },
          "hovermode": "closest",
          "mapbox": {
           "style": "light"
          },
          "paper_bgcolor": "white",
          "plot_bgcolor": "#E5ECF6",
          "polar": {
           "angularaxis": {
            "gridcolor": "white",
            "linecolor": "white",
            "ticks": ""
           },
           "bgcolor": "#E5ECF6",
           "radialaxis": {
            "gridcolor": "white",
            "linecolor": "white",
            "ticks": ""
           }
          },
          "scene": {
           "xaxis": {
            "backgroundcolor": "#E5ECF6",
            "gridcolor": "white",
            "gridwidth": 2,
            "linecolor": "white",
            "showbackground": true,
            "ticks": "",
            "zerolinecolor": "white"
           },
           "yaxis": {
            "backgroundcolor": "#E5ECF6",
            "gridcolor": "white",
            "gridwidth": 2,
            "linecolor": "white",
            "showbackground": true,
            "ticks": "",
            "zerolinecolor": "white"
           },
           "zaxis": {
            "backgroundcolor": "#E5ECF6",
            "gridcolor": "white",
            "gridwidth": 2,
            "linecolor": "white",
            "showbackground": true,
            "ticks": "",
            "zerolinecolor": "white"
           }
          },
          "shapedefaults": {
           "line": {
            "color": "#2a3f5f"
           }
          },
          "ternary": {
           "aaxis": {
            "gridcolor": "white",
            "linecolor": "white",
            "ticks": ""
           },
           "baxis": {
            "gridcolor": "white",
            "linecolor": "white",
            "ticks": ""
           },
           "bgcolor": "#E5ECF6",
           "caxis": {
            "gridcolor": "white",
            "linecolor": "white",
            "ticks": ""
           }
          },
          "title": {
           "x": 0.05
          },
          "xaxis": {
           "automargin": true,
           "gridcolor": "white",
           "linecolor": "white",
           "ticks": "",
           "title": {
            "standoff": 15
           },
           "zerolinecolor": "white",
           "zerolinewidth": 2
          },
          "yaxis": {
           "automargin": true,
           "gridcolor": "white",
           "linecolor": "white",
           "ticks": "",
           "title": {
            "standoff": 15
           },
           "zerolinecolor": "white",
           "zerolinewidth": 2
          }
         }
        },
        "title": {
         "text": "営業利益"
        },
        "xaxis": {
         "anchor": "y",
         "domain": [
          0,
          1
         ],
         "title": {
          "text": "fiscal_year_quarter"
         }
        },
        "yaxis": {
         "anchor": "x",
         "domain": [
          0,
          1
         ],
         "title": {
          "text": "operating_income"
         }
        }
       }
      },
      "text/html": [
       "<div>\n",
       "        \n",
       "        \n",
       "            <div id=\"052d57f8-6b8b-46c6-87a9-6ea729d55546\" class=\"plotly-graph-div\" style=\"height:525px; width:100%;\"></div>\n",
       "            <script type=\"text/javascript\">\n",
       "                require([\"plotly\"], function(Plotly) {\n",
       "                    window.PLOTLYENV=window.PLOTLYENV || {};\n",
       "                    \n",
       "                if (document.getElementById(\"052d57f8-6b8b-46c6-87a9-6ea729d55546\")) {\n",
       "                    Plotly.newPlot(\n",
       "                        '052d57f8-6b8b-46c6-87a9-6ea729d55546',\n",
       "                        [{\"alignmentgroup\": \"True\", \"hovertemplate\": \"company_name=\\u65b0\\u65e5\\u9435\\u4f4f\\u91d1\\u682a\\u5f0f\\u4f1a\\u793e<br>fiscal_year_quarter=%{x}<br>operating_income=%{y}<extra></extra>\", \"legendgroup\": \"\\u65b0\\u65e5\\u9435\\u4f4f\\u91d1\\u682a\\u5f0f\\u4f1a\\u793e\", \"marker\": {\"color\": \"#636efa\"}, \"name\": \"\\u65b0\\u65e5\\u9435\\u4f4f\\u91d1\\u682a\\u5f0f\\u4f1a\\u793e\", \"offsetgroup\": \"\\u65b0\\u65e5\\u9435\\u4f4f\\u91d1\\u682a\\u5f0f\\u4f1a\\u793e\", \"orientation\": \"v\", \"showlegend\": true, \"textposition\": \"auto\", \"type\": \"bar\", \"x\": [\"2016Q1\", \"2016Q2\", \"2016Q3\", \"2016Q4\", \"2017Q1\", \"2017Q2\", \"2017Q3\", \"2017Q4\", \"2018Q1\", \"2018Q2\", \"2018Q3\"], \"xaxis\": \"x\", \"y\": [-7392000000.0, 17830000000.0, 62159000000.0, 114202000000.0, 66536000000.0, 99997000000.0, 138031000000.0, 288700000000.0, 90615000000.0, 136950000000.0, 241028000000.0], \"yaxis\": \"y\"}, {\"alignmentgroup\": \"True\", \"hovertemplate\": \"company_name=\\u65e5\\u672c\\u88fd\\u9244\\u682a\\u5f0f\\u4f1a\\u793e(\\u65e7\\u4f1a\\u793e\\u540d\\u3000\\u65b0\\u65e5\\u9435\\u4f4f\\u91d1\\u682a\\u5f0f\\u4f1a\\u793e)<br>fiscal_year_quarter=%{x}<br>operating_income=%{y}<extra></extra>\", \"legendgroup\": \"\\u65e5\\u672c\\u88fd\\u9244\\u682a\\u5f0f\\u4f1a\\u793e(\\u65e7\\u4f1a\\u793e\\u540d\\u3000\\u65b0\\u65e5\\u9435\\u4f4f\\u91d1\\u682a\\u5f0f\\u4f1a\\u793e)\", \"marker\": {\"color\": \"#EF553B\"}, \"name\": \"\\u65e5\\u672c\\u88fd\\u9244\\u682a\\u5f0f\\u4f1a\\u793e(\\u65e7\\u4f1a\\u793e\\u540d\\u3000\\u65b0\\u65e5\\u9435\\u4f4f\\u91d1\\u682a\\u5f0f\\u4f1a\\u793e)\", \"offsetgroup\": \"\\u65e5\\u672c\\u88fd\\u9244\\u682a\\u5f0f\\u4f1a\\u793e(\\u65e7\\u4f1a\\u793e\\u540d\\u3000\\u65b0\\u65e5\\u9435\\u4f4f\\u91d1\\u682a\\u5f0f\\u4f1a\\u793e)\", \"orientation\": \"v\", \"showlegend\": true, \"textposition\": \"auto\", \"type\": \"bar\", \"x\": [\"2018Q4\"], \"xaxis\": \"x\", \"y\": [265111000000.0], \"yaxis\": \"y\"}, {\"alignmentgroup\": \"True\", \"hovertemplate\": \"company_name=\\u65e5\\u672c\\u88fd\\u9244\\u682a\\u5f0f\\u4f1a\\u793e<br>fiscal_year_quarter=%{x}<br>operating_income=%{y}<extra></extra>\", \"legendgroup\": \"\\u65e5\\u672c\\u88fd\\u9244\\u682a\\u5f0f\\u4f1a\\u793e\", \"marker\": {\"color\": \"#00cc96\"}, \"name\": \"\\u65e5\\u672c\\u88fd\\u9244\\u682a\\u5f0f\\u4f1a\\u793e\", \"offsetgroup\": \"\\u65e5\\u672c\\u88fd\\u9244\\u682a\\u5f0f\\u4f1a\\u793e\", \"orientation\": \"v\", \"showlegend\": true, \"textposition\": \"auto\", \"type\": \"bar\", \"x\": [\"2019Q1\", \"2019Q2\", \"2019Q3\", \"2019Q4\"], \"xaxis\": \"x\", \"y\": [60600000000.0, 73100000000.0, -372502000000.0, -406119000000.0], \"yaxis\": \"y\"}, {\"alignmentgroup\": \"True\", \"hovertemplate\": \"company_name=\\u53e4\\u6cb3\\u96fb\\u6c17\\u5de5\\u696d\\u682a\\u5f0f\\u4f1a\\u793e<br>fiscal_year_quarter=%{x}<br>operating_income=%{y}<extra></extra>\", \"legendgroup\": \"\\u53e4\\u6cb3\\u96fb\\u6c17\\u5de5\\u696d\\u682a\\u5f0f\\u4f1a\\u793e\", \"marker\": {\"color\": \"#ab63fa\"}, \"name\": \"\\u53e4\\u6cb3\\u96fb\\u6c17\\u5de5\\u696d\\u682a\\u5f0f\\u4f1a\\u793e\", \"offsetgroup\": \"\\u53e4\\u6cb3\\u96fb\\u6c17\\u5de5\\u696d\\u682a\\u5f0f\\u4f1a\\u793e\", \"orientation\": \"v\", \"showlegend\": true, \"textposition\": \"auto\", \"type\": \"bar\", \"x\": [\"2016Q1\", \"2016Q2\", \"2016Q3\", \"2016Q4\", \"2017Q1\", \"2017Q2\", \"2017Q3\", \"2017Q4\", \"2018Q1\", \"2018Q2\", \"2018Q3\", \"2018Q4\", \"2019Q1\", \"2019Q2\", \"2019Q3\", \"2019Q4\"], \"xaxis\": \"x\", \"y\": [4678000000.0, 13275000000.0, 23756000000.0, 38623000000.0, 10434000000.0, 21751000000.0, 33272000000.0, 44804000000.0, 8514000000.0, 17552000000.0, 30705000000.0, 40842000000.0, 4912000000.0, 10766000000.0, 15291000000.0, 23565000000.0], \"yaxis\": \"y\"}],\n",
       "                        {\"barmode\": \"relative\", \"legend\": {\"title\": {\"text\": \"company_name\"}, \"tracegroupgap\": 0}, \"template\": {\"data\": {\"bar\": [{\"error_x\": {\"color\": \"#2a3f5f\"}, \"error_y\": {\"color\": \"#2a3f5f\"}, \"marker\": {\"line\": {\"color\": \"#E5ECF6\", \"width\": 0.5}}, \"type\": \"bar\"}], \"barpolar\": [{\"marker\": {\"line\": {\"color\": \"#E5ECF6\", \"width\": 0.5}}, \"type\": \"barpolar\"}], \"carpet\": [{\"aaxis\": {\"endlinecolor\": \"#2a3f5f\", \"gridcolor\": \"white\", \"linecolor\": \"white\", \"minorgridcolor\": \"white\", \"startlinecolor\": \"#2a3f5f\"}, \"baxis\": {\"endlinecolor\": \"#2a3f5f\", \"gridcolor\": \"white\", \"linecolor\": \"white\", \"minorgridcolor\": \"white\", \"startlinecolor\": \"#2a3f5f\"}, \"type\": \"carpet\"}], \"choropleth\": [{\"colorbar\": {\"outlinewidth\": 0, \"ticks\": \"\"}, \"type\": \"choropleth\"}], \"contour\": [{\"colorbar\": {\"outlinewidth\": 0, \"ticks\": \"\"}, \"colorscale\": [[0.0, \"#0d0887\"], [0.1111111111111111, \"#46039f\"], [0.2222222222222222, \"#7201a8\"], [0.3333333333333333, \"#9c179e\"], [0.4444444444444444, \"#bd3786\"], [0.5555555555555556, \"#d8576b\"], [0.6666666666666666, \"#ed7953\"], [0.7777777777777778, \"#fb9f3a\"], [0.8888888888888888, \"#fdca26\"], [1.0, \"#f0f921\"]], \"type\": \"contour\"}], \"contourcarpet\": [{\"colorbar\": {\"outlinewidth\": 0, \"ticks\": \"\"}, \"type\": \"contourcarpet\"}], \"heatmap\": [{\"colorbar\": {\"outlinewidth\": 0, \"ticks\": \"\"}, \"colorscale\": [[0.0, \"#0d0887\"], [0.1111111111111111, \"#46039f\"], [0.2222222222222222, \"#7201a8\"], [0.3333333333333333, \"#9c179e\"], [0.4444444444444444, \"#bd3786\"], [0.5555555555555556, \"#d8576b\"], [0.6666666666666666, \"#ed7953\"], [0.7777777777777778, \"#fb9f3a\"], [0.8888888888888888, \"#fdca26\"], [1.0, \"#f0f921\"]], \"type\": \"heatmap\"}], \"heatmapgl\": [{\"colorbar\": {\"outlinewidth\": 0, \"ticks\": \"\"}, \"colorscale\": [[0.0, \"#0d0887\"], [0.1111111111111111, \"#46039f\"], [0.2222222222222222, \"#7201a8\"], [0.3333333333333333, \"#9c179e\"], [0.4444444444444444, \"#bd3786\"], [0.5555555555555556, \"#d8576b\"], [0.6666666666666666, \"#ed7953\"], [0.7777777777777778, \"#fb9f3a\"], [0.8888888888888888, \"#fdca26\"], [1.0, \"#f0f921\"]], \"type\": \"heatmapgl\"}], \"histogram\": [{\"marker\": {\"colorbar\": {\"outlinewidth\": 0, \"ticks\": \"\"}}, \"type\": \"histogram\"}], \"histogram2d\": [{\"colorbar\": {\"outlinewidth\": 0, \"ticks\": \"\"}, \"colorscale\": [[0.0, \"#0d0887\"], [0.1111111111111111, \"#46039f\"], [0.2222222222222222, \"#7201a8\"], [0.3333333333333333, \"#9c179e\"], [0.4444444444444444, \"#bd3786\"], [0.5555555555555556, \"#d8576b\"], [0.6666666666666666, \"#ed7953\"], [0.7777777777777778, \"#fb9f3a\"], [0.8888888888888888, \"#fdca26\"], [1.0, \"#f0f921\"]], \"type\": \"histogram2d\"}], \"histogram2dcontour\": [{\"colorbar\": {\"outlinewidth\": 0, \"ticks\": \"\"}, \"colorscale\": [[0.0, \"#0d0887\"], [0.1111111111111111, \"#46039f\"], [0.2222222222222222, \"#7201a8\"], [0.3333333333333333, \"#9c179e\"], [0.4444444444444444, \"#bd3786\"], [0.5555555555555556, \"#d8576b\"], [0.6666666666666666, \"#ed7953\"], [0.7777777777777778, \"#fb9f3a\"], [0.8888888888888888, \"#fdca26\"], [1.0, \"#f0f921\"]], \"type\": \"histogram2dcontour\"}], \"mesh3d\": [{\"colorbar\": {\"outlinewidth\": 0, \"ticks\": \"\"}, \"type\": \"mesh3d\"}], \"parcoords\": [{\"line\": {\"colorbar\": {\"outlinewidth\": 0, \"ticks\": \"\"}}, \"type\": \"parcoords\"}], \"pie\": [{\"automargin\": true, \"type\": \"pie\"}], \"scatter\": [{\"marker\": {\"colorbar\": {\"outlinewidth\": 0, \"ticks\": \"\"}}, \"type\": \"scatter\"}], \"scatter3d\": [{\"line\": {\"colorbar\": {\"outlinewidth\": 0, \"ticks\": \"\"}}, \"marker\": {\"colorbar\": {\"outlinewidth\": 0, \"ticks\": \"\"}}, \"type\": \"scatter3d\"}], \"scattercarpet\": [{\"marker\": {\"colorbar\": {\"outlinewidth\": 0, \"ticks\": \"\"}}, \"type\": \"scattercarpet\"}], \"scattergeo\": [{\"marker\": {\"colorbar\": {\"outlinewidth\": 0, \"ticks\": \"\"}}, \"type\": \"scattergeo\"}], \"scattergl\": [{\"marker\": {\"colorbar\": {\"outlinewidth\": 0, \"ticks\": \"\"}}, \"type\": \"scattergl\"}], \"scattermapbox\": [{\"marker\": {\"colorbar\": {\"outlinewidth\": 0, \"ticks\": \"\"}}, \"type\": \"scattermapbox\"}], \"scatterpolar\": [{\"marker\": {\"colorbar\": {\"outlinewidth\": 0, \"ticks\": \"\"}}, \"type\": \"scatterpolar\"}], \"scatterpolargl\": [{\"marker\": {\"colorbar\": {\"outlinewidth\": 0, \"ticks\": \"\"}}, \"type\": \"scatterpolargl\"}], \"scatterternary\": [{\"marker\": {\"colorbar\": {\"outlinewidth\": 0, \"ticks\": \"\"}}, \"type\": \"scatterternary\"}], \"surface\": [{\"colorbar\": {\"outlinewidth\": 0, \"ticks\": \"\"}, \"colorscale\": [[0.0, \"#0d0887\"], [0.1111111111111111, \"#46039f\"], [0.2222222222222222, \"#7201a8\"], [0.3333333333333333, \"#9c179e\"], [0.4444444444444444, \"#bd3786\"], [0.5555555555555556, \"#d8576b\"], [0.6666666666666666, \"#ed7953\"], [0.7777777777777778, \"#fb9f3a\"], [0.8888888888888888, \"#fdca26\"], [1.0, \"#f0f921\"]], \"type\": \"surface\"}], \"table\": [{\"cells\": {\"fill\": {\"color\": \"#EBF0F8\"}, \"line\": {\"color\": \"white\"}}, \"header\": {\"fill\": {\"color\": \"#C8D4E3\"}, \"line\": {\"color\": \"white\"}}, \"type\": \"table\"}]}, \"layout\": {\"annotationdefaults\": {\"arrowcolor\": \"#2a3f5f\", \"arrowhead\": 0, \"arrowwidth\": 1}, \"coloraxis\": {\"colorbar\": {\"outlinewidth\": 0, \"ticks\": \"\"}}, \"colorscale\": {\"diverging\": [[0, \"#8e0152\"], [0.1, \"#c51b7d\"], [0.2, \"#de77ae\"], [0.3, \"#f1b6da\"], [0.4, \"#fde0ef\"], [0.5, \"#f7f7f7\"], [0.6, \"#e6f5d0\"], [0.7, \"#b8e186\"], [0.8, \"#7fbc41\"], [0.9, \"#4d9221\"], [1, \"#276419\"]], \"sequential\": [[0.0, \"#0d0887\"], [0.1111111111111111, \"#46039f\"], [0.2222222222222222, \"#7201a8\"], [0.3333333333333333, \"#9c179e\"], [0.4444444444444444, \"#bd3786\"], [0.5555555555555556, \"#d8576b\"], [0.6666666666666666, \"#ed7953\"], [0.7777777777777778, \"#fb9f3a\"], [0.8888888888888888, \"#fdca26\"], [1.0, \"#f0f921\"]], \"sequentialminus\": [[0.0, \"#0d0887\"], [0.1111111111111111, \"#46039f\"], [0.2222222222222222, \"#7201a8\"], [0.3333333333333333, \"#9c179e\"], [0.4444444444444444, \"#bd3786\"], [0.5555555555555556, \"#d8576b\"], [0.6666666666666666, \"#ed7953\"], [0.7777777777777778, \"#fb9f3a\"], [0.8888888888888888, \"#fdca26\"], [1.0, \"#f0f921\"]]}, \"colorway\": [\"#636efa\", \"#EF553B\", \"#00cc96\", \"#ab63fa\", \"#FFA15A\", \"#19d3f3\", \"#FF6692\", \"#B6E880\", \"#FF97FF\", \"#FECB52\"], \"font\": {\"color\": \"#2a3f5f\"}, \"geo\": {\"bgcolor\": \"white\", \"lakecolor\": \"white\", \"landcolor\": \"#E5ECF6\", \"showlakes\": true, \"showland\": true, \"subunitcolor\": \"white\"}, \"hoverlabel\": {\"align\": \"left\"}, \"hovermode\": \"closest\", \"mapbox\": {\"style\": \"light\"}, \"paper_bgcolor\": \"white\", \"plot_bgcolor\": \"#E5ECF6\", \"polar\": {\"angularaxis\": {\"gridcolor\": \"white\", \"linecolor\": \"white\", \"ticks\": \"\"}, \"bgcolor\": \"#E5ECF6\", \"radialaxis\": {\"gridcolor\": \"white\", \"linecolor\": \"white\", \"ticks\": \"\"}}, \"scene\": {\"xaxis\": {\"backgroundcolor\": \"#E5ECF6\", \"gridcolor\": \"white\", \"gridwidth\": 2, \"linecolor\": \"white\", \"showbackground\": true, \"ticks\": \"\", \"zerolinecolor\": \"white\"}, \"yaxis\": {\"backgroundcolor\": \"#E5ECF6\", \"gridcolor\": \"white\", \"gridwidth\": 2, \"linecolor\": \"white\", \"showbackground\": true, \"ticks\": \"\", \"zerolinecolor\": \"white\"}, \"zaxis\": {\"backgroundcolor\": \"#E5ECF6\", \"gridcolor\": \"white\", \"gridwidth\": 2, \"linecolor\": \"white\", \"showbackground\": true, \"ticks\": \"\", \"zerolinecolor\": \"white\"}}, \"shapedefaults\": {\"line\": {\"color\": \"#2a3f5f\"}}, \"ternary\": {\"aaxis\": {\"gridcolor\": \"white\", \"linecolor\": \"white\", \"ticks\": \"\"}, \"baxis\": {\"gridcolor\": \"white\", \"linecolor\": \"white\", \"ticks\": \"\"}, \"bgcolor\": \"#E5ECF6\", \"caxis\": {\"gridcolor\": \"white\", \"linecolor\": \"white\", \"ticks\": \"\"}}, \"title\": {\"x\": 0.05}, \"xaxis\": {\"automargin\": true, \"gridcolor\": \"white\", \"linecolor\": \"white\", \"ticks\": \"\", \"title\": {\"standoff\": 15}, \"zerolinecolor\": \"white\", \"zerolinewidth\": 2}, \"yaxis\": {\"automargin\": true, \"gridcolor\": \"white\", \"linecolor\": \"white\", \"ticks\": \"\", \"title\": {\"standoff\": 15}, \"zerolinecolor\": \"white\", \"zerolinewidth\": 2}}}, \"title\": {\"text\": \"\\u55b6\\u696d\\u5229\\u76ca\"}, \"xaxis\": {\"anchor\": \"y\", \"domain\": [0.0, 1.0], \"title\": {\"text\": \"fiscal_year_quarter\"}}, \"yaxis\": {\"anchor\": \"x\", \"domain\": [0.0, 1.0], \"title\": {\"text\": \"operating_income\"}}},\n",
       "                        {\"responsive\": true}\n",
       "                    ).then(function(){\n",
       "                            \n",
       "var gd = document.getElementById('052d57f8-6b8b-46c6-87a9-6ea729d55546');\n",
       "var x = new MutationObserver(function (mutations, observer) {{\n",
       "        var display = window.getComputedStyle(gd).display;\n",
       "        if (!display || display === 'none') {{\n",
       "            console.log([gd, 'removed!']);\n",
       "            Plotly.purge(gd);\n",
       "            observer.disconnect();\n",
       "        }}\n",
       "}});\n",
       "\n",
       "// Listen for the removal of the full notebook cells\n",
       "var notebookContainer = gd.closest('#notebook-container');\n",
       "if (notebookContainer) {{\n",
       "    x.observe(notebookContainer, {childList: true});\n",
       "}}\n",
       "\n",
       "// Listen for the clearing of the current output cell\n",
       "var outputEl = gd.closest('.output');\n",
       "if (outputEl) {{\n",
       "    x.observe(outputEl, {childList: true});\n",
       "}}\n",
       "\n",
       "                        })\n",
       "                };\n",
       "                });\n",
       "            </script>\n",
       "        </div>"
      ]
     },
     "metadata": {},
     "output_type": "display_data"
    }
   ],
   "source": [
    "fig = px.bar(\n",
    "    quarter.groupby(\"17業種区分\").get_group(\"鉄鋼・非鉄 \"),\n",
    "    x=\"fiscal_year_quarter\",\n",
    "    y=\"operating_income\",\n",
    "    color=\"company_name\",\n",
    "    title=\"営業利益\",\n",
    ")\n",
    "fig.update_layout(barmode=\"relative\")"
   ]
  },
  {
   "cell_type": "code",
   "execution_count": null,
   "metadata": {},
   "outputs": [],
   "source": []
  }
 ],
 "metadata": {
  "kernelspec": {
   "display_name": "Python 3",
   "language": "python",
   "name": "python3"
  },
  "language_info": {
   "codemirror_mode": {
    "name": "ipython",
    "version": 3
   },
   "file_extension": ".py",
   "mimetype": "text/x-python",
   "name": "python",
   "nbconvert_exporter": "python",
   "pygments_lexer": "ipython3",
   "version": "3.8.2"
  }
 },
 "nbformat": 4,
 "nbformat_minor": 4
}
